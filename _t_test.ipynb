{
 "cells": [
  {
   "cell_type": "code",
   "execution_count": 1,
   "id": "0bdc501f-d04a-4ca3-b91e-046d33485d8f",
   "metadata": {},
   "outputs": [],
   "source": [
    "# z-test"
   ]
  },
  {
   "cell_type": "code",
   "execution_count": 145,
   "id": "7e13bd5b-c066-4a91-9d57-44ab1ad41a1f",
   "metadata": {},
   "outputs": [],
   "source": [
    "n = len(daily_steps)"
   ]
  },
  {
   "cell_type": "code",
   "execution_count": 147,
   "id": "8de61bcc-ddc8-4373-ba35-ea138ede3bcc",
   "metadata": {},
   "outputs": [],
   "source": [
    "sample_mean = np.mean(daily_steps)"
   ]
  },
  {
   "cell_type": "code",
   "execution_count": 149,
   "id": "d62957ef-4066-41d0-89f0-3aa2f7002dde",
   "metadata": {},
   "outputs": [
    {
     "name": "stdout",
     "output_type": "stream",
     "text": [
      "429.5417586789201\n"
     ]
    }
   ],
   "source": [
    "std_sample = np.std(daily_steps, ddof=1)\n",
    "print(std_sample)"
   ]
  },
  {
   "cell_type": "code",
   "execution_count": 151,
   "id": "62ffb664-5a9b-4250-958e-4703e48fc8cd",
   "metadata": {},
   "outputs": [],
   "source": [
    "confidence = 0.95"
   ]
  },
  {
   "cell_type": "raw",
   "id": "1a0d569c-d7df-47d0-b2ff-91805fa46d21",
   "metadata": {},
   "source": [
    "🧪 Scenario:\n",
    "You are a data analyst at a shoe company.\n",
    "The average time spent on your website last month was known to be 8 minutes (i.e., population mean = 8).\n",
    "This month, you collected a sample of 50 users and found:\n",
    "\n",
    "Their average time spent = 8.5 minutes\n",
    "\n",
    "Sample standard deviation = 1.5 minutes\n",
    "\n",
    "Now, you want to check: Is the new average significantly higher than 8 minutes?\n",
    "This is where we use a Z-test."
   ]
  },
  {
   "cell_type": "raw",
   "id": "ceb25bb0-4af1-4c52-8e88-2cd25b613342",
   "metadata": {},
   "source": [
    "Step 1: Hypotheses\n",
    "Null hypothesis (H₀): The true mean time spent is 8 minutes.\n",
    "\n",
    "Alternative hypothesis (H₁): The mean time spent is not 8 minutes (could be higher or lower) → two-tailed test."
   ]
  },
  {
   "cell_type": "code",
   "execution_count": 153,
   "id": "daf8c6df-c244-47b8-a189-db0e79748616",
   "metadata": {},
   "outputs": [],
   "source": [
    "population_mean = 8          # known population mean\n",
    "sample_mean = 8.5            # sample mean\n",
    "sample_std = 1.5             # sample standard deviation\n",
    "n = 50                       # sample size"
   ]
  },
  {
   "cell_type": "code",
   "execution_count": 155,
   "id": "4742f1a0-d306-451d-b4d0-f50a21db03a2",
   "metadata": {},
   "outputs": [],
   "source": [
    "standard_error = sample_std / np.sqrt(n)"
   ]
  },
  {
   "cell_type": "code",
   "execution_count": 157,
   "id": "abfddafe-ca6b-4f62-90cb-a144425848b9",
   "metadata": {},
   "outputs": [],
   "source": [
    "z_score = (sample_mean - population_mean) / standard_error"
   ]
  },
  {
   "cell_type": "code",
   "execution_count": 159,
   "id": "be71258c-9aea-4ac7-a880-fdee5c0991b0",
   "metadata": {},
   "outputs": [
    {
     "data": {
      "text/plain": [
       "2.3570226039551585"
      ]
     },
     "execution_count": 159,
     "metadata": {},
     "output_type": "execute_result"
    }
   ],
   "source": [
    "z_score "
   ]
  },
  {
   "cell_type": "code",
   "execution_count": 161,
   "id": "24f82c6a-c0b1-4602-9bc8-abcc13f821a9",
   "metadata": {},
   "outputs": [],
   "source": [
    "p_value = 2 * (1- norm.cdf(abs(z_score)))"
   ]
  },
  {
   "cell_type": "code",
   "execution_count": 163,
   "id": "2791214b-a15c-41f9-9ccc-1be97a12997b",
   "metadata": {},
   "outputs": [
    {
     "data": {
      "text/plain": [
       "0.018422125454099048"
      ]
     },
     "execution_count": 163,
     "metadata": {},
     "output_type": "execute_result"
    }
   ],
   "source": [
    "p_value"
   ]
  },
  {
   "cell_type": "code",
   "execution_count": 165,
   "id": "e078f1cf-b370-4089-9e0c-249c960e5525",
   "metadata": {},
   "outputs": [
    {
     "name": "stdout",
     "output_type": "stream",
     "text": [
      "Z-Score: 2.3570226039551585\n",
      "P-Value: 0.018422125454099048\n"
     ]
    }
   ],
   "source": [
    "print(\"Z-Score:\", z_score)\n",
    "print(\"P-Value:\", p_value)"
   ]
  },
  {
   "cell_type": "markdown",
   "id": "ccaf6d3b-143f-45b1-bdfa-8e0eca346f8f",
   "metadata": {},
   "source": [
    "A/B TESTING"
   ]
  },
  {
   "cell_type": "code",
   "execution_count": 168,
   "id": "76bca8d5-2c90-42a5-b5ef-a5facc6cba78",
   "metadata": {},
   "outputs": [],
   "source": [
    "import numpy as np\n",
    "from scipy.stats import ttest_ind\n",
    "\n",
    "# Group A: Old notification\n",
    "group_A = np.array([3, 4, 5, 3, 4, 4, 5, 3, 4, 4,\n",
    "                    5, 6, 4, 5, 3, 5, 6, 4, 5, 4,\n",
    "                    4, 3, 5, 5, 4, 3, 4, 4, 3, 4,\n",
    "                    4, 5, 3, 5, 4, 4, 3, 4, 4, 3,\n",
    "                    5, 5, 4, 3, 4, 4, 5, 4, 4, 3])\n",
    "\n",
    "# Group B: New notification\n",
    "group_B = np.array([5, 6, 7, 5, 6, 6, 7, 5, 6, 6,\n",
    "                    7, 8, 6, 7, 5, 7, 8, 6, 7, 6,\n",
    "                    6, 5, 7, 7, 6, 5, 6, 6, 5, 6,\n",
    "                    6, 7, 5, 7, 6, 6, 5, 6, 6, 5,\n",
    "                    7, 7, 6, 5, 6, 6, 7, 6, 6, 5])\n"
   ]
  },
  {
   "cell_type": "code",
   "execution_count": 170,
   "id": "9ac5ee03-1a8f-4869-920e-119b44818452",
   "metadata": {},
   "outputs": [],
   "source": [
    "t_stat, p_value = ttest_ind(group_B, group_A)"
   ]
  },
  {
   "cell_type": "code",
   "execution_count": 172,
   "id": "895c2b15-f73f-4ce5-aaa3-f08605d96ae0",
   "metadata": {},
   "outputs": [
    {
     "name": "stdout",
     "output_type": "stream",
     "text": [
      "T-Statistic: 12.27881227029841\n",
      "P-Value: 1.5389442607856764e-21\n"
     ]
    }
   ],
   "source": [
    "print(f\"T-Statistic: {t_stat}\")\n",
    "print(f\"P-Value: {p_value}\")"
   ]
  },
  {
   "cell_type": "code",
   "execution_count": 174,
   "id": "2758df94-8432-4c0c-85be-66976aa76ed2",
   "metadata": {},
   "outputs": [
    {
     "name": "stdout",
     "output_type": "stream",
     "text": [
      "Mean workouts for Group A: 4.1\n",
      "Mean workouts for Group B: 6.1\n"
     ]
    }
   ],
   "source": [
    "print(\"Mean workouts for Group A:\", np.mean(group_A))\n",
    "print(\"Mean workouts for Group B:\", np.mean(group_B))"
   ]
  },
  {
   "cell_type": "code",
   "execution_count": 176,
   "id": "c338d718-bd4b-4a43-b4af-77f8a5800c3f",
   "metadata": {},
   "outputs": [],
   "source": [
    "import matplotlib.pyplot as plt\n",
    "import seaborn as sns\n",
    "import pandas as pd\n",
    "\n",
    "# Prepare the data in a single DataFrame\n",
    "data = pd.DataFrame({\n",
    "    'score': np.concatenate([group_A, group_B]),\n",
    "    'group': ['A (Old)']*len(group_A) + ['B (New)']*len(group_B)\n",
    "})"
   ]
  },
  {
   "cell_type": "code",
   "execution_count": 177,
   "id": "6258385a-61ae-4ec4-b822-49907d73fd5d",
   "metadata": {},
   "outputs": [
    {
     "name": "stderr",
     "output_type": "stream",
     "text": [
      "C:\\Users\\Naman\\AppData\\Local\\Temp\\ipykernel_12360\\2705729353.py:2: FutureWarning: \n",
      "\n",
      "Passing `palette` without assigning `hue` is deprecated and will be removed in v0.14.0. Assign the `x` variable to `hue` and set `legend=False` for the same effect.\n",
      "\n",
      "  sns.boxplot(x='group', y='score', data=data, palette='Set2')\n"
     ]
    },
    {
     "data": {
      "image/png": "[encoded data removed]",
      "text/plain": [
       "<Figure size 800x500 with 1 Axes>"
      ]
     },
     "metadata": {},
     "output_type": "display_data"
    }
   ],
   "source": [
    "plt.figure(figsize=(8, 5))\n",
    "sns.boxplot(x='group', y='score', data=data, palette='Set2')\n",
    "plt.title(\"Boxplot: Workouts per User (A vs B)\")\n",
    "plt.xlabel(\"Group\")\n",
    "plt.ylabel(\"Workouts\")\n",
    "plt.show()"
   ]
  },
  {
   "cell_type": "code",
   "execution_count": 178,
   "id": "79b8db55-bc65-45ea-ab36-c78c8d96d2ac",
   "metadata": {},
   "outputs": [
    {
     "data": {
      "image/png": "[encoded data removed]",
      "text/plain": [
       "<Figure size 1000x500 with 1 Axes>"
      ]
     },
     "metadata": {},
     "output_type": "display_data"
    }
   ],
   "source": [
    "plt.figure(figsize=(10, 5))\n",
    "sns.histplot(group_A, bins=6, label='Group A (Old)', color='skyblue', kde=True)\n",
    "sns.histplot(group_B, bins=6, label='Group B (New)', color='orange', kde=True)\n",
    "plt.title(\"Histogram: Workouts Distribution\")\n",
    "plt.xlabel(\"Number of Workouts\")\n",
    "plt.ylabel(\"Count\")\n",
    "plt.legend()\n",
    "plt.show()"
   ]
  },
  {
   "cell_type": "code",
   "execution_count": 179,
   "id": "e43e2b58-eb13-4b8d-8d8f-f0ee128e7965",
   "metadata": {},
   "outputs": [],
   "source": [
    "# new question for z-test"
   ]
  },
  {
   "cell_type": "code",
   "execution_count": 181,
   "id": "cf8b2b95-1788-4edb-869a-14795b3a2aa0",
   "metadata": {},
   "outputs": [],
   "source": [
    "population_mean = 10000\n",
    "sample_mean = 10500\n",
    "population_std = 1200\n",
    "sample_size = 50\n",
    "alpha = 0.05"
   ]
  },
  {
   "cell_type": "code",
   "execution_count": 186,
   "id": "8e51661b-834c-4a4e-a8f6-ef5128406286",
   "metadata": {},
   "outputs": [],
   "source": [
    "standard_error = population_std / (np.sqrt(sample_size))"
   ]
  },
  {
   "cell_type": "code",
   "execution_count": 188,
   "id": "715b7bbc-bc2d-4ad6-9789-ee087ec64ce1",
   "metadata": {},
   "outputs": [
    {
     "name": "stdout",
     "output_type": "stream",
     "text": [
      "2.946278254943948\n"
     ]
    }
   ],
   "source": [
    "z_score  = (sample_mean - population_mean) / (standard_error)\n",
    "print(z_score)"
   ]
  },
  {
   "cell_type": "code",
   "execution_count": 190,
   "id": "4ecb3fb4-7240-4231-8843-f3eae7933bf7",
   "metadata": {},
   "outputs": [],
   "source": [
    "p_value = 1 - (norm.cdf(abs(z_score)))"
   ]
  },
  {
   "cell_type": "code",
   "execution_count": 192,
   "id": "64f4974d-f175-4d1f-8ed0-714656f313d6",
   "metadata": {},
   "outputs": [
    {
     "data": {
      "text/plain": [
       "0.0016081146550637193"
      ]
     },
     "execution_count": 192,
     "metadata": {},
     "output_type": "execute_result"
    }
   ],
   "source": [
    "p_value"
   ]
  },
  {
   "cell_type": "code",
   "execution_count": 194,
   "id": "fa003f5f-e159-4a7b-949a-c08993a6bd6e",
   "metadata": {},
   "outputs": [
    {
     "name": "stdout",
     "output_type": "stream",
     "text": [
      "P-value = 0.0016081146550637193\n",
      "z_score = 2.946278254943948\n"
     ]
    }
   ],
   "source": [
    "print(\"P-value =\", p_value)\n",
    "print(\"z_score =\", z_score)"
   ]
  },
  {
   "cell_type": "code",
   "execution_count": 196,
   "id": "92d88537-6fa6-40c9-bd41-0b4ed835ab58",
   "metadata": {},
   "outputs": [],
   "source": [
    "# 5"
   ]
  },
  {
   "cell_type": "code",
   "execution_count": 198,
   "id": "3bf8731c-91fd-4b06-9ac0-16b6693d0838",
   "metadata": {},
   "outputs": [],
   "source": [
    "population_mean = 50\n",
    "population_std = 10\n",
    "sample_mean = 53\n",
    "n = 60"
   ]
  },
  {
   "cell_type": "code",
   "execution_count": 200,
   "id": "8bea775f-2768-47db-b50b-6b92aad5023a",
   "metadata": {},
   "outputs": [],
   "source": [
    "z_score = (sample_mean - population_mean)/(population_std/(np.sqrt(n)))"
   ]
  },
  {
   "cell_type": "code",
   "execution_count": 202,
   "id": "cfd3ed06-8e69-4d8f-a354-fd89a7b8d285",
   "metadata": {},
   "outputs": [
    {
     "data": {
      "text/plain": [
       "2.32379000772445"
      ]
     },
     "execution_count": 202,
     "metadata": {},
     "output_type": "execute_result"
    }
   ],
   "source": [
    "z_score"
   ]
  },
  {
   "cell_type": "code",
   "execution_count": 204,
   "id": "71e9c00a-4a58-4c72-ac9f-bc4d377f1cc6",
   "metadata": {},
   "outputs": [],
   "source": [
    "p_value = 1 - (norm.cdf(abs(z_score)))"
   ]
  },
  {
   "cell_type": "code",
   "execution_count": 206,
   "id": "7a30feb7-c4c0-4a74-aee3-c9771d5b89d9",
   "metadata": {},
   "outputs": [
    {
     "data": {
      "text/plain": [
       "0.010068375775173166"
      ]
     },
     "execution_count": 206,
     "metadata": {},
     "output_type": "execute_result"
    }
   ],
   "source": [
    "p_value"
   ]
  },
  {
   "cell_type": "code",
   "execution_count": 208,
   "id": "9bd8f211-85ec-47b1-beb7-b8d33dc27dd1",
   "metadata": {},
   "outputs": [
    {
     "name": "stdout",
     "output_type": "stream",
     "text": [
      "z_score = 2.32379000772445\n",
      "p_value = 0.010068375775173166\n"
     ]
    }
   ],
   "source": [
    "print(\"z_score =\", z_score)\n",
    "print(\"p_value =\", p_value)"
   ]
  },
  {
   "cell_type": "raw",
   "id": "61920e5c-1508-43bd-a166-385bb552de3d",
   "metadata": {},
   "source": [
    "A company claims that the average delivery time for their orders is 45 minutes. You have collected a sample of 100 orders and calculated the sample mean to be 47 minutes. The population standard deviation for delivery times is known to be 10 minutes.\n",
    "\n",
    "Question: Is the average delivery time different from the claimed value of 45 minutes at a 5% significance level?"
   ]
  },
  {
   "cell_type": "code",
   "execution_count": 210,
   "id": "c535d0cc-5758-48e0-8ac8-19139ef9be9a",
   "metadata": {},
   "outputs": [],
   "source": [
    "population_mean = 45\n",
    "n = 100\n",
    "sample_mean = 47\n",
    "population_std = 10"
   ]
  },
  {
   "cell_type": "code",
   "execution_count": 212,
   "id": "fa89e9fa-f7bc-4b26-9732-2266c146826a",
   "metadata": {},
   "outputs": [],
   "source": [
    "z_score = (sample_mean - population_mean)/ (population_std /(np.sqrt(n)))"
   ]
  },
  {
   "cell_type": "code",
   "execution_count": 214,
   "id": "2763ae27-54fd-42e3-a416-5aab8dac4961",
   "metadata": {},
   "outputs": [
    {
     "data": {
      "text/plain": [
       "2.0"
      ]
     },
     "execution_count": 214,
     "metadata": {},
     "output_type": "execute_result"
    }
   ],
   "source": [
    "z_score"
   ]
  },
  {
   "cell_type": "code",
   "execution_count": 216,
   "id": "213ff390-5360-45cd-bd96-436c52dda0e7",
   "metadata": {},
   "outputs": [],
   "source": [
    "p_value = 2 * (1 - norm.cdf(z_score))"
   ]
  },
  {
   "cell_type": "code",
   "execution_count": 218,
   "id": "20f8fdb7-6517-4fa7-8ccb-f350dfdb6961",
   "metadata": {},
   "outputs": [
    {
     "data": {
      "text/plain": [
       "0.04550026389635842"
      ]
     },
     "execution_count": 218,
     "metadata": {},
     "output_type": "execute_result"
    }
   ],
   "source": [
    "p_value"
   ]
  },
  {
   "cell_type": "raw",
   "id": "28c28ad4-2ef9-4837-9fef-3e84b79ff78b",
   "metadata": {},
   "source": [
    "A manufacturing company claims that the average weight of their packaged product is 500 grams. A quality control engineer is concerned that the product weights may have changed recently due to a new packaging machine.\n",
    "\n",
    "To test the company's claim, the engineer collects a sample of 150 packages and finds that the sample mean weight is 498 grams. The known population standard deviation for the product weight is 15 grams.\n",
    "\n",
    "Question: At a 1% significance level, is there sufficient evidence to reject the company’s claim that the average product weight is still 500 grams? Perform a two-tailed Z-test."
   ]
  },
  {
   "cell_type": "code",
   "execution_count": 220,
   "id": "31e931b9-782f-42e2-8b7f-aae7c5f58ac9",
   "metadata": {},
   "outputs": [],
   "source": [
    "p_mean = 500\n",
    "n = 150\n",
    "s_mean = 498\n",
    "p_std = 15"
   ]
  },
  {
   "cell_type": "code",
   "execution_count": 222,
   "id": "0fc09c12-9a33-4e77-b79f-706c21f8d1a0",
   "metadata": {},
   "outputs": [
    {
     "name": "stdout",
     "output_type": "stream",
     "text": [
      "1.2247448713915892\n"
     ]
    }
   ],
   "source": [
    "standard_error = p_std / (np.sqrt(n))\n",
    "print(standard_error)"
   ]
  },
  {
   "cell_type": "code",
   "execution_count": 224,
   "id": "f206dad6-e700-48fa-bfe7-4a26ebec50e1",
   "metadata": {},
   "outputs": [],
   "source": [
    "z_score = (s_mean - p_mean) / standard_error"
   ]
  },
  {
   "cell_type": "code",
   "execution_count": 226,
   "id": "937ed004-7e0f-49e5-bc5e-28c0222d72c1",
   "metadata": {},
   "outputs": [
    {
     "name": "stdout",
     "output_type": "stream",
     "text": [
      "-1.6329931618554518\n"
     ]
    }
   ],
   "source": [
    "print(z_score)"
   ]
  },
  {
   "cell_type": "code",
   "execution_count": 228,
   "id": "bd47e07d-09b5-4a4d-b681-5d60514fb7a5",
   "metadata": {},
   "outputs": [],
   "source": [
    "significance_value = 0.01"
   ]
  },
  {
   "cell_type": "code",
   "execution_count": 230,
   "id": "24e4199f-7fd7-48cf-afe2-47550fca98fb",
   "metadata": {},
   "outputs": [],
   "source": [
    "p_value = 2 *(norm.cdf(abs(z_score)))"
   ]
  },
  {
   "cell_type": "code",
   "execution_count": 232,
   "id": "1ec6f1f8-704e-43e2-85f4-9eb5c37be1f4",
   "metadata": {},
   "outputs": [
    {
     "data": {
      "text/plain": [
       "1.8975295651402506"
      ]
     },
     "execution_count": 232,
     "metadata": {},
     "output_type": "execute_result"
    }
   ],
   "source": [
    "p_value"
   ]
  },
  {
   "cell_type": "code",
   "execution_count": 234,
   "id": "2a5a9076-c334-489d-80a2-44830762574f",
   "metadata": {},
   "outputs": [
    {
     "name": "stdout",
     "output_type": "stream",
     "text": [
      "hypothesis_accpeted\n"
     ]
    }
   ],
   "source": [
    "if p_value > significance_value:\n",
    "    print(\"hypothesis_accpeted\")\n",
    "else:\n",
    "    print(\"hypothesis_rejected\")"
   ]
  },
  {
   "cell_type": "code",
   "execution_count": 236,
   "id": "5db4e1bd-9286-42da-a351-862f3bff9108",
   "metadata": {},
   "outputs": [
    {
     "name": "stdout",
     "output_type": "stream",
     "text": [
      "Z-score: -1.6329931618554518\n",
      "P-value: 1.8975295651402506\n"
     ]
    }
   ],
   "source": [
    "print(f\"Z-score: {z_score}\")\n",
    "print(f\"P-value: {p_value}\")"
   ]
  },
  {
   "cell_type": "code",
   "execution_count": 238,
   "id": "3015d077-1195-4167-b21a-0d6556b03259",
   "metadata": {},
   "outputs": [],
   "source": [
    "from scipy import stats\n",
    "import numpy as np\n",
    "import pandas as pd"
   ]
  },
  {
   "cell_type": "raw",
   "id": "b700d67f-be87-47a2-ba22-836fdbb6c6a5",
   "metadata": {},
   "source": [
    "T-TEST\n",
    "You are a data analyst at a fitness app company. The company recently introduced a new personalized workout feature. You want to check whether the new feature improves the average weekly active minutes of users.\n",
    "\n",
    "You take two random samples:\n",
    "\n",
    "Group A: 30 users without the new feature.\n",
    "\n",
    "Group B: 30 users with the new feature."
   ]
  },
  {
   "cell_type": "code",
   "execution_count": 240,
   "id": "cdab4088-e5e1-4916-936d-889851e97b4f",
   "metadata": {},
   "outputs": [],
   "source": [
    "# Sample data\n",
    "group_a = [220, 250, 240, 210, 230, 260, 255, 225, 215, 235,\n",
    "           240, 245, 250, 230, 235, 260, 270, 250, 245, 225,\n",
    "           230, 240, 250, 220, 210, 235, 240, 230, 220, 225]\n",
    "\n",
    "group_b = [260, 270, 275, 290, 280, 265, 285, 270, 275, 265,\n",
    "           270, 280, 285, 275, 260, 295, 285, 290, 280, 275,\n",
    "           265, 280, 285, 270, 265, 275, 285, 280, 275, 265]"
   ]
  },
  {
   "cell_type": "code",
   "execution_count": null,
   "id": "cfdd798d-ffb4-43b4-83f7-6e449117acc7",
   "metadata": {},
   "outputs": [],
   "source": []
  },
  {
   "cell_type": "code",
   "execution_count": 245,
   "id": "4f59f671-b7eb-4131-bc3a-1e92fb4d48d6",
   "metadata": {},
   "outputs": [],
   "source": [
    "t_stat, p_value = stats.ttest_ind(group_b, group_a)"
   ]
  },
  {
   "cell_type": "code",
   "execution_count": 247,
   "id": "7f1ee76f-2203-490a-bc0d-c2e3e7ec205c",
   "metadata": {},
   "outputs": [
    {
     "data": {
      "text/plain": [
       "(12.113406560618584, 1.594891149629225e-17)"
      ]
     },
     "execution_count": 247,
     "metadata": {},
     "output_type": "execute_result"
    }
   ],
   "source": [
    "t_stat, p_value"
   ]
  },
  {
   "cell_type": "code",
   "execution_count": 249,
   "id": "1e06e3e0-18b6-4d11-a736-b08970ae01dc",
   "metadata": {},
   "outputs": [
    {
     "name": "stdout",
     "output_type": "stream",
     "text": [
      "T-statistic: 12.113406560618584\n",
      "P-value: 1.594891149629225e-17\n"
     ]
    }
   ],
   "source": [
    "print(f\"T-statistic: {t_stat}\")\n",
    "print(f\"P-value: {p_value}\")"
   ]
  },
  {
   "cell_type": "code",
   "execution_count": 1,
   "id": "09983ec5-606a-4854-83ee-4d6c0f40265f",
   "metadata": {},
   "outputs": [],
   "source": [
    "import pandas as pd\n",
    "import numpy as np\n",
    "from scipy import stats"
   ]
  },
  {
   "cell_type": "code",
   "execution_count": 3,
   "id": "1e25b3b5-18c4-4dd5-9b03-6c6054f24467",
   "metadata": {},
   "outputs": [],
   "source": [
    "np.random.seed(42)"
   ]
  },
  {
   "cell_type": "code",
   "execution_count": 5,
   "id": "622102ef-1498-4e6f-abcf-3bfee702e501",
   "metadata": {},
   "outputs": [],
   "source": [
    "version_A = np.random.normal(loc = 60, scale = 10, size = 50)\n",
    "version_B = np.random.normal(loc = 65, scale = 12, size = 50)"
   ]
  },
  {
   "cell_type": "code",
   "execution_count": 7,
   "id": "886e90bb-f4c4-478f-9502-c26b7c21792d",
   "metadata": {},
   "outputs": [],
   "source": [
    "t_stats, p_value = stats.ttest_ind(version_B, version_A)"
   ]
  },
  {
   "cell_type": "code",
   "execution_count": 15,
   "id": "f62b9f85-76c8-4063-afab-78f22dffbf77",
   "metadata": {},
   "outputs": [
    {
     "data": {
      "text/plain": [
       "(3.7599589022634667, 0.0002891066992057289)"
      ]
     },
     "execution_count": 15,
     "metadata": {},
     "output_type": "execute_result"
    }
   ],
   "source": [
    "t_stats, p_value"
   ]
  },
  {
   "cell_type": "code",
   "execution_count": 17,
   "id": "8dbd5ddc-7962-4593-8b0f-bb4cb30dbdf6",
   "metadata": {},
   "outputs": [],
   "source": [
    "section_a = [12.5, 13.2, 11.8, 10.4, 12.0, 13.5, 11.7, 12.9, 14.1, 13.0]\n",
    "section_b = [14.8, 15.3, 14.1, 13.5, 16.0, 14.9, 15.1, 13.8, 14.5, 15.0]"
   ]
  },
  {
   "cell_type": "code",
   "execution_count": 19,
   "id": "42737808-0e5f-48a0-a608-a1c26514f6e4",
   "metadata": {},
   "outputs": [],
   "source": [
    "mean_a = np.mean(section_a)\n",
    "mean_b = np.mean(section_b)"
   ]
  },
  {
   "cell_type": "code",
   "execution_count": 21,
   "id": "a3d99c30-4e75-4be7-846a-4b96b024311d",
   "metadata": {},
   "outputs": [
    {
     "name": "stdout",
     "output_type": "stream",
     "text": [
      "12.51 14.7\n"
     ]
    }
   ],
   "source": [
    "print(mean_a, mean_b)"
   ]
  },
  {
   "cell_type": "code",
   "execution_count": 23,
   "id": "85c3a8b2-5443-4d2c-bb2d-44a9168a371d",
   "metadata": {},
   "outputs": [],
   "source": [
    "std_a = np.std(section_a)"
   ]
  },
  {
   "cell_type": "code",
   "execution_count": 27,
   "id": "9db908d4-9ff4-4a49-9361-1494c3561fac",
   "metadata": {},
   "outputs": [],
   "source": [
    "std_b = np.std(section_b)"
   ]
  },
  {
   "cell_type": "code",
   "execution_count": 29,
   "id": "860f009a-2f08-4222-8d3a-8f6d8750bf46",
   "metadata": {},
   "outputs": [],
   "source": [
    "t_test, p_value = stats.ttest_ind(section_b, section_a)"
   ]
  },
  {
   "cell_type": "code",
   "execution_count": 31,
   "id": "e84d646a-e801-4c8d-a290-3a595cabdc7a",
   "metadata": {},
   "outputs": [
    {
     "name": "stdout",
     "output_type": "stream",
     "text": [
      "5.32040493164119 4.665218272126057e-05\n"
     ]
    }
   ],
   "source": [
    "print(t_test, p_value)"
   ]
  },
  {
   "cell_type": "code",
   "execution_count": 33,
   "id": "bdfd47a3-8129-4647-8abc-42759a0747f2",
   "metadata": {},
   "outputs": [],
   "source": [
    "group_a = [2200, 2100, 2300, 2150, 2250, 2050, 2400, 2500, 2350, 2450, 2100, 2200, 2150, 2300, 2250, 2400, 2500, 2350, 2450, 2550]\n",
    "group_b = [2500, 2550, 2600, 2450, 2650, 2700, 2750, 2600, 2500, 2550, 2700, 2750, 2800, 2650, 2500, 2600, 2700, 2750, 2800, 2850]"
   ]
  },
  {
   "cell_type": "code",
   "execution_count": 35,
   "id": "d3cb8a1f-e258-4576-912b-1be31c740bd9",
   "metadata": {},
   "outputs": [],
   "source": [
    "t_stat, p_value = stats.ttest_ind(group_b, group_a)"
   ]
  },
  {
   "cell_type": "code",
   "execution_count": 37,
   "id": "fbf216fd-a608-4d6a-b2dd-3750db132842",
   "metadata": {},
   "outputs": [
    {
     "name": "stdout",
     "output_type": "stream",
     "text": [
      "t_statistics= 8.20040031370426\n",
      "p_value= 6.229527574689747e-10\n"
     ]
    }
   ],
   "source": [
    "print(\"t_statistics=\", t_stat)\n",
    "print(\"p_value=\", p_value)"
   ]
  },
  {
   "cell_type": "code",
   "execution_count": 39,
   "id": "36da99e8-5197-4c30-bb18-509d19bfd09a",
   "metadata": {},
   "outputs": [
    {
     "data": {
      "text/plain": [
       "145.7737973711325"
      ]
     },
     "execution_count": 39,
     "metadata": {},
     "output_type": "execute_result"
    }
   ],
   "source": [
    "np.std(group_a)"
   ]
  },
  {
   "cell_type": "code",
   "execution_count": 41,
   "id": "fb4297d3-59d0-4103-9047-c8c51931898a",
   "metadata": {},
   "outputs": [
    {
     "data": {
      "text/plain": [
       "113.44051304538428"
      ]
     },
     "execution_count": 41,
     "metadata": {},
     "output_type": "execute_result"
    }
   ],
   "source": [
    "np.std(group_b)"
   ]
  },
  {
   "cell_type": "raw",
   "id": "19f112e0-d0fd-4aed-83bc-6544079135be",
   "metadata": {},
   "source": [
    "A sports nutrition company claims that their new protein shake helps athletes gain an average of 3 kg of muscle mass in a month. You want to test if the actual mean weight gain is different from what they claim.\n",
    "\n",
    "You collected data from 50 athletes after one month of using the shake."
   ]
  },
  {
   "cell_type": "code",
   "execution_count": 52,
   "id": "9e0d1041-d6e3-4f86-b16f-51751b54f0ed",
   "metadata": {},
   "outputs": [],
   "source": [
    "sample_mean = 3.4 \n",
    "population_mean = 3.0 \n",
    "population_std = 1.2 \n",
    "n = 50\n",
    "confidence_level = 95"
   ]
  },
  {
   "cell_type": "code",
   "execution_count": 54,
   "id": "4b52a67f-1942-4010-9ce9-eeeb2f30dcc8",
   "metadata": {},
   "outputs": [],
   "source": [
    "standard_error = population_std/np.sqrt(n)"
   ]
  },
  {
   "cell_type": "code",
   "execution_count": 56,
   "id": "bc518a56-6d77-4949-8b1e-79fab9fdb202",
   "metadata": {},
   "outputs": [
    {
     "data": {
      "text/plain": [
       "0.1697056274847714"
      ]
     },
     "execution_count": 56,
     "metadata": {},
     "output_type": "execute_result"
    }
   ],
   "source": [
    "standard_error\n"
   ]
  },
  {
   "cell_type": "code",
   "execution_count": 58,
   "id": "31526c47-c399-4588-88d6-f19698b0c6e5",
   "metadata": {},
   "outputs": [],
   "source": [
    "z_test = (sample_mean - population_mean)/standard_error"
   ]
  },
  {
   "cell_type": "code",
   "execution_count": 60,
   "id": "676af682-4e4c-4245-9f7a-63efec812046",
   "metadata": {},
   "outputs": [
    {
     "data": {
      "text/plain": [
       "2.357022603955158"
      ]
     },
     "execution_count": 60,
     "metadata": {},
     "output_type": "execute_result"
    }
   ],
   "source": [
    "z_test"
   ]
  },
  {
   "cell_type": "code",
   "execution_count": 66,
   "id": "982566af-8aae-41f1-b855-258323f08e61",
   "metadata": {},
   "outputs": [],
   "source": [
    "p_value = 2*(1 - stats.norm.cdf(abs(z_test)))"
   ]
  },
  {
   "cell_type": "code",
   "execution_count": 68,
   "id": "d7c7eba6-9c4c-4104-bb38-3eaa937123c7",
   "metadata": {},
   "outputs": [
    {
     "data": {
      "text/plain": [
       "0.018422125454099048"
      ]
     },
     "execution_count": 68,
     "metadata": {},
     "output_type": "execute_result"
    }
   ],
   "source": [
    "p_value"
   ]
  },
  {
   "cell_type": "code",
   "execution_count": 74,
   "id": "c758dbab-ee49-4e19-b068-d10c09295dd2",
   "metadata": {},
   "outputs": [
    {
     "name": "stdout",
     "output_type": "stream",
     "text": [
      "yes\n"
     ]
    }
   ],
   "source": [
    "if p_value < 0.05:\n",
    "    print(\"yes\")\n",
    "else:\n",
    "    print(\"NO\")"
   ]
  },
  {
   "cell_type": "code",
   "execution_count": 76,
   "id": "a7e5fc83-c3de-4cea-8b13-af8213602cec",
   "metadata": {},
   "outputs": [
    {
     "data": {
      "text/plain": [
       "0.050000000000000044"
      ]
     },
     "execution_count": 76,
     "metadata": {},
     "output_type": "execute_result"
    }
   ],
   "source": [
    "1 - 0.95"
   ]
  },
  {
   "cell_type": "code",
   "execution_count": 78,
   "id": "9ff7d9ce-a4bb-4bf5-84b6-45053b43c972",
   "metadata": {},
   "outputs": [
    {
     "data": {
      "text/plain": [
       "0.025"
      ]
     },
     "execution_count": 78,
     "metadata": {},
     "output_type": "execute_result"
    }
   ],
   "source": [
    "0.05 / 2"
   ]
  },
  {
   "cell_type": "code",
   "execution_count": 80,
   "id": "0eba72a8-4460-4c8f-8373-db6a3a15ae2d",
   "metadata": {},
   "outputs": [
    {
     "data": {
      "text/plain": [
       "0.975"
      ]
     },
     "execution_count": 80,
     "metadata": {},
     "output_type": "execute_result"
    }
   ],
   "source": [
    "1 - 0.025\n"
   ]
  },
  {
   "cell_type": "code",
   "execution_count": 84,
   "id": "c7935aeb-f32f-4346-9e09-122f7ceb2121",
   "metadata": {},
   "outputs": [],
   "source": [
    "z_critical =stats.norm.ppf(0.975)"
   ]
  },
  {
   "cell_type": "code",
   "execution_count": 86,
   "id": "73281c0f-b8a0-4941-b081-64d79fbdc3c0",
   "metadata": {},
   "outputs": [],
   "source": [
    "margin_of_error = z_critical * standard_error"
   ]
  },
  {
   "cell_type": "code",
   "execution_count": 90,
   "id": "66a747ad-e061-425b-a8cd-1317b5e335c7",
   "metadata": {},
   "outputs": [
    {
     "data": {
      "text/plain": [
       "0.33261691784392267"
      ]
     },
     "execution_count": 90,
     "metadata": {},
     "output_type": "execute_result"
    }
   ],
   "source": [
    "margin_of_error"
   ]
  },
  {
   "cell_type": "code",
   "execution_count": 92,
   "id": "75f519e7-4987-46ac-8dbe-bfa86a42d091",
   "metadata": {
    "scrolled": true
   },
   "outputs": [
    {
     "name": "stdout",
     "output_type": "stream",
     "text": [
      "3.067383082156077 3.732616917843923\n"
     ]
    }
   ],
   "source": [
    "ci_lower = sample_mean - margin_of_error\n",
    "ci_upper = sample_mean + margin_of_error\n",
    "print(ci_lower, ci_upper)"
   ]
  },
  {
   "cell_type": "code",
   "execution_count": 94,
   "id": "3e47077d-b59c-41a4-b06b-70f37a676e6f",
   "metadata": {},
   "outputs": [
    {
     "data": {
      "text/plain": [
       "1.959963984540054"
      ]
     },
     "execution_count": 94,
     "metadata": {},
     "output_type": "execute_result"
    }
   ],
   "source": [
    "z_critical"
   ]
  },
  {
   "cell_type": "code",
   "execution_count": 96,
   "id": "412be3e2-7049-4690-8e67-66ca78fd42cd",
   "metadata": {},
   "outputs": [],
   "source": [
    "# another question"
   ]
  },
  {
   "cell_type": "raw",
   "id": "f6139e5c-e1de-437b-a1cd-1c0b279f7408",
   "metadata": {},
   "source": [
    "You work for a sportswear company analyzing customer satisfaction. The company believes their customer satisfaction score has increased from the industry average.\n",
    "\n",
    "Industry average satisfaction score (population mean) = 70\n",
    "\n",
    "Population standard deviation = 10\n",
    "\n",
    "From a recent customer survey, you collect a sample of 50 customers and find:\n",
    "\n",
    "Sample mean = 73.2\n",
    "\n",
    "Test the claim at a 95% confidence level using a Z-test, and calculate the confidence interval for the sample mean."
   ]
  },
  {
   "cell_type": "code",
   "execution_count": null,
   "id": "bedc5d48-421a-4e5f-a961-24f0a6438ade",
   "metadata": {},
   "outputs": [],
   "source": []
  },
  {
   "cell_type": "code",
   "execution_count": 121,
   "id": "7e636e2a-01f3-47b2-8398-7fe1c06263ac",
   "metadata": {},
   "outputs": [
    {
     "name": "stdout",
     "output_type": "stream",
     "text": [
      "70.87382569264666 75.52617430735334\n"
     ]
    }
   ],
   "source": [
    "p_mean = 70\n",
    "p_std = 10\n",
    "n = 50\n",
    "s_mean = 73.2\n",
    "\n",
    "standard_error = p_std / (np.sqrt(50))\n",
    "\n",
    "z_score = (s_mean - p_mean)/(standard_error)\n",
    "z_score\n",
    "\n",
    "p_value = 1 - (stats.norm.cdf(abs(z_score)))\n",
    "p_value\n",
    "\n",
    "1 - 0.05\n",
    "\n",
    "z_critical = stats.norm.ppf(0.95)\n",
    "\n",
    "z_critical\n",
    "\n",
    "margin_of_error = z_critical * standard_error\n",
    "\n",
    "margin_of_error\n",
    "\n",
    "lower_ci = s_mean - margin_of_error\n",
    "upper_ci = s_mean + margin_of_error\n",
    "print(lower_ci, upper_ci)"
   ]
  },
  {
   "cell_type": "raw",
   "id": "ad44ca4a-c448-4c80-9549-b9e4fa0db4c2",
   "metadata": {},
   "source": [
    "A sports nutrition company claims that their new energy drink increases the average stamina level of athletes. Historically, the average stamina score (out of 100) of athletes without the drink is 65, with a known standard deviation of 8.\n",
    "\n",
    "A random sample of 40 athletes who consumed the new energy drink had an average stamina score of 68.2.\n",
    "\n",
    "At a 95% confidence level, test whether the energy drink significantly improves the stamina of athletes. Also, find the confidence interval for the sample mean."
   ]
  },
  {
   "cell_type": "code",
   "execution_count": 123,
   "id": "16fbf94d-1a13-42ac-a00c-463e1aec4122",
   "metadata": {},
   "outputs": [],
   "source": [
    "p_mean = 65\n",
    "p_std = 8\n",
    "n = 40\n",
    "s_mean = 68.2"
   ]
  },
  {
   "cell_type": "code",
   "execution_count": 125,
   "id": "7b03a3b9-3c9d-44fa-ac25-bd1ec4f971ea",
   "metadata": {},
   "outputs": [],
   "source": [
    "standard_error = p_std / np.sqrt(n)"
   ]
  },
  {
   "cell_type": "code",
   "execution_count": 127,
   "id": "1ac0c0cb-83f9-4fbd-ade2-933db219f4f5",
   "metadata": {},
   "outputs": [],
   "source": [
    "z_score = (s_mean - p_mean )/(standard_error)"
   ]
  },
  {
   "cell_type": "code",
   "execution_count": 129,
   "id": "4715d5b6-551e-4f8a-a63d-58c825047364",
   "metadata": {},
   "outputs": [
    {
     "data": {
      "text/plain": [
       "2.5298221281347057"
      ]
     },
     "execution_count": 129,
     "metadata": {},
     "output_type": "execute_result"
    }
   ],
   "source": [
    "z_score"
   ]
  },
  {
   "cell_type": "code",
   "execution_count": 131,
   "id": "050088a4-dcbc-4cb2-bdb4-fa0e737840aa",
   "metadata": {},
   "outputs": [],
   "source": [
    "p_value = 1 - stats.norm.cdf(abs(z_score))"
   ]
  },
  {
   "cell_type": "code",
   "execution_count": 133,
   "id": "a831ff60-0754-4d92-b022-d5898e1ca927",
   "metadata": {},
   "outputs": [
    {
     "data": {
      "text/plain": [
       "0.005706018193000761"
      ]
     },
     "execution_count": 133,
     "metadata": {},
     "output_type": "execute_result"
    }
   ],
   "source": [
    "p_value"
   ]
  },
  {
   "cell_type": "code",
   "execution_count": 135,
   "id": "758868ec-4521-41f7-b355-cdc6d05ccc84",
   "metadata": {},
   "outputs": [],
   "source": [
    "z_critical = stats.norm.ppf(0.95)"
   ]
  },
  {
   "cell_type": "code",
   "execution_count": 139,
   "id": "d4d80ff6-2e16-4ad7-8d52-53a5b3b3dd1d",
   "metadata": {},
   "outputs": [],
   "source": [
    "moe = z_critical * standard_error"
   ]
  },
  {
   "cell_type": "code",
   "execution_count": 141,
   "id": "66bb250a-2c7e-43a9-b6b5-1cb66323ad31",
   "metadata": {},
   "outputs": [
    {
     "data": {
      "text/plain": [
       "2.0805935515022296"
      ]
     },
     "execution_count": 141,
     "metadata": {},
     "output_type": "execute_result"
    }
   ],
   "source": [
    "moe"
   ]
  },
  {
   "cell_type": "code",
   "execution_count": 143,
   "id": "3e903194-ef44-4cb6-ab75-0a2920178e6a",
   "metadata": {},
   "outputs": [],
   "source": [
    "lower = s_mean - moe\n",
    "upper = s_mean + moe"
   ]
  },
  {
   "cell_type": "raw",
   "id": "718d8dea-c32e-407e-8289-afe2813b348d",
   "metadata": {},
   "source": [
    "A shoe company claims that their new running shoes help athletes run an average of 10 kilometers per session. A sports analyst suspects that the true average distance might be different from the company’s claim.\n",
    "\n",
    "They collected a random sample of 64 athletes who use the new shoes. The sample data shows:\n",
    "\n",
    "Sample mean = 9.5 km\n",
    "\n",
    "Population standard deviation = 2 km\n",
    "\n",
    "Sample size (n) = 64\n",
    "\n",
    "Confidence level = 95%\n",
    "\n",
    "🧠 Test whether there is a significant difference from the claimed average of 10 km."
   ]
  },
  {
   "cell_type": "code",
   "execution_count": 145,
   "id": "4ccffcd6-eca0-483c-9db7-73af46dd58d1",
   "metadata": {},
   "outputs": [],
   "source": [
    "n = 64\n",
    "s_mean = 9.5\n",
    "p_mean = 10\n",
    "p_std = 2"
   ]
  },
  {
   "cell_type": "code",
   "execution_count": 175,
   "id": "4a61338e-f293-4a1a-b828-73e73261ac8d",
   "metadata": {},
   "outputs": [
    {
     "data": {
      "text/plain": [
       "0.25"
      ]
     },
     "execution_count": 175,
     "metadata": {},
     "output_type": "execute_result"
    }
   ],
   "source": [
    "standard_error = p_std / np.sqrt(n)\n",
    "standard_error"
   ]
  },
  {
   "cell_type": "code",
   "execution_count": 149,
   "id": "1fd4fe80-2b36-48cc-ab7c-c054f5f44b13",
   "metadata": {},
   "outputs": [],
   "source": [
    "z_score = (s_mean - p_mean) / standard_error"
   ]
  },
  {
   "cell_type": "code",
   "execution_count": 151,
   "id": "8cc36458-190d-4997-af52-50f7c97b3962",
   "metadata": {},
   "outputs": [
    {
     "data": {
      "text/plain": [
       "-2.0"
      ]
     },
     "execution_count": 151,
     "metadata": {},
     "output_type": "execute_result"
    }
   ],
   "source": [
    "z_score"
   ]
  },
  {
   "cell_type": "code",
   "execution_count": 171,
   "id": "d92e06f3-5b29-4348-b7e6-fb8dab3b6152",
   "metadata": {},
   "outputs": [],
   "source": [
    "p_value = 2*(1 - stats.norm.cdf(abs(z_score)))"
   ]
  },
  {
   "cell_type": "code",
   "execution_count": 173,
   "id": "48fd15ca-468b-4631-b73d-a4926eceb266",
   "metadata": {},
   "outputs": [
    {
     "data": {
      "text/plain": [
       "0.04550026389635842"
      ]
     },
     "execution_count": 173,
     "metadata": {},
     "output_type": "execute_result"
    }
   ],
   "source": [
    "p_value"
   ]
  },
  {
   "cell_type": "code",
   "execution_count": 157,
   "id": "4f5a0660-f9d3-477e-ab61-937d5a2b3f85",
   "metadata": {},
   "outputs": [
    {
     "data": {
      "text/plain": [
       "0.025"
      ]
     },
     "execution_count": 157,
     "metadata": {},
     "output_type": "execute_result"
    }
   ],
   "source": [
    "0.05 / 2"
   ]
  },
  {
   "cell_type": "code",
   "execution_count": 159,
   "id": "fe13fe96-b482-4d0a-ad4e-da59a6b38060",
   "metadata": {},
   "outputs": [
    {
     "data": {
      "text/plain": [
       "0.975"
      ]
     },
     "execution_count": 159,
     "metadata": {},
     "output_type": "execute_result"
    }
   ],
   "source": [
    "1 - 0.025"
   ]
  },
  {
   "cell_type": "code",
   "execution_count": 161,
   "id": "17ce17a2-74c3-4e82-8fc2-c8cc951b480e",
   "metadata": {},
   "outputs": [],
   "source": [
    "z_critical = stats.norm.ppf(0.975)"
   ]
  },
  {
   "cell_type": "code",
   "execution_count": 163,
   "id": "ca87f563-5e7d-47d7-a20b-917ad0ba97ec",
   "metadata": {},
   "outputs": [
    {
     "data": {
      "text/plain": [
       "1.959963984540054"
      ]
     },
     "execution_count": 163,
     "metadata": {},
     "output_type": "execute_result"
    }
   ],
   "source": [
    "z_critical"
   ]
  },
  {
   "cell_type": "code",
   "execution_count": 165,
   "id": "33b1f54a-6470-45ee-b4ec-44ae8c411232",
   "metadata": {},
   "outputs": [],
   "source": [
    "moe = z_critical * standard_error"
   ]
  },
  {
   "cell_type": "code",
   "execution_count": 167,
   "id": "d213fdf2-314f-4cba-8838-547addde4cb4",
   "metadata": {},
   "outputs": [
    {
     "data": {
      "text/plain": [
       "0.4899909961350135"
      ]
     },
     "execution_count": 167,
     "metadata": {},
     "output_type": "execute_result"
    }
   ],
   "source": [
    "moe"
   ]
  },
  {
   "cell_type": "code",
   "execution_count": 169,
   "id": "f79a5802-72bd-4bf1-8a05-9becf0004e56",
   "metadata": {},
   "outputs": [
    {
     "name": "stdout",
     "output_type": "stream",
     "text": [
      "9.010009003864987 9.989990996135013\n"
     ]
    }
   ],
   "source": [
    "lower = s_mean - moe\n",
    "upper = s_mean + moe\n",
    "print(lower, upper)"
   ]
  },
  {
   "cell_type": "raw",
   "id": "3bed8e90-5855-4ab9-b670-7e586e169739",
   "metadata": {},
   "source": [
    "A fitness app company wants to know if a new feature improves the average weekly workout time of its users. Historically, users spent an average of 4.5 hours per week working out. A random sample of 25 users who used the new feature reported an average workout time of 5.1 hours, with a sample standard deviation of 1.2 hours.\n",
    "\n",
    "Can we conclude at a 95% confidence level that the new feature has significantly changed the average workout time?"
   ]
  },
  {
   "cell_type": "code",
   "execution_count": 177,
   "id": "a2dec06e-f737-4310-aca6-0f2c01cdd641",
   "metadata": {},
   "outputs": [],
   "source": [
    "sample_mean = 5.1\n",
    "population_mean = 4.5\n",
    "sample_std = 1.2\n",
    "n = 25\n",
    "confidence_level = 0.95"
   ]
  },
  {
   "cell_type": "code",
   "execution_count": 179,
   "id": "15a5c4f8-23b1-4944-81c7-3c722a3d6cee",
   "metadata": {},
   "outputs": [],
   "source": [
    "standard_error = sample_std / np.sqrt(n)"
   ]
  },
  {
   "cell_type": "code",
   "execution_count": 181,
   "id": "7e54d8f0-3f58-43ec-b622-aed0b03c2ec7",
   "metadata": {},
   "outputs": [],
   "source": [
    "t_stats = (sample_mean - population_mean) / (standard_error)"
   ]
  },
  {
   "cell_type": "code",
   "execution_count": 183,
   "id": "340672bf-8a83-4ef0-a34d-3a23479feb24",
   "metadata": {},
   "outputs": [
    {
     "data": {
      "text/plain": [
       "2.4999999999999987"
      ]
     },
     "execution_count": 183,
     "metadata": {},
     "output_type": "execute_result"
    }
   ],
   "source": [
    "t_stats"
   ]
  },
  {
   "cell_type": "code",
   "execution_count": 185,
   "id": "ab460950-f300-44af-89e1-9c8bc108fae6",
   "metadata": {},
   "outputs": [],
   "source": [
    "dof = n-1"
   ]
  },
  {
   "cell_type": "code",
   "execution_count": 187,
   "id": "95394b98-98a0-4b18-b431-1f4285c9f2c8",
   "metadata": {},
   "outputs": [
    {
     "data": {
      "text/plain": [
       "24"
      ]
     },
     "execution_count": 187,
     "metadata": {},
     "output_type": "execute_result"
    }
   ],
   "source": [
    "dof"
   ]
  },
  {
   "cell_type": "code",
   "execution_count": 191,
   "id": "06f6b755-7af0-427d-8c1c-2d3ea2c7eb61",
   "metadata": {},
   "outputs": [],
   "source": [
    "p_value = 2 * (1 - (stats.t.cdf(abs(t_stats),df=dof)))"
   ]
  },
  {
   "cell_type": "code",
   "execution_count": 193,
   "id": "8bd0559a-9eac-4e5f-812e-7e17e1d69a9b",
   "metadata": {},
   "outputs": [
    {
     "data": {
      "text/plain": [
       "0.019654175116578854"
      ]
     },
     "execution_count": 193,
     "metadata": {},
     "output_type": "execute_result"
    }
   ],
   "source": [
    "p_value"
   ]
  },
  {
   "cell_type": "code",
   "execution_count": 195,
   "id": "de695d4c-87e9-4ac9-965c-ce75af3a6aa0",
   "metadata": {},
   "outputs": [],
   "source": [
    "t_critical = stats.t.ppf(0.975, dof)"
   ]
  },
  {
   "cell_type": "code",
   "execution_count": 197,
   "id": "83ce2517-b04b-41fa-bfce-a2b3d83cf6d3",
   "metadata": {},
   "outputs": [
    {
     "data": {
      "text/plain": [
       "2.0638985616280205"
      ]
     },
     "execution_count": 197,
     "metadata": {},
     "output_type": "execute_result"
    }
   ],
   "source": [
    "t_critical"
   ]
  },
  {
   "cell_type": "code",
   "execution_count": 199,
   "id": "a6375751-93a8-4821-8e75-349d47b1814f",
   "metadata": {},
   "outputs": [],
   "source": [
    "moe = t_critical * standard_error"
   ]
  },
  {
   "cell_type": "code",
   "execution_count": 201,
   "id": "9b55f09c-cc09-4cea-9beb-0cc49263e67e",
   "metadata": {},
   "outputs": [],
   "source": [
    "lower_ci = sample_mean - moe\n",
    "upper_ci = sample_mean + moe"
   ]
  },
  {
   "cell_type": "code",
   "execution_count": 203,
   "id": "4b1a2887-d3b0-4246-9824-0dc8106d8dad",
   "metadata": {},
   "outputs": [
    {
     "name": "stdout",
     "output_type": "stream",
     "text": [
      "4.604664345209275 5.595335654790724\n"
     ]
    }
   ],
   "source": [
    "print(lower_ci, upper_ci)"
   ]
  },
  {
   "cell_type": "code",
   "execution_count": 1,
   "id": "73412f70-fce1-4e91-80ab-0a8cb12cb8e9",
   "metadata": {},
   "outputs": [],
   "source": [
    "import pandas as pd\n",
    "import numpy as np\n",
    "from scipy import stats"
   ]
  },
  {
   "cell_type": "raw",
   "id": "5f429fad-76a0-469b-8050-5afb96b87860",
   "metadata": {},
   "source": [
    "A fitness company wants to compare the effectiveness of two workout programs (Program A and Program B) on improving sprint speed for amateur e-sports athletes. They measure the 40-meter sprint times (in seconds) for two groups of 20 athletes each after completing an 8-week training period. Group A used Program A, and Group B used Program B. The null hypothesis is that there is no difference in mean sprint times between the two programs. Provide a realistic dataset for the sprint times of both groups, and ask whether there is a statistically significant difference in mean sprint times at a 5% significance level using a two-sample t-test."
   ]
  },
  {
   "cell_type": "code",
   "execution_count": 3,
   "id": "c1df5214-9f83-478b-909e-b85f1fc547c0",
   "metadata": {},
   "outputs": [],
   "source": [
    "g1 = [4.82, 4.95, 5.10, 4.78, 4.92, 5.03, 4.88, 4.97, 5.15, 4.85, 4.90, 5.00, 4.87, 4.93, 5.08, 4.80, 4.96, 5.12, 4.89, 4.94]\n",
    "g2 = [4.75, 4.88, 4.92, 4.70, 4.85, 4.98, 4.80, 4.90, 5.05, 4.78, 4.87, 4.95, 4.82, 4.89, 5.00, 4.76, 4.91, 5.03, 4.84, 4.88]"
   ]
  },
  {
   "cell_type": "code",
   "execution_count": 11,
   "id": "6332c408-3d44-4194-8d4f-e8ff3bccb6d8",
   "metadata": {},
   "outputs": [],
   "source": [
    "t_test, p_value = stats.ttest_ind(g2,g1, equal_var=True)"
   ]
  },
  {
   "cell_type": "code",
   "execution_count": 13,
   "id": "f2d64bcf-eefb-4a9b-8b19-8666efb8cfbe",
   "metadata": {},
   "outputs": [
    {
     "data": {
      "text/plain": [
       "-2.1690528206724724"
      ]
     },
     "execution_count": 13,
     "metadata": {},
     "output_type": "execute_result"
    }
   ],
   "source": [
    "t_test"
   ]
  },
  {
   "cell_type": "code",
   "execution_count": 15,
   "id": "1cb8adcb-a469-4532-85f9-e34d506ccfe5",
   "metadata": {},
   "outputs": [
    {
     "data": {
      "text/plain": [
       "0.036402671910879786"
      ]
     },
     "execution_count": 15,
     "metadata": {},
     "output_type": "execute_result"
    }
   ],
   "source": [
    "p_value"
   ]
  },
  {
   "cell_type": "code",
   "execution_count": 21,
   "id": "a22d172e-001e-49f8-8178-cf7aa3cd2e43",
   "metadata": {},
   "outputs": [],
   "source": [
    "dof = (len(g1) + len(g2)) - 2"
   ]
  },
  {
   "cell_type": "code",
   "execution_count": 23,
   "id": "da970e26-2b25-4ef1-9de9-155386a10d0d",
   "metadata": {},
   "outputs": [],
   "source": [
    "t_critical = stats.t.ppf(0.975, dof)"
   ]
  },
  {
   "cell_type": "code",
   "execution_count": 25,
   "id": "b753c715-fba1-45be-ace9-b1a46c51c6e1",
   "metadata": {},
   "outputs": [
    {
     "data": {
      "text/plain": [
       "2.024394163911969"
      ]
     },
     "execution_count": 25,
     "metadata": {},
     "output_type": "execute_result"
    }
   ],
   "source": [
    "t_critical"
   ]
  },
  {
   "cell_type": "code",
   "execution_count": 1,
   "id": "1bd7c369-1f34-430e-ac61-697b7579736e",
   "metadata": {},
   "outputs": [],
   "source": [
    "import numpy as np\n",
    "import pandas as pd\n",
    "from scipy import stats"
   ]
  },
  {
   "cell_type": "code",
   "execution_count": 3,
   "id": "c1a6e0b1-961a-43da-b5f2-f215bb8eec63",
   "metadata": {},
   "outputs": [],
   "source": [
    "muscle_gain = [1.8, 2.1, 2.5, 1.6, 1.9, 2.3, 2.2, 2.0, 1.7, 2.4, 2.1, 1.8]"
   ]
  },
  {
   "cell_type": "raw",
   "id": "74eb9b78-fd71-42be-98d6-9b4ba6fe06a1",
   "metadata": {},
   "source": [
    "You’re a data analyst working for a nutrition company. The company claims that their new protein bar helps users gain at least 2 kg of muscle mass in a month.\n",
    "\n",
    "You collect data from a sample of 12 users who followed the program and recorded the actual muscle mass gain (in kg) after one month:"
   ]
  },
  {
   "cell_type": "code",
   "execution_count": 5,
   "id": "428d94b2-23d3-46a5-b3f9-c24d0742a336",
   "metadata": {},
   "outputs": [],
   "source": [
    "sample_mean = np.mean(muscle_gain)"
   ]
  },
  {
   "cell_type": "code",
   "execution_count": 9,
   "id": "42429335-40c5-4b3e-a9d2-1b0ea2fc0a53",
   "metadata": {},
   "outputs": [],
   "source": [
    "n = 12"
   ]
  },
  {
   "cell_type": "code",
   "execution_count": 13,
   "id": "74b63a42-e2bc-4f82-8b68-32b2eba7ab8e",
   "metadata": {},
   "outputs": [],
   "source": [
    "population_mean = 2"
   ]
  },
  {
   "cell_type": "code",
   "execution_count": 27,
   "id": "e211d4a3-fe91-4325-ab45-679d3beb8187",
   "metadata": {},
   "outputs": [
    {
     "data": {
      "text/plain": [
       "0.28391206491810206"
      ]
     },
     "execution_count": 27,
     "metadata": {},
     "output_type": "execute_result"
    }
   ],
   "source": [
    "sd = np.std(muscle_gain, ddof = 1)\n",
    "sd"
   ]
  },
  {
   "cell_type": "code",
   "execution_count": 29,
   "id": "e8c8b4f9-6e77-4bf3-ad02-0221d71f89da",
   "metadata": {},
   "outputs": [],
   "source": [
    "standard_error = sd / (np.sqrt(n))"
   ]
  },
  {
   "cell_type": "code",
   "execution_count": 33,
   "id": "6a5614aa-28a9-45f4-afee-2d18e45b326b",
   "metadata": {},
   "outputs": [],
   "source": [
    "t_test = (sample_mean - population_mean) / standard_error"
   ]
  },
  {
   "cell_type": "code",
   "execution_count": 35,
   "id": "c325a3ac-5e99-4f36-8411-666b457e785c",
   "metadata": {},
   "outputs": [
    {
     "data": {
      "text/plain": [
       "0.40671062665559315"
      ]
     },
     "execution_count": 35,
     "metadata": {},
     "output_type": "execute_result"
    }
   ],
   "source": [
    "t_test"
   ]
  },
  {
   "cell_type": "code",
   "execution_count": 37,
   "id": "2ba83bb3-6454-4f87-81f8-72fdc28c9e10",
   "metadata": {},
   "outputs": [],
   "source": [
    "p_value = 2 *( 1 - stats.t.cdf(abs(t_test),df = n-1))"
   ]
  },
  {
   "cell_type": "code",
   "execution_count": 39,
   "id": "7c08c378-a077-4084-bbf5-543de589ebad",
   "metadata": {},
   "outputs": [
    {
     "data": {
      "text/plain": [
       "0.6920217982853392"
      ]
     },
     "execution_count": 39,
     "metadata": {},
     "output_type": "execute_result"
    }
   ],
   "source": [
    "p_value"
   ]
  },
  {
   "cell_type": "code",
   "execution_count": 41,
   "id": "d0239821-a0d4-4216-918c-23b8ae2cf0e7",
   "metadata": {},
   "outputs": [],
   "source": [
    "t_critical = stats.t.ppf(1 - 0.025, df=n-1)"
   ]
  },
  {
   "cell_type": "code",
   "execution_count": 43,
   "id": "df19c654-4ffb-491b-b5d5-19417e3a5081",
   "metadata": {},
   "outputs": [
    {
     "data": {
      "text/plain": [
       "2.200985160082949"
      ]
     },
     "execution_count": 43,
     "metadata": {},
     "output_type": "execute_result"
    }
   ],
   "source": [
    "t_critical"
   ]
  },
  {
   "cell_type": "code",
   "execution_count": 45,
   "id": "6f079ac5-121f-4f85-8f91-e1124f1d105d",
   "metadata": {},
   "outputs": [],
   "source": [
    "margin_of_error = t_critical * standard_error"
   ]
  },
  {
   "cell_type": "code",
   "execution_count": 47,
   "id": "f27e63e9-21f5-40f6-9810-b152e046a51a",
   "metadata": {},
   "outputs": [
    {
     "data": {
      "text/plain": [
       "1.8529442134176346"
      ]
     },
     "execution_count": 47,
     "metadata": {},
     "output_type": "execute_result"
    }
   ],
   "source": [
    "lower_ci = sample_mean - margin_of_error\n",
    "lower_ci"
   ]
  },
  {
   "cell_type": "code",
   "execution_count": 49,
   "id": "8886ac32-4ffd-4774-ab2f-14153b6628d8",
   "metadata": {},
   "outputs": [
    {
     "data": {
      "text/plain": [
       "2.213722453249032"
      ]
     },
     "execution_count": 49,
     "metadata": {},
     "output_type": "execute_result"
    }
   ],
   "source": [
    "upper_ci = sample_mean + margin_of_error\n",
    "upper_ci"
   ]
  },
  {
   "cell_type": "code",
   "execution_count": 51,
   "id": "73af0329-8bd5-413e-89af-64f7cd0de602",
   "metadata": {},
   "outputs": [],
   "source": [
    "t_statistic, p_value = stats.ttest_1samp(muscle_gain, popmean=2)"
   ]
  },
  {
   "cell_type": "code",
   "execution_count": 53,
   "id": "42135856-de8b-48b0-a3ee-9b6d88f06289",
   "metadata": {},
   "outputs": [
    {
     "data": {
      "text/plain": [
       "0.4067106266555932"
      ]
     },
     "execution_count": 53,
     "metadata": {},
     "output_type": "execute_result"
    }
   ],
   "source": [
    "t_statistic"
   ]
  },
  {
   "cell_type": "code",
   "execution_count": 55,
   "id": "e56b4e6c-d532-4893-b3ab-f94ee8e94e43",
   "metadata": {},
   "outputs": [
    {
     "data": {
      "text/plain": [
       "0.6920217982853389"
      ]
     },
     "execution_count": 55,
     "metadata": {},
     "output_type": "execute_result"
    }
   ],
   "source": [
    "p_value"
   ]
  },
  {
   "cell_type": "raw",
   "id": "4e393978-1499-4f42-a36f-75c924c0cd1a",
   "metadata": {},
   "source": [
    "Alright, let's dive into a real-life application question based on t-tests in the business of sports:\n",
    "\n",
    "Scenario: Impact of a New Fitness Program on Player Performance\n",
    "\n",
    "A professional e-sports organization has recently implemented a new, specialized fitness program for their League of Legends (LoL) team. The program is designed to improve players' reaction time, focus, and stamina, all crucial for high-level competitive play.\n",
    "\n",
    "Before implementing the program, the team's average reaction time (measured in milliseconds during a standardized in-game test) over the past season was 185 ms.\n",
    "\n",
    "After 3 months of adhering to the new fitness program, the organization wants to know if there has been a statistically significant improvement in the team's average reaction time. They collect reaction time data from the same players during a similar standardized in-game test. The results (in ms) are:"
   ]
  },
  {
   "cell_type": "code",
   "execution_count": 61,
   "id": "15d481f0-a540-40f9-b2d0-9e9a443e64a0",
   "metadata": {},
   "outputs": [],
   "source": [
    "population_mean = 185\n",
    "sample_data = 178, 180, 175, 182, 177, 179, 176, 181"
   ]
  },
  {
   "cell_type": "raw",
   "id": "de5713b0-246c-475e-8962-8f9659055ae6",
   "metadata": {},
   "source": [
    "null h0 - The reaction time is same which is 185\n",
    "alternative hypothesis -  the reaction time has increased "
   ]
  },
  {
   "cell_type": "code",
   "execution_count": 59,
   "id": "5d789254-74ac-41ce-bee6-9995ebca6218",
   "metadata": {},
   "outputs": [],
   "source": [
    "# this is a one sample t-test"
   ]
  },
  {
   "cell_type": "code",
   "execution_count": 63,
   "id": "85a4a8d7-ebb9-4289-9bb9-d4c9fe7afd32",
   "metadata": {},
   "outputs": [
    {
     "data": {
      "text/plain": [
       "178.5"
      ]
     },
     "execution_count": 63,
     "metadata": {},
     "output_type": "execute_result"
    }
   ],
   "source": [
    "sample_mean = np.mean(sample_data)\n",
    "sample_mean"
   ]
  },
  {
   "cell_type": "code",
   "execution_count": 65,
   "id": "ecb0de0b-f5ee-453f-b9ff-d5c0327133d1",
   "metadata": {},
   "outputs": [],
   "source": [
    "sample_std = np.std(sample_data, ddof=1)"
   ]
  },
  {
   "cell_type": "code",
   "execution_count": 67,
   "id": "3922b6bc-a2ee-45e7-9460-3380b9606db4",
   "metadata": {},
   "outputs": [
    {
     "data": {
      "text/plain": [
       "2.449489742783178"
      ]
     },
     "execution_count": 67,
     "metadata": {},
     "output_type": "execute_result"
    }
   ],
   "source": [
    "sample_std"
   ]
  },
  {
   "cell_type": "code",
   "execution_count": 69,
   "id": "2d082525-4310-42b3-acbc-b0e5ecfa7182",
   "metadata": {},
   "outputs": [],
   "source": [
    "n = len(sample_data)"
   ]
  },
  {
   "cell_type": "code",
   "execution_count": 78,
   "id": "a7762bdf-a340-4fe6-9835-12a608d36412",
   "metadata": {},
   "outputs": [],
   "source": [
    "t_statistics, p_value = stats.ttest_1samp(sample_data, popmean = 2)"
   ]
  },
  {
   "cell_type": "code",
   "execution_count": 80,
   "id": "104321b4-b3f3-4402-aba3-7567b8742420",
   "metadata": {},
   "outputs": [
    {
     "data": {
      "text/plain": [
       "(203.8046450239379, 1.8073779118549705e-14)"
      ]
     },
     "execution_count": 80,
     "metadata": {},
     "output_type": "execute_result"
    }
   ],
   "source": [
    "t_statistics, p_value"
   ]
  },
  {
   "cell_type": "code",
   "execution_count": 82,
   "id": "02a34898-1624-431b-a268-dfdff5c05843",
   "metadata": {},
   "outputs": [],
   "source": [
    "standard_error = sample_std/(np.sqrt(n))"
   ]
  },
  {
   "cell_type": "code",
   "execution_count": 88,
   "id": "84ce50f4-7037-4018-93d1-325b1055179b",
   "metadata": {},
   "outputs": [],
   "source": [
    "t_critical = stats.t.ppf(1 - 0.05, df = n-1) "
   ]
  },
  {
   "cell_type": "code",
   "execution_count": 90,
   "id": "33d5f84b-def9-4f19-80c0-c021b90b1f97",
   "metadata": {},
   "outputs": [
    {
     "data": {
      "text/plain": [
       "1.894578605061305"
      ]
     },
     "execution_count": 90,
     "metadata": {},
     "output_type": "execute_result"
    }
   ],
   "source": [
    "t_critical"
   ]
  },
  {
   "cell_type": "code",
   "execution_count": 92,
   "id": "c13188e1-4c5c-4c08-bc4f-2679b55b7d54",
   "metadata": {},
   "outputs": [],
   "source": [
    "margin_of_error = t_critical * standard_error"
   ]
  },
  {
   "cell_type": "code",
   "execution_count": 94,
   "id": "8e602f27-927c-418b-b5f0-494ed60bdf81",
   "metadata": {},
   "outputs": [
    {
     "data": {
      "text/plain": [
       "(176.85924679855043, 180.14075320144957)"
      ]
     },
     "execution_count": 94,
     "metadata": {},
     "output_type": "execute_result"
    }
   ],
   "source": [
    "lower_ci = sample_mean - margin_of_error\n",
    "upper_ci = sample_mean + margin_of_error\n",
    "lower_ci, upper_ci"
   ]
  },
  {
   "cell_type": "code",
   "execution_count": 96,
   "id": "5f7b931f-0939-413e-9417-095b583982f2",
   "metadata": {},
   "outputs": [],
   "source": [
    "# new question"
   ]
  },
  {
   "cell_type": "code",
   "execution_count": 5,
   "id": "a90a58b6-de3e-4b98-8366-f1fc8f6d0cb1",
   "metadata": {},
   "outputs": [],
   "source": [
    "Group_A = [8, 10, 5, 12, 7, 9, 11, 6, 8, 10, 9, 7]\n",
    "Group_B = [11, 13, 10, 15, 12, 14, 9, 16, 13, 11, 14, 12, 15, 10, 13]"
   ]
  },
  {
   "cell_type": "code",
   "execution_count": 7,
   "id": "c328e499-9c9c-41c4-8655-6972d51d1874",
   "metadata": {},
   "outputs": [
    {
     "data": {
      "text/plain": [
       "8.5"
      ]
     },
     "execution_count": 7,
     "metadata": {},
     "output_type": "execute_result"
    }
   ],
   "source": [
    "grp_a_mean = np.mean(Group_A)\n",
    "grp_a_mean"
   ]
  },
  {
   "cell_type": "code",
   "execution_count": 9,
   "id": "9bed7d03-53b8-42ef-81f9-8cd1e1cb50c1",
   "metadata": {},
   "outputs": [
    {
     "data": {
      "text/plain": [
       "12.533333333333333"
      ]
     },
     "execution_count": 9,
     "metadata": {},
     "output_type": "execute_result"
    }
   ],
   "source": [
    "grp_b_mean = np.mean(Group_B)\n",
    "grp_b_mean"
   ]
  },
  {
   "cell_type": "code",
   "execution_count": 11,
   "id": "8cc31439-8c0d-47b8-9f59-68b53233fd05",
   "metadata": {},
   "outputs": [],
   "source": [
    "alpha = 0.05"
   ]
  },
  {
   "cell_type": "code",
   "execution_count": 13,
   "id": "e5666b7d-2cf0-44e1-a579-1d0391dcf98c",
   "metadata": {},
   "outputs": [],
   "source": [
    "t_stats, p_value = stats.ttest_ind(Group_A, Group_B, equal_var=True)"
   ]
  },
  {
   "cell_type": "code",
   "execution_count": 15,
   "id": "238adf56-c1bc-4de0-97ff-dd9a926aef4e",
   "metadata": {},
   "outputs": [
    {
     "data": {
      "text/plain": [
       "(-5.040091883974285, 3.359972027453287e-05)"
      ]
     },
     "execution_count": 15,
     "metadata": {},
     "output_type": "execute_result"
    }
   ],
   "source": [
    "t_stats, p_value"
   ]
  },
  {
   "cell_type": "code",
   "execution_count": 17,
   "id": "aa986dcd-8555-48ce-81c1-bdb731feb3e1",
   "metadata": {},
   "outputs": [
    {
     "name": "stdout",
     "output_type": "stream",
     "text": [
      "reject the null hypothesis\n"
     ]
    }
   ],
   "source": [
    "if p_value < alpha:\n",
    "    print(\"reject the null hypothesis\")\n",
    "else:\n",
    "    print(\"we failed to reject the null hypothesis\")"
   ]
  },
  {
   "cell_type": "code",
   "execution_count": 19,
   "id": "718b5eed-bc96-4628-953e-fe64faeb083f",
   "metadata": {},
   "outputs": [],
   "source": [
    "from scipy import stats"
   ]
  },
  {
   "cell_type": "code",
   "execution_count": 21,
   "id": "94191367-2e04-47a9-bfc2-9808e9bd26c2",
   "metadata": {},
   "outputs": [],
   "source": [
    "import pandas as pd\n",
    "import numpy as np"
   ]
  },
  {
   "cell_type": "code",
   "execution_count": 36,
   "id": "a60a0e31-d4df-4312-8cc6-cf4063537f96",
   "metadata": {},
   "outputs": [],
   "source": [
    "dept_a_scores = np.array([7, 8, 6, 9, 7, 7, 8, 5, 9, 8, 7, 6, 8, 9, 7])\n",
    "\n",
    "n_a = len(dept_a_scores)\n",
    "\n",
    "mean_a = np.mean(dept_a_scores)\n",
    "\n",
    "std_a = np.std(dept_a_scores, ddof=1)"
   ]
  },
  {
   "cell_type": "code",
   "execution_count": 42,
   "id": "87e531a0-7e65-4f1e-a1b0-d7640b077db3",
   "metadata": {},
   "outputs": [],
   "source": [
    "dept_b_scores = np.array([8, 9, 7, 9, 8, 8, 9, 6, 9, 9, 8, 7])\n",
    "\n",
    "n_b = len(dept_b_scores)\n",
    "mean_b = np.mean(dept_b_scores)\n",
    "std_b = np.std(dept_b_scores, ddof=1)"
   ]
  },
  {
   "cell_type": "code",
   "execution_count": 46,
   "id": "e07e85ab-7257-4236-a289-bbf351c87197",
   "metadata": {},
   "outputs": [],
   "source": [
    "from statsmodels.stats.weightstats import ttest_ind as ttest_welch"
   ]
  },
  {
   "cell_type": "code",
   "execution_count": 48,
   "id": "aa490466-d277-4074-9b2c-43a27c132f89",
   "metadata": {},
   "outputs": [],
   "source": [
    "t_statistics, p_value, df = ttest_welch(dept_a_scores, dept_b_scores, alternative='two-sided', usevar='unequal')"
   ]
  },
  {
   "cell_type": "code",
   "execution_count": 50,
   "id": "f3d08853-0e91-4185-ae2e-614c0e1d5dff",
   "metadata": {},
   "outputs": [
    {
     "name": "stdout",
     "output_type": "stream",
     "text": [
      "-1.6286683542803044 0.11596639047485435 24.9102012604707\n"
     ]
    }
   ],
   "source": [
    "print(t_statistics, p_value, df)"
   ]
  },
  {
   "cell_type": "code",
   "execution_count": 52,
   "id": "5eb7bada-f6e4-42b8-be2f-a193b5573936",
   "metadata": {},
   "outputs": [],
   "source": [
    "t_critical = stats.t.ppf(0.95, df)"
   ]
  },
  {
   "cell_type": "code",
   "execution_count": 54,
   "id": "e69e1cdb-adab-45c6-a7e0-1b10f720bc26",
   "metadata": {},
   "outputs": [
    {
     "data": {
      "text/plain": [
       "1.7083775944012465"
      ]
     },
     "execution_count": 54,
     "metadata": {},
     "output_type": "execute_result"
    }
   ],
   "source": [
    "t_critical"
   ]
  },
  {
   "cell_type": "code",
   "execution_count": 56,
   "id": "261629c1-afab-4cd8-9706-855dc9af7ead",
   "metadata": {},
   "outputs": [],
   "source": [
    "diff_in_mean = mean_b - mean_a"
   ]
  },
  {
   "cell_type": "code",
   "execution_count": 62,
   "id": "3cf3144c-db98-430a-bdf7-737b4305acb0",
   "metadata": {},
   "outputs": [],
   "source": [
    "standard_error = np.sqrt((std_a**2 / n_a) + (std_b**2 / n_b))"
   ]
  },
  {
   "cell_type": "code",
   "execution_count": 64,
   "id": "3c73d1dd-104d-4737-8ecd-ca8a0684003b",
   "metadata": {},
   "outputs": [],
   "source": [
    "margin_of_error = standard_error * t_critical"
   ]
  },
  {
   "cell_type": "code",
   "execution_count": 66,
   "id": "6f4d8cca-3fa1-4aaa-91b8-be9db5f87b49",
   "metadata": {},
   "outputs": [],
   "source": [
    "lower_ci = diff_in_mean - margin_of_error"
   ]
  },
  {
   "cell_type": "code",
   "execution_count": 68,
   "id": "9b3c91ca-4c70-4499-9f8f-d40d79c06388",
   "metadata": {},
   "outputs": [],
   "source": [
    "upper_ci = diff_in_mean + margin_of_error"
   ]
  },
  {
   "cell_type": "code",
   "execution_count": 70,
   "id": "730d5cf2-8e9b-4ec8-a820-21f7dc9fe9a2",
   "metadata": {},
   "outputs": [
    {
     "name": "stdout",
     "output_type": "stream",
     "text": [
      "\n",
      "Fail to reject the null hypothesis.\n",
      "Conclusion: There is no statistically significant difference in the average satisfaction scores between Department A and Department B based on this data.\n"
     ]
    }
   ],
   "source": [
    "if p_value < alpha:\n",
    "    print(\"\\nReject the null hypothesis.\")\n",
    "    print(\"Conclusion: There is a statistically significant difference in the average satisfaction scores between Department A and Department B.\")\n",
    "else:\n",
    "    print(\"\\nFail to reject the null hypothesis.\")\n",
    "    print(\"Conclusion: There is no statistically significant difference in the average satisfaction scores between Department A and Department B based on this data.\")"
   ]
  },
  {
   "cell_type": "raw",
   "id": "0d008d6a-64a5-4ea9-a1b0-3cd11bf90371",
   "metadata": {},
   "source": [
    "Scenario: Comparing the Impact of Two Different Marketing Campaigns on Ticket Sales\n",
    "\n",
    "A professional basketball team is trying to determine which of two different marketing campaigns is more effective at driving ticket sales for their home games. They run Campaign A for 10 randomly selected games and Campaign B for another 12 randomly selected games during the same season (ensuring no overlap in the games each campaign targeted).\n",
    "\n",
    "They track the number of tickets sold for each of these games. Here are the results (in thousands of tickets sold above the season average baseline):"
   ]
  },
  {
   "cell_type": "code",
   "execution_count": 74,
   "id": "f6bf303a-9345-4b95-8ec1-bf67080894f3",
   "metadata": {},
   "outputs": [],
   "source": [
    "c_A = [1.5, 1.8, 1.2, 2.0, 1.6, 1.4, 1.9, 1.3, 1.7, 1.6]\n",
    "n_A = len(c_A)\n",
    "mean_A = np.mean(c_A)\n",
    "std_A = np.std(c_A, ddof=1)"
   ]
  },
  {
   "cell_type": "code",
   "execution_count": 76,
   "id": "a1e76ba1-c7a2-46e6-b9f1-e6491367057e",
   "metadata": {},
   "outputs": [],
   "source": [
    "c_B = [2.1, 2.5, 1.9, 2.8, 2.3, 2.2, 2.6, 2.0, 2.4, 2.3, 2.7, 2.2]\n",
    "n_B = len(c_B)\n",
    "mean_B = np.mean(c_B)\n",
    "std_B = np.std(c_B, ddof =1)"
   ]
  },
  {
   "cell_type": "code",
   "execution_count": 78,
   "id": "efa7d8b7-a498-454f-9b5c-e18437a9b605",
   "metadata": {},
   "outputs": [],
   "source": [
    "from statsmodels.stats.weightstats import ttest_ind as welsh_test"
   ]
  },
  {
   "cell_type": "code",
   "execution_count": 80,
   "id": "bbf7f4e9-c231-4c97-93ae-dde0f855b9b8",
   "metadata": {},
   "outputs": [],
   "source": [
    "t_statistics, p_value, df = welsh_test(c_B, c_A, alternative='two-sided', usevar = 'unequal')"
   ]
  },
  {
   "cell_type": "code",
   "execution_count": 82,
   "id": "f75dd8e3-a79c-4a04-82ac-f38efdf23aa8",
   "metadata": {},
   "outputs": [
    {
     "name": "stdout",
     "output_type": "stream",
     "text": [
      "6.411861594885616 3.173353061445417e-06 19.716526386105546\n"
     ]
    }
   ],
   "source": [
    "print(t_statistics, p_value, df )"
   ]
  },
  {
   "cell_type": "code",
   "execution_count": 84,
   "id": "500f8be3-434f-43b2-8d4b-f9e971b3f090",
   "metadata": {},
   "outputs": [
    {
     "data": {
      "text/plain": [
       "True"
      ]
     },
     "execution_count": 84,
     "metadata": {},
     "output_type": "execute_result"
    }
   ],
   "source": [
    "0.05 > p_value"
   ]
  },
  {
   "cell_type": "code",
   "execution_count": 86,
   "id": "6a487432-3e66-4a5e-be6f-aa51a8642a6e",
   "metadata": {},
   "outputs": [],
   "source": [
    "t_critical = stats.t.ppf(0.95,df)"
   ]
  },
  {
   "cell_type": "code",
   "execution_count": 88,
   "id": "bcc751fa-a8a1-41ac-b52f-58027ad5dab7",
   "metadata": {},
   "outputs": [
    {
     "data": {
      "text/plain": [
       "1.7259220087127993"
      ]
     },
     "execution_count": 88,
     "metadata": {},
     "output_type": "execute_result"
    }
   ],
   "source": [
    "t_critical"
   ]
  },
  {
   "cell_type": "code",
   "execution_count": 90,
   "id": "36013ede-61de-43c0-b1ff-9ea8aa7bbfa5",
   "metadata": {},
   "outputs": [],
   "source": [
    "diff_means = mean_B - mean_A"
   ]
  },
  {
   "cell_type": "code",
   "execution_count": 94,
   "id": "53a55924-ea3c-4eef-b589-33acacad1997",
   "metadata": {},
   "outputs": [],
   "source": [
    "standard_error = np.sqrt((std_B / n_B) + (std_A / n_A))"
   ]
  },
  {
   "cell_type": "code",
   "execution_count": 96,
   "id": "5c474f79-13f8-401c-9f45-a526831b99d3",
   "metadata": {},
   "outputs": [
    {
     "data": {
      "text/plain": [
       "0.22122251214617558"
      ]
     },
     "execution_count": 96,
     "metadata": {},
     "output_type": "execute_result"
    }
   ],
   "source": [
    "standard_error"
   ]
  },
  {
   "cell_type": "code",
   "execution_count": 98,
   "id": "20127601-2a9f-4b5a-8300-b1e600b84cf0",
   "metadata": {},
   "outputs": [],
   "source": [
    "margin_of_error = standard_error * t_critical"
   ]
  },
  {
   "cell_type": "code",
   "execution_count": 100,
   "id": "ce1c93bc-f636-4b0d-b285-5c229fc5d4cf",
   "metadata": {},
   "outputs": [
    {
     "name": "stdout",
     "output_type": "stream",
     "text": [
      "0.35152053079751416 1.1151461358691521\n"
     ]
    }
   ],
   "source": [
    "lower_ci = diff_means - margin_of_error\n",
    "upper_ci = diff_means + margin_of_error\n",
    "print(lower_ci, upper_ci)"
   ]
  },
  {
   "cell_type": "raw",
   "id": "03a9cd08-c70b-4c6b-b841-522dde5675d7",
   "metadata": {},
   "source": [
    "Context: A fitness chain is promoting a new 12-week strength training program, claiming it helps participants achieve an average bench press weight of at least 200 pounds by the end of the program. This claim is critical for their marketing campaign targeting professional gym-goers. To verify this, a gym manager randomly selects 20 participants who completed the program and records their maximum bench press weights (in pounds) at the end of the 12 weeks."
   ]
  },
  {
   "cell_type": "code",
   "execution_count": 102,
   "id": "a566fb46-847a-405b-af15-63a4258e38e4",
   "metadata": {},
   "outputs": [],
   "source": [
    "data = [195, 205, 198, 210, 202, 190, 215, 200, 197, 203, 208, 194, 206, 199, 201, 204, 196, 209, 200, 207]"
   ]
  },
  {
   "cell_type": "code",
   "execution_count": 117,
   "id": "7a68e91d-cf8b-4c2a-b421-9141fc81b029",
   "metadata": {},
   "outputs": [],
   "source": [
    "t_stats, p_value = stats.ttest_1samp(data, popmean = 200, alternative='greater')"
   ]
  },
  {
   "cell_type": "code",
   "execution_count": 119,
   "id": "d2431b91-5c34-434c-b089-93bdcdf6e8d1",
   "metadata": {},
   "outputs": [
    {
     "data": {
      "text/plain": [
       "(1.4117974156700352, 0.08708881828616896)"
      ]
     },
     "execution_count": 119,
     "metadata": {},
     "output_type": "execute_result"
    }
   ],
   "source": [
    "t_stats, p_value"
   ]
  },
  {
   "cell_type": "code",
   "execution_count": 126,
   "id": "101f2647-1040-4e6f-9577-2a2c75546e6c",
   "metadata": {},
   "outputs": [],
   "source": [
    "df = 20-1"
   ]
  },
  {
   "cell_type": "code",
   "execution_count": 123,
   "id": "4d8aec99-c1c7-45c0-b499-887740a2916f",
   "metadata": {},
   "outputs": [
    {
     "data": {
      "text/plain": [
       "False"
      ]
     },
     "execution_count": 123,
     "metadata": {},
     "output_type": "execute_result"
    }
   ],
   "source": [
    "p_value < 0.05"
   ]
  },
  {
   "cell_type": "code",
   "execution_count": 128,
   "id": "48fbaff8-c501-4d01-9c4c-492e32868307",
   "metadata": {},
   "outputs": [],
   "source": [
    "t_critical = stats.t.ppf(0.95, df)"
   ]
  },
  {
   "cell_type": "code",
   "execution_count": 130,
   "id": "fe87791d-02d9-4c89-984f-9fdf906aed0c",
   "metadata": {},
   "outputs": [
    {
     "data": {
      "text/plain": [
       "1.729132811521367"
      ]
     },
     "execution_count": 130,
     "metadata": {},
     "output_type": "execute_result"
    }
   ],
   "source": [
    "t_critical"
   ]
  },
  {
   "cell_type": "raw",
   "id": "f03728dd-703b-4266-a747-f9e7684f66e5",
   "metadata": {},
   "source": [
    "An e-sports organization is evaluating two training regimens to improve reaction times of professional gamers in a first-person shooter game. Reaction time is critical for competitive performance, and the organization wants to determine which regimen to adopt for their team. Two groups of 15 gamers each are trained for 4 weeks: Group A uses a cognitive-based training program (focusing on mental agility), and Group B uses a reflex-based training program (focusing on physical response speed). At the end, their reaction times (in milliseconds) to in-game stimuli are measured."
   ]
  },
  {
   "cell_type": "code",
   "execution_count": 133,
   "id": "20967653-2d71-495f-a6c0-6777d05a0750",
   "metadata": {},
   "outputs": [],
   "source": [
    "Group_A = [220, 215, 230, 218, 225, 228, 210, 235, 223, 217, 229, 214, 226, 221, 224]\n",
    "n_A = len(Group_A)"
   ]
  },
  {
   "cell_type": "code",
   "execution_count": 138,
   "id": "38af4a38-498a-4ef0-9b72-475eafa6d647",
   "metadata": {},
   "outputs": [],
   "source": [
    "Group_B = [205, 208, 210, 215, 212, 207, 200, 214, 209, 206, 211, 213, 204, 210, 208]\n",
    "n_B = len(Group_B)"
   ]
  },
  {
   "cell_type": "code",
   "execution_count": 143,
   "id": "ca47944a-30a4-4bb3-9e60-9f16631cf234",
   "metadata": {},
   "outputs": [],
   "source": [
    "t_stats, p_value = stats.ttest_ind(Group_A, Group_B,equal_var=True)"
   ]
  },
  {
   "cell_type": "code",
   "execution_count": 145,
   "id": "dd876ccc-b660-4a8e-92c1-f6bec5e8ae6a",
   "metadata": {},
   "outputs": [
    {
     "name": "stdout",
     "output_type": "stream",
     "text": [
      "6.619621081293997 3.513736672748411e-07\n"
     ]
    }
   ],
   "source": [
    "print(t_stats, p_value)"
   ]
  },
  {
   "cell_type": "code",
   "execution_count": 147,
   "id": "3cb6fabe-5ef4-42a8-86c4-4d48156c32ea",
   "metadata": {},
   "outputs": [],
   "source": [
    "alpha = 0.05"
   ]
  },
  {
   "cell_type": "code",
   "execution_count": 149,
   "id": "b1805340-7238-45d0-9ee8-af08a7efb755",
   "metadata": {},
   "outputs": [
    {
     "data": {
      "text/plain": [
       "True"
      ]
     },
     "execution_count": 149,
     "metadata": {},
     "output_type": "execute_result"
    }
   ],
   "source": [
    "alpha > p_value"
   ]
  },
  {
   "cell_type": "code",
   "execution_count": 151,
   "id": "3fb9aace-ad2a-48b0-9913-22c8a34f0dc2",
   "metadata": {},
   "outputs": [
    {
     "name": "stdout",
     "output_type": "stream",
     "text": [
      "Sample Mean (Group A): 222.33 ms\n",
      "Sample Mean (Group B): 208.80 ms\n",
      "t-statistic: 6.620\n",
      "p-value: 0.0000\n",
      "95% Confidence Interval for difference in means (Group A - Group B): [9.35, 17.72] ms\n"
     ]
    }
   ],
   "source": [
    "group_a = [220, 215, 230, 218, 225, 228, 210, 235, 223, 217, 229, 214, 226, 221, 224]\n",
    "group_b = [205, 208, 210, 215, 212, 207, 200, 214, 209, 206, 211, 213, 204, 210, 208]\n",
    "\n",
    "# Step 1: Sample statistics\n",
    "n_a, n_b = len(group_a), len(group_b)\n",
    "mean_a, mean_b = np.mean(group_a), np.mean(group_b)\n",
    "std_a, std_b = np.std(group_a, ddof=1), np.std(group_b, ddof=1)\n",
    "\n",
    "# Step 2: Pooled standard deviation\n",
    "s_p = np.sqrt(((n_a-1)*std_a**2 + (n_b-1)*std_b**2) / (n_a + n_b - 2))\n",
    "\n",
    "# Step 3: Standard error\n",
    "se = s_p * np.sqrt(1/n_a + 1/n_b)\n",
    "\n",
    "# Step 4: t-statistic\n",
    "diff_means = mean_a - mean_b\n",
    "t_stat = diff_means / se\n",
    "\n",
    "# Step 5: Degrees of freedom and p-value\n",
    "df = n_a + n_b - 2\n",
    "p_value = stats.t.sf(abs(t_stat), df) * 2  # Two-tailed test\n",
    "\n",
    "# Step 6: 95% Confidence Interval\n",
    "t_critical = stats.t.ppf(0.975, df)  # Two-tailed 95% CI\n",
    "ci_lower = diff_means - t_critical * se\n",
    "ci_upper = diff_means + t_critical * se\n",
    "\n",
    "# Step 7: Results\n",
    "print(f\"Sample Mean (Group A): {mean_a:.2f} ms\")\n",
    "print(f\"Sample Mean (Group B): {mean_b:.2f} ms\")\n",
    "print(f\"t-statistic: {t_stat:.3f}\")\n",
    "print(f\"p-value: {p_value:.4f}\")\n",
    "print(f\"95% Confidence Interval for difference in means (Group A - Group B): [{ci_lower:.2f}, {ci_upper:.2f}] ms\")\n"
   ]
  },
  {
   "cell_type": "code",
   "execution_count": 153,
   "id": "87672856-6ec7-4993-8049-d6725f5f393c",
   "metadata": {},
   "outputs": [],
   "source": [
    "data = [22, 26, 24, 28, 23, 27, 25, 29, 21, 26, 24, 30, 23, 28, 25, 27, 22, 26, 24, 25]"
   ]
  },
  {
   "cell_type": "code",
   "execution_count": 155,
   "id": "ece1eb60-47ca-4217-823c-0d624e8e178e",
   "metadata": {},
   "outputs": [
    {
     "data": {
      "text/plain": [
       "25.25"
      ]
     },
     "execution_count": 155,
     "metadata": {},
     "output_type": "execute_result"
    }
   ],
   "source": [
    "np.mean(data)"
   ]
  },
  {
   "cell_type": "code",
   "execution_count": 157,
   "id": "cc7fc7ac-37e0-415e-8e5d-da79298e2057",
   "metadata": {},
   "outputs": [],
   "source": [
    "t_stats, p_value = stats.ttest_1samp(data, popmean = 25, alternative='greater')"
   ]
  },
  {
   "cell_type": "code",
   "execution_count": 159,
   "id": "5bd89cb4-6374-45a0-aaf9-90b328848fff",
   "metadata": {},
   "outputs": [
    {
     "data": {
      "text/plain": [
       "(0.45693676673168776, 0.32644878958426626)"
      ]
     },
     "execution_count": 159,
     "metadata": {},
     "output_type": "execute_result"
    }
   ],
   "source": [
    "t_stats, p_value"
   ]
  },
  {
   "cell_type": "code",
   "execution_count": 161,
   "id": "63b8cb6f-5d13-4378-b25c-606cb4cada20",
   "metadata": {},
   "outputs": [],
   "source": [
    "n = len(data)\n",
    "data_mean = np.mean(data)\n",
    "data_std = np.std(data, ddof = 1)"
   ]
  },
  {
   "cell_type": "code",
   "execution_count": 163,
   "id": "cbd0a7dc-93f8-412e-a360-b29e6316f28d",
   "metadata": {},
   "outputs": [],
   "source": [
    "t_critical = stats.t.ppf(0.95, df = n-1)"
   ]
  },
  {
   "cell_type": "code",
   "execution_count": 165,
   "id": "8fa33a91-bd11-4e2a-bdda-403a74648775",
   "metadata": {},
   "outputs": [
    {
     "data": {
      "text/plain": [
       "1.729132811521367"
      ]
     },
     "execution_count": 165,
     "metadata": {},
     "output_type": "execute_result"
    }
   ],
   "source": [
    "t_critical"
   ]
  },
  {
   "cell_type": "code",
   "execution_count": 167,
   "id": "590ad237-9b9a-4337-9286-26a1c5d9624d",
   "metadata": {},
   "outputs": [],
   "source": [
    "se = data_std / np.sqrt(n)"
   ]
  },
  {
   "cell_type": "code",
   "execution_count": 169,
   "id": "5259aa70-007b-4e74-814d-dbd3e15447e6",
   "metadata": {},
   "outputs": [],
   "source": [
    "ci_lower = data_mean - (t_critical*se)"
   ]
  },
  {
   "cell_type": "code",
   "execution_count": 171,
   "id": "02bd80e0-6b71-489e-9802-051f80046d9c",
   "metadata": {},
   "outputs": [
    {
     "data": {
      "text/plain": [
       "24.303953994614364"
      ]
     },
     "execution_count": 171,
     "metadata": {},
     "output_type": "execute_result"
    }
   ],
   "source": [
    "ci_lower"
   ]
  },
  {
   "cell_type": "code",
   "execution_count": 175,
   "id": "a315a55b-832c-4ef4-9018-d15c3565e7e0",
   "metadata": {},
   "outputs": [
    {
     "name": "stdout",
     "output_type": "stream",
     "text": [
      "Sample Mean: 25.25 minutes\n",
      "t-statistic: 6.620\n",
      "p-value: 0.3264\n",
      "Fail to reject H0. No evidence average app usage exceeds 25 minutes.\n",
      "Interpretation: The basketball team's claim of fans spending >25 minutes/day on the app is not supported. Sponsors can question the engagement metric for ad revenue projections.\n"
     ]
    }
   ],
   "source": [
    "print(f\"Sample Mean: {data_mean:.2f} minutes\")\n",
    "print(f\"t-statistic: {t_stat:.3f}\")\n",
    "print(f\"p-value: {p_value:.4f}\")\n",
    "if p_value < 0.05:\n",
    "    print(f\"Reject H0. Average app usage is significantly greater than 25 minutes.\")\n",
    "    print(f\"95% CI Lower Bound: > {ci_lower:.2f} minutes\")\n",
    "else:\n",
    "    print(\"Fail to reject H0. No evidence average app usage exceeds 25 minutes.\")\n",
    "\n",
    "# Interpretation\n",
    "print(\"Interpretation: The basketball team's claim of fans spending >25 minutes/day on the app is\" + \n",
    "      (\" supported\" if p_value < 0.05 else \" not supported\") + \n",
    "      \". Sponsors can\" + (\" rely on\" if p_value < 0.05 else \" question\") + \n",
    "      \" the engagement metric for ad revenue projections.\")"
   ]
  },
  {
   "cell_type": "markdown",
   "id": "34131fc0-f820-4ed2-8ccf-95ecbf0fef62",
   "metadata": {},
   "source": [
    "A gym chain is deciding between two treadmill brands (Brand X and Brand Y) for their new facilities, based on customer satisfaction with workout experience (measured via post-workout heart rate recovery time in minutes). Faster recovery suggests a better workout experience, impacting customer retention. Two groups of 12 gym members each use one treadmill brand for a week, and their recovery times are recorded."
   ]
  },
  {
   "cell_type": "code",
   "execution_count": 178,
   "id": "722e839b-fde9-48d7-9d48-e6ef90418074",
   "metadata": {},
   "outputs": [],
   "source": [
    "x = [2.8, 3.0, 2.7, 3.2, 2.9, 3.1, 2.6, 3.0, 2.8, 3.3, 2.9, 2.7]\n",
    "y = [2.5, 2.6, 2.4, 2.8, 2.7, 2.5, 2.6, 2.9, 2.5, 2.7, 2.6, 2.4]"
   ]
  },
  {
   "cell_type": "code",
   "execution_count": 180,
   "id": "2f292322-0c70-448e-a25c-412a061d54de",
   "metadata": {},
   "outputs": [
    {
     "name": "stdout",
     "output_type": "stream",
     "text": [
      "2.9166666666666665 0.21248885888797825 12\n"
     ]
    }
   ],
   "source": [
    "x_mean = np.mean(x)\n",
    "x_std = np.std(x,ddof = 1)\n",
    "x_n = len(x)\n",
    "print(x_mean, x_std, x_n)"
   ]
  },
  {
   "cell_type": "code",
   "execution_count": 182,
   "id": "5990c6ae-8671-439a-9a64-b800f53eb014",
   "metadata": {},
   "outputs": [
    {
     "name": "stdout",
     "output_type": "stream",
     "text": [
      "2.6 0.15374122295716147 12\n"
     ]
    }
   ],
   "source": [
    "y_mean = np.mean(y)\n",
    "y_std = np.std(y, ddof = 1)\n",
    "y_n = len(y)\n",
    "print(y_mean, y_std, y_n)"
   ]
  },
  {
   "cell_type": "code",
   "execution_count": 184,
   "id": "c33c4ea6-5a5a-4b33-aa80-9f1e85a1603f",
   "metadata": {},
   "outputs": [],
   "source": [
    "t_stats, p_value = stats.ttest_ind(x,y,equal_var=True)"
   ]
  },
  {
   "cell_type": "code",
   "execution_count": 186,
   "id": "a21ead98-4b72-4914-a9db-a4b47cf90c6f",
   "metadata": {},
   "outputs": [
    {
     "name": "stdout",
     "output_type": "stream",
     "text": [
      "4.18251025945957 0.0003863581253074587\n"
     ]
    }
   ],
   "source": [
    "print(t_stats, p_value)"
   ]
  },
  {
   "cell_type": "code",
   "execution_count": 194,
   "id": "7b1115be-af85-459b-8c52-6ec1076dccc4",
   "metadata": {},
   "outputs": [],
   "source": [
    "t_critical = stats.t.ppf(0.975,df = x_n + y_n - 2)"
   ]
  },
  {
   "cell_type": "code",
   "execution_count": 196,
   "id": "affad9c7-d779-4f4f-a4b8-6e36ccd48361",
   "metadata": {},
   "outputs": [
    {
     "data": {
      "text/plain": [
       "2.0738730679040147"
      ]
     },
     "execution_count": 196,
     "metadata": {},
     "output_type": "execute_result"
    }
   ],
   "source": [
    "t_critical"
   ]
  },
  {
   "cell_type": "code",
   "execution_count": 202,
   "id": "b2c2afd0-a24b-4840-8499-68629bfbb960",
   "metadata": {},
   "outputs": [],
   "source": [
    "s_p = np.sqrt(((x_n-1)*x_std**2 + (y_n-1)*y_std**2) / (x_n + y_n - 2))"
   ]
  },
  {
   "cell_type": "code",
   "execution_count": 204,
   "id": "fc0bc45e-3960-404e-8c2a-f868e4d8559f",
   "metadata": {
    "scrolled": true
   },
   "outputs": [
    {
     "data": {
      "text/plain": [
       "0.18545603089125837"
      ]
     },
     "execution_count": 204,
     "metadata": {},
     "output_type": "execute_result"
    }
   ],
   "source": [
    "s_p"
   ]
  },
  {
   "cell_type": "code",
   "execution_count": 4,
   "id": "921f0305-3f02-4130-b3c2-fe300e0ce3d4",
   "metadata": {},
   "outputs": [],
   "source": [
    "import numpy as np\n",
    "from scipy import stats"
   ]
  },
  {
   "cell_type": "markdown",
   "id": "89e866b6-b6bd-42a5-b5fd-b82246f1b62c",
   "metadata": {},
   "source": [
    "A sports nutritionist tests a new energy gel to improve sprint performance for a track team. The gel is marketed to reduce 100-meter sprint times. Each of 10 athletes runs a 100-meter sprint before and after using the gel for two weeks, and their times (in seconds) are recorded. A paired t-test is used since the same athletes are measured twice."
   ]
  },
  {
   "cell_type": "code",
   "execution_count": 47,
   "id": "dad3729b-b1fc-4198-a140-dbf4c6efb417",
   "metadata": {},
   "outputs": [],
   "source": [
    "before = np.array([11.2, 11.5, 11.0, 11.8, 11.3, 11.6, 11.1, 11.4, 11.7, 11.2])\n",
    "after = np.array([11.0, 11.3, 10.9, 11.5, 11.1, 11.4, 10.8, 11.2, 11.5, 11.0])"
   ]
  },
  {
   "cell_type": "code",
   "execution_count": 53,
   "id": "64b05517-0d45-4c26-85c1-9c9a99746a2d",
   "metadata": {},
   "outputs": [],
   "source": [
    "t_stats, p_value = stats.ttest_rel(after, before, alternative='less')"
   ]
  },
  {
   "cell_type": "code",
   "execution_count": 55,
   "id": "5a73402a-1317-4537-aea6-c6b46891b5c5",
   "metadata": {},
   "outputs": [
    {
     "name": "stdout",
     "output_type": "stream",
     "text": [
      "-11.698806305154246 4.779302583954739e-07\n"
     ]
    }
   ],
   "source": [
    "print(t_stats, p_value)"
   ]
  },
  {
   "cell_type": "code",
   "execution_count": 66,
   "id": "587e6612-07ba-4b21-b166-415b57f0ce90",
   "metadata": {},
   "outputs": [],
   "source": [
    "diff = after - before"
   ]
  },
  {
   "cell_type": "code",
   "execution_count": 68,
   "id": "70e071b9-d635-4e73-b415-b144c2be4aa7",
   "metadata": {},
   "outputs": [
    {
     "data": {
      "text/plain": [
       "array([-0.2, -0.2, -0.1, -0.3, -0.2, -0.2, -0.3, -0.2, -0.2, -0.2])"
      ]
     },
     "execution_count": 68,
     "metadata": {},
     "output_type": "execute_result"
    }
   ],
   "source": [
    "diff"
   ]
  },
  {
   "cell_type": "code",
   "execution_count": 70,
   "id": "8ef72148-67ab-4635-850d-ccad3be852a4",
   "metadata": {},
   "outputs": [
    {
     "data": {
      "text/plain": [
       "-0.2099999999999998"
      ]
     },
     "execution_count": 70,
     "metadata": {},
     "output_type": "execute_result"
    }
   ],
   "source": [
    "mean_diff = np.mean(diff)\n",
    "mean_diff"
   ]
  },
  {
   "cell_type": "code",
   "execution_count": 72,
   "id": "e3839f44-7b97-4a14-9a45-d03d1e42c6c1",
   "metadata": {},
   "outputs": [],
   "source": [
    "std_diff = np.std(diff, ddof=1)"
   ]
  },
  {
   "cell_type": "code",
   "execution_count": 74,
   "id": "b95a6c75-abba-47d8-b348-77aa10790e01",
   "metadata": {},
   "outputs": [],
   "source": [
    "n = len(diff)"
   ]
  },
  {
   "cell_type": "code",
   "execution_count": 79,
   "id": "252e0e16-c015-4be7-ab09-4b22db6acd17",
   "metadata": {},
   "outputs": [],
   "source": [
    "df = n-1"
   ]
  },
  {
   "cell_type": "code",
   "execution_count": 81,
   "id": "fa0643d6-881d-43e3-8383-22c80feb410b",
   "metadata": {},
   "outputs": [
    {
     "data": {
      "text/plain": [
       "9"
      ]
     },
     "execution_count": 81,
     "metadata": {},
     "output_type": "execute_result"
    }
   ],
   "source": [
    "df"
   ]
  },
  {
   "cell_type": "code",
   "execution_count": 83,
   "id": "82b7d10b-0211-45d6-ac2f-50e3e24c9c45",
   "metadata": {},
   "outputs": [],
   "source": [
    "t_critical = stats.t.ppf(0.95, df)"
   ]
  },
  {
   "cell_type": "code",
   "execution_count": 85,
   "id": "0d7e9d05-3595-4b3a-9989-b7851b3830ae",
   "metadata": {},
   "outputs": [
    {
     "data": {
      "text/plain": [
       "1.8331129326536335"
      ]
     },
     "execution_count": 85,
     "metadata": {},
     "output_type": "execute_result"
    }
   ],
   "source": [
    "t_critical\n"
   ]
  },
  {
   "cell_type": "code",
   "execution_count": 87,
   "id": "fd8ecb3e-1acc-471c-b80c-afc1ab5d5796",
   "metadata": {},
   "outputs": [],
   "source": [
    "standard_error = std_diff / np.sqrt(n)"
   ]
  },
  {
   "cell_type": "code",
   "execution_count": 89,
   "id": "21fad93f-ea45-479b-be4a-e15b7c9991d0",
   "metadata": {},
   "outputs": [],
   "source": [
    "margin_oe = t_critical * standard_error"
   ]
  },
  {
   "cell_type": "code",
   "execution_count": 91,
   "id": "2e26a460-cf56-45f3-a330-889c562e4f92",
   "metadata": {},
   "outputs": [
    {
     "data": {
      "text/plain": [
       "0.03290538417476492"
      ]
     },
     "execution_count": 91,
     "metadata": {},
     "output_type": "execute_result"
    }
   ],
   "source": [
    "margin_oe"
   ]
  },
  {
   "cell_type": "code",
   "execution_count": 93,
   "id": "cad8de3a-47f8-434e-a480-036f5e1680f3",
   "metadata": {},
   "outputs": [
    {
     "name": "stdout",
     "output_type": "stream",
     "text": [
      "-0.2429053841747647 -0.1770946158252349\n"
     ]
    }
   ],
   "source": [
    "lower_ci = mean_diff - margin_oe\n",
    "upper_ci = mean_diff + margin_oe\n",
    "print(lower_ci, upper_ci)"
   ]
  },
  {
   "cell_type": "code",
   "execution_count": 3,
   "id": "a2d4b360-4585-4d3e-8b59-70ac5a6999db",
   "metadata": {},
   "outputs": [],
   "source": [
    "import numpy as np\n",
    "from scipy import stats"
   ]
  },
  {
   "cell_type": "raw",
   "id": "029283d7-347f-4e8d-a7f9-46a0fbcb1298",
   "metadata": {},
   "source": [
    "A sports scientist claims that elite basketball players have an average vertical jump height of 28 inches.\n",
    "You collected data from a random sample of 12 players from a professional training academy.\n",
    "Their vertical jump heights (in inches) are:\n",
    "\n",
    "[27, 30, 26, 29, 25, 28, 30, 31, 26, 27, 29, 30]\n",
    "\n",
    "At a 5% significance level, test whether the mean vertical jump of this academy’s players is different from the elite standard."
   ]
  },
  {
   "cell_type": "code",
   "execution_count": 5,
   "id": "ade97a44-0019-469b-b856-01df0035e450",
   "metadata": {},
   "outputs": [],
   "source": [
    "n = 12\n",
    "sample = [27, 30, 26, 29, 25, 28, 30, 31, 26, 27, 29, 30]"
   ]
  },
  {
   "cell_type": "code",
   "execution_count": 52,
   "id": "cfc3f47c-ccd5-4593-a3c0-e24d2c057d76",
   "metadata": {},
   "outputs": [],
   "source": [
    "sample_mean = np.mean(sample)\n",
    "sample_std = np.std(sample, ddof=1)\n",
    "population_mean = 28"
   ]
  },
  {
   "cell_type": "code",
   "execution_count": 54,
   "id": "4456ca7b-2387-4a78-aed5-f0bf07c6d198",
   "metadata": {},
   "outputs": [],
   "source": [
    "standard_error = sample_std/np.sqrt(n)"
   ]
  },
  {
   "cell_type": "code",
   "execution_count": 56,
   "id": "82490c91-3524-482d-b5fd-870593a3dd85",
   "metadata": {},
   "outputs": [
    {
     "data": {
      "text/plain": [
       "28.166666666666668"
      ]
     },
     "execution_count": 56,
     "metadata": {},
     "output_type": "execute_result"
    }
   ],
   "source": [
    "sample_mean"
   ]
  },
  {
   "cell_type": "code",
   "execution_count": 58,
   "id": "10545102-de6d-4844-97a6-5364e429cb26",
   "metadata": {},
   "outputs": [],
   "source": [
    "t_stats = (sample_mean - population_mean)/standard_error"
   ]
  },
  {
   "cell_type": "code",
   "execution_count": 62,
   "id": "f78d251a-b365-48f4-9941-f46f20c7ee67",
   "metadata": {},
   "outputs": [],
   "source": [
    "p_value = 2*(1 - stats.t.cdf(abs(t_stats), df = n-1))"
   ]
  },
  {
   "cell_type": "code",
   "execution_count": 64,
   "id": "9c24b86c-691a-42cf-af12-6780e897fd44",
   "metadata": {},
   "outputs": [
    {
     "data": {
      "text/plain": [
       "0.7722614932228538"
      ]
     },
     "execution_count": 64,
     "metadata": {},
     "output_type": "execute_result"
    }
   ],
   "source": [
    "p_value"
   ]
  },
  {
   "cell_type": "code",
   "execution_count": 66,
   "id": "36ff3073-2f3a-4f48-b615-fe04107c61b7",
   "metadata": {},
   "outputs": [],
   "source": [
    "t_critical = stats.t.ppf(1 - 0.05/2, df=n-1)"
   ]
  },
  {
   "cell_type": "code",
   "execution_count": 68,
   "id": "b2456718-2003-481a-83c5-72da5a7a2bca",
   "metadata": {},
   "outputs": [
    {
     "data": {
      "text/plain": [
       "2.200985160082949"
      ]
     },
     "execution_count": 68,
     "metadata": {},
     "output_type": "execute_result"
    }
   ],
   "source": [
    "t_critical"
   ]
  },
  {
   "cell_type": "code",
   "execution_count": 70,
   "id": "4150e4e8-f40a-4cf5-b0a5-0a9aaa3352ac",
   "metadata": {},
   "outputs": [],
   "source": [
    "moe = standard_error * t_critical"
   ]
  },
  {
   "cell_type": "code",
   "execution_count": 72,
   "id": "2edeeeb0-d8f4-4dc4-8cff-2bdb71261ff9",
   "metadata": {},
   "outputs": [],
   "source": [
    "lower_ci = sample_mean - moe\n",
    "upper_ci = sample_mean + moe"
   ]
  },
  {
   "cell_type": "code",
   "execution_count": 76,
   "id": "914635a7-6470-43c2-990c-b3bb1e11d78b",
   "metadata": {},
   "outputs": [
    {
     "name": "stdout",
     "output_type": "stream",
     "text": [
      "Sample Mean: 28.166666666666668\n",
      "Sample Std Dev: 1.9462473604038075\n",
      "Standard Error: 0.5618332187193684\n",
      "t-Statistic: 0.2966479394838286\n",
      "p-Value: 0.7722614932228538\n",
      "95% Confidence Interval: (26.9300800898237, 29.403253243509635)\n"
     ]
    }
   ],
   "source": [
    "print(\"Sample Mean:\", sample_mean)\n",
    "print(\"Sample Std Dev:\", sample_std)\n",
    "print(\"Standard Error:\", standard_error)\n",
    "print(\"t-Statistic:\", t_stats)\n",
    "print(\"p-Value:\", p_value)\n",
    "print(\"95% Confidence Interval:\", (lower_ci, upper_ci))"
   ]
  },
  {
   "cell_type": "raw",
   "id": "0879a3db-bfdf-40ca-8ca2-8ae9419afefc",
   "metadata": {},
   "source": [
    "A sports analyst wants to evaluate whether a new training regimen has changed the average vertical jump height of basketball players.\n",
    "\n",
    "From historical data, the average vertical jump height of players was known to be 28 inches.\n",
    "\n",
    "After implementing the new training program, a sample of 15 players recorded the following jump heights (in inches):\n"
   ]
  },
  {
   "cell_type": "code",
   "execution_count": 78,
   "id": "740465d1-1f32-4417-8418-3f1d105e5c20",
   "metadata": {},
   "outputs": [],
   "source": [
    "data = [30, 27, 29, 28, 32, 31, 26, 27, 30, 29, 28, 26, 30, 31, 29]"
   ]
  },
  {
   "cell_type": "code",
   "execution_count": 80,
   "id": "f37c3e86-684d-4927-8bb3-b41ab7e060d7",
   "metadata": {},
   "outputs": [],
   "source": [
    "population_mean = 28\n",
    "n = 15\n",
    "sample_mean = np.mean(data)\n",
    "sample_std = np.std(data,ddof=1)"
   ]
  },
  {
   "cell_type": "code",
   "execution_count": 88,
   "id": "ea911603-4ef7-4d8b-8630-fd7b5e2b36c6",
   "metadata": {},
   "outputs": [],
   "source": [
    "t, p_value = stats.ttest_1samp(data, population_mean)"
   ]
  },
  {
   "cell_type": "code",
   "execution_count": 90,
   "id": "a28158e0-261e-4a78-bef1-14cc37c34c39",
   "metadata": {},
   "outputs": [
    {
     "name": "stdout",
     "output_type": "stream",
     "text": [
      "1.8178199233540762 0.09054983334068678\n"
     ]
    }
   ],
   "source": [
    "print(t, p_value)"
   ]
  },
  {
   "cell_type": "code",
   "execution_count": 92,
   "id": "45aaec76-6c1c-43a9-845e-0591b250cc24",
   "metadata": {},
   "outputs": [],
   "source": [
    "standard_error = sample_std / np.sqrt(n)"
   ]
  },
  {
   "cell_type": "code",
   "execution_count": 94,
   "id": "51686e20-38d0-4b26-a7b1-c45c91d9ec67",
   "metadata": {},
   "outputs": [],
   "source": [
    "t_stats = (sample_mean - population_mean)/standard_error"
   ]
  },
  {
   "cell_type": "code",
   "execution_count": 96,
   "id": "b770fd5d-23b0-4456-8f83-44f3e3b0a3f0",
   "metadata": {},
   "outputs": [
    {
     "data": {
      "text/plain": [
       "1.8178199233540762"
      ]
     },
     "execution_count": 96,
     "metadata": {},
     "output_type": "execute_result"
    }
   ],
   "source": [
    "t_stats"
   ]
  },
  {
   "cell_type": "code",
   "execution_count": 106,
   "id": "711ed5d9-2ee6-4692-ae4e-e169a0a3e357",
   "metadata": {},
   "outputs": [
    {
     "data": {
      "text/plain": [
       "0.09054983334068689"
      ]
     },
     "execution_count": 106,
     "metadata": {},
     "output_type": "execute_result"
    }
   ],
   "source": [
    "p_val = 2*(1 - stats.t.cdf(abs(t_stats),df=n-1))\n",
    "p_val"
   ]
  },
  {
   "cell_type": "code",
   "execution_count": 108,
   "id": "4f5d1f4c-afb6-49b0-9d19-2af1e5d0acd7",
   "metadata": {},
   "outputs": [],
   "source": [
    "t_critical = stats.t.ppf(( 1- 0.05/2),df = n-1)"
   ]
  },
  {
   "cell_type": "code",
   "execution_count": 110,
   "id": "78127137-0549-4856-936f-bba2e5fb45e0",
   "metadata": {},
   "outputs": [],
   "source": [
    "moe = t_critical * standard_error"
   ]
  },
  {
   "cell_type": "raw",
   "id": "1bc19cf8-75e1-4225-996d-fd493550c568",
   "metadata": {},
   "source": [
    "🧪 Scenario:\n",
    "A sports scientist is testing whether a new endurance training program increases the average VO₂ max (a measure of aerobic fitness) for long-distance runners.\n",
    "\n",
    "Historically, the average VO₂ max for similar athletes is 52 ml/kg/min.\n",
    "\n",
    "After the program, a sample of 15 runners recorded the following VO₂ max values:\n",
    "[54.2, 53.1, 55.0, 52.8, 54.5, 56.1, 53.7, 55.3, 54.9, 52.7, 55.8, 54.6, 53.3, 56.0, 54.1]\n",
    "\n",
    "The scientist wants to test at α = 0.05 whether the average VO₂ max has increased due to the training program."
   ]
  },
  {
   "cell_type": "code",
   "execution_count": 112,
   "id": "ea9f28b5-2397-4167-956b-279ee156d1c2",
   "metadata": {},
   "outputs": [],
   "source": [
    "population_mean = 52\n",
    "data = [54.2, 53.1, 55.0, 52.8, 54.5, 56.1, 53.7, 55.3, 54.9, 52.7, 55.8, 54.6, 53.3, 56.0, 54.1]\n",
    "n = 15\n",
    "sample_std = np.std(data, ddof=1)"
   ]
  },
  {
   "cell_type": "code",
   "execution_count": 114,
   "id": "d5e94ea2-bd68-4803-8e42-117d7fad8db9",
   "metadata": {},
   "outputs": [],
   "source": [
    "sample_mean = np.mean(data)"
   ]
  },
  {
   "cell_type": "code",
   "execution_count": 116,
   "id": "99bdcc82-b253-4809-a236-4af016c9a218",
   "metadata": {},
   "outputs": [],
   "source": [
    "standard_error = sample_std / np.sqrt(n)"
   ]
  },
  {
   "cell_type": "code",
   "execution_count": 118,
   "id": "d45486e8-7652-4883-8470-4dc68071276d",
   "metadata": {},
   "outputs": [],
   "source": [
    "t_stats, p_value = stats.ttest_1samp(data,population_mean,alternative='greater')"
   ]
  },
  {
   "cell_type": "code",
   "execution_count": 120,
   "id": "49f3afac-0770-4ea6-99ab-0b31402051b8",
   "metadata": {},
   "outputs": [
    {
     "name": "stdout",
     "output_type": "stream",
     "text": [
      "8.254952720411227 4.7435013370556787e-07\n"
     ]
    }
   ],
   "source": [
    "print(t_stats, p_value)"
   ]
  },
  {
   "cell_type": "code",
   "execution_count": 122,
   "id": "b0172701-e9ac-4f41-8149-ff3576246d97",
   "metadata": {},
   "outputs": [
    {
     "data": {
      "text/plain": [
       "True"
      ]
     },
     "execution_count": 122,
     "metadata": {},
     "output_type": "execute_result"
    }
   ],
   "source": [
    "p_value < 0.05"
   ]
  },
  {
   "cell_type": "code",
   "execution_count": 124,
   "id": "aad9ec2f-3324-4c22-a763-b9217cd37ded",
   "metadata": {},
   "outputs": [],
   "source": [
    "t_critical = stats.t.ppf((1 - 0.05/2), df = n-1)"
   ]
  },
  {
   "cell_type": "code",
   "execution_count": 126,
   "id": "0b07e27b-b91c-4efc-96d3-096259669545",
   "metadata": {},
   "outputs": [],
   "source": [
    "moe = standard_error * t_critical"
   ]
  },
  {
   "cell_type": "code",
   "execution_count": 128,
   "id": "61a7f2b7-843b-4df1-a31a-d87c16e2d671",
   "metadata": {},
   "outputs": [],
   "source": [
    "lower_ci = sample_mean - moe\n",
    "upper_ci = sample_mean + moe"
   ]
  },
  {
   "cell_type": "code",
   "execution_count": 130,
   "id": "eac66019-0ba2-4bc5-8c0b-276466fad09d",
   "metadata": {},
   "outputs": [
    {
     "name": "stdout",
     "output_type": "stream",
     "text": [
      "8.254952720411227 4.7435013370556787e-07 2.1447866879169273 0.6252957229127452 0.2915421502919009 53.78137094375392 55.03196238957941\n"
     ]
    }
   ],
   "source": [
    "print(t_stats, p_value, t_critical, moe, standard_error, lower_ci, upper_ci)"
   ]
  },
  {
   "cell_type": "raw",
   "id": "4e989299-c420-46c9-957b-69368735f4f8",
   "metadata": {},
   "source": [
    "A sports apparel company launched a new football boot model last quarter. Based on historical data, the average quarterly sales for any new football boot model in their portfolio is 8,000 units.\n",
    "\n",
    "They now want to test if this new model has significantly increased sales performance. You collected sales data from a sample of 12 regions, which are:"
   ]
  },
  {
   "cell_type": "raw",
   "id": "15809ef8-c9b2-43b2-878b-0538bd2aa273",
   "metadata": {},
   "source": [
    "Perform a one-sample, right-tailed t-test at the 5% significance level to determine whether the average sales are significantly greater than 8,000 units."
   ]
  },
  {
   "cell_type": "code",
   "execution_count": 132,
   "id": "2bde775e-3815-4253-821c-f1e5d1b4f77a",
   "metadata": {},
   "outputs": [],
   "source": [
    "data = [8300, 8450, 8100, 8600, 8200, 8050, 8750, 8400, 8150, 8350, 8600, 8250]"
   ]
  },
  {
   "cell_type": "code",
   "execution_count": 134,
   "id": "fb48e3dc-2df0-4ee6-a764-3e70ec8c52ad",
   "metadata": {},
   "outputs": [],
   "source": [
    "pop_mean = 8000\n",
    "s_mean = np.mean(data)\n",
    "n = 12\n",
    "s_std = np.std(data, ddof=1)"
   ]
  },
  {
   "cell_type": "code",
   "execution_count": 136,
   "id": "2b22ed79-88b8-44cb-9a73-b5e2c069027f",
   "metadata": {},
   "outputs": [],
   "source": [
    "standard_error = s_std / np.sqrt(n)"
   ]
  },
  {
   "cell_type": "code",
   "execution_count": 138,
   "id": "f22f04ea-a7db-4498-a91e-e9f503a5e1ce",
   "metadata": {},
   "outputs": [],
   "source": [
    "t_stats, p_value = stats.ttest_1samp(data, pop_mean,alternative='greater')"
   ]
  },
  {
   "cell_type": "code",
   "execution_count": 140,
   "id": "f1744163-6711-4f0f-9acc-a91e0e3c88a6",
   "metadata": {},
   "outputs": [
    {
     "name": "stdout",
     "output_type": "stream",
     "text": [
      "5.549774770204643 8.64083652069013e-05\n"
     ]
    }
   ],
   "source": [
    "print(t_stats, p_value)"
   ]
  },
  {
   "cell_type": "code",
   "execution_count": 142,
   "id": "2793a294-fd9b-4ae4-b159-7706dcd4f608",
   "metadata": {},
   "outputs": [],
   "source": [
    "t_critical = stats.t.ppf((1 - 0.05/2), df=n-1)"
   ]
  },
  {
   "cell_type": "code",
   "execution_count": 144,
   "id": "6baa3b99-54b9-4453-8880-97f00c4dc7b2",
   "metadata": {},
   "outputs": [],
   "source": [
    "moe = t_critical*standard_error"
   ]
  },
  {
   "cell_type": "code",
   "execution_count": 146,
   "id": "64a2bb7e-428d-42d3-878d-f5663a7e5e72",
   "metadata": {},
   "outputs": [],
   "source": [
    "lower_ci = s_mean - moe\n",
    "upper_ci = s_mean + moe"
   ]
  },
  {
   "cell_type": "code",
   "execution_count": 148,
   "id": "a8fc70f2-17b1-46b3-885f-979453f39472",
   "metadata": {},
   "outputs": [
    {
     "name": "stdout",
     "output_type": "stream",
     "text": [
      "63.06562238868913 5.549774770204643 8.64083652069013e-05 8211.193501011101 8488.806498988899\n"
     ]
    }
   ],
   "source": [
    "print(standard_error, t_stats, p_value, lower_ci, upper_ci)"
   ]
  },
  {
   "cell_type": "raw",
   "id": "dec47010-8765-4db5-a395-2d6b212fe8bb",
   "metadata": {},
   "source": [
    "ChatGPT said:\n",
    "Great! Here's another one-sample t-test question with a real-world sports business context:\n",
    "\n",
    "🏈 Question:\n",
    "A sports broadcasting company claims that the average daily viewership for a newly launched cricket league is at least 5.5 million. A data analyst randomly selects viewership data (in millions) for 10 days:"
   ]
  },
  {
   "cell_type": "code",
   "execution_count": 150,
   "id": "0bc7480b-6373-444d-ae4a-171716945c1c",
   "metadata": {},
   "outputs": [],
   "source": [
    "data = [5.2, 5.4, 5.7, 5.6, 5.3, 5.5, 5.8, 5.1, 5.4, 5.6]"
   ]
  },
  {
   "cell_type": "raw",
   "id": "df717aa6-6c2a-465d-bc13-da501876b6d0",
   "metadata": {},
   "source": [
    "At a 5% significance level, test whether the actual average viewership is less than what the company claims."
   ]
  },
  {
   "cell_type": "code",
   "execution_count": 160,
   "id": "2e493e0a-4d03-44f2-9759-18a1897fc3d8",
   "metadata": {},
   "outputs": [
    {
     "name": "stdout",
     "output_type": "stream",
     "text": [
      "5.46\n"
     ]
    }
   ],
   "source": [
    "pop_mean = 5.5\n",
    "n = 10\n",
    "sample_mean = np.mean(data)\n",
    "sample_std = np.std(data, ddof=1)\n",
    "print(sample_mean)"
   ]
  },
  {
   "cell_type": "code",
   "execution_count": 154,
   "id": "00f142b7-1d82-4276-a0a3-27adf4cd127a",
   "metadata": {},
   "outputs": [],
   "source": [
    "standard_error = sample_std / np.sqrt(n)"
   ]
  },
  {
   "cell_type": "code",
   "execution_count": 156,
   "id": "e1243aee-5004-4e82-8eff-a23ae407f823",
   "metadata": {},
   "outputs": [],
   "source": [
    "t_stats, p_value = stats.ttest_1samp(data, pop_mean,alternative='less')"
   ]
  },
  {
   "cell_type": "code",
   "execution_count": 158,
   "id": "85609ee8-db1a-44ef-966b-3bd5b2a3a9a7",
   "metadata": {},
   "outputs": [
    {
     "name": "stdout",
     "output_type": "stream",
     "text": [
      "-0.5694947974515 0.29147648998788744\n"
     ]
    }
   ],
   "source": [
    "print(t_stats, p_value)"
   ]
  },
  {
   "cell_type": "code",
   "execution_count": 162,
   "id": "d770a318-ac0a-49e6-ae95-c447c8f9850f",
   "metadata": {},
   "outputs": [],
   "source": [
    "t_critical = stats.t.ppf((1 - 0.05/2), df = n-1)"
   ]
  },
  {
   "cell_type": "code",
   "execution_count": 164,
   "id": "43ec8478-a1a7-4d8e-b240-e46bad9fd84b",
   "metadata": {},
   "outputs": [],
   "source": [
    "moe = t_critical * standard_error"
   ]
  },
  {
   "cell_type": "code",
   "execution_count": 166,
   "id": "eeba6d95-4f78-4ddd-8c43-798153255e4d",
   "metadata": {},
   "outputs": [],
   "source": [
    "lower_ci = sample_mean - moe\n",
    "upper_ci = sample_mean + moe"
   ]
  },
  {
   "cell_type": "code",
   "execution_count": 168,
   "id": "0ee79da4-7b4c-4da9-b521-934263e160bc",
   "metadata": {},
   "outputs": [
    {
     "name": "stdout",
     "output_type": "stream",
     "text": [
      "0.0702376916856849 -0.5694947974515 0.29147648998788744 5.30111130265089 5.61888869734911\n"
     ]
    }
   ],
   "source": [
    "print(standard_error, t_stats, p_value, lower_ci, upper_ci)"
   ]
  },
  {
   "cell_type": "raw",
   "id": "52e41f99-d5a9-40c0-aae1-1681b33d4549",
   "metadata": {},
   "source": [
    "A sportswear company wants to test if the average amount of time spent by customers in their online store is different from the company's expected average of 25 minutes. They conducted a survey with a sample of 20 customers, and the times spent in the store (in minutes) are as follows:\n",
    "\n",
    "Sample data: [23, 27, 28, 22, 26, 29, 24, 21, 25, 30, 22, 27, 28, 23, 26, 29, 31, 30, 25, 24]\n",
    "\n",
    "The company wants to determine if the average time spent by customers in the store is significantly different from the expected 25 minutes at a 5% significance level."
   ]
  },
  {
   "cell_type": "code",
   "execution_count": 170,
   "id": "83420d11-1bbf-4799-80ec-653f15d49a76",
   "metadata": {},
   "outputs": [],
   "source": [
    "n = 20\n",
    "pop_mean = 25\n",
    "data = [23, 27, 28, 22, 26, 29, 24, 21, 25, 30, 22, 27, 28, 23, 26, 29, 31, 30, 25, 24]"
   ]
  },
  {
   "cell_type": "code",
   "execution_count": 172,
   "id": "1da4087c-398f-4644-b579-7347a11c5c17",
   "metadata": {},
   "outputs": [],
   "source": [
    "sample_std = np.std(data, ddof=1)\n",
    "sample_mean = np.mean(data)"
   ]
  },
  {
   "cell_type": "code",
   "execution_count": 174,
   "id": "e9d78c0b-58f4-4a87-a705-641ba74e318e",
   "metadata": {},
   "outputs": [],
   "source": [
    "t_stats, p_value = stats.ttest_1samp(data, pop_mean)"
   ]
  },
  {
   "cell_type": "code",
   "execution_count": 176,
   "id": "632c7957-2755-4747-8356-d9039b2c2a22",
   "metadata": {},
   "outputs": [
    {
     "name": "stdout",
     "output_type": "stream",
     "text": [
      "1.495090003192804 0.1513154850423544\n"
     ]
    }
   ],
   "source": [
    "print(t_stats, p_value)"
   ]
  },
  {
   "cell_type": "code",
   "execution_count": 178,
   "id": "73e593ac-add4-4f75-98eb-75548aef2e60",
   "metadata": {},
   "outputs": [],
   "source": [
    "standard_error = sample_std / np.sqrt(n)"
   ]
  },
  {
   "cell_type": "code",
   "execution_count": 180,
   "id": "2bf2810d-78c3-47d0-a616-812c30a93c7f",
   "metadata": {},
   "outputs": [],
   "source": [
    "t = (sample_mean - pop_mean)/standard_error"
   ]
  },
  {
   "cell_type": "code",
   "execution_count": 186,
   "id": "2063be57-77af-4ccf-83d1-060f3bb0fce7",
   "metadata": {},
   "outputs": [],
   "source": [
    "p_val = 2*(1 - stats.t.cdf(abs(t),df = n-1))"
   ]
  },
  {
   "cell_type": "code",
   "execution_count": 188,
   "id": "3fad965d-644e-466c-913e-9a1d9bd53289",
   "metadata": {},
   "outputs": [
    {
     "data": {
      "text/plain": [
       "0.15131548504235437"
      ]
     },
     "execution_count": 188,
     "metadata": {},
     "output_type": "execute_result"
    }
   ],
   "source": [
    "p_val"
   ]
  },
  {
   "cell_type": "code",
   "execution_count": 192,
   "id": "a8da26fb-508c-4538-ae85-a92bdb2fce1e",
   "metadata": {},
   "outputs": [],
   "source": [
    "t_critical = stats.t.ppf((1 - 0.05/2), df = n-1)"
   ]
  },
  {
   "cell_type": "code",
   "execution_count": 194,
   "id": "7255eb0d-7854-42f1-94b1-5c01cf96c835",
   "metadata": {},
   "outputs": [],
   "source": [
    "moe = standard_error * t_critical"
   ]
  },
  {
   "cell_type": "code",
   "execution_count": 196,
   "id": "9d6ff31d-8571-4c49-a2dd-863ebf3d9d05",
   "metadata": {},
   "outputs": [],
   "source": [
    "lower_ci = sample_mean - moe\n",
    "upper_ci = sample_mean + moe"
   ]
  },
  {
   "cell_type": "code",
   "execution_count": 198,
   "id": "1592018a-2510-4871-abc6-86fb0cfc8463",
   "metadata": {},
   "outputs": [
    {
     "name": "stdout",
     "output_type": "stream",
     "text": [
      "1.495090003192804 0.1513154850423544 0.6688560540599386 24.600068189915955 27.399931810084045\n"
     ]
    }
   ],
   "source": [
    "print(t_stats, p_value, standard_error, lower_ci, upper_ci)"
   ]
  },
  {
   "cell_type": "raw",
   "id": "e6d9f24f-a662-4d98-a7fe-f7cbff0d9306",
   "metadata": {},
   "source": [
    "A sports apparel company claims that their average customer spends $150 per month on their products. A market researcher decides to test this claim by collecting a sample of 30 customers, and the sample shows that the average monthly expenditure is $145 with a standard deviation of $25.\n",
    "\n",
    "Perform a one-sample t-test at a 5% significance level to determine if there is enough evidence to reject the company's claim."
   ]
  },
  {
   "cell_type": "code",
   "execution_count": 200,
   "id": "c1997783-c52a-483c-9759-73dfdf13bdb3",
   "metadata": {},
   "outputs": [],
   "source": [
    "n = 30\n",
    "pop_mean = 150\n",
    "sample_mean = 145\n",
    "sample_std = 25"
   ]
  },
  {
   "cell_type": "code",
   "execution_count": 202,
   "id": "b9dd2758-054c-44ed-894b-b4a7fb31c0f5",
   "metadata": {},
   "outputs": [],
   "source": [
    "standard_error = sample_std/np.sqrt(n)"
   ]
  },
  {
   "cell_type": "code",
   "execution_count": 204,
   "id": "bd976e94-31bc-4731-9817-8830281a5008",
   "metadata": {},
   "outputs": [],
   "source": [
    "t = ((sample_mean - pop_mean) / standard_error)"
   ]
  },
  {
   "cell_type": "code",
   "execution_count": 210,
   "id": "f63c9b16-8292-40f3-badc-f4f449775cad",
   "metadata": {},
   "outputs": [],
   "source": [
    "p_value = stats.t.cdf(t,df = n-1)"
   ]
  },
  {
   "cell_type": "code",
   "execution_count": 212,
   "id": "1b43c270-3eec-431c-8737-1980be8fe051",
   "metadata": {},
   "outputs": [
    {
     "name": "stdout",
     "output_type": "stream",
     "text": [
      "-1.0954451150103321 0.14116811864303488\n"
     ]
    }
   ],
   "source": [
    "print(t, p_value)"
   ]
  },
  {
   "cell_type": "code",
   "execution_count": 214,
   "id": "a6c45717-09b4-4cd5-bf63-69a72530ca6e",
   "metadata": {},
   "outputs": [],
   "source": [
    "z_critical = stats.t.ppf((1 - 0.05/2), df=n-1)"
   ]
  },
  {
   "cell_type": "code",
   "execution_count": 216,
   "id": "f6936aee-77f0-4f37-8d43-e7c84b8f449d",
   "metadata": {},
   "outputs": [],
   "source": [
    "moe = z_critical * standard_error"
   ]
  },
  {
   "cell_type": "code",
   "execution_count": 218,
   "id": "12b45612-ddaa-4ef4-95b3-2c555de13998",
   "metadata": {},
   "outputs": [],
   "source": [
    "lower_ci = sample_mean - moe\n",
    "upper_ci = sample_mean + moe"
   ]
  },
  {
   "cell_type": "code",
   "execution_count": 220,
   "id": "9e642eac-39ca-415d-b6b7-a681f77234ce",
   "metadata": {},
   "outputs": [
    {
     "name": "stdout",
     "output_type": "stream",
     "text": [
      "4.564354645876384 -1.0954451150103321 0.14116811864303488 135.6648465810475 154.3351534189525\n"
     ]
    }
   ],
   "source": [
    "print(standard_error, t, p_value, lower_ci, upper_ci)"
   ]
  },
  {
   "cell_type": "code",
   "execution_count": 222,
   "id": "3bf02a83-2d02-4cb6-ab07-c0e4659e0eb1",
   "metadata": {},
   "outputs": [],
   "source": [
    "#  two sample ttest"
   ]
  },
  {
   "cell_type": "code",
   "execution_count": 224,
   "id": "ac6ce3ca-3b75-4577-9185-18b4a44df6ea",
   "metadata": {},
   "outputs": [],
   "source": [
    "n1 = 40\n",
    "mean1 = 2.4\n",
    "std1 = 1.2\n",
    "n2 = 45\n",
    "mean2 = 2.8\n",
    "std2 = 1.1"
   ]
  },
  {
   "cell_type": "raw",
   "id": "bda1729c-e176-47b1-963e-f212bd6c584a",
   "metadata": {},
   "source": [
    "The company wants to test if the average number of goals scored by Team A is significantly different from the average number of goals scored by Team B at a 5% significance level."
   ]
  },
  {
   "cell_type": "code",
   "execution_count": 228,
   "id": "1a6ed053-9615-41a4-9bb0-88585d431258",
   "metadata": {},
   "outputs": [
    {
     "data": {
      "text/plain": [
       "Ttest_indResult(statistic=-1.5950453320540514, pvalue=0.11466328138073818)"
      ]
     },
     "execution_count": 228,
     "metadata": {},
     "output_type": "execute_result"
    }
   ],
   "source": [
    "stats.ttest_ind_from_stats(mean1, std1, n1, mean2, std2, n2, equal_var=False)"
   ]
  },
  {
   "cell_type": "code",
   "execution_count": 4,
   "id": "71b63112-4bbc-41f4-ac32-0e9f48ddd8c4",
   "metadata": {},
   "outputs": [],
   "source": [
    "import numpy as np\n",
    "from scipy import stats\n",
    "from statsmodels.stats.proportion import proportions_ztest"
   ]
  },
  {
   "cell_type": "raw",
   "id": "14cf3739-64b7-497b-bc77-5aa9c5aac3e3",
   "metadata": {},
   "source": [
    "A basketball performance analyst wants to compare the average number of tickets sold per game between two arenas — Arena A and Arena B — over a recent 10-game period.\n",
    "\n",
    "Arena A (10 games):\n",
    "\n",
    "Mean tickets sold = 12,500\n",
    "\n",
    "Standard deviation = 900\n",
    "\n",
    "Arena B (10 games):\n",
    "\n",
    "Mean tickets sold = 11,600\n",
    "\n",
    "Standard deviation = 1,200\n",
    "\n",
    "Test at a 5% significance level whether there is a significant difference in ticket sales between the two arenas (two-tailed test)."
   ]
  },
  {
   "cell_type": "code",
   "execution_count": 6,
   "id": "bb7d4d77-57f6-40bf-9c95-9e19bf631865",
   "metadata": {},
   "outputs": [],
   "source": [
    "mean_a = 12500\n",
    "std_a = 900\n",
    "n_a = 10\n",
    "mean_b = 11600\n",
    "std_b = 1200\n",
    "n_b = 10"
   ]
  },
  {
   "cell_type": "code",
   "execution_count": 12,
   "id": "360c2a64-018f-4db4-b6d0-cbb6a7a387cc",
   "metadata": {},
   "outputs": [],
   "source": [
    "t_stats, p_value = stats.ttest_ind_from_stats(mean_a, std_a, n_a, mean_b, std_b, n_b, equal_var=False)"
   ]
  },
  {
   "cell_type": "code",
   "execution_count": 14,
   "id": "ab9248bf-5b5c-4747-abd5-fd2c0952f041",
   "metadata": {},
   "outputs": [
    {
     "name": "stdout",
     "output_type": "stream",
     "text": [
      "1.8973665961010275 0.07521736394926447\n"
     ]
    }
   ],
   "source": [
    "print(t_stats, p_value)"
   ]
  },
  {
   "cell_type": "code",
   "execution_count": 41,
   "id": "8409adce-7149-4c7f-8560-a88717db85ee",
   "metadata": {},
   "outputs": [],
   "source": [
    "mean1 = 12500\n",
    "std1 = 900\n",
    "n1 = 10\n",
    "\n",
    "mean2 = 11600\n",
    "std2 = 1200\n",
    "n2 = 10"
   ]
  },
  {
   "cell_type": "code",
   "execution_count": 43,
   "id": "db07e53c-078e-4efe-b7fe-17062f669145",
   "metadata": {},
   "outputs": [],
   "source": [
    "import numpy as np\n",
    "from scipy import stats\n",
    "from statsmodels.stats.proportion import proportions_ztest"
   ]
  },
  {
   "cell_type": "code",
   "execution_count": 45,
   "id": "92606109-4d0b-49a9-8e28-366d39df76f8",
   "metadata": {},
   "outputs": [],
   "source": [
    "t_stats, p_value = stats.ttest_ind_from_stats(mean1, std1, n1, mean2, std2, n2, equal_var=False)"
   ]
  },
  {
   "cell_type": "code",
   "execution_count": 47,
   "id": "ae0e3a8e-1a53-41e2-a489-98db3d9fe82b",
   "metadata": {},
   "outputs": [
    {
     "name": "stdout",
     "output_type": "stream",
     "text": [
      "1.8973665961010275 0.07521736394926447\n"
     ]
    }
   ],
   "source": [
    "print(t_stats, p_value)"
   ]
  },
  {
   "cell_type": "code",
   "execution_count": 49,
   "id": "104df18d-3ede-4bee-a2ac-339c42372182",
   "metadata": {},
   "outputs": [],
   "source": [
    "standard_error = np.sqrt((std1**2)/n1 + (std2**2)/n2)"
   ]
  },
  {
   "cell_type": "code",
   "execution_count": 51,
   "id": "cbc5939d-e110-4b69-8449-5ffbd61a4a6c",
   "metadata": {},
   "outputs": [
    {
     "data": {
      "text/plain": [
       "474.3416490252569"
      ]
     },
     "execution_count": 51,
     "metadata": {},
     "output_type": "execute_result"
    }
   ],
   "source": [
    "standard_error"
   ]
  },
  {
   "cell_type": "code",
   "execution_count": 63,
   "id": "103412f9-a6f7-41b6-a08f-e3a96832a607",
   "metadata": {},
   "outputs": [],
   "source": [
    "df = ((std1**2 / n1 + std2**2 / n2) ** 2) / \\\n",
    "     (((std1**2 / n1) ** 2) / (n1 - 1) + ((std2**2 / n2) ** 2) / (n2 - 1))"
   ]
  },
  {
   "cell_type": "code",
   "execution_count": 65,
   "id": "2f124ff9-4c65-4782-945f-dbdefb46b364",
   "metadata": {},
   "outputs": [],
   "source": [
    "z_critical = stats.t.ppf((1 - 0.05/2),df)"
   ]
  },
  {
   "cell_type": "code",
   "execution_count": 67,
   "id": "312bbe10-fb38-4bd1-8c8b-af01344c09ee",
   "metadata": {},
   "outputs": [
    {
     "data": {
      "text/plain": [
       "2.112790987382335"
      ]
     },
     "execution_count": 67,
     "metadata": {},
     "output_type": "execute_result"
    }
   ],
   "source": [
    "z_critical"
   ]
  },
  {
   "cell_type": "code",
   "execution_count": 69,
   "id": "664e882f-82ad-4e1e-a41f-6f74d7aa6b2d",
   "metadata": {},
   "outputs": [],
   "source": [
    "moe = z_critical * standard_error"
   ]
  },
  {
   "cell_type": "raw",
   "id": "f879dee0-6d36-47e1-99a9-646d4313e004",
   "metadata": {},
   "source": [
    "A sports analytics agency is evaluating the monthly revenue performance of two premium gyms:\n",
    "You are tasked with testing whether Gym A earns significantly more monthly revenue than Gym B at the 5% significance level."
   ]
  },
  {
   "cell_type": "code",
   "execution_count": 71,
   "id": "efb65c0d-8f46-474b-b48f-09378782df1f",
   "metadata": {},
   "outputs": [],
   "source": [
    "n_A = 12\n",
    "mean_A = 285000\n",
    "std_A = 15000\n",
    "n_B = 10\n",
    "mean_B = 270000\n",
    "std_B = 18000"
   ]
  },
  {
   "cell_type": "code",
   "execution_count": 102,
   "id": "965f6f11-8d41-4e9e-ad93-ec537cf929f2",
   "metadata": {},
   "outputs": [],
   "source": [
    "t_stats, p_value = stats.ttest_ind_from_stats(mean_A, std_A, n_A, mean_B, std_B, n_B,equal_var=False, alternative='greater')"
   ]
  },
  {
   "cell_type": "code",
   "execution_count": 104,
   "id": "cf60e100-865a-4e9b-9fca-32e4abd2f95e",
   "metadata": {},
   "outputs": [
    {
     "name": "stdout",
     "output_type": "stream",
     "text": [
      "2.0973380699048354 0.02534143912276947\n"
     ]
    }
   ],
   "source": [
    "print(t_stats, p_value)"
   ]
  },
  {
   "cell_type": "code",
   "execution_count": 106,
   "id": "dacf4942-c663-472f-a011-1b87dfac22ad",
   "metadata": {},
   "outputs": [],
   "source": [
    "se = np.sqrt((std_A**2/n_A) + (std_B**2/n_B))"
   ]
  },
  {
   "cell_type": "code",
   "execution_count": null,
   "id": "75e2020b-9eb9-42a0-9528-d8f85ab70ba6",
   "metadata": {},
   "outputs": [],
   "source": []
  },
  {
   "cell_type": "code",
   "execution_count": 109,
   "id": "830b30b0-332e-4b53-aea8-56824fb367fc",
   "metadata": {},
   "outputs": [],
   "source": [
    "df = (se**2)**2 / (\n",
    "    ((std_A**2 / n_A)**2) / (n_A - 1) +\n",
    "    ((std_B**2 / n_B)**2) / (n_B - 1)\n",
    ")"
   ]
  },
  {
   "cell_type": "code",
   "execution_count": 111,
   "id": "7dc680b1-0462-4675-b916-0f30f846e323",
   "metadata": {},
   "outputs": [],
   "source": [
    "z_critical = stats.t.ppf((1 - 0.05/2),df)"
   ]
  },
  {
   "cell_type": "code",
   "execution_count": 113,
   "id": "fd9ee3f7-e0e6-4ae2-a40c-cb268c1836b0",
   "metadata": {},
   "outputs": [],
   "source": [
    "moe = se * z_critical"
   ]
  },
  {
   "cell_type": "code",
   "execution_count": 115,
   "id": "186e7b10-4ad7-468a-b175-70741e092b22",
   "metadata": {},
   "outputs": [],
   "source": [
    "lower_ci = (mean_A - mean_B) - moe\n",
    "upper_ci = (mean_A - mean_B) + moe"
   ]
  },
  {
   "cell_type": "code",
   "execution_count": 117,
   "id": "a5cdb724-87d8-48fa-90b4-970b80a192fc",
   "metadata": {},
   "outputs": [
    {
     "name": "stdout",
     "output_type": "stream",
     "text": [
      "2.0973380699048354 0.02534143912276947 7151.922818375489 17.606450192019167 2.104293247484505 -49.74289323789344 30049.742893237893\n"
     ]
    }
   ],
   "source": [
    "print(t_stats, p_value, se, df, z_critical, lower_ci, upper_ci)"
   ]
  },
  {
   "cell_type": "raw",
   "id": "90115809-cc49-4fe0-bf42-8114874fde26",
   "metadata": {},
   "source": [
    "A sports nutrition company wants to compare the average muscle gain (in kilograms) after 12 weeks between two groups of athletes trying two different protein supplements. The company wants to test, at the 5% significance level, whether Whey Protein leads to significantly higher muscle gain than Plant-Based Protein."
   ]
  },
  {
   "cell_type": "code",
   "execution_count": 120,
   "id": "da6266d4-3658-426e-8321-f7890705126b",
   "metadata": {},
   "outputs": [],
   "source": [
    "n1 = 18\n",
    "mean1 = 2.8\n",
    "std1 = 0.9\n",
    "n2 = 22\n",
    "mean2 = 2.3\n",
    "std2 = 1.1"
   ]
  },
  {
   "cell_type": "code",
   "execution_count": 122,
   "id": "f62d6b35-6b0a-4296-84c5-1fda9f837041",
   "metadata": {},
   "outputs": [],
   "source": [
    "se = np.sqrt(std1**2/n1 + std2**2/n2)"
   ]
  },
  {
   "cell_type": "code",
   "execution_count": 124,
   "id": "1dfef87d-2082-4f92-afba-541eabf26730",
   "metadata": {},
   "outputs": [],
   "source": [
    "t, p_value = stats.ttest_ind_from_stats(mean1, std1, n1, mean2, std2, n2, equal_var=False, alternative='greater')"
   ]
  },
  {
   "cell_type": "code",
   "execution_count": 126,
   "id": "c7084fe2-4a59-49b2-87fe-0df99a1e9a19",
   "metadata": {},
   "outputs": [
    {
     "name": "stdout",
     "output_type": "stream",
     "text": [
      "1.5811388300841895 0.06106769431830269\n"
     ]
    }
   ],
   "source": [
    "print(t, p_value)"
   ]
  },
  {
   "cell_type": "code",
   "execution_count": 132,
   "id": "c9f13bcb-647b-4ecb-93ae-ab492d9d05dc",
   "metadata": {},
   "outputs": [],
   "source": [
    "df = ((std1**2/n1 + std2**2/n2)**2)/(\n",
    "    ((std1**2/n1)**2)/(n1-1) + \n",
    "    ((std2**2/n2)**2)/(n2-1)\n",
    ")"
   ]
  },
  {
   "cell_type": "code",
   "execution_count": 134,
   "id": "b4e13657-a916-46b9-b36e-eb93b9385887",
   "metadata": {},
   "outputs": [],
   "source": [
    "t_critical = stats.t.ppf((1 - 0.05/2),df)"
   ]
  },
  {
   "cell_type": "code",
   "execution_count": 136,
   "id": "fe5f68d7-39cf-4ccd-8e8e-8ede014a270a",
   "metadata": {},
   "outputs": [],
   "source": [
    "moe = t_critical * se"
   ]
  },
  {
   "cell_type": "code",
   "execution_count": 138,
   "id": "dd56be87-4486-44b1-b2da-3e9e8ed5ffc7",
   "metadata": {},
   "outputs": [],
   "source": [
    "lower_ci = (mean1 - mean2) - moe\n",
    "upper_ci = (mean1 - mean2) + moe"
   ]
  },
  {
   "cell_type": "code",
   "execution_count": 140,
   "id": "d717e9db-7f00-4c5e-8d57-412b7041050c",
   "metadata": {},
   "outputs": [
    {
     "name": "stdout",
     "output_type": "stream",
     "text": [
      "1.5811388300841895 0.06106769431830269 0.31622776601683794 37.9989356040447 2.0243960261068956 0.640170232869148 -0.14017023286914798 1.1401702328691479\n"
     ]
    }
   ],
   "source": [
    "print(t, p_value, se, df, t_critical, moe, lower_ci, upper_ci)"
   ]
  },
  {
   "cell_type": "raw",
   "id": "13835300-799d-44b1-a68e-e7f03096b8c5",
   "metadata": {},
   "source": [
    "A basketball equipment company wants to compare the average number of training hours per week for athletes using Brand A shoes vs. Brand B shoes.\n",
    "\n",
    "A sample of 25 athletes using Brand A reported an average of 10.5 hours/week, with a standard deviation of 1.8 hours.\n",
    "\n",
    "A sample of 30 athletes using Brand B reported an average of 9.6 hours/week, with a standard deviation of 2.1 hours.\n",
    "\n",
    "Assume training hours are normally distributed.\n",
    "At a 5% significance level, test whether Brand A users train significantly more than Brand B users on average."
   ]
  },
  {
   "cell_type": "code",
   "execution_count": 142,
   "id": "e025fb18-5621-475e-b97e-605706023811",
   "metadata": {},
   "outputs": [],
   "source": [
    "n1 = 25\n",
    "mean1 = 10.5\n",
    "std1 = 1.8\n",
    "n2 = 30\n",
    "mean2 = 9.6\n",
    "std2 = 2.1"
   ]
  },
  {
   "cell_type": "code",
   "execution_count": 144,
   "id": "9bab8d45-a15b-4974-a0f3-677210650188",
   "metadata": {},
   "outputs": [],
   "source": [
    "se = np.sqrt(std1**2/n1 + std2**2/n2)"
   ]
  },
  {
   "cell_type": "code",
   "execution_count": 146,
   "id": "a8e24e6c-faf6-4bca-8ace-649d5f182388",
   "metadata": {},
   "outputs": [],
   "source": [
    "t, p_value = stats.ttest_ind_from_stats(mean1, std1, n1, mean2, std2, n2, equal_var=False, alternative='greater')"
   ]
  },
  {
   "cell_type": "code",
   "execution_count": 148,
   "id": "445feab0-9244-4d3a-b73d-b9aed029a1c2",
   "metadata": {},
   "outputs": [
    {
     "name": "stdout",
     "output_type": "stream",
     "text": [
      "1.711261664942045 0.04644295423467048\n"
     ]
    }
   ],
   "source": [
    "print(t, p_value)"
   ]
  },
  {
   "cell_type": "code",
   "execution_count": 154,
   "id": "44857a41-a5d6-4b08-a108-42c9880f7945",
   "metadata": {},
   "outputs": [],
   "source": [
    "df = (std1**2/n1 + std2**2/n2)**2 / (\n",
    "    (std1**2/n1)**2 / (n1 - 1) + \n",
    "    (std2**2/n2)**2 / (n2 - 1)\n",
    ")"
   ]
  },
  {
   "cell_type": "code",
   "execution_count": 156,
   "id": "ced68785-b948-4768-a8a6-638c3398ba7e",
   "metadata": {},
   "outputs": [],
   "source": [
    "t_critical = stats.t.ppf((1 - 0.05/2), df)"
   ]
  },
  {
   "cell_type": "code",
   "execution_count": 158,
   "id": "737648a7-a315-4d3f-8496-ce674c59858a",
   "metadata": {},
   "outputs": [],
   "source": [
    "moe = t_critical * standard_error"
   ]
  },
  {
   "cell_type": "code",
   "execution_count": 160,
   "id": "878c1d05-edbe-4f92-a8ae-a3ada7306525",
   "metadata": {},
   "outputs": [],
   "source": [
    "n1 = 20\n",
    "mean1 = 52.3\n",
    "std1 = 4.5\n",
    "n2 = 22\n",
    "mean2 = 49.8\n",
    "std2 = 5.1"
   ]
  },
  {
   "cell_type": "code",
   "execution_count": 164,
   "id": "508cdbd4-b223-4f1d-b886-2cba33c7b7b5",
   "metadata": {},
   "outputs": [],
   "source": [
    "t , p_value = stats.ttest_ind_from_stats(mean1, std1, n1, mean2, std2, n2, equal_var=False, alternative='greater')"
   ]
  },
  {
   "cell_type": "code",
   "execution_count": 166,
   "id": "d1ef903a-b1eb-4726-984d-e0832f6f6904",
   "metadata": {},
   "outputs": [
    {
     "name": "stdout",
     "output_type": "stream",
     "text": [
      "1.687505633018262 0.04964806747367759\n"
     ]
    }
   ],
   "source": [
    "print(t, p_value)"
   ]
  },
  {
   "cell_type": "code",
   "execution_count": 168,
   "id": "8cfb6bb8-e2e5-4d32-bef7-e9cac0c32dfb",
   "metadata": {},
   "outputs": [],
   "source": [
    "se = np.sqrt(std1**2/n1 + std2**2/n2)"
   ]
  },
  {
   "cell_type": "code",
   "execution_count": 172,
   "id": "e46f9230-07e5-450a-9e8b-58c456ad2dd7",
   "metadata": {},
   "outputs": [],
   "source": [
    "df = (std1**2/n1 + std2**2/n2)**2 / (\n",
    "   (std1**2/n1)**2 / (n1 - 1) +\n",
    "    (std2**2/n2)**2 / (n2 - 1)\n",
    ")"
   ]
  },
  {
   "cell_type": "code",
   "execution_count": 174,
   "id": "1deb1443-bb43-46e4-ba6e-7d767129d084",
   "metadata": {},
   "outputs": [],
   "source": [
    "t_critical = stats.t.ppf((1 - 0.05/2),df)"
   ]
  },
  {
   "cell_type": "code",
   "execution_count": 176,
   "id": "cb304c87-e2ac-44b3-9cca-f98e1cb7a9cc",
   "metadata": {},
   "outputs": [],
   "source": [
    "moe = t_critical * se"
   ]
  },
  {
   "cell_type": "code",
   "execution_count": 178,
   "id": "cb043944-4741-407a-b44d-c0f73eaec29c",
   "metadata": {},
   "outputs": [],
   "source": [
    "lower_ci = (mean1 - mean2) - moe\n",
    "upper_ci = (mean1 - mean2) + moe"
   ]
  },
  {
   "cell_type": "code",
   "execution_count": 182,
   "id": "78f1f002-1d61-404b-93d6-3a42952cfb11",
   "metadata": {},
   "outputs": [
    {
     "name": "stdout",
     "output_type": "stream",
     "text": [
      "1.687505633018262 0.04964806747367759 1.4814765361870321 39.97001954473462 2.0211226139224716 -0.4942457292831435 5.4942457292831435\n"
     ]
    }
   ],
   "source": [
    "print(t, p_value, se, df, t_critical, lower_ci, upper_ci)"
   ]
  },
  {
   "cell_type": "code",
   "execution_count": 184,
   "id": "4233a3a3-920b-4591-bab3-7263e7051191",
   "metadata": {},
   "outputs": [],
   "source": [
    "n1 = 30\n",
    "mean1 = 10.2\n",
    "std1 = 2.4\n",
    "n2 = 28\n",
    "mean2 = 9.1\n",
    "std2 = 2.6"
   ]
  },
  {
   "cell_type": "code",
   "execution_count": 186,
   "id": "d1e2c323-7848-4659-aed0-e10ec5280aa2",
   "metadata": {},
   "outputs": [],
   "source": [
    "t, p_value = stats.ttest_ind_from_stats(mean1, std1, n1, mean2, std2, n2, alternative='greater')"
   ]
  },
  {
   "cell_type": "code",
   "execution_count": 188,
   "id": "bb320c4f-fae5-4546-b501-dc35e41f6727",
   "metadata": {},
   "outputs": [
    {
     "name": "stdout",
     "output_type": "stream",
     "text": [
      "1.6755271889653576 0.0497032381469431\n"
     ]
    }
   ],
   "source": [
    "print(t, p_value)"
   ]
  },
  {
   "cell_type": "code",
   "execution_count": 194,
   "id": "a908e076-5ad9-4e3d-8361-5dff5793e589",
   "metadata": {},
   "outputs": [],
   "source": [
    "pooled_sd = np.sqrt(((n1 - 1)*std1**2 + (n2 - 1)*std2**2) / (\n",
    "    n1 + n2 - 2\n",
    "))"
   ]
  },
  {
   "cell_type": "code",
   "execution_count": 196,
   "id": "944dcc51-70c2-4f9c-809c-9ac63c20a88d",
   "metadata": {},
   "outputs": [
    {
     "data": {
      "text/plain": [
       "2.498428077240339"
      ]
     },
     "execution_count": 196,
     "metadata": {},
     "output_type": "execute_result"
    }
   ],
   "source": [
    "pooled_sd"
   ]
  },
  {
   "cell_type": "code",
   "execution_count": 198,
   "id": "62a7e38c-96a0-40bb-8e63-3b88ec279c5a",
   "metadata": {},
   "outputs": [],
   "source": [
    "standard_error = pooled_sd * np.sqrt(1/n1 + 1/n2)"
   ]
  },
  {
   "cell_type": "code",
   "execution_count": 200,
   "id": "9610e940-e982-49bd-983b-0b266e5dff4b",
   "metadata": {},
   "outputs": [],
   "source": [
    "df = n1 + n2 - 2"
   ]
  },
  {
   "cell_type": "code",
   "execution_count": 202,
   "id": "f9c69103-7234-4bfb-be0a-72b94e216be0",
   "metadata": {},
   "outputs": [],
   "source": [
    "t_critical = stats.t.ppf((1 - 0.05/2),df)"
   ]
  },
  {
   "cell_type": "code",
   "execution_count": 204,
   "id": "75f62905-f8a2-45bf-a8d1-23177efb5bbb",
   "metadata": {},
   "outputs": [],
   "source": [
    "moe = standard_error * t_critical"
   ]
  },
  {
   "cell_type": "code",
   "execution_count": 206,
   "id": "7facd792-67fb-4963-9699-ab20d19cae32",
   "metadata": {},
   "outputs": [],
   "source": [
    "lower_ci = (mean1 - mean2) - moe\n",
    "upper_Ci = (mean1 - mean2) + moe"
   ]
  },
  {
   "cell_type": "code",
   "execution_count": 208,
   "id": "ffb12c84-0515-45f7-aa41-42fbe57dacc4",
   "metadata": {},
   "outputs": [
    {
     "name": "stdout",
     "output_type": "stream",
     "text": [
      "1.6755271889653576 0.0497032381469431 2.498428077240339 56 -0.21514714010302982 2.415147140103029\n"
     ]
    }
   ],
   "source": [
    "print(t, p_value, pooled_sd, df, lower_ci, upper_Ci)"
   ]
  },
  {
   "cell_type": "code",
   "execution_count": 210,
   "id": "9afb9e8f-e68f-48b7-89fd-2e4f4c971b0b",
   "metadata": {},
   "outputs": [],
   "source": [
    "t = (mean1 - mean2)/ standard_error"
   ]
  },
  {
   "cell_type": "code",
   "execution_count": 212,
   "id": "b958325a-8232-46c1-aeca-14ffcf57b8ad",
   "metadata": {},
   "outputs": [
    {
     "data": {
      "text/plain": [
       "1.6755271889653576"
      ]
     },
     "execution_count": 212,
     "metadata": {},
     "output_type": "execute_result"
    }
   ],
   "source": [
    "t"
   ]
  },
  {
   "cell_type": "code",
   "execution_count": 221,
   "id": "2ffb1eba-0284-4cd1-aaca-d97501f8b283",
   "metadata": {},
   "outputs": [],
   "source": [
    "p_value = 1 - stats.t.cdf(t, df)"
   ]
  },
  {
   "cell_type": "code",
   "execution_count": 223,
   "id": "339ed1ef-7bd7-4f83-9400-188cf14f07e2",
   "metadata": {},
   "outputs": [
    {
     "data": {
      "text/plain": [
       "0.04970323814694311"
      ]
     },
     "execution_count": 223,
     "metadata": {},
     "output_type": "execute_result"
    }
   ],
   "source": [
    "p_value"
   ]
  },
  {
   "cell_type": "markdown",
   "id": "db00a92c-ea84-4c9a-8a6c-d64e34f30008",
   "metadata": {
    "jp-MarkdownHeadingCollapsed": true
   },
   "source": [
    "A sports equipment company wants to compare the durability (measured in hours of usage before breaking) of two new tennis racket models: Model A and Model B."
   ]
  },
  {
   "cell_type": "code",
   "execution_count": 227,
   "id": "0d9c0e78-99da-4255-b37c-a8a6abab4955",
   "metadata": {},
   "outputs": [],
   "source": [
    "n1 = 25\n",
    "mean1 = 130\n",
    "std1 = 12\n",
    "n2 = 30\n",
    "mean2 = 125\n",
    "std = 11"
   ]
  },
  {
   "cell_type": "code",
   "execution_count": 229,
   "id": "6f86fcc4-2c6b-4277-a87a-d10b552775a5",
   "metadata": {},
   "outputs": [],
   "source": [
    "t, p_value = stats.ttest_ind_from_stats(mean1, std1, n1, mean2, std2, n2, equal_var=True, alternative='greater')"
   ]
  },
  {
   "cell_type": "code",
   "execution_count": 231,
   "id": "32954e73-976d-4a05-87dd-da3684a49bbf",
   "metadata": {},
   "outputs": [
    {
     "name": "stdout",
     "output_type": "stream",
     "text": [
      "2.2242800329997383 0.015205894212618703\n"
     ]
    }
   ],
   "source": [
    "print(t, p_value)"
   ]
  },
  {
   "cell_type": "code",
   "execution_count": 233,
   "id": "66151b8f-4f32-452a-911b-d95fae70dcba",
   "metadata": {},
   "outputs": [
    {
     "data": {
      "text/plain": [
       "True"
      ]
     },
     "execution_count": 233,
     "metadata": {},
     "output_type": "execute_result"
    }
   ],
   "source": [
    "p_value < 0.05"
   ]
  },
  {
   "cell_type": "code",
   "execution_count": 237,
   "id": "5761d4a5-4c7a-49a6-814a-65c9b6039ee3",
   "metadata": {},
   "outputs": [],
   "source": [
    "pooled_sd = np.sqrt((n1 - 1)*std1**2 + (n2 - 1)*std2**2) / (n1+n2-2)"
   ]
  },
  {
   "cell_type": "code",
   "execution_count": 239,
   "id": "f4e5fcee-704c-4a17-b1d6-518431ce8e73",
   "metadata": {},
   "outputs": [],
   "source": [
    "se = pooled_sd*(np.sqrt(1/n1 + 1/n2))"
   ]
  },
  {
   "cell_type": "code",
   "execution_count": 241,
   "id": "d6b6bacb-1ca8-4a7d-8981-9b9884263537",
   "metadata": {},
   "outputs": [],
   "source": [
    "df = n1+n2-2"
   ]
  },
  {
   "cell_type": "code",
   "execution_count": 243,
   "id": "a47b0751-0284-4bc6-817a-fb08da620ea9",
   "metadata": {},
   "outputs": [],
   "source": [
    "t_critical = stats.t.ppf((1 - 0.05/2),df)"
   ]
  },
  {
   "cell_type": "code",
   "execution_count": 245,
   "id": "9aaddc63-396f-4f50-ba3e-6c2dd8764a8b",
   "metadata": {},
   "outputs": [],
   "source": [
    "moe = t_critical * standard_error"
   ]
  },
  {
   "cell_type": "code",
   "execution_count": 247,
   "id": "dac61a3c-a89c-4a06-abe3-42815af85b36",
   "metadata": {},
   "outputs": [],
   "source": [
    "lower_ci = (mean1 - mean2) - moe\n",
    "upper_ci = (mean1 - mean2) + moe"
   ]
  },
  {
   "cell_type": "code",
   "execution_count": 249,
   "id": "f315f749-a256-4bd5-846b-e4c125849a71",
   "metadata": {},
   "outputs": [
    {
     "name": "stdout",
     "output_type": "stream",
     "text": [
      "2.2242800329997383 0.015205894212618703 1.1402285032026878 0.30877533833597376 53 2.0057459953178687 3.683208121372197 6.316791878627803\n"
     ]
    }
   ],
   "source": [
    "print(t, p_value, pooled_sd, se, df, t_critical, lower_ci, upper_ci)"
   ]
  },
  {
   "cell_type": "raw",
   "id": "0fd160f6-e7b6-4588-9dd5-ccb8b2032418",
   "metadata": {},
   "source": [
    "A random sample of 40 tickets from City Alpha shows an average price of ₹2,450 with a standard deviation of ₹300.\n",
    "\n",
    "A random sample of 35 tickets from City Beta shows an average price of ₹2,300 with a standard deviation of ₹250."
   ]
  },
  {
   "cell_type": "code",
   "execution_count": 251,
   "id": "84544916-fedf-4e5a-983c-f7624aca7833",
   "metadata": {},
   "outputs": [],
   "source": [
    "n1 = 40\n",
    "mean1 = 2450\n",
    "std1 = 300\n",
    "n2 = 35 \n",
    "mean2 = 2300\n",
    "std2 = 250"
   ]
  },
  {
   "cell_type": "code",
   "execution_count": 253,
   "id": "6491755e-6c2c-4636-ac10-a91a9865d5a5",
   "metadata": {},
   "outputs": [],
   "source": [
    "t, p_value = stats.ttest_ind_from_stats(mean1, std1, n1, mean2, std2, n2, equal_var=False, alternative='greater')"
   ]
  },
  {
   "cell_type": "code",
   "execution_count": 255,
   "id": "083d115c-34b7-48dc-903d-8afb3ce605e0",
   "metadata": {},
   "outputs": [
    {
     "name": "stdout",
     "output_type": "stream",
     "text": [
      "2.361190640108937 0.010446856709931437\n"
     ]
    }
   ],
   "source": [
    "print(t, p_value)"
   ]
  },
  {
   "cell_type": "code",
   "execution_count": 257,
   "id": "65f8b87a-a36f-44cf-bd69-cf6c168beae1",
   "metadata": {},
   "outputs": [],
   "source": [
    "se = np.sqrt(std1**2/n1 + std2**2/n2)"
   ]
  },
  {
   "cell_type": "code",
   "execution_count": 261,
   "id": "be88afcc-3b0b-4ce3-a094-7cb0fbb41296",
   "metadata": {},
   "outputs": [],
   "source": [
    "df = (std1**2/n1 + std2**2/n2)**2 / (\n",
    "    (std1**2/n1)**2 / (n1 - 1) + \n",
    "    (std2**2/n2)**2 / (n2 - 1)\n",
    ")"
   ]
  },
  {
   "cell_type": "code",
   "execution_count": 263,
   "id": "86d93267-9efa-45eb-8874-f842fe07b983",
   "metadata": {},
   "outputs": [],
   "source": [
    "t_critical = stats.t.ppf((1 - 0.05/2), df)"
   ]
  },
  {
   "cell_type": "code",
   "execution_count": 265,
   "id": "8f41b885-9a69-4158-a65d-da63e6c2494b",
   "metadata": {},
   "outputs": [],
   "source": [
    "moe = t_critical * se"
   ]
  },
  {
   "cell_type": "code",
   "execution_count": 267,
   "id": "99e310d7-1f13-410a-b760-54b5011deca4",
   "metadata": {},
   "outputs": [
    {
     "name": "stdout",
     "output_type": "stream",
     "text": [
      "2.361190640108937 0.010446856709931437 63.52727198388332 72.84140832709534 1.9930702310059318\n"
     ]
    }
   ],
   "source": [
    "print(t, p_value, se, df, t_critical)"
   ]
  },
  {
   "cell_type": "code",
   "execution_count": 272,
   "id": "241f821f-b0a3-4751-819a-dbc2c0bf9eb7",
   "metadata": {},
   "outputs": [],
   "source": [
    "before = [6.8,7.2,6.9,7.0,6.7,7.1,7.3,6.5,6.9,7.0,6.8,6.6]\n",
    "after = [7.1,7.5,7.3,7.2,6.9,7.3,7.6,6.8,7.2,7.3,7.0,6.9]"
   ]
  },
  {
   "cell_type": "code",
   "execution_count": 274,
   "id": "92cbacb5-1d3a-4ef9-a770-21e394de9e16",
   "metadata": {},
   "outputs": [],
   "source": [
    "t, p_value = stats.ttest_rel(after, before,alternative='greater')"
   ]
  },
  {
   "cell_type": "code",
   "execution_count": 276,
   "id": "c0c8e6bf-78f3-4d10-bacb-4f5585922905",
   "metadata": {},
   "outputs": [
    {
     "name": "stdout",
     "output_type": "stream",
     "text": [
      "-15.325872012423236 0.9999999954563823\n"
     ]
    }
   ],
   "source": [
    "print(t, p_value)"
   ]
  },
  {
   "cell_type": "code",
   "execution_count": 1,
   "id": "535546bb-1cfa-4914-8a6f-38f8aca8ae84",
   "metadata": {},
   "outputs": [],
   "source": [
    "import numpy as np\n",
    "from scipy import stats\n",
    "from statsmodels.stats.proportion import proportions_ztest"
   ]
  },
  {
   "cell_type": "code",
   "execution_count": 3,
   "id": "c0f1b38e-81b4-4b0c-b6d3-adf789a62448",
   "metadata": {},
   "outputs": [],
   "source": [
    "before = [6.8,7.2,6.9,7.0,6.7,7.1,7.3,6.5,6.9,7.0,6.8,6.6]\n",
    "after = [7.1,7.5,7.3,7.2,6.9,7.3,7.6,6.8,7.2,7.3,7.0,6.9]"
   ]
  },
  {
   "cell_type": "code",
   "execution_count": 5,
   "id": "6073ff88-3a6f-42e0-8290-70e9ef40df2c",
   "metadata": {},
   "outputs": [],
   "source": [
    "t, p_value = stats.ttest_rel(after, before, alternative='greater')"
   ]
  },
  {
   "cell_type": "code",
   "execution_count": 7,
   "id": "0f956540-6b4a-462d-8cbf-8a2987480fa2",
   "metadata": {},
   "outputs": [
    {
     "name": "stdout",
     "output_type": "stream",
     "text": [
      "15.325872012423236 4.543617724032692e-09\n"
     ]
    }
   ],
   "source": [
    "print(t, p_value)"
   ]
  },
  {
   "cell_type": "code",
   "execution_count": 13,
   "id": "c2088a08-d608-45e4-89ae-f05a17b80f8a",
   "metadata": {},
   "outputs": [],
   "source": [
    "diff = np.array(after) - np.array(before)"
   ]
  },
  {
   "cell_type": "code",
   "execution_count": 15,
   "id": "6ba01617-3253-4a2a-85b3-a52627a923ff",
   "metadata": {},
   "outputs": [],
   "source": [
    "mean_diff = np.mean(diff)"
   ]
  },
  {
   "cell_type": "code",
   "execution_count": 17,
   "id": "902174e4-58a5-47d1-b652-e59010751c67",
   "metadata": {},
   "outputs": [],
   "source": [
    "std_diff = np.std(diff,ddof=1)"
   ]
  },
  {
   "cell_type": "code",
   "execution_count": 19,
   "id": "1970e671-4821-4759-9e63-fa58adbcafcd",
   "metadata": {},
   "outputs": [],
   "source": [
    "n = len(diff)"
   ]
  },
  {
   "cell_type": "code",
   "execution_count": 21,
   "id": "da11f13c-ad0c-4ec4-bd9e-786db4cf537d",
   "metadata": {},
   "outputs": [],
   "source": [
    "se = std_diff / np.sqrt(n)"
   ]
  },
  {
   "cell_type": "code",
   "execution_count": 23,
   "id": "91a49266-5be3-4b47-858e-c130418dc03f",
   "metadata": {},
   "outputs": [],
   "source": [
    "t_critical = stats.t.ppf((1 - 0.05/2),df = n-1)"
   ]
  },
  {
   "cell_type": "code",
   "execution_count": 25,
   "id": "cdaff367-9b37-4a5e-8a16-a92bd6ac03fd",
   "metadata": {},
   "outputs": [],
   "source": [
    "moe = t_critical * se"
   ]
  },
  {
   "cell_type": "code",
   "execution_count": 31,
   "id": "a138924e-252d-4045-ba97-bec455e95cf2",
   "metadata": {},
   "outputs": [],
   "source": [
    "lower_ci = mean_diff - moe\n",
    "upper_ci = mean_diff + moe"
   ]
  },
  {
   "cell_type": "code",
   "execution_count": 33,
   "id": "b90aa41f-6350-427c-8fb5-32b851ebdb36",
   "metadata": {},
   "outputs": [
    {
     "name": "stdout",
     "output_type": "stream",
     "text": [
      "0.23550659182510622 0.3144934081748937\n"
     ]
    }
   ],
   "source": [
    "print(lower_ci, upper_ci)"
   ]
  },
  {
   "cell_type": "code",
   "execution_count": null,
   "id": "fc26b43f-32ae-4570-aa63-3d4b1cc4ac32",
   "metadata": {},
   "outputs": [],
   "source": [
    "| Player | Before (inches) | After (inches) |\n",
    "| ------ | --------------- | -------------- |\n",
    "| 1      | 24.0            | 25.1           |\n",
    "| 2      | 25.5            | 26.0           |\n",
    "| 3      | 23.8            | 24.9           |\n",
    "| 4      | 26.2            | 27.1           |\n",
    "| 5      | 25.0            | 25.8           |\n",
    "| 6      | 24.4            | 25.5           |\n",
    "| 7      | 23.7            | 24.2           |\n",
    "| 8      | 26.0            | 27.2           |\n",
    "| 9      | 24.9            | 25.6           |\n",
    "| 10     | 25.1            | 26.3           |\n"
   ]
  },
  {
   "cell_type": "code",
   "execution_count": 35,
   "id": "7ae40137-a11d-46a4-b401-9fe4d9a562f7",
   "metadata": {},
   "outputs": [],
   "source": [
    "before = [24.0, 25.5, 23.8, 26.2, 25.0, 24.4, 23.7, 26.0, 24.9, 25.1]\n",
    "after = [25.1, 26.0, 24.9, 27.1, 25.8, 25.5, 24.2, 27.2, 25.6, 26.3]"
   ]
  },
  {
   "cell_type": "code",
   "execution_count": 37,
   "id": "769ff7e9-b09a-4a2f-86ea-3ba6058eb5a2",
   "metadata": {},
   "outputs": [],
   "source": [
    "t, p_value = stats.ttest_rel(after, before, alternative='greater')"
   ]
  },
  {
   "cell_type": "code",
   "execution_count": 39,
   "id": "5252104b-ac1d-4a58-a0c8-d27b8d0fe706",
   "metadata": {},
   "outputs": [
    {
     "name": "stdout",
     "output_type": "stream",
     "text": [
      "10.554789786819375 1.1394375234017544e-06\n"
     ]
    }
   ],
   "source": [
    "print(t, p_value)"
   ]
  },
  {
   "cell_type": "code",
   "execution_count": 41,
   "id": "675e5db9-5178-469c-81c9-1cd8e38d54be",
   "metadata": {},
   "outputs": [],
   "source": [
    "diff = np.array(after) - np.array(before)"
   ]
  },
  {
   "cell_type": "code",
   "execution_count": 43,
   "id": "032dbd49-0d42-4b2a-830b-1fdd4d349bcc",
   "metadata": {},
   "outputs": [],
   "source": [
    "mean_diff = np.mean(diff)"
   ]
  },
  {
   "cell_type": "code",
   "execution_count": 45,
   "id": "3c87cc6f-b5d3-4d69-8d90-922f513bcb89",
   "metadata": {},
   "outputs": [],
   "source": [
    "std_diff = np.std(diff, ddof=1)"
   ]
  },
  {
   "cell_type": "code",
   "execution_count": 47,
   "id": "30c76392-e88a-45be-89cd-184ee5b26a44",
   "metadata": {},
   "outputs": [],
   "source": [
    "n = len(diff)"
   ]
  },
  {
   "cell_type": "code",
   "execution_count": 49,
   "id": "ad62b62d-652f-48e6-a5ac-b48622a6cdef",
   "metadata": {},
   "outputs": [],
   "source": [
    "se = std_diff / np.sqrt(n)"
   ]
  },
  {
   "cell_type": "code",
   "execution_count": 51,
   "id": "3a7ef747-c18e-4e20-94a6-0f4d7dad0c8c",
   "metadata": {},
   "outputs": [],
   "source": [
    "t_critical = stats.t.ppf((1 - 0.05/2), df = n-1)"
   ]
  },
  {
   "cell_type": "code",
   "execution_count": 53,
   "id": "2e54d4ca-b415-47c8-92bd-c7a25b4f8866",
   "metadata": {},
   "outputs": [],
   "source": [
    "moe = t_critical * se"
   ]
  },
  {
   "cell_type": "code",
   "execution_count": 55,
   "id": "3e032da5-11b6-419d-b8c8-e4aa604f8aec",
   "metadata": {},
   "outputs": [],
   "source": [
    "lower_ci = mean_diff - moe\n",
    "upper_ci = mean_diff + moe"
   ]
  },
  {
   "cell_type": "code",
   "execution_count": 57,
   "id": "14876612-784c-4c6c-b3ef-8ae4352dee20",
   "metadata": {},
   "outputs": [
    {
     "name": "stdout",
     "output_type": "stream",
     "text": [
      "10.554789786819375 1.1394375234017544e-06 0.08621678104251695 2.2621571628540993 0.7149640912064472 1.1050359087935537\n"
     ]
    }
   ],
   "source": [
    "print(t, p_value, se, t_critical, lower_ci, upper_ci)"
   ]
  },
  {
   "cell_type": "code",
   "execution_count": null,
   "id": "5ae3c275-a485-49d2-8f85-4da9def157cc",
   "metadata": {},
   "outputs": [],
   "source": [
    "| Athlete | Before (sec) | After (sec) |\n",
    "| ------- | ------------ | ----------- |\n",
    "| A       | 12.5         | 12.2        |\n",
    "| B       | 11.9         | 11.5        |\n",
    "| C       | 12.2         | 11.9        |\n",
    "| D       | 12.0         | 11.7        |\n",
    "| E       | 12.7         | 12.2        |\n",
    "| F       | 11.8         | 11.6        |\n",
    "| G       | 12.4         | 12.0        |\n",
    "| H       | 12.3         | 12.0        |\n",
    "| I       | 12.1         | 11.8        |\n",
    "| J       | 11.9         | 11.7        |\n"
   ]
  },
  {
   "cell_type": "code",
   "execution_count": 59,
   "id": "1a67b735-cff5-47dc-99e0-3e428395efbd",
   "metadata": {},
   "outputs": [],
   "source": [
    "before = [12.5,11.9,12.2,12.0,12.7,11.8,12.4,12.3,12.1,11.9]\n",
    "after = [12.2,11.5,11.9,11.7,12.2,11.6,12.0,12.0,11.8,11.7]"
   ]
  },
  {
   "cell_type": "code",
   "execution_count": 65,
   "id": "7dc49e94-0ee5-4574-9e67-577cc2136370",
   "metadata": {},
   "outputs": [],
   "source": [
    "t, p_value = stats.ttest_rel(after,before, alternative='less')"
   ]
  },
  {
   "cell_type": "code",
   "execution_count": 67,
   "id": "2a392087-58a4-40a8-8b56-4c9acfce617c",
   "metadata": {},
   "outputs": [
    {
     "name": "stdout",
     "output_type": "stream",
     "text": [
      "-11.011955225787002 7.976256618506181e-07\n"
     ]
    }
   ],
   "source": [
    "print(t, p_value)"
   ]
  },
  {
   "cell_type": "code",
   "execution_count": 71,
   "id": "3934345d-55a3-4418-b169-b50ac1eaac0f",
   "metadata": {},
   "outputs": [],
   "source": [
    "diff = np.array(after) - np.array(before)"
   ]
  },
  {
   "cell_type": "code",
   "execution_count": 73,
   "id": "8a7c5037-34bf-4a17-a5d1-b2f4d38ae994",
   "metadata": {},
   "outputs": [
    {
     "name": "stdout",
     "output_type": "stream",
     "text": [
      "-0.3200000000000003\n"
     ]
    }
   ],
   "source": [
    "mean_diff = np.mean(diff)\n",
    "print(mean_diff)"
   ]
  },
  {
   "cell_type": "code",
   "execution_count": 75,
   "id": "cc3c2516-a0df-4106-9510-49a590905755",
   "metadata": {},
   "outputs": [],
   "source": [
    "std_diff = np.std(diff, ddof=1)"
   ]
  },
  {
   "cell_type": "code",
   "execution_count": 77,
   "id": "1e9dae9c-1d76-42a5-b675-5c7f623b0d6b",
   "metadata": {},
   "outputs": [],
   "source": [
    "n = len(diff)"
   ]
  },
  {
   "cell_type": "code",
   "execution_count": 79,
   "id": "28e3e841-8153-470f-97cd-265c1bd5c689",
   "metadata": {},
   "outputs": [],
   "source": [
    "se = std_diff / np.sqrt(n)"
   ]
  },
  {
   "cell_type": "code",
   "execution_count": 81,
   "id": "6a9d6533-93c8-4f1f-8c49-1c23544ff471",
   "metadata": {},
   "outputs": [],
   "source": [
    "t_critical = stats.t.ppf((1 - 0.05/2),df = n-1)"
   ]
  },
  {
   "cell_type": "code",
   "execution_count": 83,
   "id": "6b31bdc6-7cf8-478f-9ad7-e775a7164e95",
   "metadata": {},
   "outputs": [],
   "source": [
    "moe = t_critical * se"
   ]
  },
  {
   "cell_type": "code",
   "execution_count": 85,
   "id": "a884f597-d361-4ac2-940c-485d834aeb76",
   "metadata": {},
   "outputs": [],
   "source": [
    "lower_ci = mean_diff - moe\n",
    "upper_ci = mean_diff + moe"
   ]
  },
  {
   "cell_type": "code",
   "execution_count": 87,
   "id": "9052761f-3f3d-4c22-851d-914d9b453048",
   "metadata": {},
   "outputs": [
    {
     "name": "stdout",
     "output_type": "stream",
     "text": [
      "-11.011955225787002 7.976256618506181e-07 0.029059326290271078 2.2621571628540993 -0.38573676311525146 -0.2542632368847491\n"
     ]
    }
   ],
   "source": [
    "print(t, p_value, se, t_critical, lower_ci, upper_ci)"
   ]
  },
  {
   "cell_type": "code",
   "execution_count": null,
   "id": "5f130196-5eaa-49e5-a8e6-6ff06827f3ae",
   "metadata": {},
   "outputs": [],
   "source": []
  }
 ],
 "metadata": {
  "kernelspec": {
   "display_name": "Python [conda env:base] *",
   "language": "python",
   "name": "conda-base-py"
  },
  "language_info": {
   "codemirror_mode": {
    "name": "ipython",
    "version": 3
   },
   "file_extension": ".py",
   "mimetype": "text/x-python",
   "name": "python",
   "nbconvert_exporter": "python",
   "pygments_lexer": "ipython3",
   "version": "3.12.7"
  }
 },
 "nbformat": 4,
 "nbformat_minor": 5
}
