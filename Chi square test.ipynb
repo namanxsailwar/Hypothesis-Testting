{
 "cells": [
  {
   "cell_type": "code",
   "execution_count": 3,
   "id": "0cb50b37-315b-4e3c-a196-f7308cf34bc8",
   "metadata": {},
   "outputs": [],
   "source": [
    "import numpy as np\n",
    "from scipy import stats"
   ]
  },
  {
   "cell_type": "code",
   "execution_count": 19,
   "id": "f769e2e5-422f-49e4-9ca6-1a6109c97abc",
   "metadata": {},
   "outputs": [],
   "source": [
    "observed = np.array([\n",
    "    [40, 30, 30],   # Under 18\n",
    "    [70, 20, 10],   # 18-35\n",
    "    [30, 40, 30]    # 36+\n",
    "])"
   ]
  },
  {
   "cell_type": "code",
   "execution_count": 21,
   "id": "a6eca760-1259-4cb5-a9e1-13ba0ae16d5e",
   "metadata": {},
   "outputs": [],
   "source": [
    "row_total = observed.sum(axis=1).reshape(-1,1)\n",
    "cl_total = observed.sum(axis=0).reshape(1,-1)"
   ]
  },
  {
   "cell_type": "code",
   "execution_count": 23,
   "id": "37214aa1-5a77-4ea7-a6f9-988f600ce47d",
   "metadata": {},
   "outputs": [],
   "source": [
    "grand_total = observed.sum()"
   ]
  },
  {
   "cell_type": "code",
   "execution_count": 25,
   "id": "445f1263-2e51-4d0a-8b4e-f92615dfc184",
   "metadata": {},
   "outputs": [
    {
     "data": {
      "text/plain": [
       "300"
      ]
     },
     "execution_count": 25,
     "metadata": {},
     "output_type": "execute_result"
    }
   ],
   "source": [
    "grand_total"
   ]
  },
  {
   "cell_type": "code",
   "execution_count": 32,
   "id": "7955924f-ff17-4ced-bb6f-fa6f2d213271",
   "metadata": {},
   "outputs": [],
   "source": [
    "expected = (row_total @ cl_total) / grand_total"
   ]
  },
  {
   "cell_type": "code",
   "execution_count": 34,
   "id": "09fd32fb-7d83-4898-81e3-9d6c5d9727b1",
   "metadata": {},
   "outputs": [
    {
     "data": {
      "text/plain": [
       "array([[46.66666667, 30.        , 23.33333333],\n",
       "       [46.66666667, 30.        , 23.33333333],\n",
       "       [46.66666667, 30.        , 23.33333333]])"
      ]
     },
     "execution_count": 34,
     "metadata": {},
     "output_type": "execute_result"
    }
   ],
   "source": [
    "expected"
   ]
  },
  {
   "cell_type": "code",
   "execution_count": 36,
   "id": "f252210f-3f10-4e8a-b73e-14ca4be30f11",
   "metadata": {},
   "outputs": [],
   "source": [
    "chi_stats = (((observed - expected)**2)/expected).sum()"
   ]
  },
  {
   "cell_type": "code",
   "execution_count": 38,
   "id": "814b9b57-6f91-4936-bec5-a5fc5a9a0799",
   "metadata": {},
   "outputs": [
    {
     "data": {
      "text/plain": [
       "36.666666666666664"
      ]
     },
     "execution_count": 38,
     "metadata": {},
     "output_type": "execute_result"
    }
   ],
   "source": [
    "chi_stats"
   ]
  },
  {
   "cell_type": "code",
   "execution_count": 40,
   "id": "df84eebe-af63-4c76-8aea-f8a5745608a5",
   "metadata": {},
   "outputs": [],
   "source": [
    "df = 2"
   ]
  },
  {
   "cell_type": "code",
   "execution_count": 44,
   "id": "035f68f7-9919-42f2-8769-259ce5db7527",
   "metadata": {},
   "outputs": [],
   "source": [
    "p_value = 1 - stats.chi2.cdf(chi_stats, df)"
   ]
  },
  {
   "cell_type": "code",
   "execution_count": 46,
   "id": "578ef2de-2b11-4f33-b37f-461af1230fe4",
   "metadata": {},
   "outputs": [
    {
     "data": {
      "text/plain": [
       "1.0912757364422987e-08"
      ]
     },
     "execution_count": 46,
     "metadata": {},
     "output_type": "execute_result"
    }
   ],
   "source": [
    "p_value"
   ]
  },
  {
   "cell_type": "code",
   "execution_count": 48,
   "id": "7ae469d4-6c72-49e9-8250-21eeb5a2dd0e",
   "metadata": {},
   "outputs": [],
   "source": [
    "alpha = 0.05"
   ]
  },
  {
   "cell_type": "code",
   "execution_count": 52,
   "id": "5f54ecad-3ea8-42ed-8ca4-2650c5f91162",
   "metadata": {},
   "outputs": [
    {
     "name": "stdout",
     "output_type": "stream",
     "text": [
      "rejecting the null hypothesis\n"
     ]
    }
   ],
   "source": [
    "if p_value < alpha:\n",
    "    print (\"rejecting the null hypothesis\")"
   ]
  },
  {
   "cell_type": "code",
   "execution_count": 54,
   "id": "a268401e-c80f-4a41-bfbf-856d113dd146",
   "metadata": {
    "scrolled": true
   },
   "outputs": [
    {
     "data": {
      "text/plain": [
       "True"
      ]
     },
     "execution_count": 54,
     "metadata": {},
     "output_type": "execute_result"
    }
   ],
   "source": [
    "p_value < alpha"
   ]
  },
  {
   "cell_type": "code",
   "execution_count": 61,
   "id": "8f300203-21c8-4ea0-a0fe-1e8597f94807",
   "metadata": {},
   "outputs": [],
   "source": [
    "import pandas as pd"
   ]
  },
  {
   "cell_type": "raw",
   "id": "59d3633e-e533-4740-ae54-f83750ac8eab",
   "metadata": {},
   "source": [
    "You work for a football club's fan engagement team.\n",
    "You're analyzing if fan gender affects preferred match time (Afternoon or Evening).\n",
    "Should marketing push different campaigns for males and females?"
   ]
  },
  {
   "cell_type": "code",
   "execution_count": null,
   "id": "4cf37d45-62ba-4118-b4e8-91c0a548430e",
   "metadata": {},
   "outputs": [],
   "source": []
  },
  {
   "cell_type": "code",
   "execution_count": 72,
   "id": "436249f4-973c-4cc4-a0d4-aeeea5eeb787",
   "metadata": {},
   "outputs": [],
   "source": [
    "data = {'Gender':['Male','Female'],'Afternoon':[30,20],'evening':[40,10]}"
   ]
  },
  {
   "cell_type": "code",
   "execution_count": 76,
   "id": "dba803b7-01d3-4d67-af5e-5b6c5efeecb5",
   "metadata": {},
   "outputs": [],
   "source": [
    "df = pd.DataFrame(data)"
   ]
  },
  {
   "cell_type": "code",
   "execution_count": 78,
   "id": "d1414b12-9abc-4842-a5f6-ae9f74a3335f",
   "metadata": {},
   "outputs": [
    {
     "data": {
      "text/html": [
       "<div>\n",
       "<style scoped>\n",
       "    .dataframe tbody tr th:only-of-type {\n",
       "        vertical-align: middle;\n",
       "    }\n",
       "\n",
       "    .dataframe tbody tr th {\n",
       "        vertical-align: top;\n",
       "    }\n",
       "\n",
       "    .dataframe thead th {\n",
       "        text-align: right;\n",
       "    }\n",
       "</style>\n",
       "<table border=\"1\" class=\"dataframe\">\n",
       "  <thead>\n",
       "    <tr style=\"text-align: right;\">\n",
       "      <th></th>\n",
       "      <th>Gender</th>\n",
       "      <th>Afternoon</th>\n",
       "      <th>evening</th>\n",
       "    </tr>\n",
       "  </thead>\n",
       "  <tbody>\n",
       "    <tr>\n",
       "      <th>0</th>\n",
       "      <td>Male</td>\n",
       "      <td>30</td>\n",
       "      <td>40</td>\n",
       "    </tr>\n",
       "    <tr>\n",
       "      <th>1</th>\n",
       "      <td>Female</td>\n",
       "      <td>20</td>\n",
       "      <td>10</td>\n",
       "    </tr>\n",
       "  </tbody>\n",
       "</table>\n",
       "</div>"
      ],
      "text/plain": [
       "   Gender  Afternoon  evening\n",
       "0    Male         30       40\n",
       "1  Female         20       10"
      ]
     },
     "execution_count": 78,
     "metadata": {},
     "output_type": "execute_result"
    }
   ],
   "source": [
    "df"
   ]
  },
  {
   "cell_type": "code",
   "execution_count": 80,
   "id": "24ac2ab1-e918-41a6-9d02-e1a64fcf6ae3",
   "metadata": {},
   "outputs": [],
   "source": [
    "# calculate expected count"
   ]
  },
  {
   "cell_type": "code",
   "execution_count": 82,
   "id": "0c1860fc-12a6-4fb6-a343-843de6ccb48b",
   "metadata": {},
   "outputs": [],
   "source": [
    "from scipy import stats"
   ]
  },
  {
   "cell_type": "code",
   "execution_count": 84,
   "id": "99de9e6c-4e6f-42ff-bcd0-f38359b14f7f",
   "metadata": {},
   "outputs": [],
   "source": [
    "p_value = 1 - stats.chi2.cdf(4.762 , df=1)"
   ]
  },
  {
   "cell_type": "code",
   "execution_count": 86,
   "id": "3806d403-9f39-4ad2-bd99-5e1bbd979c42",
   "metadata": {},
   "outputs": [
    {
     "data": {
      "text/plain": [
       "0.029094721898629827"
      ]
     },
     "execution_count": 86,
     "metadata": {},
     "output_type": "execute_result"
    }
   ],
   "source": [
    "p_value"
   ]
  },
  {
   "cell_type": "code",
   "execution_count": null,
   "id": "b6249263-8516-48d4-b905-a8eaeb5172e5",
   "metadata": {},
   "outputs": [],
   "source": []
  },
  {
   "cell_type": "code",
   "execution_count": 89,
   "id": "55da8a3d-d93f-4b8d-9433-49a5d38456f6",
   "metadata": {},
   "outputs": [],
   "source": [
    "observed = np.array([\n",
    "    [30,40],\n",
    "    [20,10]\n",
    "])    "
   ]
  },
  {
   "cell_type": "code",
   "execution_count": 95,
   "id": "463e0b1f-1c01-4ea5-8aad-983e51ea879c",
   "metadata": {},
   "outputs": [],
   "source": [
    "chi_2stat, p_value, dof, expected = stats.chi2_contingency(observed)"
   ]
  },
  {
   "cell_type": "code",
   "execution_count": 99,
   "id": "a1c258ee-482f-4019-ae5c-cca90f99bea9",
   "metadata": {},
   "outputs": [
    {
     "name": "stdout",
     "output_type": "stream",
     "text": [
      "3.857142857142857 0.04953461343562649 1 [[35. 35.]\n",
      " [15. 15.]]\n"
     ]
    }
   ],
   "source": [
    "print(chi_2stat, p_value, dof, expected)"
   ]
  },
  {
   "cell_type": "code",
   "execution_count": 1,
   "id": "02cac7bc-de91-428d-9669-b137ac753085",
   "metadata": {},
   "outputs": [],
   "source": [
    "import pandas as pd\n",
    "import numpy as np\n",
    "from scipy import stats"
   ]
  },
  {
   "cell_type": "raw",
   "id": "9541476e-a725-4ea2-8a80-45125230aba7",
   "metadata": {},
   "source": [
    "A sports analytics company wants to determine if there's a relationship between preferred sports drink brand and type of athlete.\n",
    "\n",
    "They survey 150 athletes and get the following data:"
   ]
  },
  {
   "cell_type": "raw",
   "id": "7409ebe6-c6be-49c6-b4e2-ed3aaf1356ef",
   "metadata": {},
   "source": [
    "|                    | Gatorade | Powerade | Red Bull | Total   |\n",
    "| ------------------ | -------- | -------- | -------- | ------- |\n",
    "| Endurance Athletes | 25       | 30       | 15       | 70      |\n",
    "| Strength Athletes  | 20       | 15       | 25       | 60      |\n",
    "| Mixed Athletes     | 10       | 5        | 5        | 20      |\n",
    "| **Total**          | **55**   | **50**   | **45**   | **150** |\n"
   ]
  },
  {
   "cell_type": "code",
   "execution_count": 3,
   "id": "f0ff9057-99a6-407b-a509-e5767093d5e1",
   "metadata": {},
   "outputs": [],
   "source": [
    "data = {'Athletes':['Endurance Athletes','Strength Athletes','Mixed Athletes', 'Total'],\n",
    "        'Gatorade':[25,20,10,55],\n",
    "        'Powerade':[30,15,5,50],\n",
    "        'Red Bull':[15,25,5,45],\n",
    "        'Total':[70,60,20,150]}"
   ]
  },
  {
   "cell_type": "code",
   "execution_count": 5,
   "id": "6f437788-6480-44f0-9092-cba98048e007",
   "metadata": {},
   "outputs": [],
   "source": [
    "df = pd.DataFrame(data)"
   ]
  },
  {
   "cell_type": "code",
   "execution_count": 7,
   "id": "e325d604-761c-4498-beb7-f8b624f40bcc",
   "metadata": {},
   "outputs": [
    {
     "data": {
      "text/html": [
       "<div>\n",
       "<style scoped>\n",
       "    .dataframe tbody tr th:only-of-type {\n",
       "        vertical-align: middle;\n",
       "    }\n",
       "\n",
       "    .dataframe tbody tr th {\n",
       "        vertical-align: top;\n",
       "    }\n",
       "\n",
       "    .dataframe thead th {\n",
       "        text-align: right;\n",
       "    }\n",
       "</style>\n",
       "<table border=\"1\" class=\"dataframe\">\n",
       "  <thead>\n",
       "    <tr style=\"text-align: right;\">\n",
       "      <th></th>\n",
       "      <th>Athletes</th>\n",
       "      <th>Gatorade</th>\n",
       "      <th>Powerade</th>\n",
       "      <th>Red Bull</th>\n",
       "      <th>Total</th>\n",
       "    </tr>\n",
       "  </thead>\n",
       "  <tbody>\n",
       "    <tr>\n",
       "      <th>0</th>\n",
       "      <td>Endurance Athletes</td>\n",
       "      <td>25</td>\n",
       "      <td>30</td>\n",
       "      <td>15</td>\n",
       "      <td>70</td>\n",
       "    </tr>\n",
       "    <tr>\n",
       "      <th>1</th>\n",
       "      <td>Strength Athletes</td>\n",
       "      <td>20</td>\n",
       "      <td>15</td>\n",
       "      <td>25</td>\n",
       "      <td>60</td>\n",
       "    </tr>\n",
       "    <tr>\n",
       "      <th>2</th>\n",
       "      <td>Mixed Athletes</td>\n",
       "      <td>10</td>\n",
       "      <td>5</td>\n",
       "      <td>5</td>\n",
       "      <td>20</td>\n",
       "    </tr>\n",
       "    <tr>\n",
       "      <th>3</th>\n",
       "      <td>Total</td>\n",
       "      <td>55</td>\n",
       "      <td>50</td>\n",
       "      <td>45</td>\n",
       "      <td>150</td>\n",
       "    </tr>\n",
       "  </tbody>\n",
       "</table>\n",
       "</div>"
      ],
      "text/plain": [
       "             Athletes  Gatorade  Powerade  Red Bull  Total\n",
       "0  Endurance Athletes        25        30        15     70\n",
       "1   Strength Athletes        20        15        25     60\n",
       "2      Mixed Athletes        10         5         5     20\n",
       "3               Total        55        50        45    150"
      ]
     },
     "execution_count": 7,
     "metadata": {},
     "output_type": "execute_result"
    }
   ],
   "source": [
    "df"
   ]
  },
  {
   "cell_type": "code",
   "execution_count": 11,
   "id": "cf7a0712-a6a8-4256-9f6d-03aec2f55ed7",
   "metadata": {},
   "outputs": [],
   "source": [
    "dt = np.array([\n",
    "    [25,30,15],\n",
    "    [20,15,25],\n",
    "    [10,5,5]\n",
    "])"
   ]
  },
  {
   "cell_type": "code",
   "execution_count": 13,
   "id": "7a1158fe-5e00-4c86-8c2c-cfb563160feb",
   "metadata": {},
   "outputs": [],
   "source": [
    "chi2, p_value, dof, expected = stats.chi2_contingency(dt)"
   ]
  },
  {
   "cell_type": "code",
   "execution_count": 15,
   "id": "6ecf0113-c0fa-41c8-ac15-1584532ac707",
   "metadata": {},
   "outputs": [
    {
     "name": "stdout",
     "output_type": "stream",
     "text": [
      "9.343434343434344 0.053065660880671106 4 [[25.66666667 23.33333333 21.        ]\n",
      " [22.         20.         18.        ]\n",
      " [ 7.33333333  6.66666667  6.        ]]\n"
     ]
    }
   ],
   "source": [
    "print(chi2, p_value, dof, expected)"
   ]
  },
  {
   "cell_type": "code",
   "execution_count": 17,
   "id": "36a633bc-0330-48b3-a1ee-24f662d32054",
   "metadata": {},
   "outputs": [
    {
     "name": "stdout",
     "output_type": "stream",
     "text": [
      "Chi-square statistic: 9.343434343434344\n",
      "p-value: 0.053065660880671106\n",
      "Degrees of freedom: 4\n",
      "Expected frequencies:\n",
      " [[25.66666667 23.33333333 21.        ]\n",
      " [22.         20.         18.        ]\n",
      " [ 7.33333333  6.66666667  6.        ]]\n"
     ]
    }
   ],
   "source": [
    "print(\"Chi-square statistic:\", chi2)\n",
    "print(\"p-value:\", p_value)\n",
    "print(\"Degrees of freedom:\", dof)\n",
    "print(\"Expected frequencies:\\n\", expected)"
   ]
  },
  {
   "cell_type": "raw",
   "id": "38d825f9-9a7e-4938-ae14-542de67bb146",
   "metadata": {},
   "source": [
    "A sports psychologist wants to see if type of sport is related to preferred mental training technique among athletes.\n",
    "\n",
    "They collect data from 60 athletes:"
   ]
  },
  {
   "cell_type": "code",
   "execution_count": 19,
   "id": "68eaf51a-7b9b-4dad-b4c4-f61a259afdbf",
   "metadata": {},
   "outputs": [],
   "source": [
    "data = [[8, 12, 10],\n",
    "        [6, 10, 4],\n",
    "        [2, 5, 3]]"
   ]
  },
  {
   "cell_type": "code",
   "execution_count": 21,
   "id": "5721fb62-de85-4f5e-80a2-aebc0753b5a2",
   "metadata": {},
   "outputs": [],
   "source": [
    "chi2, p_value, dof, expected = stats.chi2_contingency(data)"
   ]
  },
  {
   "cell_type": "code",
   "execution_count": 25,
   "id": "266246d2-9537-4487-8108-7e235a16c95c",
   "metadata": {},
   "outputs": [
    {
     "name": "stdout",
     "output_type": "stream",
     "text": [
      "Chi-Square Statistic: 1.3480392156862746\n",
      "Degrees of Freedom: 4\n",
      "p-value: 0.8531738666354731\n",
      "Expected Frequencies:\n",
      " [[ 8.         13.5         8.5       ]\n",
      " [ 5.33333333  9.          5.66666667]\n",
      " [ 2.66666667  4.5         2.83333333]]\n"
     ]
    }
   ],
   "source": [
    "print(\"Chi-Square Statistic:\", chi2)\n",
    "print(\"Degrees of Freedom:\", dof)\n",
    "print(\"p-value:\", p_value)\n",
    "print(\"Expected Frequencies:\\n\", expected)"
   ]
  },
  {
   "cell_type": "raw",
   "id": "ccf3aca4-88be-4f5c-9b56-f8a3e40ca2cd",
   "metadata": {},
   "source": [
    "Scenario:\n",
    "A fitness centre claims that the distribution of clients across four membership types is:\n",
    "\n",
    "Basic: 30%\n",
    "\n",
    "Standard: 40%\n",
    "\n",
    "Premium: 20%\n",
    "\n",
    "Elite: 10%\n",
    "\n",
    "To test this claim, a random sample of 100 members was selected. Here’s the observed distribution:\n",
    "\n",
    "Basic: 28\n",
    "\n",
    "Standard: 42\n",
    "\n",
    "Premium: 18\n",
    "\n",
    "Elite: 12\n",
    "\n",
    "Task:\n",
    "At the 5% significance level, test whether the observed distribution fits the claimed distribution."
   ]
  },
  {
   "cell_type": "code",
   "execution_count": 27,
   "id": "4c74413d-d363-4f74-8c95-ef41b7655d6f",
   "metadata": {},
   "outputs": [],
   "source": [
    "observed = [28, 42, 18, 12]\n",
    "expected = [0.30*100, 0.40*100, 0.20*100, 0.10*100]"
   ]
  },
  {
   "cell_type": "code",
   "execution_count": 33,
   "id": "376944f9-a354-443f-a5e5-2cd6ef37b10b",
   "metadata": {},
   "outputs": [],
   "source": [
    "chi_2stats, p_value = stats.chisquare(f_obs=observed, f_exp=expected)"
   ]
  },
  {
   "cell_type": "code",
   "execution_count": 35,
   "id": "6c115412-9c2b-40b9-a82d-779dc9fcadb8",
   "metadata": {},
   "outputs": [
    {
     "name": "stdout",
     "output_type": "stream",
     "text": [
      "0.8333333333333334 0.8414786391315308\n"
     ]
    }
   ],
   "source": [
    "print(chi_2stats, p_value)"
   ]
  },
  {
   "cell_type": "raw",
   "id": "313ee6e7-2016-4a0c-949e-02e739716c48",
   "metadata": {},
   "source": [
    "A sportswear brand wants to check if brand preference is consistent across age groups. They surveyed 90 individuals across 3 age groups: \n",
    "At 5% significance, test whether brand preference is homogeneous across age groups."
   ]
  },
  {
   "cell_type": "code",
   "execution_count": 39,
   "id": "255fb7b3-12d2-46cd-b99f-d10154b206e3",
   "metadata": {},
   "outputs": [],
   "source": [
    "observed = np.array([\n",
    "    [10, 15, 5],   # 18–25\n",
    "    [12, 10, 8],   # 26–35\n",
    "    [8, 5, 17]     # 36–45\n",
    "])"
   ]
  },
  {
   "cell_type": "code",
   "execution_count": 41,
   "id": "3a40bf22-a43e-4b24-8c97-06926b000aa6",
   "metadata": {},
   "outputs": [],
   "source": [
    "chi2_stats, p_value, dof, expected = stats.chi2_contingency(observed)"
   ]
  },
  {
   "cell_type": "code",
   "execution_count": 45,
   "id": "c9b042ed-da31-41a2-9f43-611c9e2108c4",
   "metadata": {},
   "outputs": [
    {
     "name": "stdout",
     "output_type": "stream",
     "text": [
      "Chi-Square Statistic: 13.6\n",
      "p-value: 0.008687446153189466\n",
      "Degrees of Freedom: 4\n",
      "Expected Frequencies:\n",
      " [[10. 10. 10.]\n",
      " [10. 10. 10.]\n",
      " [10. 10. 10.]]\n"
     ]
    }
   ],
   "source": [
    "print(\"Chi-Square Statistic:\", chi2_stats)\n",
    "print(\"p-value:\", p_value)\n",
    "print(\"Degrees of Freedom:\", dof)\n",
    "print(\"Expected Frequencies:\\n\", expected)"
   ]
  },
  {
   "cell_type": "raw",
   "id": "a2e6d924-83c1-4167-8b27-7f85752bd80f",
   "metadata": {},
   "source": [
    "Scenario:\n",
    "A sports analytics team wants to know whether gender is associated with the type of sport people prefer to watch.\n",
    "\n",
    "They survey 120 people and get the following data:"
   ]
  },
  {
   "cell_type": "code",
   "execution_count": 47,
   "id": "4a54b860-e0bd-46d5-8064-d99b768136d5",
   "metadata": {},
   "outputs": [],
   "source": [
    "observed = np.array([\n",
    "    [25, 20, 15],  # Male\n",
    "    [10, 25, 25]   # Female\n",
    "])"
   ]
  },
  {
   "cell_type": "code",
   "execution_count": 49,
   "id": "2af93bd2-041e-4765-bc63-dba9e9b90d6d",
   "metadata": {},
   "outputs": [],
   "source": [
    "chi2, p_value, dof, expected = stats.chi2_contingency(observed)"
   ]
  },
  {
   "cell_type": "code",
   "execution_count": 51,
   "id": "d17ae376-7bdb-4730-bf4e-c0f39d95b09c",
   "metadata": {},
   "outputs": [
    {
     "name": "stdout",
     "output_type": "stream",
     "text": [
      "Chi-Square Statistic: 9.484126984126984\n",
      "p-value: 0.00872063265020923\n",
      "Degrees of Freedom: 2\n",
      "Expected Frequencies:\n",
      " [[17.5 22.5 20. ]\n",
      " [17.5 22.5 20. ]]\n"
     ]
    }
   ],
   "source": [
    "print(\"Chi-Square Statistic:\", chi2)\n",
    "print(\"p-value:\", p_value)\n",
    "print(\"Degrees of Freedom:\", dof)\n",
    "print(\"Expected Frequencies:\\n\", expected)"
   ]
  },
  {
   "cell_type": "code",
   "execution_count": 53,
   "id": "f923f20d-5f46-4854-a170-e10a637fb46f",
   "metadata": {},
   "outputs": [
    {
     "data": {
      "text/plain": [
       "True"
      ]
     },
     "execution_count": 53,
     "metadata": {},
     "output_type": "execute_result"
    }
   ],
   "source": [
    "p_value < 0.05"
   ]
  },
  {
   "cell_type": "raw",
   "id": "80fd1d91-b9a6-4af1-99a6-41fdc07b3299",
   "metadata": {},
   "source": [
    "A sportswear company wants to test whether age group is associated with preferred product type.\n",
    "\n",
    "They survey 90 customers and organize the data like this:"
   ]
  },
  {
   "cell_type": "code",
   "execution_count": 55,
   "id": "14c3faff-ae44-458c-a1ae-441b02381332",
   "metadata": {},
   "outputs": [],
   "source": [
    "observed = np.array([\n",
    "    [15, 10, 5],   # Under 25\n",
    "    [10, 15, 5],   # 25–40\n",
    "    [5, 10, 15]    # Over 40\n",
    "])"
   ]
  },
  {
   "cell_type": "code",
   "execution_count": 57,
   "id": "a61cb012-485f-4407-918b-2f238f480860",
   "metadata": {},
   "outputs": [],
   "source": [
    "chi2_stat, p_value, dof, expected = stats.chi2_contingency(observed)"
   ]
  },
  {
   "cell_type": "code",
   "execution_count": 61,
   "id": "d019f136-c644-4afa-bbab-43785096740c",
   "metadata": {},
   "outputs": [
    {
     "name": "stdout",
     "output_type": "stream",
     "text": [
      "Chi-Square Statistic: 9.484126984126984\n",
      "p-value: 0.006045682394351344\n",
      "Degrees of Freedom: 4\n",
      "Expected Frequencies:\n",
      " [[10.         11.66666667  8.33333333]\n",
      " [10.         11.66666667  8.33333333]\n",
      " [10.         11.66666667  8.33333333]]\n"
     ]
    }
   ],
   "source": [
    "print(\"Chi-Square Statistic:\", chi2)\n",
    "print(\"p-value:\", p_value)\n",
    "print(\"Degrees of Freedom:\", dof)\n",
    "print(\"Expected Frequencies:\\n\", expected)"
   ]
  },
  {
   "cell_type": "code",
   "execution_count": null,
   "id": "7563e2e7-1917-4408-9909-38cce76c35db",
   "metadata": {},
   "outputs": [],
   "source": []
  }
 ],
 "metadata": {
  "kernelspec": {
   "display_name": "Python [conda env:base] *",
   "language": "python",
   "name": "conda-base-py"
  },
  "language_info": {
   "codemirror_mode": {
    "name": "ipython",
    "version": 3
   },
   "file_extension": ".py",
   "mimetype": "text/x-python",
   "name": "python",
   "nbconvert_exporter": "python",
   "pygments_lexer": "ipython3",
   "version": "3.12.7"
  }
 },
 "nbformat": 4,
 "nbformat_minor": 5
}
