{
 "cells": [
  {
   "cell_type": "code",
   "execution_count": 46,
   "id": "a6118182-bf86-416d-945f-f3d8ee3e2746",
   "metadata": {},
   "outputs": [],
   "source": [
    "import pandas as pd\n",
    "import numpy as np\n",
    "from scipy import stats"
   ]
  },
  {
   "cell_type": "code",
   "execution_count": 3,
   "id": "8f641184-25ea-4d5b-abed-f5b3de5dd17d",
   "metadata": {},
   "outputs": [],
   "source": [
    "# two proportion z-test"
   ]
  },
  {
   "cell_type": "code",
   "execution_count": 5,
   "id": "d65d599a-7bb0-44b0-87ad-fe2d7e8a64be",
   "metadata": {},
   "outputs": [],
   "source": [
    "p1 = 1200 / 50000"
   ]
  },
  {
   "cell_type": "code",
   "execution_count": 7,
   "id": "bbaf5a52-e217-4441-a1a2-dad0339d6e41",
   "metadata": {},
   "outputs": [],
   "source": [
    "p2 = 1500 / 50000"
   ]
  },
  {
   "cell_type": "code",
   "execution_count": 9,
   "id": "1d2f5dc9-fc65-47fe-bd70-4fa7dcb20a2e",
   "metadata": {},
   "outputs": [],
   "source": [
    "p = (1200 + 1500) / 100000"
   ]
  },
  {
   "cell_type": "code",
   "execution_count": 28,
   "id": "d59c1cfa-7d02-4935-9129-949ebbe6da75",
   "metadata": {},
   "outputs": [],
   "source": [
    "a =p*(1-p)"
   ]
  },
  {
   "cell_type": "code",
   "execution_count": 30,
   "id": "caf1ca84-45e9-48aa-9563-e77284587356",
   "metadata": {},
   "outputs": [],
   "source": [
    "b = 2/50000"
   ]
  },
  {
   "cell_type": "code",
   "execution_count": 32,
   "id": "cf6839ff-5ee4-4e49-9282-c0f5137547ce",
   "metadata": {},
   "outputs": [],
   "source": [
    "standard_error = np.sqrt(a*b)"
   ]
  },
  {
   "cell_type": "code",
   "execution_count": 36,
   "id": "5569935f-2bd4-47be-b2c1-1066174200ea",
   "metadata": {},
   "outputs": [
    {
     "data": {
      "text/plain": [
       "0.001025104872683766"
      ]
     },
     "execution_count": 36,
     "metadata": {},
     "output_type": "execute_result"
    }
   ],
   "source": [
    "standard_error"
   ]
  },
  {
   "cell_type": "code",
   "execution_count": 38,
   "id": "aaa5e9d9-ab8c-440e-b8f1-bbc88bd042ab",
   "metadata": {},
   "outputs": [],
   "source": [
    "z = (p1 - p2) / standard_error"
   ]
  },
  {
   "cell_type": "code",
   "execution_count": 40,
   "id": "ea8c3cdc-07c4-43e8-8a75-d7c35491fea4",
   "metadata": {},
   "outputs": [
    {
     "data": {
      "text/plain": [
       "-5.853059681876017"
      ]
     },
     "execution_count": 40,
     "metadata": {},
     "output_type": "execute_result"
    }
   ],
   "source": [
    "z"
   ]
  },
  {
   "cell_type": "code",
   "execution_count": 48,
   "id": "087b9496-ae68-4815-a0e6-77282c5b0bdc",
   "metadata": {},
   "outputs": [],
   "source": [
    "p_value = 2 * (1 - stats.norm.cdf(abs(z)))"
   ]
  },
  {
   "cell_type": "code",
   "execution_count": 50,
   "id": "9b479ed8-9d74-402c-91f5-079a766ae09f",
   "metadata": {},
   "outputs": [
    {
     "data": {
      "text/plain": [
       "4.826108401800866e-09"
      ]
     },
     "execution_count": 50,
     "metadata": {},
     "output_type": "execute_result"
    }
   ],
   "source": [
    "p_value"
   ]
  },
  {
   "cell_type": "code",
   "execution_count": 52,
   "id": "c95dc0a2-c92d-4ca0-a171-32e88c267d8d",
   "metadata": {},
   "outputs": [
    {
     "data": {
      "text/plain": [
       "True"
      ]
     },
     "execution_count": 52,
     "metadata": {},
     "output_type": "execute_result"
    }
   ],
   "source": [
    "p_value < 0.05"
   ]
  },
  {
   "cell_type": "code",
   "execution_count": 56,
   "id": "70a1b044-6a73-487c-9f30-a5719ea368bd",
   "metadata": {},
   "outputs": [],
   "source": [
    "z_critical = stats.norm.ppf(0.975)"
   ]
  },
  {
   "cell_type": "code",
   "execution_count": 58,
   "id": "b4e92427-893c-4fe7-a98a-2b30754900b4",
   "metadata": {},
   "outputs": [],
   "source": [
    "margin_0e = z_critical * standard_error"
   ]
  },
  {
   "cell_type": "code",
   "execution_count": 60,
   "id": "380daa05-45fa-4d94-af2e-a2cbf3d2b20c",
   "metadata": {},
   "outputs": [
    {
     "data": {
      "text/plain": [
       "0.002009168630836699"
      ]
     },
     "execution_count": 60,
     "metadata": {},
     "output_type": "execute_result"
    }
   ],
   "source": [
    "margin_0e"
   ]
  },
  {
   "cell_type": "code",
   "execution_count": 62,
   "id": "72284538-c9da-404d-88ba-30aac3466c4a",
   "metadata": {},
   "outputs": [],
   "source": [
    "diff = p1 - p2"
   ]
  },
  {
   "cell_type": "code",
   "execution_count": 64,
   "id": "469b6248-b7bf-4a8c-98b2-5a05a909f6cf",
   "metadata": {},
   "outputs": [
    {
     "name": "stdout",
     "output_type": "stream",
     "text": [
      "-0.008009168630836698 -0.003990831369163299\n"
     ]
    }
   ],
   "source": [
    "lower_ci = diff - margin_0e\n",
    "upper_ci = diff + margin_0e\n",
    "print(lower_ci, upper_ci)"
   ]
  },
  {
   "cell_type": "code",
   "execution_count": 66,
   "id": "c0ee076a-7d6a-4484-b04e-75deefa1fe68",
   "metadata": {},
   "outputs": [],
   "source": [
    "from statsmodels.stats.proportion import proportions_ztest"
   ]
  },
  {
   "cell_type": "code",
   "execution_count": 72,
   "id": "07e8b286-52a4-4fc6-b139-8d9465e286e1",
   "metadata": {},
   "outputs": [],
   "source": [
    "success = [1500, 1200]"
   ]
  },
  {
   "cell_type": "code",
   "execution_count": 70,
   "id": "c79176b2-8d82-4178-aff1-90aaf1a774ec",
   "metadata": {},
   "outputs": [],
   "source": [
    "nobs = [50000, 50000]"
   ]
  },
  {
   "cell_type": "code",
   "execution_count": 74,
   "id": "94f23810-c6ed-4838-84f1-ea34197814b1",
   "metadata": {},
   "outputs": [],
   "source": [
    "z_stats, p_value = proportions_ztest(success, nobs)"
   ]
  },
  {
   "cell_type": "code",
   "execution_count": 76,
   "id": "a9119c02-e63d-42c9-a90b-5b8e3d4eb6ff",
   "metadata": {},
   "outputs": [
    {
     "name": "stdout",
     "output_type": "stream",
     "text": [
      "5.853059681876017 4.8261084074008076e-09\n"
     ]
    }
   ],
   "source": [
    "print(z_stats, p_value)"
   ]
  },
  {
   "cell_type": "code",
   "execution_count": 11,
   "id": "dc365628-52c7-4d77-b4f2-bd777775a50b",
   "metadata": {},
   "outputs": [],
   "source": [
    "from scipy import stats\n",
    "import numpy as np"
   ]
  },
  {
   "cell_type": "markdown",
   "id": "f08d0345-fb11-4d4f-9b2c-ca7e17e5133f",
   "metadata": {},
   "source": [
    "A cricket streaming platform is testing two different banner ad designs during live matches to improve subscription conversion rates.\n",
    "\n",
    "Group A (Old Ad Design): 40,000 users saw it, and 880 of them subscribed.\n",
    "\n",
    "Group B (New Ad Design): 38,000 users saw it, and 1,026 of them subscribed.\n",
    "\n"
   ]
  },
  {
   "cell_type": "code",
   "execution_count": 13,
   "id": "63a6c81a-9176-436d-b92b-6a76a2c4ccc3",
   "metadata": {},
   "outputs": [],
   "source": [
    "a1 = 880/40000\n",
    "a2 = 1026/38000"
   ]
  },
  {
   "cell_type": "code",
   "execution_count": 25,
   "id": "20c41a35-1589-453a-9bc0-f46fbef903be",
   "metadata": {},
   "outputs": [],
   "source": [
    "p = (880 + 1026) / (40000 + 38000)"
   ]
  },
  {
   "cell_type": "code",
   "execution_count": 27,
   "id": "8294bf59-0dad-4e15-b55f-3f482fd27ef7",
   "metadata": {},
   "outputs": [
    {
     "data": {
      "text/plain": [
       "0.024435897435897434"
      ]
     },
     "execution_count": 27,
     "metadata": {},
     "output_type": "execute_result"
    }
   ],
   "source": [
    "p"
   ]
  },
  {
   "cell_type": "code",
   "execution_count": 31,
   "id": "dbf652c2-e97f-4c59-b73e-657dba43a594",
   "metadata": {},
   "outputs": [],
   "source": [
    "a = p*(1-p)"
   ]
  },
  {
   "cell_type": "code",
   "execution_count": 33,
   "id": "d7765e7f-d6df-4844-9fce-d3aa74507c72",
   "metadata": {},
   "outputs": [],
   "source": [
    "b = 1/40000 + 1/38000"
   ]
  },
  {
   "cell_type": "code",
   "execution_count": 38,
   "id": "887fba8d-3460-4e4b-b49b-66f85f04d9e5",
   "metadata": {},
   "outputs": [],
   "source": [
    "standard_error = np.sqrt(a*b)"
   ]
  },
  {
   "cell_type": "code",
   "execution_count": 40,
   "id": "59de07a9-a53b-4a1c-9ddc-376020f82ecd",
   "metadata": {},
   "outputs": [
    {
     "data": {
      "text/plain": [
       "0.0011060316628091179"
      ]
     },
     "execution_count": 40,
     "metadata": {},
     "output_type": "execute_result"
    }
   ],
   "source": [
    "standard_error"
   ]
  },
  {
   "cell_type": "code",
   "execution_count": 42,
   "id": "66e1497e-03a7-4205-9bda-43e19dc91844",
   "metadata": {},
   "outputs": [],
   "source": [
    "z_stats = (a1 - a2)/ standard_error"
   ]
  },
  {
   "cell_type": "code",
   "execution_count": 44,
   "id": "93e93407-9500-4c03-a4b8-f255e59090ca",
   "metadata": {},
   "outputs": [
    {
     "data": {
      "text/plain": [
       "-4.520666241417462"
      ]
     },
     "execution_count": 44,
     "metadata": {},
     "output_type": "execute_result"
    }
   ],
   "source": [
    "z_stats"
   ]
  },
  {
   "cell_type": "code",
   "execution_count": 46,
   "id": "dce1b590-4554-4cea-bf60-34b5bc72be90",
   "metadata": {},
   "outputs": [],
   "source": [
    "p_value = 2 * (1 - stats.norm.cdf(abs(z_stats)))"
   ]
  },
  {
   "cell_type": "code",
   "execution_count": 48,
   "id": "ae102829-c4d7-43f6-ac14-e3957d958ef6",
   "metadata": {},
   "outputs": [
    {
     "data": {
      "text/plain": [
       "6.1645313433889015e-06"
      ]
     },
     "execution_count": 48,
     "metadata": {},
     "output_type": "execute_result"
    }
   ],
   "source": [
    "p_value"
   ]
  },
  {
   "cell_type": "code",
   "execution_count": 52,
   "id": "9758c80a-f984-4c1e-bd97-e3209626f4f1",
   "metadata": {},
   "outputs": [
    {
     "data": {
      "text/plain": [
       "True"
      ]
     },
     "execution_count": 52,
     "metadata": {},
     "output_type": "execute_result"
    }
   ],
   "source": [
    "p_value < 0.05"
   ]
  },
  {
   "cell_type": "code",
   "execution_count": 54,
   "id": "ce80c211-b096-44bd-b4f3-4bfdf60b1100",
   "metadata": {},
   "outputs": [],
   "source": [
    "z_critical = stats.norm.ppf(0.975)"
   ]
  },
  {
   "cell_type": "code",
   "execution_count": 56,
   "id": "c69a4633-e8c9-4326-8b5c-41d6f3917493",
   "metadata": {},
   "outputs": [
    {
     "data": {
      "text/plain": [
       "1.959963984540054"
      ]
     },
     "execution_count": 56,
     "metadata": {},
     "output_type": "execute_result"
    }
   ],
   "source": [
    "z_critical"
   ]
  },
  {
   "cell_type": "code",
   "execution_count": 62,
   "id": "06da3ac2-f684-4e89-aea9-ab78017f648d",
   "metadata": {},
   "outputs": [],
   "source": [
    "diff = a1 - a2"
   ]
  },
  {
   "cell_type": "code",
   "execution_count": 58,
   "id": "370f1e0b-eafd-4b33-a6ef-008f0b0221ca",
   "metadata": {},
   "outputs": [],
   "source": [
    "moe = z_critical * standard_error"
   ]
  },
  {
   "cell_type": "code",
   "execution_count": 64,
   "id": "f10308f0-16eb-4815-9d9b-ac8435d2f2f6",
   "metadata": {},
   "outputs": [
    {
     "name": "stdout",
     "output_type": "stream",
     "text": [
      "-0.007167782224866821 -0.002832217775133181\n"
     ]
    }
   ],
   "source": [
    "upper_ci = diff + moe\n",
    "lower_ci = diff - moe\n",
    "print(lower_ci, upper_ci)"
   ]
  },
  {
   "cell_type": "code",
   "execution_count": 66,
   "id": "8c923ef8-a3d0-4744-b167-be348a4d040c",
   "metadata": {},
   "outputs": [],
   "source": [
    "from statsmodels.stats.proportion import proportions_ztest"
   ]
  },
  {
   "cell_type": "code",
   "execution_count": 68,
   "id": "69de205b-4498-4368-82f0-63b88dd69d36",
   "metadata": {},
   "outputs": [],
   "source": [
    "success = (880, 1026)\n",
    "nobs = (40000, 38000)"
   ]
  },
  {
   "cell_type": "code",
   "execution_count": 70,
   "id": "a50a79ed-a757-4cf0-9fa3-91ed9b177cf0",
   "metadata": {},
   "outputs": [],
   "source": [
    "z_stats, p_value = proportions_ztest(success, nobs)"
   ]
  },
  {
   "cell_type": "code",
   "execution_count": 72,
   "id": "22be23cf-25c1-4f91-8dd7-b07d6dd38b6d",
   "metadata": {},
   "outputs": [
    {
     "name": "stdout",
     "output_type": "stream",
     "text": [
      "-4.520666241417462 6.164531343375363e-06\n"
     ]
    }
   ],
   "source": [
    "print(z_stats, p_value)"
   ]
  },
  {
   "cell_type": "code",
   "execution_count": 74,
   "id": "ad2b8b76-a2d6-4ba8-8b7b-657ee25cc7ef",
   "metadata": {},
   "outputs": [],
   "source": [
    "z_critical = stats.norm.ppf(0.975)"
   ]
  },
  {
   "cell_type": "code",
   "execution_count": 76,
   "id": "e7028f5d-686b-46ee-8741-edc749c1cc24",
   "metadata": {},
   "outputs": [
    {
     "data": {
      "text/plain": [
       "1.959963984540054"
      ]
     },
     "execution_count": 76,
     "metadata": {},
     "output_type": "execute_result"
    }
   ],
   "source": [
    "z_critical"
   ]
  },
  {
   "cell_type": "code",
   "execution_count": 78,
   "id": "ffa6378f-f29f-44de-a44b-1d80b1391496",
   "metadata": {},
   "outputs": [],
   "source": [
    "coe = z_critical * standard_error"
   ]
  },
  {
   "cell_type": "code",
   "execution_count": 80,
   "id": "f77678d3-8efb-48b0-ab86-2f1ed57cf89d",
   "metadata": {},
   "outputs": [
    {
     "data": {
      "text/plain": [
       "0.00216778222486682"
      ]
     },
     "execution_count": 80,
     "metadata": {},
     "output_type": "execute_result"
    }
   ],
   "source": [
    "coe"
   ]
  },
  {
   "cell_type": "code",
   "execution_count": 82,
   "id": "0d0cf9ca-c822-4014-a07d-c23e4467a2d4",
   "metadata": {},
   "outputs": [],
   "source": [
    "diff = a1 - a2"
   ]
  },
  {
   "cell_type": "code",
   "execution_count": 84,
   "id": "78b6f250-ea4e-4251-a8ad-3d589c2a9564",
   "metadata": {},
   "outputs": [
    {
     "name": "stdout",
     "output_type": "stream",
     "text": [
      "-0.007167782224866821 -0.002832217775133181\n"
     ]
    }
   ],
   "source": [
    "lower_ci = diff - coe\n",
    "upper_ci = diff + coe\n",
    "print(lower_ci, upper_ci)"
   ]
  },
  {
   "cell_type": "raw",
   "id": "756d3cf4-c3a1-4da4-8f34-439d39c7ddc0",
   "metadata": {},
   "source": [
    "An esports team is testing two different sponsor placement styles during their live-stream overlays to increase sponsor site visits.\n",
    "\n",
    "Overlay Style A (top-left logo): Shown to 60,000 viewers, and 1,500 clicked through to the sponsor's website.\n",
    "\n",
    "Overlay Style B (bottom-center logo): Shown to 58,000 viewers, and 1,740 clicked through.\n",
    "Is there enough statistical evidence to conclude that Overlay Style B has a higher click-through rate than Style A?"
   ]
  },
  {
   "cell_type": "code",
   "execution_count": 86,
   "id": "a658c460-8fd0-4175-adc9-9c8fb3127794",
   "metadata": {},
   "outputs": [],
   "source": [
    "A = 1500\n",
    "B = 1740"
   ]
  },
  {
   "cell_type": "code",
   "execution_count": 88,
   "id": "d205642f-15a8-4377-a3d1-e57f755e831e",
   "metadata": {},
   "outputs": [],
   "source": [
    "n1 = 60000\n",
    "n2 = 58000"
   ]
  },
  {
   "cell_type": "code",
   "execution_count": 90,
   "id": "6df0e823-0939-4e0d-afc6-b9c96324ef9c",
   "metadata": {},
   "outputs": [],
   "source": [
    "a1 = 1500/60000"
   ]
  },
  {
   "cell_type": "code",
   "execution_count": 92,
   "id": "4434bfa1-3095-4395-9308-39dbb713681b",
   "metadata": {},
   "outputs": [],
   "source": [
    "a2 = 1740/58000"
   ]
  },
  {
   "cell_type": "code",
   "execution_count": 94,
   "id": "9b0cec09-aa2e-4426-839f-66cd62869d85",
   "metadata": {},
   "outputs": [],
   "source": [
    "p = (A + B)/(n1+n2)"
   ]
  },
  {
   "cell_type": "code",
   "execution_count": 96,
   "id": "dd9b7798-d2d8-46cb-9acf-c56417fcd432",
   "metadata": {},
   "outputs": [],
   "source": [
    "success = (1500, 1740)\n",
    "nods = (60000, 58000)"
   ]
  },
  {
   "cell_type": "code",
   "execution_count": 98,
   "id": "46594347-140d-447e-aca9-6254daa38900",
   "metadata": {},
   "outputs": [],
   "source": [
    "z_stats , p_value = proportions_ztest(success, nobs)"
   ]
  },
  {
   "cell_type": "code",
   "execution_count": 100,
   "id": "5de20809-f90a-45e6-9ae0-b0c5939995b7",
   "metadata": {},
   "outputs": [
    {
     "data": {
      "text/plain": [
       "(-5.799477943021318, 6.652168714157694e-09)"
      ]
     },
     "execution_count": 100,
     "metadata": {},
     "output_type": "execute_result"
    }
   ],
   "source": [
    "z_stats, p_value"
   ]
  },
  {
   "cell_type": "code",
   "execution_count": 102,
   "id": "1a489242-341c-4a38-bc2e-d07cfc77b7cf",
   "metadata": {},
   "outputs": [],
   "source": [
    "standard_error = np.sqrt((p*(1-p))*(1/n1 + 1/n2))"
   ]
  },
  {
   "cell_type": "code",
   "execution_count": 104,
   "id": "c8e816cb-09e0-4ee7-abc5-558e12add01a",
   "metadata": {},
   "outputs": [
    {
     "data": {
      "text/plain": [
       "0.0009515621288683334"
      ]
     },
     "execution_count": 104,
     "metadata": {},
     "output_type": "execute_result"
    }
   ],
   "source": [
    "standard_error"
   ]
  },
  {
   "cell_type": "code",
   "execution_count": 106,
   "id": "35dad637-8754-4b39-8f03-4d8259cb31f3",
   "metadata": {},
   "outputs": [],
   "source": [
    "proportion_stats = (a1 - a2) / standard_error"
   ]
  },
  {
   "cell_type": "code",
   "execution_count": 108,
   "id": "91be93a1-463d-4058-a29f-1bc3eb950a9d",
   "metadata": {},
   "outputs": [
    {
     "data": {
      "text/plain": [
       "-5.25451764872816"
      ]
     },
     "execution_count": 108,
     "metadata": {},
     "output_type": "execute_result"
    }
   ],
   "source": [
    "proportion_stats"
   ]
  },
  {
   "cell_type": "code",
   "execution_count": 118,
   "id": "58fe7585-e2fa-45a5-83d5-327e69ffd611",
   "metadata": {},
   "outputs": [],
   "source": [
    "p_value = 2* (1 - stats.norm.cdf(abs(proportion_stats)))"
   ]
  },
  {
   "cell_type": "code",
   "execution_count": 120,
   "id": "53cded24-457f-4496-a497-408c37bb6aa6",
   "metadata": {},
   "outputs": [
    {
     "data": {
      "text/plain": [
       "1.4841291462452944e-07"
      ]
     },
     "execution_count": 120,
     "metadata": {},
     "output_type": "execute_result"
    }
   ],
   "source": [
    "p_value"
   ]
  },
  {
   "cell_type": "raw",
   "id": "908f12c7-eb75-483a-ac4a-ca98716f7838",
   "metadata": {},
   "source": [
    "A fantasy cricket app is testing two different push notification strategies to improve user engagement before match deadlines.\n",
    "Strategy A (simple reminder): Sent to 45,000 users, and 3,150 of them submitted their team before the match.\n",
    "Strategy B (reminder + player insights): Sent to 47,000 users, and 3,990 submitted their team."
   ]
  },
  {
   "cell_type": "code",
   "execution_count": 122,
   "id": "a62ca82b-7912-4218-a356-fe9b9eb7569e",
   "metadata": {},
   "outputs": [],
   "source": [
    "from statsmodels.stats.proportion import proportions_ztest"
   ]
  },
  {
   "cell_type": "code",
   "execution_count": 191,
   "id": "5d5629b3-d499-4225-920d-6f22c1066b26",
   "metadata": {},
   "outputs": [],
   "source": [
    "success = (3990, 3150)\n",
    "nobs = (47000, 45000)"
   ]
  },
  {
   "cell_type": "code",
   "execution_count": 193,
   "id": "8d5821f2-80fd-45e7-9255-95d19ead610d",
   "metadata": {},
   "outputs": [],
   "source": [
    "z_stats, p_value = proportions_ztest(success, nobs, alternative='larger')"
   ]
  },
  {
   "cell_type": "code",
   "execution_count": 195,
   "id": "66c5c7a2-8728-4305-8e8b-dc7dd5bee850",
   "metadata": {},
   "outputs": [
    {
     "data": {
      "text/plain": [
       "(8.440120789386576, 1.585049475816808e-17)"
      ]
     },
     "execution_count": 195,
     "metadata": {},
     "output_type": "execute_result"
    }
   ],
   "source": [
    "z_stats, p_value"
   ]
  },
  {
   "cell_type": "code",
   "execution_count": 202,
   "id": "ff211297-6704-4d31-acf3-392ce09fbf63",
   "metadata": {},
   "outputs": [],
   "source": [
    "z_critical = stats.norm.ppf(0.95)"
   ]
  },
  {
   "cell_type": "code",
   "execution_count": 204,
   "id": "453b9dd6-ca4d-442e-b92b-675858f905c8",
   "metadata": {},
   "outputs": [
    {
     "data": {
      "text/plain": [
       "1.6448536269514722"
      ]
     },
     "execution_count": 204,
     "metadata": {},
     "output_type": "execute_result"
    }
   ],
   "source": [
    "z_critical"
   ]
  },
  {
   "cell_type": "code",
   "execution_count": 2,
   "id": "1464cb2b-becf-423a-83f2-d63788fdd372",
   "metadata": {},
   "outputs": [],
   "source": [
    "import numpy as np\n",
    "from scipy import stats\n",
    "from statsmodels.stats.proportion import proportions_ztest"
   ]
  },
  {
   "cell_type": "raw",
   "id": "4d90c308-6f92-4bda-9c15-16c300eacc42",
   "metadata": {},
   "source": [
    "An esports streaming company is testing two ad designs (Ad A and Ad B) shown to users during live match streams to increase the click-through rate (CTR)."
   ]
  },
  {
   "cell_type": "code",
   "execution_count": 4,
   "id": "4a7204b4-09b6-4790-99f0-c0d654963309",
   "metadata": {},
   "outputs": [],
   "source": [
    "outcomes = [3355,3480]\n",
    "sample = [55000, 60000]"
   ]
  },
  {
   "cell_type": "code",
   "execution_count": 6,
   "id": "92cb1ec7-a77c-4018-8404-53d28d8e33b5",
   "metadata": {},
   "outputs": [],
   "source": [
    "z_statistics, p_value = proportions_ztest(outcomes, sample, alternative='larger')"
   ]
  },
  {
   "cell_type": "code",
   "execution_count": 8,
   "id": "e4195b3b-60d8-4a70-8771-406281f0d34f",
   "metadata": {},
   "outputs": [
    {
     "data": {
      "text/plain": [
       "(2.149386456790758, 0.015801889060681508)"
      ]
     },
     "execution_count": 8,
     "metadata": {},
     "output_type": "execute_result"
    }
   ],
   "source": [
    "z_statistics, p_value"
   ]
  },
  {
   "cell_type": "code",
   "execution_count": 10,
   "id": "b7b3fd5d-fe39-4c06-a62a-96209aa2b49a",
   "metadata": {},
   "outputs": [],
   "source": [
    "z_critical = stats.norm.ppf(1 - 0.05)"
   ]
  },
  {
   "cell_type": "code",
   "execution_count": 12,
   "id": "2f72474d-1368-46dd-bcf2-c58a122a1d95",
   "metadata": {},
   "outputs": [
    {
     "data": {
      "text/plain": [
       "1.6448536269514722"
      ]
     },
     "execution_count": 12,
     "metadata": {},
     "output_type": "execute_result"
    }
   ],
   "source": [
    "z_critical"
   ]
  },
  {
   "cell_type": "code",
   "execution_count": 14,
   "id": "9a446426-8001-49d6-9002-e3e56176c1cd",
   "metadata": {},
   "outputs": [],
   "source": [
    "p = (3355 + 3480) / (55000 + 60000)"
   ]
  },
  {
   "cell_type": "code",
   "execution_count": 16,
   "id": "c56ed299-2829-476d-9419-8d64546a6083",
   "metadata": {},
   "outputs": [],
   "source": [
    "a1 = 3480/60000\n",
    "a2 = 3355/55000"
   ]
  },
  {
   "cell_type": "code",
   "execution_count": 20,
   "id": "1c9d5544-d6cc-45e8-8296-9cdea248444f",
   "metadata": {},
   "outputs": [],
   "source": [
    "a = p*(1-p)"
   ]
  },
  {
   "cell_type": "code",
   "execution_count": 22,
   "id": "32566399-7e36-4a79-b9d8-5b78f409ebc3",
   "metadata": {},
   "outputs": [],
   "source": [
    "b = (1/55000) + (1/60000)"
   ]
  },
  {
   "cell_type": "code",
   "execution_count": 24,
   "id": "0d6f9b95-226f-4daf-b0f2-758fd54f187d",
   "metadata": {},
   "outputs": [],
   "source": [
    "standard_error = np.sqrt(a*b)"
   ]
  },
  {
   "cell_type": "code",
   "execution_count": 26,
   "id": "1e85d590-bdcd-44f5-9b9e-1272b6d156ad",
   "metadata": {},
   "outputs": [
    {
     "data": {
      "text/plain": [
       "0.0013957471400835408"
      ]
     },
     "execution_count": 26,
     "metadata": {},
     "output_type": "execute_result"
    }
   ],
   "source": [
    "standard_error"
   ]
  },
  {
   "cell_type": "code",
   "execution_count": 30,
   "id": "602ac498-0a13-4fab-a097-a7ff2fecd6d4",
   "metadata": {},
   "outputs": [],
   "source": [
    "z_stats = (a1 - a2) / standard_error"
   ]
  },
  {
   "cell_type": "code",
   "execution_count": 32,
   "id": "ff9f69d8-3595-4601-bd72-8de21eeda8b3",
   "metadata": {},
   "outputs": [
    {
     "data": {
      "text/plain": [
       "-2.149386456790758"
      ]
     },
     "execution_count": 32,
     "metadata": {},
     "output_type": "execute_result"
    }
   ],
   "source": [
    "z_stats"
   ]
  },
  {
   "cell_type": "code",
   "execution_count": 38,
   "id": "1223dd76-46eb-419b-8b9a-4c415550affd",
   "metadata": {},
   "outputs": [],
   "source": [
    "p_val = 1 - stats.norm.cdf(abs(z_stats))"
   ]
  },
  {
   "cell_type": "code",
   "execution_count": 40,
   "id": "16632f34-7d12-4a47-b530-7fda67733837",
   "metadata": {},
   "outputs": [
    {
     "data": {
      "text/plain": [
       "0.015801889060681473"
      ]
     },
     "execution_count": 40,
     "metadata": {},
     "output_type": "execute_result"
    }
   ],
   "source": [
    "p_val"
   ]
  },
  {
   "cell_type": "code",
   "execution_count": 45,
   "id": "4e4ac73b-e4e7-47e9-8632-0fc7d988af6e",
   "metadata": {},
   "outputs": [],
   "source": [
    "coe = z_critical * standard_error"
   ]
  },
  {
   "cell_type": "code",
   "execution_count": 55,
   "id": "8d0e7ba8-4b0f-4cb0-acb8-e9b8c7266cae",
   "metadata": {},
   "outputs": [],
   "source": [
    "diff = a2 - a1"
   ]
  },
  {
   "cell_type": "code",
   "execution_count": 57,
   "id": "6e5ed99b-7e05-4f72-a202-b0d6b09fffe0",
   "metadata": {},
   "outputs": [
    {
     "data": {
      "text/plain": [
       "0.0029999999999999957"
      ]
     },
     "execution_count": 57,
     "metadata": {},
     "output_type": "execute_result"
    }
   ],
   "source": [
    "diff"
   ]
  },
  {
   "cell_type": "code",
   "execution_count": 59,
   "id": "282c36e8-f253-4b7e-b508-6e935c3b015c",
   "metadata": {},
   "outputs": [
    {
     "name": "stdout",
     "output_type": "stream",
     "text": [
      "0.0007042002543264391 0.005295799745673553\n"
     ]
    }
   ],
   "source": [
    "lower_ci = diff - coe\n",
    "upper_ci = diff + coe\n",
    "print(lower_ci, upper_ci)"
   ]
  },
  {
   "cell_type": "raw",
   "id": "cffb3cb2-f619-4c6c-936a-2a86de40e4a8",
   "metadata": {},
   "source": [
    "A cricket franchise wants to test whether sending personalized newsletters increases fan engagement (measured by email link clicks)."
   ]
  },
  {
   "cell_type": "code",
   "execution_count": 61,
   "id": "433c5772-34b0-45f6-b18a-63b032fe188a",
   "metadata": {},
   "outputs": [],
   "source": [
    "PE = 50000\n",
    "GE = 48000\n",
    "PE_clicks = 4200\n",
    "GE_clicks = 3360"
   ]
  },
  {
   "cell_type": "code",
   "execution_count": 63,
   "id": "0b891609-57a3-4c2a-974e-dbf1b011a7bb",
   "metadata": {},
   "outputs": [],
   "source": [
    "outcomes = [4200, 3360]\n",
    "samples = [50000, 48000]"
   ]
  },
  {
   "cell_type": "code",
   "execution_count": 65,
   "id": "32474dd0-f26d-433c-a8d2-216148f4870e",
   "metadata": {},
   "outputs": [],
   "source": [
    "from statsmodels.stats.proportion import proportions_ztest"
   ]
  },
  {
   "cell_type": "code",
   "execution_count": 67,
   "id": "0c953dee-e152-4f99-a57e-6b500085b978",
   "metadata": {},
   "outputs": [],
   "source": [
    "z_statistics, p_value = proportions_ztest(outcomes, samples, alternative='larger')"
   ]
  },
  {
   "cell_type": "code",
   "execution_count": 69,
   "id": "60563019-27fb-4d82-9f14-7f7760b501fa",
   "metadata": {},
   "outputs": [
    {
     "data": {
      "text/plain": [
       "(8.211179002574179, 1.0951353557151166e-16)"
      ]
     },
     "execution_count": 69,
     "metadata": {},
     "output_type": "execute_result"
    }
   ],
   "source": [
    "z_statistics, p_value"
   ]
  },
  {
   "cell_type": "code",
   "execution_count": 71,
   "id": "e9358179-26c8-4b12-82ed-2faa762ecb17",
   "metadata": {},
   "outputs": [],
   "source": [
    "p1 = 4200/50000\n",
    "p2 = 3360/48000"
   ]
  },
  {
   "cell_type": "code",
   "execution_count": 75,
   "id": "00a476d2-1b88-49ca-a925-c5ab7a5cab8c",
   "metadata": {},
   "outputs": [],
   "source": [
    "p = (4200 + 3360)/(50000+48000)"
   ]
  },
  {
   "cell_type": "code",
   "execution_count": 77,
   "id": "8d3e5cec-fed9-45f9-8208-bda464bade49",
   "metadata": {},
   "outputs": [],
   "source": [
    "a = p*(1 - p)"
   ]
  },
  {
   "cell_type": "code",
   "execution_count": 79,
   "id": "bf172afc-82cf-4acb-828d-7f918c336275",
   "metadata": {},
   "outputs": [],
   "source": [
    "b = (1/48000) + (1/50000)"
   ]
  },
  {
   "cell_type": "code",
   "execution_count": 81,
   "id": "e13666ac-5fac-43ac-b4d7-7b9d67c5896f",
   "metadata": {},
   "outputs": [],
   "source": [
    "standard_error = np.sqrt(a*b)"
   ]
  },
  {
   "cell_type": "code",
   "execution_count": 83,
   "id": "1a8da557-2ff0-4578-ac0c-ba31d5b937c6",
   "metadata": {},
   "outputs": [
    {
     "data": {
      "text/plain": [
       "8.211179002574179"
      ]
     },
     "execution_count": 83,
     "metadata": {},
     "output_type": "execute_result"
    }
   ],
   "source": [
    "z = (p1 - p2)/ standard_error\n",
    "z"
   ]
  },
  {
   "cell_type": "code",
   "execution_count": 85,
   "id": "be2ecd0c-e1af-4cde-85a1-9ca5e496a610",
   "metadata": {},
   "outputs": [],
   "source": [
    "p_val = 1 - stats.norm.cdf(z)"
   ]
  },
  {
   "cell_type": "code",
   "execution_count": 87,
   "id": "2ceaa805-f240-49e0-890c-531814e08250",
   "metadata": {},
   "outputs": [
    {
     "data": {
      "text/plain": [
       "1.1102230246251565e-16"
      ]
     },
     "execution_count": 87,
     "metadata": {},
     "output_type": "execute_result"
    }
   ],
   "source": [
    "p_val"
   ]
  },
  {
   "cell_type": "code",
   "execution_count": 89,
   "id": "5c1a1bc6-c0c4-4118-a6ab-3ab32bdc090b",
   "metadata": {},
   "outputs": [
    {
     "data": {
      "text/plain": [
       "True"
      ]
     },
     "execution_count": 89,
     "metadata": {},
     "output_type": "execute_result"
    }
   ],
   "source": [
    "0.05 > p_val"
   ]
  },
  {
   "cell_type": "code",
   "execution_count": 91,
   "id": "71893b70-92ee-4ece-8934-285308b840b7",
   "metadata": {},
   "outputs": [],
   "source": [
    "z_critical = stats.norm.ppf(1- 0.05)"
   ]
  },
  {
   "cell_type": "code",
   "execution_count": 93,
   "id": "064e34a0-105b-405d-9338-60b53750b317",
   "metadata": {},
   "outputs": [],
   "source": [
    "marginoferror = z_critical * standard_error"
   ]
  },
  {
   "cell_type": "code",
   "execution_count": 95,
   "id": "4f9f33eb-91dd-42d6-ade7-ed49dc8da2f4",
   "metadata": {},
   "outputs": [],
   "source": [
    "diff = p1 - p2"
   ]
  },
  {
   "cell_type": "code",
   "execution_count": 97,
   "id": "9dbe0e04-a594-49da-a499-b931e9d0250f",
   "metadata": {},
   "outputs": [
    {
     "name": "stdout",
     "output_type": "stream",
     "text": [
      "0.01119553662511785 0.016804463374882145\n"
     ]
    }
   ],
   "source": [
    "low = diff - marginoferror\n",
    "upper = diff + marginoferror\n",
    "print(low, upper)"
   ]
  },
  {
   "cell_type": "raw",
   "id": "48cbc37c-01e6-4f8d-bb52-6f25b2397264",
   "metadata": {},
   "source": [
    "An eSports training academy claims that after 6 weeks of their \"Aim Accelerator\" program, the hit accuracy of players does not decrease.\n",
    "\n",
    "But a coach is skeptical and thinks it actually gets worse.\n",
    "\n",
    "They collect the following data on hit accuracy from a random sample of competitive players before and after the program:\n",
    "is there statistical evidence that the hit accuracy decreased after the training program?"
   ]
  },
  {
   "cell_type": "code",
   "execution_count": 99,
   "id": "e049a268-7877-4130-ade1-8f98bed665a0",
   "metadata": {},
   "outputs": [],
   "source": [
    "before = 2000\n",
    "a = 1200\n",
    "after = 2200\n",
    "b = 1200"
   ]
  },
  {
   "cell_type": "code",
   "execution_count": 101,
   "id": "3bc4fadc-86ee-40fc-acae-40c6156327e5",
   "metadata": {},
   "outputs": [],
   "source": [
    "from statsmodels.stats.proportion import proportions_ztest"
   ]
  },
  {
   "cell_type": "code",
   "execution_count": 109,
   "id": "cec1ec63-1ab2-44f4-9eb9-301dc01c96d5",
   "metadata": {},
   "outputs": [],
   "source": [
    "sample = [2200, 2000]\n",
    "results = [1200, 1200]"
   ]
  },
  {
   "cell_type": "code",
   "execution_count": 111,
   "id": "72831af4-5510-42a3-9295-e44a9a9f74c3",
   "metadata": {},
   "outputs": [],
   "source": [
    "z_stats, p_value = proportions_ztest(results, sample, alternative='smaller')"
   ]
  },
  {
   "cell_type": "code",
   "execution_count": 113,
   "id": "b38c4980-7df7-4bf4-8141-bde8ce489714",
   "metadata": {},
   "outputs": [
    {
     "name": "stdout",
     "output_type": "stream",
     "text": [
      "-3.56753034006338 0.00018018083234072084\n"
     ]
    }
   ],
   "source": [
    "print(z_stats, p_value)"
   ]
  },
  {
   "cell_type": "code",
   "execution_count": 115,
   "id": "7edd248b-97b7-4eda-935f-3ab954a9b165",
   "metadata": {},
   "outputs": [],
   "source": [
    "p1 = 1200/2000\n",
    "p2 = 1200/2200"
   ]
  },
  {
   "cell_type": "code",
   "execution_count": 117,
   "id": "598af0af-1734-4221-a534-c1564552707b",
   "metadata": {},
   "outputs": [],
   "source": [
    "diff = p2 - p1"
   ]
  },
  {
   "cell_type": "code",
   "execution_count": 119,
   "id": "7ba58a71-6bf2-4dd6-997c-e24495703745",
   "metadata": {},
   "outputs": [],
   "source": [
    "p = (1200+1200)/(2200+2000)"
   ]
  },
  {
   "cell_type": "code",
   "execution_count": 125,
   "id": "71153d19-054e-4d50-b774-2b315a2a4ab9",
   "metadata": {},
   "outputs": [],
   "source": [
    "standard_error = np.sqrt((p*(1-p))*((1/2000) + (1/2200)))"
   ]
  },
  {
   "cell_type": "code",
   "execution_count": 127,
   "id": "700279f5-0e87-451d-920c-39beb42ed816",
   "metadata": {},
   "outputs": [
    {
     "data": {
      "text/plain": [
       "0.015289415743128766"
      ]
     },
     "execution_count": 127,
     "metadata": {},
     "output_type": "execute_result"
    }
   ],
   "source": [
    "standard_error"
   ]
  },
  {
   "cell_type": "code",
   "execution_count": 129,
   "id": "f3172f26-1de7-4b49-a0a6-09e977127e5c",
   "metadata": {},
   "outputs": [],
   "source": [
    "z = diff/standard_error"
   ]
  },
  {
   "cell_type": "code",
   "execution_count": 131,
   "id": "ecaca5b3-61a9-421a-b673-49943a8cbd8e",
   "metadata": {},
   "outputs": [
    {
     "data": {
      "text/plain": [
       "-3.56753034006338"
      ]
     },
     "execution_count": 131,
     "metadata": {},
     "output_type": "execute_result"
    }
   ],
   "source": [
    "z"
   ]
  },
  {
   "cell_type": "code",
   "execution_count": 133,
   "id": "95229633-6b94-4d79-9788-a757d2aa9a7f",
   "metadata": {},
   "outputs": [],
   "source": [
    "p_val = stats.norm.cdf(z)"
   ]
  },
  {
   "cell_type": "code",
   "execution_count": 135,
   "id": "d60e5687-ed31-458f-83c1-f699064734bf",
   "metadata": {},
   "outputs": [
    {
     "data": {
      "text/plain": [
       "0.00018018083234072084"
      ]
     },
     "execution_count": 135,
     "metadata": {},
     "output_type": "execute_result"
    }
   ],
   "source": [
    "p_val"
   ]
  },
  {
   "cell_type": "code",
   "execution_count": 145,
   "id": "ea9bf42d-8b0a-4d0b-92bf-d491c1083288",
   "metadata": {},
   "outputs": [],
   "source": [
    "z_critical = stats.norm.ppf(0.05)"
   ]
  },
  {
   "cell_type": "code",
   "execution_count": 162,
   "id": "2898237c-9664-4604-bec5-09e0a07c8df1",
   "metadata": {},
   "outputs": [],
   "source": [
    "unpooled = np.sqrt((p1*(1-p1)/2000) + (p2*(1 -p2)/2200))"
   ]
  },
  {
   "cell_type": "code",
   "execution_count": 164,
   "id": "75998744-9df1-45a6-be60-7597208dee38",
   "metadata": {},
   "outputs": [],
   "source": [
    "moe = unpooled * z_critical"
   ]
  },
  {
   "cell_type": "code",
   "execution_count": 166,
   "id": "eaf7c45f-4500-427e-b6c3-357962ef697e",
   "metadata": {},
   "outputs": [
    {
     "name": "stdout",
     "output_type": "stream",
     "text": [
      "-0.02945417237966859 -0.07963673671124054\n"
     ]
    }
   ],
   "source": [
    "lower = diff - moe\n",
    "upper = diff + moe\n",
    "print(lower, upper)"
   ]
  },
  {
   "cell_type": "code",
   "execution_count": 168,
   "id": "98dc0752-7407-46b6-a4ff-0ae93a7092d0",
   "metadata": {},
   "outputs": [
    {
     "data": {
      "text/plain": [
       "0.015254416414115509"
      ]
     },
     "execution_count": 168,
     "metadata": {},
     "output_type": "execute_result"
    }
   ],
   "source": [
    "unpooled"
   ]
  },
  {
   "cell_type": "raw",
   "id": "cdceeb30-6f8d-4ddf-8d8a-56aed21c6ced",
   "metadata": {},
   "source": [
    "A sports club revamped its online ticket sales page to improve conversion rates. They want to test whether the new design leads to a significant change (increase or decrease) in purchases.\n",
    "Is there a statistically significant difference in conversion rates between the old and new designs?\n",
    "\n",
    "This is a two-tailed two-proportion z-test."
   ]
  },
  {
   "cell_type": "code",
   "execution_count": 170,
   "id": "1a9aa9a0-e3e1-41cc-8742-9593f32cbf75",
   "metadata": {},
   "outputs": [],
   "source": [
    "A = 2000\n",
    "s1 = 20000\n",
    "B = 2150\n",
    "S2 = 19500"
   ]
  },
  {
   "cell_type": "code",
   "execution_count": 194,
   "id": "e119adc8-7a53-4a6f-b192-ec7c779647b3",
   "metadata": {},
   "outputs": [],
   "source": [
    "sample = (19500, 20000)\n",
    "nods = (2150, 2000)"
   ]
  },
  {
   "cell_type": "code",
   "execution_count": 196,
   "id": "b15033dd-69e6-4944-9076-b23990f056ce",
   "metadata": {},
   "outputs": [],
   "source": [
    "z_stats, p_value = proportions_ztest(nods, sample)"
   ]
  },
  {
   "cell_type": "code",
   "execution_count": 198,
   "id": "68e7b9bd-8888-4245-afa4-b467f6cc7e76",
   "metadata": {},
   "outputs": [
    {
     "data": {
      "text/plain": [
       "(3.32359026486204, 0.000888666580192984)"
      ]
     },
     "execution_count": 198,
     "metadata": {},
     "output_type": "execute_result"
    }
   ],
   "source": [
    "z_stats, p_value"
   ]
  },
  {
   "cell_type": "code",
   "execution_count": 200,
   "id": "541b0b8f-8957-4f8e-a722-d8377e7ce759",
   "metadata": {},
   "outputs": [
    {
     "data": {
      "text/plain": [
       "(0.1, 0.11025641025641025)"
      ]
     },
     "execution_count": 200,
     "metadata": {},
     "output_type": "execute_result"
    }
   ],
   "source": [
    "a1 = 2000/20000\n",
    "a2 = 2150/19500\n",
    "a1,a2"
   ]
  },
  {
   "cell_type": "code",
   "execution_count": 202,
   "id": "4aeb2778-79f4-49cc-9ac4-5d015701925e",
   "metadata": {},
   "outputs": [],
   "source": [
    "p = (2000+2150) / (20000 + 19500)"
   ]
  },
  {
   "cell_type": "code",
   "execution_count": 204,
   "id": "5bf5f1d7-f9f4-42fa-a29a-883bdf391700",
   "metadata": {},
   "outputs": [],
   "source": [
    "standard_error = np.sqrt((p*(1-p)) * ((1/20000) + (1/19500)))"
   ]
  },
  {
   "cell_type": "code",
   "execution_count": 206,
   "id": "5aab4ee6-ffda-4115-a576-3d8e045f5b38",
   "metadata": {},
   "outputs": [
    {
     "data": {
      "text/plain": [
       "0.0030859430432336955"
      ]
     },
     "execution_count": 206,
     "metadata": {},
     "output_type": "execute_result"
    }
   ],
   "source": [
    "standard_error"
   ]
  },
  {
   "cell_type": "code",
   "execution_count": 208,
   "id": "fe4f547a-fe78-49c8-9b00-4c6f7dcc0a8e",
   "metadata": {},
   "outputs": [],
   "source": [
    "z = (a2 - a1) / (standard_error)"
   ]
  },
  {
   "cell_type": "code",
   "execution_count": 210,
   "id": "cfdb7387-fff8-4f2f-9821-1300d73dd7ef",
   "metadata": {},
   "outputs": [
    {
     "data": {
      "text/plain": [
       "3.32359026486204"
      ]
     },
     "execution_count": 210,
     "metadata": {},
     "output_type": "execute_result"
    }
   ],
   "source": [
    "z"
   ]
  },
  {
   "cell_type": "code",
   "execution_count": 212,
   "id": "ae9199f2-5022-4fdc-a025-684da7f11920",
   "metadata": {},
   "outputs": [],
   "source": [
    "p_val = 2 * (1- stats.norm.cdf(z))"
   ]
  },
  {
   "cell_type": "code",
   "execution_count": 214,
   "id": "81ca28e1-48c0-435c-bb53-89935c0b0757",
   "metadata": {},
   "outputs": [
    {
     "data": {
      "text/plain": [
       "0.0008886665801930427"
      ]
     },
     "execution_count": 214,
     "metadata": {},
     "output_type": "execute_result"
    }
   ],
   "source": [
    "p_val"
   ]
  },
  {
   "cell_type": "code",
   "execution_count": 216,
   "id": "2162c04b-4c0c-4eb9-8fd6-cc16c151b531",
   "metadata": {},
   "outputs": [],
   "source": [
    "# confidenceInterval\n"
   ]
  },
  {
   "cell_type": "code",
   "execution_count": 218,
   "id": "8b285e63-7197-4f2f-b224-04413e513642",
   "metadata": {},
   "outputs": [],
   "source": [
    "z_critical = stats.norm.ppf(1 - 0.025)"
   ]
  },
  {
   "cell_type": "code",
   "execution_count": 220,
   "id": "357e1ef9-c17b-4763-9034-35b09e4f608b",
   "metadata": {},
   "outputs": [],
   "source": [
    "upse = np.sqrt(((a1*(1-a1))/20000) + ((a2*(1 - a2))/19500))"
   ]
  },
  {
   "cell_type": "code",
   "execution_count": 222,
   "id": "3766b63a-bcf8-44ef-8bf6-90750c6e827b",
   "metadata": {},
   "outputs": [
    {
     "data": {
      "text/plain": [
       "0.003087193848654183"
      ]
     },
     "execution_count": 222,
     "metadata": {},
     "output_type": "execute_result"
    }
   ],
   "source": [
    "upse"
   ]
  },
  {
   "cell_type": "code",
   "execution_count": 224,
   "id": "8910e80e-6e30-48b9-930c-a9370e312589",
   "metadata": {},
   "outputs": [],
   "source": [
    "margin = upse * z_critical"
   ]
  },
  {
   "cell_type": "code",
   "execution_count": 226,
   "id": "84ade523-c7c6-42c8-8471-d17c5136f2f9",
   "metadata": {},
   "outputs": [
    {
     "data": {
      "text/plain": [
       "0.006050788756655798"
      ]
     },
     "execution_count": 226,
     "metadata": {},
     "output_type": "execute_result"
    }
   ],
   "source": [
    "margin"
   ]
  },
  {
   "cell_type": "raw",
   "id": "25d729f8-6569-43cd-9286-28358d396e88",
   "metadata": {},
   "source": [
    "A training academy claims that their new reflex training program helps reduce average reaction time of professional FPS gamers.\n",
    "\n",
    "You collect the following data:\n",
    "\n",
    "Before Training:\n",
    "Sample size = 40\n",
    "Mean reaction time = 250 ms\n",
    "Standard deviation = 20 ms\n",
    "\n",
    "After Training:\n",
    "Sample size = 42\n",
    "Mean reaction time = 243 ms\n",
    "Standard deviation = 22 ms\n",
    "Has the average reaction time decreased significantly after the training?"
   ]
  },
  {
   "cell_type": "code",
   "execution_count": 1,
   "id": "ac831b85-7a8b-4dc8-88d4-d812cff1378e",
   "metadata": {},
   "outputs": [],
   "source": [
    "from scipy import stats\n",
    "import numpy as np\n",
    "from statsmodels.stats.proportion import proportions_ztest"
   ]
  },
  {
   "cell_type": "code",
   "execution_count": 3,
   "id": "90a205d3-32ec-43d8-9479-a9e0b7faed02",
   "metadata": {},
   "outputs": [],
   "source": [
    "mean_before = 250\n",
    "n_before = 40\n",
    "std_before = 20\n",
    "mean_after = 243\n",
    "std_after = 22\n",
    "n_after = 42"
   ]
  },
  {
   "cell_type": "code",
   "execution_count": 5,
   "id": "0c0ad736-a5b9-4ff2-82fd-4b3e45d5dac3",
   "metadata": {},
   "outputs": [],
   "source": [
    "t_stats, p_value = stats.ttest_ind_from_stats(mean1 = mean_before, std1=20, nobs1=40, mean2 = mean_after, std2 = 22, nobs2 = 42, equal_var= False, alternative='less')"
   ]
  },
  {
   "cell_type": "code",
   "execution_count": 7,
   "id": "56d120f0-b457-4dd8-bb6d-33bb17d95c53",
   "metadata": {},
   "outputs": [
    {
     "name": "stdout",
     "output_type": "stream",
     "text": [
      "1.5088236055173487 0.9323542388178536\n"
     ]
    }
   ],
   "source": [
    "print(t_stats, p_value)"
   ]
  },
  {
   "cell_type": "raw",
   "id": "f8b2cec3-cef2-487a-91f4-0d80d5d819b8",
   "metadata": {},
   "source": [
    "A company runs an A/B test to compare two versions of its subscription page for a cricket analytics app.\n",
    "\n",
    "Version A (Current): 1000 visitors, 80 subscribed\n",
    "\n",
    "Version B (New design): 1200 visitors, 120 subscribed\n",
    "\n",
    "They want to know if Version B has a significantly higher conversion rate than Version A.\n",
    "\n",
    "❓ Business Question:\n",
    "Is the new subscription page (Version B) performing significantly better than the old one?"
   ]
  },
  {
   "cell_type": "code",
   "execution_count": 31,
   "id": "099b83c5-a4c7-4bb4-bbcf-73edec5cdb55",
   "metadata": {},
   "outputs": [],
   "source": [
    "a1 = 80/1000\n",
    "a2 = 120/1200"
   ]
  },
  {
   "cell_type": "code",
   "execution_count": 33,
   "id": "9daa6435-7efe-4a04-be98-11ba51c8abaf",
   "metadata": {},
   "outputs": [],
   "source": [
    "diff = a2-a1"
   ]
  },
  {
   "cell_type": "code",
   "execution_count": 35,
   "id": "dd1ec12e-d713-4e94-acfe-6d23f939a0be",
   "metadata": {},
   "outputs": [],
   "source": [
    "outcomes = [80, 120]\n",
    "sample = [1000, 1200]"
   ]
  },
  {
   "cell_type": "code",
   "execution_count": 37,
   "id": "e8bf6785-21a2-4fab-9c62-e26644ea7225",
   "metadata": {},
   "outputs": [],
   "source": [
    "z_stats, p_value = proportions_ztest(outcomes, sample, alternative='larger')"
   ]
  },
  {
   "cell_type": "code",
   "execution_count": 39,
   "id": "ba8e7b54-317a-4e85-b128-3f15f5c02ea1",
   "metadata": {},
   "outputs": [
    {
     "data": {
      "text/plain": [
       "(-1.6248076809271923, 0.9478982280419789)"
      ]
     },
     "execution_count": 39,
     "metadata": {},
     "output_type": "execute_result"
    }
   ],
   "source": [
    "z_stats, p_value"
   ]
  },
  {
   "cell_type": "code",
   "execution_count": 41,
   "id": "5d633af4-e664-4c7b-952c-b3885d805039",
   "metadata": {},
   "outputs": [],
   "source": [
    "z_critical = stats.norm.ppf(1 - 0.05)"
   ]
  },
  {
   "cell_type": "code",
   "execution_count": 43,
   "id": "96b7c6d7-5492-4102-9203-78127894868e",
   "metadata": {},
   "outputs": [
    {
     "data": {
      "text/plain": [
       "1.6448536269514722"
      ]
     },
     "execution_count": 43,
     "metadata": {},
     "output_type": "execute_result"
    }
   ],
   "source": [
    "z_critical"
   ]
  },
  {
   "cell_type": "code",
   "execution_count": 67,
   "id": "6b0fb6d9-c99a-4535-96a0-8052905f09d0",
   "metadata": {},
   "outputs": [],
   "source": [
    "upse = np.sqrt(((a1*(1-a1))/1000) + ((a2*(1-a2))/1200))"
   ]
  },
  {
   "cell_type": "code",
   "execution_count": 69,
   "id": "14f9d056-d087-49e4-a746-7f70927248fd",
   "metadata": {},
   "outputs": [],
   "source": [
    "moe = upse * z_critical"
   ]
  },
  {
   "cell_type": "code",
   "execution_count": 71,
   "id": "dbda35f6-f1d9-4671-b7cb-2d4a6885f79a",
   "metadata": {},
   "outputs": [],
   "source": [
    "lower_ci = diff - moe\n",
    "upper_ci = diff + moe"
   ]
  },
  {
   "cell_type": "code",
   "execution_count": 55,
   "id": "0d061db6-0601-4c9f-9040-597111c52f8c",
   "metadata": {},
   "outputs": [
    {
     "name": "stdout",
     "output_type": "stream",
     "text": [
      "-5.102883341845388e-05 0.04005102883341846\n"
     ]
    }
   ],
   "source": [
    "print(lower_ci, upper_ci)"
   ]
  },
  {
   "cell_type": "code",
   "execution_count": 1,
   "id": "caeaf043-86d1-44b3-88e3-35b409c436c8",
   "metadata": {},
   "outputs": [],
   "source": [
    "import numpy as np\n",
    "from scipy import stats\n",
    "from statsmodels.stats.proportion import proportions_ztest"
   ]
  },
  {
   "cell_type": "code",
   "execution_count": 3,
   "id": "5fe3c3c9-7475-437b-9caf-2f0e75326fc0",
   "metadata": {},
   "outputs": [],
   "source": [
    "a1 = 80/1000\n",
    "a2 = 120/1200"
   ]
  },
  {
   "cell_type": "code",
   "execution_count": 5,
   "id": "f40d9cfc-53ef-4c1f-b0c0-269f736cc108",
   "metadata": {},
   "outputs": [],
   "source": [
    "p = (80+120)/(1000+1200)"
   ]
  },
  {
   "cell_type": "code",
   "execution_count": 27,
   "id": "490f3ffa-c922-48ec-82a6-d296fdc66d4e",
   "metadata": {},
   "outputs": [
    {
     "data": {
      "text/plain": [
       "0.09090909090909091"
      ]
     },
     "execution_count": 27,
     "metadata": {},
     "output_type": "execute_result"
    }
   ],
   "source": [
    "p"
   ]
  },
  {
   "cell_type": "code",
   "execution_count": 7,
   "id": "a4275056-6f15-429c-a8a7-c92d74c4e229",
   "metadata": {},
   "outputs": [],
   "source": [
    "a = p*(1 - p)"
   ]
  },
  {
   "cell_type": "code",
   "execution_count": 9,
   "id": "bbe5bc8d-c052-47fb-b1c5-9b8bc59a5835",
   "metadata": {},
   "outputs": [],
   "source": [
    "b = 1/1000 + 1/1200"
   ]
  },
  {
   "cell_type": "code",
   "execution_count": 11,
   "id": "d9b1d1b8-025e-4969-94e7-de8a1d496c8c",
   "metadata": {},
   "outputs": [
    {
     "data": {
      "text/plain": [
       "0.0018333333333333335"
      ]
     },
     "execution_count": 11,
     "metadata": {},
     "output_type": "execute_result"
    }
   ],
   "source": [
    "b"
   ]
  },
  {
   "cell_type": "code",
   "execution_count": 13,
   "id": "5e04ceeb-84d1-46a0-ae72-2ac50d967992",
   "metadata": {},
   "outputs": [],
   "source": [
    "standard_error = np.sqrt(a*b)"
   ]
  },
  {
   "cell_type": "code",
   "execution_count": 29,
   "id": "6ff68c46-0614-4f3c-944e-34bf792d5489",
   "metadata": {},
   "outputs": [
    {
     "data": {
      "text/plain": [
       "0.012309149097933274"
      ]
     },
     "execution_count": 29,
     "metadata": {},
     "output_type": "execute_result"
    }
   ],
   "source": [
    "standard_error"
   ]
  },
  {
   "cell_type": "code",
   "execution_count": 19,
   "id": "1eb49205-f482-4e9b-a3fb-46cdb8c94ac7",
   "metadata": {},
   "outputs": [],
   "source": [
    "z = (a2 - a1)/standard_error"
   ]
  },
  {
   "cell_type": "code",
   "execution_count": 21,
   "id": "897cb892-bd40-4d50-8300-4ecfe305f647",
   "metadata": {},
   "outputs": [
    {
     "data": {
      "text/plain": [
       "1.6248076809271923"
      ]
     },
     "execution_count": 21,
     "metadata": {},
     "output_type": "execute_result"
    }
   ],
   "source": [
    "z"
   ]
  },
  {
   "cell_type": "code",
   "execution_count": 23,
   "id": "293164c8-e0cf-4ab0-aa76-4db6dcf3bcca",
   "metadata": {},
   "outputs": [],
   "source": [
    "p_val = 1 - stats.norm.cdf(abs(z))"
   ]
  },
  {
   "cell_type": "code",
   "execution_count": 25,
   "id": "06835cea-b699-4202-9e65-ae6760221664",
   "metadata": {},
   "outputs": [
    {
     "data": {
      "text/plain": [
       "0.052101771958021126"
      ]
     },
     "execution_count": 25,
     "metadata": {},
     "output_type": "execute_result"
    }
   ],
   "source": [
    "p_val"
   ]
  },
  {
   "cell_type": "raw",
   "id": "17a05778-daa9-466a-aa67-dc5daadbedf9",
   "metadata": {},
   "source": [
    "You're working for a sports analytics platform that tracks fantasy football user engagement.\n",
    "\n",
    "🧪 Experiment:\n",
    "Your marketing team ran two different email campaigns to increase the click-through rate (CTR) on fantasy league insights:\n",
    "\n",
    "Group A (Control): Sent the old campaign to 10,000 users — 480 users clicked.\n",
    "\n",
    "Group B (Treatment): Sent a new personalized campaign to 10,000 users — 530 users clicked.\n",
    "\n",
    "🎯 Business Question:\n",
    "\"Does the new email campaign (Group B) lead to a significantly higher click-through rate than the old one (Group A)?\"\n",
    "\n",
    "💡 Your Hypotheses:"
   ]
  },
  {
   "cell_type": "code",
   "execution_count": 45,
   "id": "6a364d61-e22f-4878-b6b3-0a1b52b34c15",
   "metadata": {},
   "outputs": [],
   "source": [
    "a1 = 480/10000\n",
    "a2 = 530/10000"
   ]
  },
  {
   "cell_type": "code",
   "execution_count": 99,
   "id": "2e148611-e6e5-4e04-868e-fd0a1d960050",
   "metadata": {},
   "outputs": [],
   "source": [
    "outcomes = [480, 530]\n",
    "nobs = [10000, 10000]"
   ]
  },
  {
   "cell_type": "code",
   "execution_count": 101,
   "id": "ad7ac674-b6af-4deb-b779-f85fd380c522",
   "metadata": {},
   "outputs": [],
   "source": [
    "z , p_value = proportions_ztest(outcomes, nobs, alternative='larger')"
   ]
  },
  {
   "cell_type": "code",
   "execution_count": 103,
   "id": "229a5ba9-8189-4ff6-b64e-5cdc81b61d58",
   "metadata": {},
   "outputs": [
    {
     "data": {
      "text/plain": [
       "(-1.6145884183488097, 0.9468000724122851)"
      ]
     },
     "execution_count": 103,
     "metadata": {},
     "output_type": "execute_result"
    }
   ],
   "source": [
    "z, p_value"
   ]
  },
  {
   "cell_type": "code",
   "execution_count": 71,
   "id": "17723406-2d79-45db-b573-46a92f2ed071",
   "metadata": {},
   "outputs": [],
   "source": [
    "p = (480+530)/(10000+10000)"
   ]
  },
  {
   "cell_type": "code",
   "execution_count": 73,
   "id": "f3829623-8e18-4c14-819a-c0efc0ddea27",
   "metadata": {},
   "outputs": [
    {
     "data": {
      "text/plain": [
       "0.0505"
      ]
     },
     "execution_count": 73,
     "metadata": {},
     "output_type": "execute_result"
    }
   ],
   "source": [
    "p"
   ]
  },
  {
   "cell_type": "code",
   "execution_count": 75,
   "id": "608b4bd9-c1b9-4c56-b867-c540bfb87ba0",
   "metadata": {},
   "outputs": [],
   "source": [
    "a = p*(1-p)\n",
    "b = 1/10000 + 1/10000"
   ]
  },
  {
   "cell_type": "code",
   "execution_count": 77,
   "id": "79235e6f-b31b-4c5d-bf7c-0cdc45696a92",
   "metadata": {},
   "outputs": [],
   "source": [
    "standard_error = np.sqrt(a*b)"
   ]
  },
  {
   "cell_type": "code",
   "execution_count": 79,
   "id": "e15acc0a-9b98-465d-bee2-e1894b51a473",
   "metadata": {},
   "outputs": [
    {
     "data": {
      "text/plain": [
       "0.0030967644405088357"
      ]
     },
     "execution_count": 79,
     "metadata": {},
     "output_type": "execute_result"
    }
   ],
   "source": [
    "standard_error"
   ]
  },
  {
   "cell_type": "code",
   "execution_count": 81,
   "id": "91dac415-ecd3-4192-b8af-07eed5c86b05",
   "metadata": {},
   "outputs": [],
   "source": [
    "z_stats = (a2 - a1)/standard_error"
   ]
  },
  {
   "cell_type": "code",
   "execution_count": 83,
   "id": "f9181734-9fca-4349-801b-c17a3398e196",
   "metadata": {},
   "outputs": [
    {
     "data": {
      "text/plain": [
       "1.6145884183488097"
      ]
     },
     "execution_count": 83,
     "metadata": {},
     "output_type": "execute_result"
    }
   ],
   "source": [
    "z_stats"
   ]
  },
  {
   "cell_type": "code",
   "execution_count": 93,
   "id": "b20c3355-14a6-4ddb-ad7d-694d980aa402",
   "metadata": {},
   "outputs": [
    {
     "data": {
      "text/plain": [
       "0.05319992758771486"
      ]
     },
     "execution_count": 93,
     "metadata": {},
     "output_type": "execute_result"
    }
   ],
   "source": [
    "p_val = 1 - (stats.norm.cdf(z_stats))\n",
    "p_val"
   ]
  },
  {
   "cell_type": "code",
   "execution_count": 111,
   "id": "879e3a8f-c344-44de-9ea3-7b32fc88ca9d",
   "metadata": {},
   "outputs": [],
   "source": [
    "outcomes = [530, 480]\n",
    "nobs = [10000, 10000]"
   ]
  },
  {
   "cell_type": "code",
   "execution_count": 113,
   "id": "b1691fa3-17c3-4b17-a9ff-03958755db53",
   "metadata": {},
   "outputs": [],
   "source": [
    "z_stats , p_value = proportions_ztest(outcomes, nobs, alternative='larger')"
   ]
  },
  {
   "cell_type": "code",
   "execution_count": 115,
   "id": "28ba91a3-3e31-461f-8d70-8e8307bfcdef",
   "metadata": {},
   "outputs": [
    {
     "name": "stdout",
     "output_type": "stream",
     "text": [
      "1.6145884183488097 0.053199927587714885\n"
     ]
    }
   ],
   "source": [
    "print(z_stats, p_value)"
   ]
  },
  {
   "cell_type": "code",
   "execution_count": 1,
   "id": "9ecc58d3-42f5-413e-83dc-cf61fb85a60d",
   "metadata": {},
   "outputs": [],
   "source": [
    "import numpy as np\n",
    "from scipy import stats\n",
    "from statsmodels.stats.proportion import proportions_ztest"
   ]
  },
  {
   "cell_type": "raw",
   "id": "c8b599fe-0e85-4f22-b2f5-7b86a5fca406",
   "metadata": {},
   "source": [
    "Email A was sent to 12,000 people, and 456 of them signed up.\n",
    "\n",
    "Email B was sent to 10,000 people, and 480 of them signed up."
   ]
  },
  {
   "cell_type": "code",
   "execution_count": 5,
   "id": "c0159a1c-9797-4fd9-8735-3fe2fb626e0f",
   "metadata": {},
   "outputs": [],
   "source": [
    "outcomes = [480,456]\n",
    "nobs = [10000, 12000]"
   ]
  },
  {
   "cell_type": "code",
   "execution_count": 11,
   "id": "d46a75fb-1b86-4ad2-a622-060463471fe1",
   "metadata": {},
   "outputs": [],
   "source": [
    "z_stats, p_value = proportions_ztest(outcomes, nobs,alternative='larger')"
   ]
  },
  {
   "cell_type": "code",
   "execution_count": 13,
   "id": "bff460ac-5eba-4149-bf97-c4ee550f128c",
   "metadata": {},
   "outputs": [
    {
     "name": "stdout",
     "output_type": "stream",
     "text": [
      "3.659262929421049 0.000126470858936033\n"
     ]
    }
   ],
   "source": [
    "print(z_stats, p_value)"
   ]
  },
  {
   "cell_type": "code",
   "execution_count": 15,
   "id": "0b678d50-50fd-435b-9168-b7874c9eac25",
   "metadata": {},
   "outputs": [],
   "source": [
    "z_critical = stats.norm.ppf(1 - 0.05)"
   ]
  },
  {
   "cell_type": "code",
   "execution_count": 17,
   "id": "391c954f-655e-4fa0-a75e-b06c4aad5c0d",
   "metadata": {},
   "outputs": [
    {
     "data": {
      "text/plain": [
       "1.6448536269514722"
      ]
     },
     "execution_count": 17,
     "metadata": {},
     "output_type": "execute_result"
    }
   ],
   "source": [
    "z_critical"
   ]
  },
  {
   "cell_type": "code",
   "execution_count": 20,
   "id": "c467eecf-8d21-4d62-9e9b-c3bc31cb7de5",
   "metadata": {},
   "outputs": [],
   "source": [
    "a2 = 480/10000\n",
    "a1 = 456/12000"
   ]
  },
  {
   "cell_type": "code",
   "execution_count": 22,
   "id": "321c084e-8d09-4f9a-93f4-8c9f96ed54ac",
   "metadata": {},
   "outputs": [],
   "source": [
    "upse = np.sqrt(((a2*(1 - a2))/10000) + ((a1*(1-a1))/12000))"
   ]
  },
  {
   "cell_type": "code",
   "execution_count": 24,
   "id": "5bdf9535-02b2-4986-8f83-bed49162aed9",
   "metadata": {},
   "outputs": [],
   "source": [
    "moe = z_critical * upse"
   ]
  },
  {
   "cell_type": "code",
   "execution_count": 26,
   "id": "e7dc5e47-e422-43ad-b9a7-2560a61d1b73",
   "metadata": {},
   "outputs": [],
   "source": [
    "diff = a2 - a1"
   ]
  },
  {
   "cell_type": "code",
   "execution_count": 31,
   "id": "8b3780fa-9420-48f1-9349-5d5397439fc8",
   "metadata": {},
   "outputs": [
    {
     "name": "stdout",
     "output_type": "stream",
     "text": [
      "0.005460700651330974 0.01453929934866903\n"
     ]
    }
   ],
   "source": [
    "lower_ci = diff - moe\n",
    "upper_ci = diff + moe\n",
    "print(lower_ci, upper_ci)"
   ]
  },
  {
   "cell_type": "code",
   "execution_count": 33,
   "id": "f52b758c-09c5-41e7-856a-8dfc725032f5",
   "metadata": {},
   "outputs": [
    {
     "name": "stdout",
     "output_type": "stream",
     "text": [
      "3.659262929421049 0.000126470858936033 1.6448536269514722 0.002759698051115979 0.005460700651330974 0.01453929934866903\n"
     ]
    }
   ],
   "source": [
    "print(z_stats, p_value, z_critical, upse, lower_ci, upper_ci)"
   ]
  },
  {
   "cell_type": "raw",
   "id": "a86bf641-8204-426d-a29f-c4828c14e696",
   "metadata": {},
   "source": [
    "An esports organization is analyzing the effectiveness of two sponsorship logos placed during livestreams:\n",
    "\n",
    "Logo A was shown during 8,000 match streams, and 312 viewers clicked on it.\n",
    "\n",
    "Logo B was shown during 9,500 match streams, and 418 viewers clicked on it.\n",
    "\n",
    "The team wants to test if Logo B has a significantly higher click-through rate (CTR) than Logo A."
   ]
  },
  {
   "cell_type": "code",
   "execution_count": 35,
   "id": "14ba92e2-08d1-417e-b090-4bc5664cc937",
   "metadata": {},
   "outputs": [],
   "source": [
    "outcomes = [418, 312]\n",
    "nobs = [9500, 8000]"
   ]
  },
  {
   "cell_type": "code",
   "execution_count": 37,
   "id": "3b1b9e7f-59d4-4dc5-861c-3e116f43f05f",
   "metadata": {},
   "outputs": [],
   "source": [
    "a = 312/8000\n",
    "b = 418/9500"
   ]
  },
  {
   "cell_type": "code",
   "execution_count": 39,
   "id": "27d34266-f232-43c2-8917-75f807f96f2f",
   "metadata": {},
   "outputs": [],
   "source": [
    "z_stats, p_value = proportions_ztest(outcomes, nobs, alternative='larger')"
   ]
  },
  {
   "cell_type": "code",
   "execution_count": 41,
   "id": "c6dc6ccf-0369-4d97-b32f-ba98bcb6dea2",
   "metadata": {},
   "outputs": [
    {
     "name": "stdout",
     "output_type": "stream",
     "text": [
      "1.6480404367567605 0.04967218680761651\n"
     ]
    }
   ],
   "source": [
    "print(z_stats, p_value)"
   ]
  },
  {
   "cell_type": "code",
   "execution_count": 43,
   "id": "94a5cb05-472e-4e9f-a52e-05b7ce595fe2",
   "metadata": {},
   "outputs": [],
   "source": [
    "unpooled_SE = np.sqrt(((a*(1-a))/8000) + ((b*(1-b))/9500))"
   ]
  },
  {
   "cell_type": "code",
   "execution_count": 45,
   "id": "1f4ffe85-2366-4e09-8637-78818864360e",
   "metadata": {},
   "outputs": [],
   "source": [
    "z_critical = stats.norm.ppf(1 - 0.05)"
   ]
  },
  {
   "cell_type": "code",
   "execution_count": 47,
   "id": "37021fa5-5dc2-46a4-9b81-c499cd859218",
   "metadata": {},
   "outputs": [],
   "source": [
    "moe = unpooled_SE * z_critical"
   ]
  },
  {
   "cell_type": "code",
   "execution_count": 49,
   "id": "7383e4b0-414c-4ebf-b52c-0aeee4cedcad",
   "metadata": {},
   "outputs": [],
   "source": [
    "diff = b-a"
   ]
  },
  {
   "cell_type": "code",
   "execution_count": 51,
   "id": "6c149ff2-b1c5-4dfa-9f25-f55a6572b78e",
   "metadata": {},
   "outputs": [],
   "source": [
    "lower_ci = diff - moe\n",
    "upper_ci = diff + moe"
   ]
  },
  {
   "cell_type": "code",
   "execution_count": 53,
   "id": "ce0fbf4c-4be6-4692-b217-71dc138f1abd",
   "metadata": {},
   "outputs": [
    {
     "name": "stdout",
     "output_type": "stream",
     "text": [
      "1.6480404367567605 0.04967218680761651 0.0030187190120453756 1.6448536269514722 3.464908428979681e-05 0.009965350915710198\n"
     ]
    }
   ],
   "source": [
    "print(z_stats, p_value, unpooled_SE, z_critical, lower_ci, upper_ci)"
   ]
  },
  {
   "cell_type": "raw",
   "id": "70da51cc-5b8f-4b78-91f9-37d1eff5f877",
   "metadata": {},
   "source": [
    "A cricket streaming app is testing two notification strategies to increase live match viewership.\n",
    "\n",
    "Strategy A was sent to 30,000 users, and 840 clicked through to watch the match.\n",
    "\n",
    "Strategy B was sent to 25,000 users, and 875 clicked through.\n",
    "\n",
    "The company wants to know if Strategy B has a higher click-through rate than Strategy A."
   ]
  },
  {
   "cell_type": "code",
   "execution_count": 55,
   "id": "8f628c47-d365-4055-8f4d-aba0eb0db0f0",
   "metadata": {},
   "outputs": [],
   "source": [
    "outcomes = [875, 840]\n",
    "nobs = [ 25000, 30000]"
   ]
  },
  {
   "cell_type": "code",
   "execution_count": 57,
   "id": "6384232f-2060-48e6-ad71-d1aaa4980a02",
   "metadata": {},
   "outputs": [],
   "source": [
    "a = 840/30000\n",
    "b = 875/25000"
   ]
  },
  {
   "cell_type": "code",
   "execution_count": 59,
   "id": "0b4acb7f-5188-430b-b5ff-58183cbafc91",
   "metadata": {},
   "outputs": [],
   "source": [
    "z_stats, p_value = proportions_ztest(outcomes, nobs, alternative='larger')"
   ]
  },
  {
   "cell_type": "code",
   "execution_count": 61,
   "id": "46c13dc2-fd7e-4a9f-8ff1-d068f2e17220",
   "metadata": {},
   "outputs": [
    {
     "name": "stdout",
     "output_type": "stream",
     "text": [
      "4.703005311276492 1.2817987399257421e-06\n"
     ]
    }
   ],
   "source": [
    "print(z_stats, p_value)"
   ]
  },
  {
   "cell_type": "code",
   "execution_count": 63,
   "id": "8989cd9c-7f40-4573-93a0-7cc17f60e906",
   "metadata": {},
   "outputs": [],
   "source": [
    "z_critical = stats.norm.ppf(1 - 0.05)"
   ]
  },
  {
   "cell_type": "code",
   "execution_count": 67,
   "id": "4a0ef5fe-a9ca-40e4-8543-11d0a9575a4b",
   "metadata": {},
   "outputs": [
    {
     "data": {
      "text/plain": [
       "1.6448536269514722"
      ]
     },
     "execution_count": 67,
     "metadata": {},
     "output_type": "execute_result"
    }
   ],
   "source": [
    "z_critical"
   ]
  },
  {
   "cell_type": "code",
   "execution_count": 69,
   "id": "27c89fff-688e-4011-9f7c-271543c73ba7",
   "metadata": {},
   "outputs": [],
   "source": [
    "unpooled_se = np.sqrt(((a*(1 - a))/30000) + ((b*(1-b))/25000))"
   ]
  },
  {
   "cell_type": "code",
   "execution_count": 71,
   "id": "df65d777-34b1-4628-9fcb-1a4b5f7096e7",
   "metadata": {},
   "outputs": [],
   "source": [
    "moe = z_critical * unpooled_se"
   ]
  },
  {
   "cell_type": "code",
   "execution_count": 73,
   "id": "66fb00ed-be65-48ba-956f-5c0e6da1fbaa",
   "metadata": {},
   "outputs": [],
   "source": [
    "diff = b-a"
   ]
  },
  {
   "cell_type": "code",
   "execution_count": 75,
   "id": "f09cfb89-cbdb-4dd5-b603-b99c2b3f064a",
   "metadata": {},
   "outputs": [
    {
     "name": "stdout",
     "output_type": "stream",
     "text": [
      "4.703005311276492 1.2817987399257421e-06 1.6448536269514722 0.0015027308474906608 0.00452822771517313 0.009471772284826875\n"
     ]
    }
   ],
   "source": [
    "lower_ci = diff - moe\n",
    "upper_ci = diff + moe\n",
    "print(z_stats, p_value, z_critical, unpooled_se, lower_ci, upper_ci)"
   ]
  },
  {
   "cell_type": "raw",
   "id": "6438f497-ae55-4094-80da-02e410966509",
   "metadata": {},
   "source": [
    "A football club is testing whether two jersey sponsors are remembered equally by fans after matches. In a fan survey:\n",
    "\n",
    "Sponsor A was on jerseys seen by 15,000 fans, and 1,125 fans recalled the sponsor correctly.\n",
    "\n",
    "Sponsor B was seen by 13,000 fans, and 1,053 fans recalled the sponsor correctly.\n",
    "\n",
    "The club wants to check if there's any significant difference in recall rates between the two sponsors, in either direction.\n"
   ]
  },
  {
   "cell_type": "code",
   "execution_count": 77,
   "id": "bc159763-bfb5-4294-b8b9-5f8274be8db1",
   "metadata": {},
   "outputs": [],
   "source": [
    "a = 1125/15000\n",
    "b = 1053/13000"
   ]
  },
  {
   "cell_type": "code",
   "execution_count": 79,
   "id": "6ca96e4b-27ab-411c-8553-37ecaef1f49a",
   "metadata": {},
   "outputs": [],
   "source": [
    "outcomes = [1125, 1053]\n",
    "nobs = [15000, 13000]"
   ]
  },
  {
   "cell_type": "code",
   "execution_count": 81,
   "id": "284b58ca-1314-4875-949d-27f195178eec",
   "metadata": {},
   "outputs": [],
   "source": [
    "z_stats, p_value = proportions_ztest(outcomes, nobs, alternative='two-sided')"
   ]
  },
  {
   "cell_type": "code",
   "execution_count": 83,
   "id": "78f48b47-8208-4520-9285-61f1a33f35df",
   "metadata": {},
   "outputs": [
    {
     "name": "stdout",
     "output_type": "stream",
     "text": [
      "-1.8694923641172194 0.06155434500638061\n"
     ]
    }
   ],
   "source": [
    "print(z_stats, p_value)"
   ]
  },
  {
   "cell_type": "code",
   "execution_count": 85,
   "id": "ca63e658-dda8-4a1d-a078-2a2a30449e71",
   "metadata": {},
   "outputs": [],
   "source": [
    "z_critical = stats.norm.ppf(1 - (0.05/2))"
   ]
  },
  {
   "cell_type": "code",
   "execution_count": 87,
   "id": "4adb526c-6297-4116-bff6-26fa1fd68d2e",
   "metadata": {},
   "outputs": [
    {
     "data": {
      "text/plain": [
       "1.959963984540054"
      ]
     },
     "execution_count": 87,
     "metadata": {},
     "output_type": "execute_result"
    }
   ],
   "source": [
    "z_critical"
   ]
  },
  {
   "cell_type": "code",
   "execution_count": 89,
   "id": "7fe3ebc4-5480-4dba-a6d2-0c15dd63b845",
   "metadata": {},
   "outputs": [],
   "source": [
    "unpooled_se = np.sqrt(((a*(1-a))/15000) + ((b*(1-b))/13000))"
   ]
  },
  {
   "cell_type": "code",
   "execution_count": 91,
   "id": "4fe958a0-6c9a-4ff9-82a0-8829aa5caf4c",
   "metadata": {},
   "outputs": [],
   "source": [
    "moe = z_critical * unpooled_se"
   ]
  },
  {
   "cell_type": "code",
   "execution_count": 93,
   "id": "16e2f547-0591-48d8-9e11-d5f3793b1c78",
   "metadata": {},
   "outputs": [],
   "source": [
    "diff = b-a"
   ]
  },
  {
   "cell_type": "code",
   "execution_count": 95,
   "id": "facc2d77-b4e0-4388-b2cb-66c3419d7d0d",
   "metadata": {},
   "outputs": [
    {
     "name": "stdout",
     "output_type": "stream",
     "text": [
      "-0.00030580968233558364 0.012305809682335595\n"
     ]
    }
   ],
   "source": [
    "lower_ci = diff - moe\n",
    "upper_ci = diff + moe\n",
    "print(lower_ci, upper_ci)"
   ]
  },
  {
   "cell_type": "code",
   "execution_count": 97,
   "id": "e50cf5ea-203c-4f05-9d27-2a7fcb1e68d0",
   "metadata": {},
   "outputs": [
    {
     "name": "stdout",
     "output_type": "stream",
     "text": [
      "-1.8694923641172194 0.06155434500638061 1.959963984540054 0.0032173089567333947 -0.00030580968233558364 0.012305809682335595\n"
     ]
    }
   ],
   "source": [
    "print(z_stats, p_value, z_critical, unpooled_se, lower_ci, upper_ci)"
   ]
  },
  {
   "cell_type": "raw",
   "id": "9ea22a63-ca89-414b-a980-05f27464796a",
   "metadata": {},
   "source": [
    "An eSports company ran two different advertising campaigns (Campaign X and Campaign Y) to attract viewers for a live Valorant tournament.\n",
    "\n",
    "Campaign X reached 12,000 people, and 936 of them clicked to watch the stream.\n",
    "\n",
    "Campaign Y reached 14,000 people, and 1,176 of them clicked to watch.\n",
    "\n",
    "The marketing team wants to know:\n",
    "Is there a significant difference in click-through rates (CTR) between the two campaigns, regardless of direction?"
   ]
  },
  {
   "cell_type": "code",
   "execution_count": 99,
   "id": "4c1608a9-b6b4-4490-8d20-888a6a5750ea",
   "metadata": {},
   "outputs": [],
   "source": [
    "x = 936/12000\n",
    "y = 1176/14000"
   ]
  },
  {
   "cell_type": "code",
   "execution_count": 101,
   "id": "88aad579-6dc2-42de-aeb6-c269d245b3ad",
   "metadata": {},
   "outputs": [],
   "source": [
    "outcomes = [936,1176]"
   ]
  },
  {
   "cell_type": "code",
   "execution_count": 103,
   "id": "9bc61b73-ddbe-4ed8-a990-d2086b6efa05",
   "metadata": {},
   "outputs": [],
   "source": [
    "nobs = [12000, 14000]"
   ]
  },
  {
   "cell_type": "code",
   "execution_count": 105,
   "id": "01dba318-f6f7-4b79-9640-c8d01b7f6c07",
   "metadata": {},
   "outputs": [],
   "source": [
    "z, p_value = proportions_ztest(outcomes, nobs, alternative='two-sided')"
   ]
  },
  {
   "cell_type": "code",
   "execution_count": 107,
   "id": "0a035b5c-a6b3-405a-b31c-dfaa81d6386c",
   "metadata": {},
   "outputs": [
    {
     "name": "stdout",
     "output_type": "stream",
     "text": [
      "-1.7654511823800487 0.07748796788650567\n"
     ]
    }
   ],
   "source": [
    "print(z, p_value)"
   ]
  },
  {
   "cell_type": "code",
   "execution_count": 109,
   "id": "b8ec1d3c-ae87-470e-b7af-139bed820e2f",
   "metadata": {},
   "outputs": [],
   "source": [
    "unpooled_Se = np.sqrt(((x*(1-x))/12000) + ((y*(1-y))/14000))"
   ]
  },
  {
   "cell_type": "code",
   "execution_count": 111,
   "id": "5c94b903-9a14-49b4-98cb-658a72648473",
   "metadata": {},
   "outputs": [],
   "source": [
    "z_critical = stats.norm.ppf(1 - (0.05/2))"
   ]
  },
  {
   "cell_type": "code",
   "execution_count": 113,
   "id": "411533d4-3f48-435a-9858-c3d25172c341",
   "metadata": {},
   "outputs": [],
   "source": [
    "moe = unpooled_Se * z_critical"
   ]
  },
  {
   "cell_type": "code",
   "execution_count": 115,
   "id": "c5e90cdd-d490-4ac6-8382-387673972ddd",
   "metadata": {},
   "outputs": [],
   "source": [
    "diff = y - x"
   ]
  },
  {
   "cell_type": "code",
   "execution_count": 117,
   "id": "cbb10268-fba3-4266-b790-7c6cb5a9bd60",
   "metadata": {},
   "outputs": [
    {
     "name": "stdout",
     "output_type": "stream",
     "text": [
      "-1.7654511823800487 0.07748796788650567 1.959963984540054 0.0033895427420228825 -0.0006433816984239837 0.012643381698423994\n"
     ]
    }
   ],
   "source": [
    "lower_ci = diff - moe\n",
    "upper_ci = diff + moe\n",
    "print(z, p_value, z_critical, unpooled_Se, lower_ci, upper_ci)"
   ]
  },
  {
   "cell_type": "raw",
   "id": "facb31a7-ba52-4768-b35d-ccc2346cd65c",
   "metadata": {},
   "source": [
    "A sports nutrition brand claims that less than 2% of their protein drink bottles are defective (leak or taste off).\n",
    "\n",
    "To verify the claim, a quality control team randomly inspects 1,500 bottles and finds that 36 of them are defective.\n",
    "\n",
    "At a 5% significance level, is there sufficient evidence to conclude that the defect rate is less than 2%?"
   ]
  },
  {
   "cell_type": "code",
   "execution_count": 119,
   "id": "0f372f1c-fcc4-4f76-a430-3ab6e0c62122",
   "metadata": {},
   "outputs": [
    {
     "data": {
      "text/plain": [
       "2.4"
      ]
     },
     "execution_count": 119,
     "metadata": {},
     "output_type": "execute_result"
    }
   ],
   "source": [
    "(36*100)/1500"
   ]
  },
  {
   "cell_type": "code",
   "execution_count": 121,
   "id": "f2829c34-e189-4c10-9ad0-86242b9b066c",
   "metadata": {},
   "outputs": [],
   "source": [
    "counts = 36\n",
    "nobs = 1500\n",
    "value = 0.02"
   ]
  },
  {
   "cell_type": "code",
   "execution_count": 123,
   "id": "b2a3af04-4fa7-45f5-a8fd-a24dcf61b077",
   "metadata": {},
   "outputs": [],
   "source": [
    "z_stats, p_value = proportions_ztest(counts, nobs, value, alternative='smaller')"
   ]
  },
  {
   "cell_type": "code",
   "execution_count": 125,
   "id": "bc320e2b-380c-4d29-a9fb-7b3fa99abb5b",
   "metadata": {},
   "outputs": [
    {
     "name": "stdout",
     "output_type": "stream",
     "text": [
      "1.0122204127236452 0.8442836608668374\n"
     ]
    }
   ],
   "source": [
    "print(z_stats, p_value)"
   ]
  },
  {
   "cell_type": "code",
   "execution_count": 127,
   "id": "ea71c9ac-fd3d-48de-9b87-2f81327fc840",
   "metadata": {},
   "outputs": [],
   "source": [
    "z_critical = stats.norm.ppf(0.05)"
   ]
  },
  {
   "cell_type": "code",
   "execution_count": 129,
   "id": "044dc841-8f66-49aa-8e10-cfea24dc615f",
   "metadata": {},
   "outputs": [
    {
     "data": {
      "text/plain": [
       "-1.6448536269514729"
      ]
     },
     "execution_count": 129,
     "metadata": {},
     "output_type": "execute_result"
    }
   ],
   "source": [
    "z_critical"
   ]
  },
  {
   "cell_type": "raw",
   "id": "89e1b843-4e38-441c-a15a-ce4ded4233e3",
   "metadata": {},
   "source": [
    "A football analytics company wants to compare the penalty conversion rates of two professional football teams: Team X and Team Y, over the last season.\n",
    "\n",
    "Team X attempted 150 penalties and scored 105 goals.\n",
    "\n",
    "Team Y attempted 160 penalties and scored 125 goals.\n",
    "\n",
    "The company wants to test if Team X has a significantly lower penalty conversion rate than Team Y at a 5% significance level."
   ]
  },
  {
   "cell_type": "code",
   "execution_count": 131,
   "id": "794ff950-f8b1-48cf-a62a-f74fbca88e11",
   "metadata": {},
   "outputs": [],
   "source": [
    "x = 105/150\n",
    "y = 125/160"
   ]
  },
  {
   "cell_type": "code",
   "execution_count": 139,
   "id": "43b4cf92-4a2d-4b9b-8d83-087cca7adfe8",
   "metadata": {},
   "outputs": [],
   "source": [
    "outcomes = [105, 125]\n",
    "nobs = [150, 160]"
   ]
  },
  {
   "cell_type": "code",
   "execution_count": 141,
   "id": "a79ef9ff-db08-405e-b178-394b85fa9a4d",
   "metadata": {},
   "outputs": [],
   "source": [
    "z, p_value = proportions_ztest(outcomes, nobs, alternative='smaller')"
   ]
  },
  {
   "cell_type": "code",
   "execution_count": 143,
   "id": "71fad579-7924-4ff6-aaed-15c569bf7a4a",
   "metadata": {},
   "outputs": [
    {
     "name": "stdout",
     "output_type": "stream",
     "text": [
      "-1.6338076525871021 0.05114962249438706\n"
     ]
    }
   ],
   "source": [
    "print(z, p_value)"
   ]
  },
  {
   "cell_type": "code",
   "execution_count": 145,
   "id": "62d79abe-7281-4ebd-9bbf-29c41b76e0a2",
   "metadata": {},
   "outputs": [],
   "source": [
    "z_critical = stats.norm.ppf(1 - (0.05/2))"
   ]
  },
  {
   "cell_type": "code",
   "execution_count": 147,
   "id": "4dfa456a-ac68-4c47-94b7-533657842364",
   "metadata": {},
   "outputs": [],
   "source": [
    "diff = x - y"
   ]
  },
  {
   "cell_type": "code",
   "execution_count": 149,
   "id": "4ff72488-a236-4463-8e19-e08b571e178a",
   "metadata": {},
   "outputs": [],
   "source": [
    "unpooled_se = np.sqrt(((x*(1-x))/150) + ((y*(1-y))/160))"
   ]
  },
  {
   "cell_type": "code",
   "execution_count": 151,
   "id": "c02065ca-7ff4-4862-9738-737af6b45604",
   "metadata": {},
   "outputs": [],
   "source": [
    "moe = z_critical * unpooled_se"
   ]
  },
  {
   "cell_type": "code",
   "execution_count": 153,
   "id": "9e608e92-ba3e-4a7d-b275-8fb59bcbbf1b",
   "metadata": {},
   "outputs": [
    {
     "data": {
      "text/plain": [
       "0.09737126392103264"
      ]
     },
     "execution_count": 153,
     "metadata": {},
     "output_type": "execute_result"
    }
   ],
   "source": [
    "moe"
   ]
  },
  {
   "cell_type": "code",
   "execution_count": 155,
   "id": "6d8e5b75-adba-4d6d-b341-f0fd6e4766a1",
   "metadata": {},
   "outputs": [],
   "source": [
    "lower_ci = diff - moe\n",
    "upper_ci = diff + moe"
   ]
  },
  {
   "cell_type": "code",
   "execution_count": 157,
   "id": "4d4d41a5-2f91-409a-b3b0-cafd39bdc300",
   "metadata": {},
   "outputs": [
    {
     "name": "stdout",
     "output_type": "stream",
     "text": [
      "-1.6338076525871021 0.05114962249438706 0.09737126392103264 -0.17862126392103267 0.016121263921032594\n"
     ]
    }
   ],
   "source": [
    "print(z, p_value, moe, lower_ci, upper_ci)"
   ]
  },
  {
   "cell_type": "raw",
   "id": "639bec96-0ff9-46ae-a39e-3496f0bd825b",
   "metadata": {},
   "source": [
    "A sportswear company claims that their new running shoes reduce 5K run times. The average 5K completion time for amateur runners is 25 minutes with a known population standard deviation of 2.5 minutes.\n",
    "\n",
    "To test their claim, the company selects a random sample of 50 runners who used the new shoes and finds that their average 5K time is 24.2 minutes.\n",
    "\n",
    "At a 5% significance level, can we conclude that the new shoes have significantly improved running times?"
   ]
  },
  {
   "cell_type": "code",
   "execution_count": 1,
   "id": "5a3ac56a-9825-4ecc-9398-01b29cdab0d2",
   "metadata": {},
   "outputs": [],
   "source": [
    "import numpy as np\n",
    "from scipy import stats\n",
    "from statsmodels.stats.proportion import proportions_ztest"
   ]
  },
  {
   "cell_type": "code",
   "execution_count": 3,
   "id": "31ab7a9b-cfcd-4798-965b-9b29db6dc98c",
   "metadata": {},
   "outputs": [],
   "source": [
    "sample_mean = 24.2\n",
    "n = 50\n",
    "population_mean = 25\n",
    "p_std = 2.5"
   ]
  },
  {
   "cell_type": "code",
   "execution_count": 5,
   "id": "fdb052c1-2865-48e9-abe6-505f9d652ab8",
   "metadata": {},
   "outputs": [],
   "source": [
    "standard_error = p_std / (np.sqrt(n))"
   ]
  },
  {
   "cell_type": "code",
   "execution_count": 7,
   "id": "aee96c66-4657-4ebc-b816-3bed22ddf712",
   "metadata": {},
   "outputs": [
    {
     "data": {
      "text/plain": [
       "0.35355339059327373"
      ]
     },
     "execution_count": 7,
     "metadata": {},
     "output_type": "execute_result"
    }
   ],
   "source": [
    "standard_error"
   ]
  },
  {
   "cell_type": "code",
   "execution_count": 9,
   "id": "7fefe60c-2e9e-4fa1-8758-70666dcf3b76",
   "metadata": {},
   "outputs": [],
   "source": [
    "z = (sample_mean - population_mean) / standard_error"
   ]
  },
  {
   "cell_type": "code",
   "execution_count": 11,
   "id": "ea9e9d93-3368-4c9e-897f-60b3b4934305",
   "metadata": {},
   "outputs": [
    {
     "data": {
      "text/plain": [
       "-2.2627416997969543"
      ]
     },
     "execution_count": 11,
     "metadata": {},
     "output_type": "execute_result"
    }
   ],
   "source": [
    "z"
   ]
  },
  {
   "cell_type": "code",
   "execution_count": 17,
   "id": "c3a56b63-7441-46d4-b7c2-f9594000d932",
   "metadata": {},
   "outputs": [],
   "source": [
    "p_value = stats.norm.cdf(z)"
   ]
  },
  {
   "cell_type": "code",
   "execution_count": 19,
   "id": "610a59ce-01b1-4c00-a961-3f3e00c7a4a7",
   "metadata": {},
   "outputs": [
    {
     "data": {
      "text/plain": [
       "0.011825808327677923"
      ]
     },
     "execution_count": 19,
     "metadata": {},
     "output_type": "execute_result"
    }
   ],
   "source": [
    "p_value"
   ]
  },
  {
   "cell_type": "code",
   "execution_count": 21,
   "id": "01ae062b-a990-4a04-bfe5-2eb0c25ab53d",
   "metadata": {},
   "outputs": [],
   "source": [
    "z_critical = stats.norm.ppf(1 - 0.05/2)"
   ]
  },
  {
   "cell_type": "code",
   "execution_count": 23,
   "id": "4c25bf49-7b2e-45e4-8df4-e249492f565e",
   "metadata": {},
   "outputs": [],
   "source": [
    "moe = z_critical * standard_error"
   ]
  },
  {
   "cell_type": "code",
   "execution_count": 25,
   "id": "dd0396ad-dc2f-4be5-871a-6586bb32ff25",
   "metadata": {},
   "outputs": [
    {
     "name": "stdout",
     "output_type": "stream",
     "text": [
      "23.50704808782516 24.892951912174837\n"
     ]
    }
   ],
   "source": [
    "lower_ci = sample_mean - moe\n",
    "upper_ci = sample_mean + moe\n",
    "print(lower_ci, upper_ci)"
   ]
  },
  {
   "cell_type": "raw",
   "id": "0abac8a7-14b7-48c8-ba66-9b2522895c7f",
   "metadata": {},
   "source": [
    "A fitness startup is comparing the average daily step counts of users from two different subscription plans: Plan A (Basic) and Plan B (Premium).\n",
    "\n",
    "From a sample of 60 Basic plan users, the average daily step count is 7,850, with a known population standard deviation of 1,200 steps.\n",
    "\n",
    "From a sample of 65 Premium plan users, the average daily step count is 8,300, with a known population standard deviation of 1,100 steps."
   ]
  },
  {
   "cell_type": "code",
   "execution_count": 29,
   "id": "fe630ed3-78d6-4647-bd4b-3d20b6fb7bd5",
   "metadata": {},
   "outputs": [],
   "source": [
    "nA,meanA, stdA = 60,7850,1200"
   ]
  },
  {
   "cell_type": "code",
   "execution_count": 31,
   "id": "196ab463-5161-4fcd-85cc-662bba56e163",
   "metadata": {},
   "outputs": [],
   "source": [
    "nB, meanB, stdB = 65, 8300, 1100"
   ]
  },
  {
   "cell_type": "code",
   "execution_count": 33,
   "id": "7fdd2999-a43c-4bbe-8dcf-263879fcf109",
   "metadata": {},
   "outputs": [],
   "source": [
    "standard_error = np.sqrt(((stdA**2)/nA) + ((stdB**2)/nB))"
   ]
  },
  {
   "cell_type": "code",
   "execution_count": 35,
   "id": "29f96019-b937-4593-9613-cb82fc18730a",
   "metadata": {},
   "outputs": [
    {
     "data": {
      "text/plain": [
       "206.4349403937827"
      ]
     },
     "execution_count": 35,
     "metadata": {},
     "output_type": "execute_result"
    }
   ],
   "source": [
    "standard_error"
   ]
  },
  {
   "cell_type": "code",
   "execution_count": 37,
   "id": "e6928e8a-a0b3-43c2-85af-ebeb956e9db8",
   "metadata": {},
   "outputs": [],
   "source": [
    "z = (meanA - meanB)/standard_error"
   ]
  },
  {
   "cell_type": "code",
   "execution_count": 39,
   "id": "cd624faa-b6e3-441a-8978-4730221aa90d",
   "metadata": {},
   "outputs": [
    {
     "data": {
      "text/plain": [
       "-2.1798635402592574"
      ]
     },
     "execution_count": 39,
     "metadata": {},
     "output_type": "execute_result"
    }
   ],
   "source": [
    "z"
   ]
  },
  {
   "cell_type": "code",
   "execution_count": 41,
   "id": "e09478d0-3e30-492c-8c8c-9db49f5003eb",
   "metadata": {},
   "outputs": [],
   "source": [
    "p_value = stats.norm.cdf(z)"
   ]
  },
  {
   "cell_type": "code",
   "execution_count": 43,
   "id": "961540dc-c3f0-4fc8-a2a5-b7b3702fef6c",
   "metadata": {},
   "outputs": [
    {
     "data": {
      "text/plain": [
       "0.014633789123444093"
      ]
     },
     "execution_count": 43,
     "metadata": {},
     "output_type": "execute_result"
    }
   ],
   "source": [
    "p_value"
   ]
  },
  {
   "cell_type": "code",
   "execution_count": 45,
   "id": "b4daf537-4884-434c-8485-3ff600cce30b",
   "metadata": {},
   "outputs": [
    {
     "data": {
      "text/plain": [
       "True"
      ]
     },
     "execution_count": 45,
     "metadata": {},
     "output_type": "execute_result"
    }
   ],
   "source": [
    "p_value < 0.05"
   ]
  },
  {
   "cell_type": "code",
   "execution_count": 47,
   "id": "a6db876a-f71f-4006-9ec4-ea9529030ac1",
   "metadata": {},
   "outputs": [],
   "source": [
    "z_critical = stats.norm.ppf(1 - 0.05/2)"
   ]
  },
  {
   "cell_type": "code",
   "execution_count": 49,
   "id": "7d72f6ae-59e5-4aea-be73-7934d5715ee7",
   "metadata": {},
   "outputs": [],
   "source": [
    "moe = z_critical * standard_error"
   ]
  },
  {
   "cell_type": "code",
   "execution_count": 51,
   "id": "c20bdffc-e07a-4bf1-b738-d5e814ddd5a6",
   "metadata": {},
   "outputs": [
    {
     "data": {
      "text/plain": [
       "404.60504832248694"
      ]
     },
     "execution_count": 51,
     "metadata": {},
     "output_type": "execute_result"
    }
   ],
   "source": [
    "moe"
   ]
  },
  {
   "cell_type": "code",
   "execution_count": 53,
   "id": "4df30607-2d18-4b34-940d-3403523d5eb9",
   "metadata": {},
   "outputs": [
    {
     "name": "stdout",
     "output_type": "stream",
     "text": [
      "-854.6050483224869 -45.39495167751306\n"
     ]
    }
   ],
   "source": [
    "lower_ci = (meanA - meanB) - moe\n",
    "upper_ci = (meanA - meanB) + moe\n",
    "print(lower_ci, upper_ci)"
   ]
  },
  {
   "cell_type": "raw",
   "id": "08793a38-98d8-4173-b691-0a72dc699351",
   "metadata": {},
   "source": [
    "A sports equipment company wants to compare the average delivery time (in days) of its online orders between two regions — Region A (urban) and Region B (semi-urban) — to determine if Region A is significantly faster.\n",
    "\n",
    "From recent records:\n",
    "\n",
    "Region A:\n",
    "\n",
    "Sample size = 55\n",
    "\n",
    "Average delivery time = 3.1 days\n",
    "\n",
    "Population standard deviation = 0.6 days\n",
    "\n",
    "Region B:\n",
    "\n",
    "Sample size = 60\n",
    "\n",
    "Average delivery time = 3.4 days\n",
    "\n",
    "Population standard deviation = 0.7 days\n",
    "\n",
    "At a 5% significance level, test if Region A has a significantly faster average delivery time than Region B.\n"
   ]
  },
  {
   "cell_type": "code",
   "execution_count": 77,
   "id": "0eedb8c3-3861-4896-9d43-1b4f5a05d52f",
   "metadata": {},
   "outputs": [],
   "source": [
    "a_n = 55\n",
    "a_mean = 3.1\n",
    "a_std = 0.6\n",
    "b_n = 60\n",
    "b_mean = 3.4\n",
    "b_std = 0.7"
   ]
  },
  {
   "cell_type": "code",
   "execution_count": 79,
   "id": "14296d63-7e11-4710-91a9-3232d197febc",
   "metadata": {},
   "outputs": [],
   "source": [
    "standard_error = np.sqrt((a_std**2)/a_n + (b_std**2)/b_n)"
   ]
  },
  {
   "cell_type": "code",
   "execution_count": 81,
   "id": "f06fc674-432c-4294-a187-54642b10fc01",
   "metadata": {},
   "outputs": [
    {
     "data": {
      "text/plain": [
       "0.1212935332658803"
      ]
     },
     "execution_count": 81,
     "metadata": {},
     "output_type": "execute_result"
    }
   ],
   "source": [
    "standard_error"
   ]
  },
  {
   "cell_type": "code",
   "execution_count": 83,
   "id": "30df07e2-a7bf-48ad-90c5-d8ff34bb607b",
   "metadata": {},
   "outputs": [],
   "source": [
    "z = (a_mean - b_mean)/standard_error"
   ]
  },
  {
   "cell_type": "code",
   "execution_count": 85,
   "id": "8406b4ef-b464-4847-b853-59c9d2d8db77",
   "metadata": {},
   "outputs": [
    {
     "data": {
      "text/plain": [
       "-2.473338783382522"
      ]
     },
     "execution_count": 85,
     "metadata": {},
     "output_type": "execute_result"
    }
   ],
   "source": [
    "z"
   ]
  },
  {
   "cell_type": "code",
   "execution_count": 87,
   "id": "5a301405-4b3b-46c8-84d7-01b0151d63b9",
   "metadata": {},
   "outputs": [],
   "source": [
    "p_value = stats.norm.cdf(z)"
   ]
  },
  {
   "cell_type": "code",
   "execution_count": 89,
   "id": "1e092703-0923-4271-b281-8b7afa16b32e",
   "metadata": {},
   "outputs": [
    {
     "name": "stdout",
     "output_type": "stream",
     "text": [
      "0.0066928591544291784\n"
     ]
    }
   ],
   "source": [
    "print(p_value)"
   ]
  },
  {
   "cell_type": "code",
   "execution_count": 91,
   "id": "17ecc4c8-f207-4dd2-b2fa-2dfb0bce654e",
   "metadata": {},
   "outputs": [],
   "source": [
    "z_critical = stats.norm.ppf(1 - 0.05/2)"
   ]
  },
  {
   "cell_type": "code",
   "execution_count": 93,
   "id": "6d502622-3991-4725-bb00-0d95a4bd4a9a",
   "metadata": {},
   "outputs": [],
   "source": [
    "moe = z_critical * standard_error"
   ]
  },
  {
   "cell_type": "code",
   "execution_count": 95,
   "id": "9a42f16d-aa29-4c2e-8750-916b4990b1c5",
   "metadata": {},
   "outputs": [],
   "source": [
    "lower_ci = (a_mean - b_mean) - moe\n",
    "upper_ci = (a_mean - b_mean) + moe"
   ]
  },
  {
   "cell_type": "code",
   "execution_count": 97,
   "id": "76e91ebb-96cd-446e-b182-ea89cc8edd80",
   "metadata": {},
   "outputs": [
    {
     "name": "stdout",
     "output_type": "stream",
     "text": [
      "0.1212935332658803 -2.473338783382522 0.0066928591544291784 -0.5377309567587362 -0.06226904324126348\n"
     ]
    }
   ],
   "source": [
    "print(standard_error, z, p_value, lower_ci, upper_ci)"
   ]
  },
  {
   "cell_type": "raw",
   "id": "d82bc870-15c0-4ca8-8357-3cd0ef60298c",
   "metadata": {},
   "source": [
    "A sports equipment company claims that its new lightweight tennis racket improves player serve speed. To test this, they measure average serve speeds of two groups of semi-professional players:\n",
    "\n",
    "Group A (standard racket):\n",
    "Sample size = 50\n",
    "Mean serve speed = 165 km/h\n",
    "Population standard deviation = 12 km/h\n",
    "\n",
    "Group B (new lightweight racket):\n",
    "Sample size = 48\n",
    "Mean serve speed = 170 km/h\n",
    "Population standard deviation = 10 km/h\n",
    "\n",
    "The company wants to test, at the 5% significance level, whether the new racket significantly increases average serve speed compared to the standard one."
   ]
  },
  {
   "cell_type": "code",
   "execution_count": 99,
   "id": "e7081144-be2b-49a9-b4dd-395210381267",
   "metadata": {},
   "outputs": [],
   "source": [
    "n_A = 50\n",
    "mean_A = 165\n",
    "std_A = 12\n",
    "n_B = 48\n",
    "mean_B = 170\n",
    "std_B = 10"
   ]
  },
  {
   "cell_type": "code",
   "execution_count": 101,
   "id": "a4dbf31f-cb1b-433b-87a2-d48333e4d2ba",
   "metadata": {},
   "outputs": [],
   "source": [
    "standard_error = np.sqrt((std_A**2)/n_A + (std_B**2)/n_B)"
   ]
  },
  {
   "cell_type": "code",
   "execution_count": 103,
   "id": "24124ad3-0682-4cb7-b8ff-31ed074ba262",
   "metadata": {},
   "outputs": [],
   "source": [
    "z = (mean_B - mean_A)/standard_error"
   ]
  },
  {
   "cell_type": "code",
   "execution_count": 105,
   "id": "db70f7f5-dfcb-4d81-a882-e6021d81fa15",
   "metadata": {},
   "outputs": [],
   "source": [
    "p_value = 1 - stats.norm.cdf(z)"
   ]
  },
  {
   "cell_type": "code",
   "execution_count": 107,
   "id": "eed336aa-ef4d-41b9-9968-6303e24003c0",
   "metadata": {},
   "outputs": [
    {
     "name": "stdout",
     "output_type": "stream",
     "text": [
      "2.2443122648095293 0.012406158487172303\n"
     ]
    }
   ],
   "source": [
    "print(z, p_value)"
   ]
  },
  {
   "cell_type": "code",
   "execution_count": 109,
   "id": "a39a2efa-f6ca-493a-ac2b-d1ea86e653b9",
   "metadata": {},
   "outputs": [],
   "source": [
    "z_critical = stats.norm.ppf(1 - 0.05/2)"
   ]
  },
  {
   "cell_type": "code",
   "execution_count": 111,
   "id": "8be77422-7bf3-4d4d-a08a-f040e8858234",
   "metadata": {},
   "outputs": [],
   "source": [
    "moe = standard_error * z_critical"
   ]
  },
  {
   "cell_type": "code",
   "execution_count": 113,
   "id": "01d6f80c-0367-45af-822e-1a088174be86",
   "metadata": {},
   "outputs": [],
   "source": [
    "lower_ci = (mean_B - mean_A) - moe\n",
    "upper_ci = (mean_B - mean_A) + moe"
   ]
  },
  {
   "cell_type": "code",
   "execution_count": 115,
   "id": "f119e159-7c0a-4b57-a0e0-12148bc58cb6",
   "metadata": {},
   "outputs": [
    {
     "name": "stdout",
     "output_type": "stream",
     "text": [
      "2.227853974867593 0.012406158487172303 1.959963984540054 0.6334864464451151 9.366513553554885\n"
     ]
    }
   ],
   "source": [
    "print(standard_error, p_value, z_critical, lower_ci, upper_ci)"
   ]
  },
  {
   "cell_type": "raw",
   "id": "4984866e-f3b1-4808-873c-16f021dbe410",
   "metadata": {},
   "source": [
    "A basketball league claims that its players score an average of 22 points per game.\n",
    "A sports analytics firm wants to test if a particular new player scores significantly more than the league average.\n",
    "\n",
    "Over the course of 40 games, the player's average is 23.8 points per game, with a known population standard deviation of 4.5 points.\n",
    "\n",
    "At a 5% significance level, test if this player scores more than the league average."
   ]
  },
  {
   "cell_type": "code",
   "execution_count": 117,
   "id": "e34964d0-1031-4d85-a8af-414157a69ea9",
   "metadata": {},
   "outputs": [],
   "source": [
    "n = 40\n",
    "sample_mean = 23.8\n",
    "std = 4.5\n",
    "population_mean = 22"
   ]
  },
  {
   "cell_type": "code",
   "execution_count": 119,
   "id": "96cfd163-0ee0-4ed0-8009-bfd0546812eb",
   "metadata": {},
   "outputs": [],
   "source": [
    "standard_error = std / np.sqrt(n)"
   ]
  },
  {
   "cell_type": "code",
   "execution_count": 121,
   "id": "c4efda3b-f0c2-4264-ab11-24713f284aba",
   "metadata": {},
   "outputs": [],
   "source": [
    "z = (sample_mean - population_mean)/ standard_error"
   ]
  },
  {
   "cell_type": "code",
   "execution_count": 123,
   "id": "2489c850-5d66-4fde-b119-a8f2a0151a97",
   "metadata": {},
   "outputs": [],
   "source": [
    "p_value = 1 - stats.norm.cdf(z)"
   ]
  },
  {
   "cell_type": "code",
   "execution_count": 125,
   "id": "aa9d0dba-9748-4fca-b4c9-8176e081bee4",
   "metadata": {},
   "outputs": [
    {
     "name": "stdout",
     "output_type": "stream",
     "text": [
      "2.529822128134705 0.005706018193000761\n"
     ]
    }
   ],
   "source": [
    "print(z, p_value)"
   ]
  },
  {
   "cell_type": "code",
   "execution_count": 127,
   "id": "57c0998d-a674-4897-a1a0-ac5296f850f1",
   "metadata": {},
   "outputs": [],
   "source": [
    "z_critical = stats.norm.ppf(1 - 0.05/2)"
   ]
  },
  {
   "cell_type": "code",
   "execution_count": 129,
   "id": "383b8cfb-ae1a-4582-9a25-25030b92f30f",
   "metadata": {},
   "outputs": [],
   "source": [
    "moe = standard_error * z_critical"
   ]
  },
  {
   "cell_type": "code",
   "execution_count": 131,
   "id": "2e7ccab1-0a01-41d9-a113-d1b7f80c9ac0",
   "metadata": {},
   "outputs": [],
   "source": [
    "lower_ci = sample_mean - moe\n",
    "upper_ci = sample_mean + moe"
   ]
  },
  {
   "cell_type": "raw",
   "id": "93d5de76-5549-480b-ac70-65c9ad41de52",
   "metadata": {},
   "source": [
    "A sports nutrition company claims that their new supplement increases average vertical jump height among basketball players.\n",
    "\n",
    "Historically, the average vertical jump for players is 28 inches, with a known population standard deviation of 3.5 inches.\n",
    "\n",
    "After using the supplement for 4 weeks, a sample of 36 athletes had an average vertical jump of 29.5 inches.\n",
    "\n",
    "Using a 5% significance level, test if the supplement has increased the average vertical jump."
   ]
  },
  {
   "cell_type": "code",
   "execution_count": 133,
   "id": "116eb634-7013-4362-aa29-e2a797d47f5d",
   "metadata": {},
   "outputs": [],
   "source": [
    "p_mean = 28\n",
    "s_mean = 29.5\n",
    "std = 3.5\n",
    "n = 36"
   ]
  },
  {
   "cell_type": "code",
   "execution_count": 149,
   "id": "e2e7c721-fbd8-41c8-8c51-6ecead880776",
   "metadata": {},
   "outputs": [],
   "source": [
    "standard_error = std / np.sqrt(36)"
   ]
  },
  {
   "cell_type": "code",
   "execution_count": 151,
   "id": "8cc324be-8c83-4bbd-8f45-29079ceb6e27",
   "metadata": {},
   "outputs": [],
   "source": [
    "z = (s_mean - p_mean)/standard_error"
   ]
  },
  {
   "cell_type": "code",
   "execution_count": 153,
   "id": "66687371-51a7-4a6c-92fd-02f250cbff08",
   "metadata": {},
   "outputs": [],
   "source": [
    "p_value = 1 - stats.norm.cdf(z)"
   ]
  },
  {
   "cell_type": "code",
   "execution_count": 155,
   "id": "549e00fe-efae-4e5b-a4ce-112ac1714fe6",
   "metadata": {},
   "outputs": [
    {
     "name": "stdout",
     "output_type": "stream",
     "text": [
      "2.571428571428571 0.005063995274695365\n"
     ]
    }
   ],
   "source": [
    "print(z, p_value)"
   ]
  },
  {
   "cell_type": "code",
   "execution_count": 157,
   "id": "2a381ac1-de33-4e91-a286-5dfbb80c0dbe",
   "metadata": {},
   "outputs": [],
   "source": [
    "z_critical = stats.norm.ppf(1 - 0.05/2)"
   ]
  },
  {
   "cell_type": "code",
   "execution_count": 159,
   "id": "56d77d30-100e-40a2-9437-a942ba101b36",
   "metadata": {},
   "outputs": [],
   "source": [
    "moe = standard_error * z_critical"
   ]
  },
  {
   "cell_type": "code",
   "execution_count": 161,
   "id": "34703a8d-317d-408a-bf28-a9f5c0f14228",
   "metadata": {},
   "outputs": [],
   "source": [
    "lower_ci = s_mean - moe\n",
    "upper_ci = s_mean + moe"
   ]
  },
  {
   "cell_type": "code",
   "execution_count": 198,
   "id": "d4da46aa-713e-45ce-a911-1129d80de0cb",
   "metadata": {},
   "outputs": [],
   "source": [
    "import numpy as np\n",
    "from scipy import stats\n",
    "from statsmodels.stats.proportion import proportions_ztest"
   ]
  },
  {
   "cell_type": "raw",
   "id": "5eff411f-2fd3-40da-8830-4802e3d7d7ee",
   "metadata": {},
   "source": [
    "A sports analytics app is testing two versions of their subscription landing page to see which leads to more conversions.\n",
    "\n",
    "Version A (Control): Shown to 10,000 users, with 640 conversions\n",
    "\n",
    "Version B (Variant): Shown to 10,000 users, with 710 conversions\n",
    "\n",
    "The marketing team wants to know:\n",
    "Does Version B result in a significantly higher conversion rate than Version A?\n",
    "Use a 5% significance level, and perform a right-tailed z-test for proportions."
   ]
  },
  {
   "cell_type": "code",
   "execution_count": 200,
   "id": "8d845272-364b-456e-b1b2-f907b25973b7",
   "metadata": {},
   "outputs": [],
   "source": [
    "outcome = [710, 640]\n",
    "nobs = [10000,10000]"
   ]
  },
  {
   "cell_type": "code",
   "execution_count": 204,
   "id": "62312ee8-e6a7-40b8-8f90-0a8e0e68c1d4",
   "metadata": {},
   "outputs": [],
   "source": [
    "z, p_value = proportions_ztest(outcome, nobs, alternative='larger')"
   ]
  },
  {
   "cell_type": "code",
   "execution_count": 206,
   "id": "e334dd15-1fb7-4121-b581-7ec8a93c117c",
   "metadata": {},
   "outputs": [
    {
     "name": "stdout",
     "output_type": "stream",
     "text": [
      "1.9729075533536848 0.024253047952565377\n"
     ]
    }
   ],
   "source": [
    "print(z, p_value)"
   ]
  },
  {
   "cell_type": "code",
   "execution_count": 208,
   "id": "011901b6-2fc2-4e10-94c1-ce6943a0f949",
   "metadata": {},
   "outputs": [],
   "source": [
    "a = 640/10000\n",
    "b = 710/10000"
   ]
  },
  {
   "cell_type": "code",
   "execution_count": 210,
   "id": "66af91b2-f651-46b5-8ed7-fd1b52f51a0f",
   "metadata": {},
   "outputs": [],
   "source": [
    "unpooled_se = np.sqrt(((a*(1-a))/10000) + ((b*(1-b))/10000))"
   ]
  },
  {
   "cell_type": "code",
   "execution_count": 212,
   "id": "ed8f0c8a-bef3-42dd-872b-7d2cc20325db",
   "metadata": {},
   "outputs": [],
   "source": [
    "z_critical = stats.norm.ppf(1 - 0.05/2)"
   ]
  },
  {
   "cell_type": "code",
   "execution_count": 214,
   "id": "40bc9e35-4723-40af-993c-ea9838d60f9d",
   "metadata": {},
   "outputs": [],
   "source": [
    "moe = z_critical * unpooled_se"
   ]
  },
  {
   "cell_type": "code",
   "execution_count": 216,
   "id": "ddef4419-55e1-4237-88f2-e6ec65a111ec",
   "metadata": {},
   "outputs": [],
   "source": [
    "lower_ci = (b-a) - moe\n",
    "uppler_ci = (b-a) + moe"
   ]
  },
  {
   "cell_type": "code",
   "execution_count": 220,
   "id": "0b38c2db-987a-4a98-a786-2f13c8a9ca03",
   "metadata": {},
   "outputs": [
    {
     "name": "stdout",
     "output_type": "stream",
     "text": [
      "1.9729075533536848 0.024253047952565377 0.0035477175761325763 4.660132346040544e-05 30.643312324315033\n"
     ]
    }
   ],
   "source": [
    "print(z, p_value, unpooled_se, lower_ci, upper_ci)"
   ]
  },
  {
   "cell_type": "raw",
   "id": "fdb0a8c0-0b96-44f0-97f9-ff88f734720e",
   "metadata": {},
   "source": [
    "A sports e-commerce platform wants to test two different homepage designs to see which one leads to higher average spending per user.\n",
    "\n",
    "Group A (old homepage): 80 users, average spending = ₹2,450, population standard deviation = ₹400\n",
    "\n",
    "Group B (new homepage): 85 users, average spending = ₹2,580, population standard deviation = ₹420\n",
    "\n",
    "At a 5% significance level, can the company conclude that the new homepage increases average user spending?"
   ]
  },
  {
   "cell_type": "code",
   "execution_count": 222,
   "id": "49096e21-1f06-4771-af5d-a58e0e0494e8",
   "metadata": {},
   "outputs": [],
   "source": [
    "a_n = 80\n",
    "a_mean = 2450\n",
    "a_std = 400\n",
    "b_n = 85\n",
    "b_mean = 2580\n",
    "b_std = 420"
   ]
  },
  {
   "cell_type": "code",
   "execution_count": 238,
   "id": "4b2cea88-9a61-480b-9a7f-82df3a1dc50e",
   "metadata": {},
   "outputs": [
    {
     "data": {
      "text/plain": [
       "63.83803033965771"
      ]
     },
     "execution_count": 238,
     "metadata": {},
     "output_type": "execute_result"
    }
   ],
   "source": [
    "standard_error = np.sqrt((a_std**2)/a_n + (b_std**2)/b_n)\n",
    "standard_error"
   ]
  },
  {
   "cell_type": "code",
   "execution_count": 240,
   "id": "9cd0ebc1-f264-48f6-bdcf-5ffeba288f0c",
   "metadata": {},
   "outputs": [],
   "source": [
    "z = (b_mean - a_mean) / standard_error"
   ]
  },
  {
   "cell_type": "code",
   "execution_count": 242,
   "id": "10eeb521-8e6c-4c17-88e7-7df1b14aa8c3",
   "metadata": {},
   "outputs": [
    {
     "data": {
      "text/plain": [
       "2.0364036814469335"
      ]
     },
     "execution_count": 242,
     "metadata": {},
     "output_type": "execute_result"
    }
   ],
   "source": [
    "z"
   ]
  },
  {
   "cell_type": "code",
   "execution_count": 244,
   "id": "12f48a18-8a1c-4b2b-8548-80082b39aeac",
   "metadata": {},
   "outputs": [],
   "source": [
    "p_value = 1 - stats.norm.cdf(abs(z))"
   ]
  },
  {
   "cell_type": "code",
   "execution_count": 246,
   "id": "bd68a668-3fbe-4516-bf9a-97024c5a53e1",
   "metadata": {},
   "outputs": [
    {
     "data": {
      "text/plain": [
       "0.020854918038506365"
      ]
     },
     "execution_count": 246,
     "metadata": {},
     "output_type": "execute_result"
    }
   ],
   "source": [
    "p_value"
   ]
  },
  {
   "cell_type": "code",
   "execution_count": 248,
   "id": "aefbe52a-c5bf-4d0b-93aa-0b3031bf08f6",
   "metadata": {},
   "outputs": [
    {
     "name": "stdout",
     "output_type": "stream",
     "text": [
      "1.959963984540054\n"
     ]
    }
   ],
   "source": [
    "z_citical = stats.norm.ppf(1 - 0.05/2)\n",
    "print(z_critical)"
   ]
  },
  {
   "cell_type": "code",
   "execution_count": 250,
   "id": "ad7aace0-bccc-44b5-bbcf-8ea17ca1746a",
   "metadata": {},
   "outputs": [],
   "source": [
    "moe = z_critical * standard_error"
   ]
  },
  {
   "cell_type": "code",
   "execution_count": null,
   "id": "7d4cf0ca-a49d-402c-b871-f1635b477bc9",
   "metadata": {},
   "outputs": [],
   "source": []
  }
 ],
 "metadata": {
  "kernelspec": {
   "display_name": "Python [conda env:base] *",
   "language": "python",
   "name": "conda-base-py"
  },
  "language_info": {
   "codemirror_mode": {
    "name": "ipython",
    "version": 3
   },
   "file_extension": ".py",
   "mimetype": "text/x-python",
   "name": "python",
   "nbconvert_exporter": "python",
   "pygments_lexer": "ipython3",
   "version": "3.12.7"
  }
 },
 "nbformat": 4,
 "nbformat_minor": 5
}
