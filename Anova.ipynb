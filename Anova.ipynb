{
 "cells": [
  {
   "cell_type": "raw",
   "id": "33385382-d2f2-4cb5-9b78-9f4255e5284d",
   "metadata": {},
   "source": [
    "A sports scientist wants to analyze if three different training programs (A, B, and C) lead to different average sprint speeds (in m/s) among sprinters.\n",
    "\n",
    "The sprint speed (in m/s) of randomly selected athletes from each program are:\n",
    "\n",
    "Program A: [8.4, 8.1, 8.3, 8.5, 8.0]\n",
    "\n",
    "Program B: [8.7, 8.9, 8.6, 8.8, 8.5]\n",
    "\n",
    "Program C: [8.2, 8.0, 8.1, 8.3, 7.9]\n",
    "\n",
    "At a 5% significance level, test if there is any significant difference in the average sprint speeds across the training programs."
   ]
  },
  {
   "cell_type": "code",
   "execution_count": 1,
   "id": "1df6edaf-e75d-466f-b8a9-7b9dc3be6c47",
   "metadata": {},
   "outputs": [],
   "source": [
    "# H₀: μ₁ = μ₂ = μ₃ (All groups have the same mean)\n",
    "\n",
    "# H₁: At least one group has a different mean"
   ]
  },
  {
   "cell_type": "code",
   "execution_count": 3,
   "id": "3e3587cf-0aac-417e-8158-6c21e963fdd1",
   "metadata": {},
   "outputs": [],
   "source": [
    "import numpy as np"
   ]
  },
  {
   "cell_type": "code",
   "execution_count": 5,
   "id": "63b4843f-c1df-4c60-98b1-1abbd63d8186",
   "metadata": {},
   "outputs": [],
   "source": [
    "from scipy import stats"
   ]
  },
  {
   "cell_type": "code",
   "execution_count": 10,
   "id": "48dac9ae-781d-4911-bf6f-db5d3ba18be6",
   "metadata": {},
   "outputs": [],
   "source": [
    "a =  [8.4, 8.1, 8.3, 8.5, 8.0]\n",
    "b =  [8.7, 8.9, 8.6, 8.8, 8.5]\n",
    "c =  [8.2, 8.0, 8.1, 8.3, 7.9]"
   ]
  },
  {
   "cell_type": "code",
   "execution_count": 12,
   "id": "4e05b87e-f12a-413b-96e8-6672618eab33",
   "metadata": {},
   "outputs": [],
   "source": [
    "f_stats, p_value = stats.f_oneway(a,b,c)"
   ]
  },
  {
   "cell_type": "code",
   "execution_count": 14,
   "id": "ceea2efd-e635-4184-a22d-87f88db624f7",
   "metadata": {},
   "outputs": [
    {
     "name": "stdout",
     "output_type": "stream",
     "text": [
      "15.569892473118252 0.00046325447314293235\n"
     ]
    }
   ],
   "source": [
    "print(f_stats, p_value)"
   ]
  },
  {
   "cell_type": "code",
   "execution_count": 16,
   "id": "9ec9a124-fd73-4985-98b8-5f493a154e7b",
   "metadata": {},
   "outputs": [],
   "source": [
    "# manual"
   ]
  },
  {
   "cell_type": "code",
   "execution_count": 22,
   "id": "6f53def5-cdbc-42da-a318-a0a37967efe4",
   "metadata": {},
   "outputs": [
    {
     "name": "stdout",
     "output_type": "stream",
     "text": [
      "8.26 8.7 8.099999999999998\n"
     ]
    }
   ],
   "source": [
    "mean_a = np.mean(a)\n",
    "mean_b = np.mean(b)\n",
    "mean_c = np.mean(c)\n",
    "print(mean_a, mean_b, mean_c)"
   ]
  },
  {
   "cell_type": "code",
   "execution_count": 26,
   "id": "b27ba840-7d07-4b6c-8778-c14c3653bb69",
   "metadata": {},
   "outputs": [
    {
     "name": "stdout",
     "output_type": "stream",
     "text": [
      "8.353333333333333\n"
     ]
    }
   ],
   "source": [
    "total_mean = (mean_a + mean_b + mean_c) / 3\n",
    "print(total_mean)"
   ]
  },
  {
   "cell_type": "code",
   "execution_count": 28,
   "id": "b10b129c-0a32-4bd2-8e76-9e7cad5daa3f",
   "metadata": {},
   "outputs": [],
   "source": [
    "# Calculate Sum of Squares Between Groups (SSB)"
   ]
  },
  {
   "cell_type": "code",
   "execution_count": 30,
   "id": "0ebaaf71-64f6-46c4-8b52-1b3a4f87c17a",
   "metadata": {},
   "outputs": [],
   "source": [
    "n = 5"
   ]
  },
  {
   "cell_type": "code",
   "execution_count": 36,
   "id": "f8e98130-7079-47fd-829b-575856bc785c",
   "metadata": {},
   "outputs": [],
   "source": [
    "ssb = n*((mean_a - total_mean)**2 + (mean_b - total_mean)**2 + (mean_c - total_mean)**2)"
   ]
  },
  {
   "cell_type": "code",
   "execution_count": 38,
   "id": "0636073b-2358-4567-8637-8b3d329d78d2",
   "metadata": {},
   "outputs": [
    {
     "data": {
      "text/plain": [
       "0.9653333333333365"
      ]
     },
     "execution_count": 38,
     "metadata": {},
     "output_type": "execute_result"
    }
   ],
   "source": [
    "ssb"
   ]
  },
  {
   "cell_type": "code",
   "execution_count": 40,
   "id": "2efbddc8-70dc-4f65-b9c7-7de96394cfbc",
   "metadata": {},
   "outputs": [],
   "source": [
    "# Calculate Sum of Squares Within Groups (SSW)"
   ]
  },
  {
   "cell_type": "code",
   "execution_count": 42,
   "id": "5d46e8a4-f2d3-45d8-b245-309f7b6c2589",
   "metadata": {},
   "outputs": [],
   "source": [
    "a =  [8.4, 8.1, 8.3, 8.5, 8.0]\n",
    "b =  [8.7, 8.9, 8.6, 8.8, 8.5]\n",
    "c =  [8.2, 8.0, 8.1, 8.3, 7.9]"
   ]
  },
  {
   "cell_type": "code",
   "execution_count": 44,
   "id": "de982437-3cb8-4092-b4cc-4115cf92fa0a",
   "metadata": {},
   "outputs": [],
   "source": [
    "ssw1 = (8.4 - mean_a)**2 + ( 8.1 - mean_a)**2 + (8.3 - mean_a)**2 + (8.5 - mean_a)**2 + (8.0 - mean_a)**2"
   ]
  },
  {
   "cell_type": "code",
   "execution_count": 46,
   "id": "6ef98a68-03b5-4d32-b75d-a9b3b9351fce",
   "metadata": {},
   "outputs": [],
   "source": [
    "ssw2 = (8.7 - mean_b)**2 + (8.9 - mean_b)**2 + (8.6 - mean_b)**2 +  (8.8 - mean_b)**2 + (8.5 - mean_b)**2"
   ]
  },
  {
   "cell_type": "code",
   "execution_count": 48,
   "id": "68c2aa2f-ec2b-4447-ac2e-b5bbb2cb9276",
   "metadata": {},
   "outputs": [],
   "source": [
    "ssw3 = (8.2 - mean_c)**2 + (8.0 - mean_c)**2 + (8.1 - mean_c)**2 + (8.3 - mean_c)**2 + (7.9 - mean_c)**2"
   ]
  },
  {
   "cell_type": "code",
   "execution_count": 50,
   "id": "93078262-2d07-40be-a36d-2149a7f4ac16",
   "metadata": {},
   "outputs": [],
   "source": [
    "ssw = ssw1 + ssw2 + ssw3"
   ]
  },
  {
   "cell_type": "code",
   "execution_count": 52,
   "id": "d37213e1-b8ea-4b4f-a847-6307fb2022bd",
   "metadata": {},
   "outputs": [
    {
     "data": {
      "text/plain": [
       "0.37200000000000066"
      ]
     },
     "execution_count": 52,
     "metadata": {},
     "output_type": "execute_result"
    }
   ],
   "source": [
    "ssw"
   ]
  },
  {
   "cell_type": "code",
   "execution_count": 54,
   "id": "d3d36800-9637-4e34-9467-a4a687373f37",
   "metadata": {},
   "outputs": [],
   "source": [
    "df_between = 3 - 1 "
   ]
  },
  {
   "cell_type": "code",
   "execution_count": 58,
   "id": "ccf1bf78-de1e-4218-89d7-2f4d30d2eea5",
   "metadata": {},
   "outputs": [],
   "source": [
    "df_within = 15 - 3"
   ]
  },
  {
   "cell_type": "code",
   "execution_count": 60,
   "id": "d33c041c-b80e-4db3-a96a-8d28825cecbb",
   "metadata": {},
   "outputs": [],
   "source": [
    " # Calculate Mean Squares"
   ]
  },
  {
   "cell_type": "code",
   "execution_count": 62,
   "id": "865665b0-6e18-4537-850d-1d3175b5ad60",
   "metadata": {},
   "outputs": [],
   "source": [
    "msb = ssb / df_between"
   ]
  },
  {
   "cell_type": "code",
   "execution_count": 64,
   "id": "c06e5820-2281-41ab-884c-c58755b0f854",
   "metadata": {},
   "outputs": [],
   "source": [
    "msw = ssw / df_within"
   ]
  },
  {
   "cell_type": "code",
   "execution_count": 66,
   "id": "1a0cbaac-c699-4380-a1a5-ceb0464008fa",
   "metadata": {},
   "outputs": [],
   "source": [
    "f_stats = msb/msw"
   ]
  },
  {
   "cell_type": "code",
   "execution_count": 68,
   "id": "24edb5b7-5fab-4a76-9388-b15b116d7c3a",
   "metadata": {},
   "outputs": [
    {
     "data": {
      "text/plain": [
       "15.569892473118303"
      ]
     },
     "execution_count": 68,
     "metadata": {},
     "output_type": "execute_result"
    }
   ],
   "source": [
    "f_stats"
   ]
  },
  {
   "cell_type": "code",
   "execution_count": 70,
   "id": "21b0aa8d-8380-4aee-a910-e3933592a3c1",
   "metadata": {},
   "outputs": [
    {
     "name": "stdout",
     "output_type": "stream",
     "text": [
      "3.8852938346523933\n"
     ]
    }
   ],
   "source": [
    "from scipy.stats import f\n",
    "\n",
    "alpha = 0.05  # Significance level\n",
    "df_between = 2  # numerator degrees of freedom\n",
    "df_within = 12  # denominator degrees of freedom\n",
    "\n",
    "f_critical = f.ppf(1 - alpha, df_between, df_within)\n",
    "print(f_critical)"
   ]
  },
  {
   "cell_type": "raw",
   "id": "5a965bc8-d4ce-4fdc-a74b-a2ada27715c7",
   "metadata": {},
   "source": [
    "A basketball analytics firm is evaluating whether player performance differs based on the position played. They collect average points per game for a random sample of players from three positions:\n",
    "\n",
    "Guards: 15, 18, 14, 20, 17\n",
    "\n",
    "Forwards: 22, 25, 19, 24, 23\n",
    "\n",
    "Centers: 13, 15, 16, 14, 12\n",
    "\n",
    "At a 5% significance level, test whether there is a significant difference in the average points per game across the three positions using ANOVA."
   ]
  },
  {
   "cell_type": "code",
   "execution_count": 3,
   "id": "febf2618-31f7-46f0-ae29-1e60a32be074",
   "metadata": {},
   "outputs": [],
   "source": [
    "import numpy as np\n",
    "from scipy import stats"
   ]
  },
  {
   "cell_type": "code",
   "execution_count": 1,
   "id": "da798a46-b6d1-47e6-8f6a-8853641a5856",
   "metadata": {},
   "outputs": [],
   "source": [
    "a = [15,18, 14, 20, 17]\n",
    "b = [22, 25, 19, 24, 23]\n",
    "c = [13, 15, 16, 14, 12]"
   ]
  },
  {
   "cell_type": "code",
   "execution_count": 5,
   "id": "5d525e33-4238-4a51-a9f3-0be7448bea2a",
   "metadata": {},
   "outputs": [],
   "source": [
    "f_stats, p_value = stats.f_oneway(a,b,c)"
   ]
  },
  {
   "cell_type": "code",
   "execution_count": 7,
   "id": "b6d5aefc-1f94-46a4-95af-a0853d7ab476",
   "metadata": {},
   "outputs": [
    {
     "name": "stdout",
     "output_type": "stream",
     "text": [
      "21.37777777777779 0.00011079453471211849\n"
     ]
    }
   ],
   "source": [
    "print(f_stats, p_value)"
   ]
  },
  {
   "cell_type": "code",
   "execution_count": 11,
   "id": "2c28c23e-1171-4253-814e-6ea680631e6e",
   "metadata": {},
   "outputs": [],
   "source": [
    "df1 = 2\n",
    "df2 = 12"
   ]
  },
  {
   "cell_type": "code",
   "execution_count": 13,
   "id": "87df5aab-0dbd-4402-83e1-0b0f8eb4a399",
   "metadata": {},
   "outputs": [],
   "source": [
    "f_critical = stats.f.ppf(1 - 0.05, df1, df2)"
   ]
  },
  {
   "cell_type": "code",
   "execution_count": 15,
   "id": "431fac14-ede0-4353-8bab-a0e28918f9c6",
   "metadata": {},
   "outputs": [
    {
     "data": {
      "text/plain": [
       "3.8852938346523933"
      ]
     },
     "execution_count": 15,
     "metadata": {},
     "output_type": "execute_result"
    }
   ],
   "source": [
    "f_critical"
   ]
  },
  {
   "cell_type": "code",
   "execution_count": 17,
   "id": "8aa585ab-6eda-4b72-9fc4-f4e63d0d6f99",
   "metadata": {},
   "outputs": [],
   "source": [
    "mean_a = np.mean(a)\n",
    "mean_b = np.mean(b)\n",
    "mean_c = np.mean(c)"
   ]
  },
  {
   "cell_type": "code",
   "execution_count": 19,
   "id": "54e3e7bc-5b40-48f6-864e-a18e008f3981",
   "metadata": {},
   "outputs": [],
   "source": [
    "total = (mean_a + mean_b + mean_c)/3"
   ]
  },
  {
   "cell_type": "code",
   "execution_count": 21,
   "id": "66778daa-43b1-4590-8601-f4d4309ebc2d",
   "metadata": {},
   "outputs": [
    {
     "data": {
      "text/plain": [
       "17.8"
      ]
     },
     "execution_count": 21,
     "metadata": {},
     "output_type": "execute_result"
    }
   ],
   "source": [
    "total"
   ]
  },
  {
   "cell_type": "code",
   "execution_count": 23,
   "id": "d7583a33-0485-4be3-80e9-957f53f91aeb",
   "metadata": {},
   "outputs": [],
   "source": [
    "a = [15,18, 14, 20, 17]\n",
    "b = [22, 25, 19, 24, 23]\n",
    "c = [13, 15, 16, 14, 12]"
   ]
  },
  {
   "cell_type": "code",
   "execution_count": 25,
   "id": "b3c81499-3aed-46b7-87fa-168ee719c764",
   "metadata": {},
   "outputs": [],
   "source": [
    "df_between = 3-1\n",
    "df_within = 15 - 3"
   ]
  },
  {
   "cell_type": "code",
   "execution_count": 27,
   "id": "c7b1ddaf-e134-49e5-8d9e-1aefaeed4317",
   "metadata": {},
   "outputs": [],
   "source": [
    "ssb = 5*((mean_a - total)**2 + (mean_b - total)**2 + (mean_c - total)**2)"
   ]
  },
  {
   "cell_type": "code",
   "execution_count": 29,
   "id": "98a8fe3e-e470-4ce5-b7c1-c2a0b0e8ea0e",
   "metadata": {},
   "outputs": [
    {
     "data": {
      "text/plain": [
       "192.40000000000006"
      ]
     },
     "execution_count": 29,
     "metadata": {},
     "output_type": "execute_result"
    }
   ],
   "source": [
    "ssb"
   ]
  },
  {
   "cell_type": "code",
   "execution_count": 33,
   "id": "433cf30b-3132-40f4-881c-22db3230e82c",
   "metadata": {},
   "outputs": [],
   "source": [
    "ssw1 = (15 - mean_a)**2+(18-mean_a)**2+( 14 - mean_a)**2 +  (20 - mean_a)**2 + ( 17 - mean_a)**2"
   ]
  },
  {
   "cell_type": "code",
   "execution_count": 35,
   "id": "7aae45dd-b304-4f91-8743-ae763e41f5d9",
   "metadata": {},
   "outputs": [],
   "source": [
    "ssw2 = (22 - mean_b)**2 + (25 - mean_b)**2 + (19 - mean_b)**2 + (24 - mean_b)**2 + (23 - mean_b)**2"
   ]
  },
  {
   "cell_type": "code",
   "execution_count": 37,
   "id": "f6cea5ed-e74f-4087-8dd9-908cd65da12a",
   "metadata": {},
   "outputs": [],
   "source": [
    "ssw3 = (13 - mean_c)**2 + (15 - mean_c)**2 + (16 - mean_c)**2 + (14 - mean_c)**2 + (12 - mean_c)**2"
   ]
  },
  {
   "cell_type": "code",
   "execution_count": 39,
   "id": "90b5ddb3-bcdd-4944-8ac2-6474741ec88f",
   "metadata": {},
   "outputs": [],
   "source": [
    "ssw = ssw1 + ssw2 + ssw3"
   ]
  },
  {
   "cell_type": "code",
   "execution_count": 41,
   "id": "a17f4705-6ec7-4abd-8843-f5660b1f9442",
   "metadata": {},
   "outputs": [
    {
     "data": {
      "text/plain": [
       "54.0"
      ]
     },
     "execution_count": 41,
     "metadata": {},
     "output_type": "execute_result"
    }
   ],
   "source": [
    "ssw"
   ]
  },
  {
   "cell_type": "code",
   "execution_count": 43,
   "id": "b83be4ca-e80b-4bb5-9759-ff285017c53d",
   "metadata": {},
   "outputs": [],
   "source": [
    "msb = ssb/df_between\n",
    "msw = ssw/df_within"
   ]
  },
  {
   "cell_type": "code",
   "execution_count": 47,
   "id": "ac194974-5137-4cf7-8a3c-ec5013d53264",
   "metadata": {},
   "outputs": [],
   "source": [
    "f_stats = msb / msw"
   ]
  },
  {
   "cell_type": "code",
   "execution_count": 49,
   "id": "d614f080-ffd3-4dce-9566-05746a6deb50",
   "metadata": {},
   "outputs": [],
   "source": [
    "ModelA = [7, 8, 9, 6, 8]\n",
    "\n",
    "ModelB =  [6, 7, 7, 6, 5]\n",
    "\n",
    "ModelC = [9, 8, 10, 9, 8]"
   ]
  },
  {
   "cell_type": "code",
   "execution_count": 51,
   "id": "709b2438-9ce7-4e40-9f53-e1f39deea3ae",
   "metadata": {},
   "outputs": [],
   "source": [
    "f_stats, p_value = stats.f_oneway(ModelA, ModelB, ModelC)"
   ]
  },
  {
   "cell_type": "code",
   "execution_count": 53,
   "id": "70ed2dca-0bed-4065-8b28-9521230f2606",
   "metadata": {},
   "outputs": [
    {
     "name": "stdout",
     "output_type": "stream",
     "text": [
      "9.407407407407407 0.0034876275808776013\n"
     ]
    }
   ],
   "source": [
    "print(f_stats, p_value)"
   ]
  },
  {
   "cell_type": "code",
   "execution_count": 55,
   "id": "81d375ab-6edc-4973-b355-9b4e78e842ee",
   "metadata": {},
   "outputs": [],
   "source": [
    "df1 = 3-1\n",
    "df2 = 15 - 3"
   ]
  },
  {
   "cell_type": "code",
   "execution_count": 57,
   "id": "8022db83-5906-4aac-a757-165f89637239",
   "metadata": {},
   "outputs": [],
   "source": [
    "f_critical = stats.f.ppf((1 - 0.05/2),df1,df2)"
   ]
  },
  {
   "cell_type": "code",
   "execution_count": 59,
   "id": "bd89ca8b-f439-43a5-adca-0647a2c510b9",
   "metadata": {},
   "outputs": [
    {
     "data": {
      "text/plain": [
       "5.095867165783942"
      ]
     },
     "execution_count": 59,
     "metadata": {},
     "output_type": "execute_result"
    }
   ],
   "source": [
    "f_critical"
   ]
  },
  {
   "cell_type": "code",
   "execution_count": 63,
   "id": "2fc0ab5f-94fc-4daf-b02f-b6d3144bd60a",
   "metadata": {},
   "outputs": [
    {
     "name": "stdout",
     "output_type": "stream",
     "text": [
      "9.407407407407407 0.0034876275808776013 5.095867165783942\n"
     ]
    }
   ],
   "source": [
    "print(f_stats, p_value, f_critical)"
   ]
  },
  {
   "cell_type": "code",
   "execution_count": 65,
   "id": "28d8c138-7da4-45ea-abbd-383fdc296c18",
   "metadata": {},
   "outputs": [],
   "source": [
    " # collect customer satisfaction scores (out of 10) from recent buyers:\n",
    "\n",
    "Nike =  [8.2, 7.9, 8.5, 8.0, 7.8]\n",
    "\n",
    "Adidas = [7.2, 6.9, 7.5, 7.1, 6.8]\n",
    "\n",
    "Puma = [8.4, 8.6, 8.1, 8.7, 8.3]"
   ]
  },
  {
   "cell_type": "code",
   "execution_count": 67,
   "id": "78a3be87-e8a9-4a13-8ae0-ceb547947761",
   "metadata": {},
   "outputs": [],
   "source": [
    "f_stats, p_value = stats.f_oneway(Nike,Adidas, Puma)"
   ]
  },
  {
   "cell_type": "code",
   "execution_count": 69,
   "id": "0d7faec4-83d8-4ae9-a42f-df22665c6017",
   "metadata": {},
   "outputs": [
    {
     "name": "stdout",
     "output_type": "stream",
     "text": [
      "33.7129186602871 1.1893691368131833e-05\n"
     ]
    }
   ],
   "source": [
    "print(f_stats, p_value)"
   ]
  },
  {
   "cell_type": "code",
   "execution_count": 71,
   "id": "d0d12fc7-5be6-4dc7-9592-43b4d9f7f760",
   "metadata": {},
   "outputs": [],
   "source": [
    "df1 = 3-1\n",
    "df2 = 15-3"
   ]
  },
  {
   "cell_type": "code",
   "execution_count": 73,
   "id": "7f6aa800-037b-4c18-bbe9-8ce970108398",
   "metadata": {},
   "outputs": [],
   "source": [
    "f_critical = stats.f.ppf(1 - 0.5, df1,df2)"
   ]
  },
  {
   "cell_type": "code",
   "execution_count": 75,
   "id": "e1db4215-deaf-48a4-a9d2-70fd1c81565f",
   "metadata": {},
   "outputs": [
    {
     "data": {
      "text/plain": [
       "0.7347722898562379"
      ]
     },
     "execution_count": 75,
     "metadata": {},
     "output_type": "execute_result"
    }
   ],
   "source": [
    "f_critical"
   ]
  },
  {
   "cell_type": "code",
   "execution_count": 77,
   "id": "7f7e793e-bd45-4734-a70e-51f9aa0a0eda",
   "metadata": {},
   "outputs": [
    {
     "name": "stdout",
     "output_type": "stream",
     "text": [
      "33.7129186602871 1.1893691368131833e-05 0.7347722898562379\n"
     ]
    }
   ],
   "source": [
    "print(f_stats, p_value, f_critical)"
   ]
  },
  {
   "cell_type": "code",
   "execution_count": 9,
   "id": "a98b3dd6-847d-433c-904f-2bf01090452c",
   "metadata": {},
   "outputs": [],
   "source": [
    "import numpy as np\n",
    "from scipy import stats\n",
    "import pandas as pd"
   ]
  },
  {
   "cell_type": "code",
   "execution_count": 3,
   "id": "9b5855a2-3b67-4246-a780-e2a7b7d07d90",
   "metadata": {},
   "outputs": [],
   "source": [
    "# Repeated measure anova test"
   ]
  },
  {
   "cell_type": "code",
   "execution_count": 5,
   "id": "ae9b601c-8468-4122-96d9-fc6de1c3b190",
   "metadata": {},
   "outputs": [],
   "source": [
    "data = {\n",
    "    \"Player\": [1, 2, 3, 4, 5]*3,\n",
    "    \"Time\": [\"Before\"]*5 + [\"Mid\"]*5 + [\"After\"]*5,\n",
    "    \"Sprint\": [5.4, 5.6, 5.5, 5.8, 5.7,  # Before\n",
    "               5.2, 5.4, 5.3, 5.5, 5.5,  # Mid\n",
    "               5.1, 5.3, 5.2, 5.4, 5.3]  # After\n",
    "}"
   ]
  },
  {
   "cell_type": "code",
   "execution_count": 11,
   "id": "4153e5fb-60b2-48d5-9e96-2663cdc0f4a8",
   "metadata": {},
   "outputs": [],
   "source": [
    "df = pd.DataFrame(data)"
   ]
  },
  {
   "cell_type": "code",
   "execution_count": 13,
   "id": "3e905303-d060-4eb4-b102-ba6f4a52d2a4",
   "metadata": {},
   "outputs": [
    {
     "data": {
      "text/html": [
       "<div>\n",
       "<style scoped>\n",
       "    .dataframe tbody tr th:only-of-type {\n",
       "        vertical-align: middle;\n",
       "    }\n",
       "\n",
       "    .dataframe tbody tr th {\n",
       "        vertical-align: top;\n",
       "    }\n",
       "\n",
       "    .dataframe thead th {\n",
       "        text-align: right;\n",
       "    }\n",
       "</style>\n",
       "<table border=\"1\" class=\"dataframe\">\n",
       "  <thead>\n",
       "    <tr style=\"text-align: right;\">\n",
       "      <th></th>\n",
       "      <th>Player</th>\n",
       "      <th>Time</th>\n",
       "      <th>Sprint</th>\n",
       "    </tr>\n",
       "  </thead>\n",
       "  <tbody>\n",
       "    <tr>\n",
       "      <th>0</th>\n",
       "      <td>1</td>\n",
       "      <td>Before</td>\n",
       "      <td>5.4</td>\n",
       "    </tr>\n",
       "    <tr>\n",
       "      <th>1</th>\n",
       "      <td>2</td>\n",
       "      <td>Before</td>\n",
       "      <td>5.6</td>\n",
       "    </tr>\n",
       "    <tr>\n",
       "      <th>2</th>\n",
       "      <td>3</td>\n",
       "      <td>Before</td>\n",
       "      <td>5.5</td>\n",
       "    </tr>\n",
       "    <tr>\n",
       "      <th>3</th>\n",
       "      <td>4</td>\n",
       "      <td>Before</td>\n",
       "      <td>5.8</td>\n",
       "    </tr>\n",
       "    <tr>\n",
       "      <th>4</th>\n",
       "      <td>5</td>\n",
       "      <td>Before</td>\n",
       "      <td>5.7</td>\n",
       "    </tr>\n",
       "    <tr>\n",
       "      <th>5</th>\n",
       "      <td>1</td>\n",
       "      <td>Mid</td>\n",
       "      <td>5.2</td>\n",
       "    </tr>\n",
       "    <tr>\n",
       "      <th>6</th>\n",
       "      <td>2</td>\n",
       "      <td>Mid</td>\n",
       "      <td>5.4</td>\n",
       "    </tr>\n",
       "    <tr>\n",
       "      <th>7</th>\n",
       "      <td>3</td>\n",
       "      <td>Mid</td>\n",
       "      <td>5.3</td>\n",
       "    </tr>\n",
       "    <tr>\n",
       "      <th>8</th>\n",
       "      <td>4</td>\n",
       "      <td>Mid</td>\n",
       "      <td>5.5</td>\n",
       "    </tr>\n",
       "    <tr>\n",
       "      <th>9</th>\n",
       "      <td>5</td>\n",
       "      <td>Mid</td>\n",
       "      <td>5.5</td>\n",
       "    </tr>\n",
       "    <tr>\n",
       "      <th>10</th>\n",
       "      <td>1</td>\n",
       "      <td>After</td>\n",
       "      <td>5.1</td>\n",
       "    </tr>\n",
       "    <tr>\n",
       "      <th>11</th>\n",
       "      <td>2</td>\n",
       "      <td>After</td>\n",
       "      <td>5.3</td>\n",
       "    </tr>\n",
       "    <tr>\n",
       "      <th>12</th>\n",
       "      <td>3</td>\n",
       "      <td>After</td>\n",
       "      <td>5.2</td>\n",
       "    </tr>\n",
       "    <tr>\n",
       "      <th>13</th>\n",
       "      <td>4</td>\n",
       "      <td>After</td>\n",
       "      <td>5.4</td>\n",
       "    </tr>\n",
       "    <tr>\n",
       "      <th>14</th>\n",
       "      <td>5</td>\n",
       "      <td>After</td>\n",
       "      <td>5.3</td>\n",
       "    </tr>\n",
       "  </tbody>\n",
       "</table>\n",
       "</div>"
      ],
      "text/plain": [
       "    Player    Time  Sprint\n",
       "0        1  Before     5.4\n",
       "1        2  Before     5.6\n",
       "2        3  Before     5.5\n",
       "3        4  Before     5.8\n",
       "4        5  Before     5.7\n",
       "5        1     Mid     5.2\n",
       "6        2     Mid     5.4\n",
       "7        3     Mid     5.3\n",
       "8        4     Mid     5.5\n",
       "9        5     Mid     5.5\n",
       "10       1   After     5.1\n",
       "11       2   After     5.3\n",
       "12       3   After     5.2\n",
       "13       4   After     5.4\n",
       "14       5   After     5.3"
      ]
     },
     "execution_count": 13,
     "metadata": {},
     "output_type": "execute_result"
    }
   ],
   "source": [
    "df"
   ]
  },
  {
   "cell_type": "code",
   "execution_count": 15,
   "id": "ef8c322e-5c5e-4a8f-ad27-04293f357cd7",
   "metadata": {},
   "outputs": [],
   "source": [
    "from statsmodels.stats.anova import AnovaRM"
   ]
  },
  {
   "cell_type": "code",
   "execution_count": 17,
   "id": "4738fe84-eca5-4ef8-9b5a-cb6e18cc6f84",
   "metadata": {},
   "outputs": [],
   "source": [
    "anova = AnovaRM(df, depvar='Sprint', subject = 'Player', within=['Time']).fit()"
   ]
  },
  {
   "cell_type": "code",
   "execution_count": 19,
   "id": "fe5f8fff-de2b-431e-a894-7e23be3da525",
   "metadata": {},
   "outputs": [
    {
     "name": "stdout",
     "output_type": "stream",
     "text": [
      "              Anova\n",
      "==================================\n",
      "     F Value  Num DF Den DF Pr > F\n",
      "----------------------------------\n",
      "Time 127.4286 2.0000 8.0000 0.0000\n",
      "==================================\n",
      "\n"
     ]
    }
   ],
   "source": [
    "print(anova)"
   ]
  },
  {
   "cell_type": "code",
   "execution_count": 21,
   "id": "581cbbde-6f3b-4911-b6db-1980a2ce894a",
   "metadata": {},
   "outputs": [],
   "source": [
    "df = pd.read_csv('Copy of Diet.csv')"
   ]
  },
  {
   "cell_type": "code",
   "execution_count": 23,
   "id": "765cef5e-dbee-45a5-98f1-06ced7e4fc9a",
   "metadata": {},
   "outputs": [
    {
     "data": {
      "text/html": [
       "<div>\n",
       "<style scoped>\n",
       "    .dataframe tbody tr th:only-of-type {\n",
       "        vertical-align: middle;\n",
       "    }\n",
       "\n",
       "    .dataframe tbody tr th {\n",
       "        vertical-align: top;\n",
       "    }\n",
       "\n",
       "    .dataframe thead th {\n",
       "        text-align: right;\n",
       "    }\n",
       "</style>\n",
       "<table border=\"1\" class=\"dataframe\">\n",
       "  <thead>\n",
       "    <tr style=\"text-align: right;\">\n",
       "      <th></th>\n",
       "      <th>gender</th>\n",
       "      <th>Diet</th>\n",
       "      <th>weight</th>\n",
       "      <th>weight6weeks</th>\n",
       "    </tr>\n",
       "  </thead>\n",
       "  <tbody>\n",
       "    <tr>\n",
       "      <th>0</th>\n",
       "      <td>M</td>\n",
       "      <td>B</td>\n",
       "      <td>60</td>\n",
       "      <td>60.0</td>\n",
       "    </tr>\n",
       "    <tr>\n",
       "      <th>1</th>\n",
       "      <td>M</td>\n",
       "      <td>B</td>\n",
       "      <td>103</td>\n",
       "      <td>103.0</td>\n",
       "    </tr>\n",
       "    <tr>\n",
       "      <th>2</th>\n",
       "      <td>F</td>\n",
       "      <td>A</td>\n",
       "      <td>58</td>\n",
       "      <td>54.2</td>\n",
       "    </tr>\n",
       "    <tr>\n",
       "      <th>3</th>\n",
       "      <td>F</td>\n",
       "      <td>A</td>\n",
       "      <td>60</td>\n",
       "      <td>54.0</td>\n",
       "    </tr>\n",
       "    <tr>\n",
       "      <th>4</th>\n",
       "      <td>F</td>\n",
       "      <td>A</td>\n",
       "      <td>64</td>\n",
       "      <td>63.3</td>\n",
       "    </tr>\n",
       "    <tr>\n",
       "      <th>...</th>\n",
       "      <td>...</td>\n",
       "      <td>...</td>\n",
       "      <td>...</td>\n",
       "      <td>...</td>\n",
       "    </tr>\n",
       "    <tr>\n",
       "      <th>73</th>\n",
       "      <td>M</td>\n",
       "      <td>C</td>\n",
       "      <td>83</td>\n",
       "      <td>80.2</td>\n",
       "    </tr>\n",
       "    <tr>\n",
       "      <th>74</th>\n",
       "      <td>M</td>\n",
       "      <td>C</td>\n",
       "      <td>84</td>\n",
       "      <td>79.9</td>\n",
       "    </tr>\n",
       "    <tr>\n",
       "      <th>75</th>\n",
       "      <td>M</td>\n",
       "      <td>C</td>\n",
       "      <td>85</td>\n",
       "      <td>79.7</td>\n",
       "    </tr>\n",
       "    <tr>\n",
       "      <th>76</th>\n",
       "      <td>M</td>\n",
       "      <td>C</td>\n",
       "      <td>87</td>\n",
       "      <td>77.8</td>\n",
       "    </tr>\n",
       "    <tr>\n",
       "      <th>77</th>\n",
       "      <td>M</td>\n",
       "      <td>C</td>\n",
       "      <td>88</td>\n",
       "      <td>81.9</td>\n",
       "    </tr>\n",
       "  </tbody>\n",
       "</table>\n",
       "<p>78 rows × 4 columns</p>\n",
       "</div>"
      ],
      "text/plain": [
       "   gender Diet  weight  weight6weeks\n",
       "0       M    B      60          60.0\n",
       "1       M    B     103         103.0\n",
       "2       F    A      58          54.2\n",
       "3       F    A      60          54.0\n",
       "4       F    A      64          63.3\n",
       "..    ...  ...     ...           ...\n",
       "73      M    C      83          80.2\n",
       "74      M    C      84          79.9\n",
       "75      M    C      85          79.7\n",
       "76      M    C      87          77.8\n",
       "77      M    C      88          81.9\n",
       "\n",
       "[78 rows x 4 columns]"
      ]
     },
     "execution_count": 23,
     "metadata": {},
     "output_type": "execute_result"
    }
   ],
   "source": [
    "df"
   ]
  },
  {
   "cell_type": "code",
   "execution_count": 25,
   "id": "cb78799e-8d97-4dcc-846e-31826993a2b7",
   "metadata": {},
   "outputs": [],
   "source": [
    "data = {\n",
    "    'Player': [1, 2, 3, 4, 5, 6]*3,\n",
    "    'Condition': ['Fresh']*6 + ['Moderate']*6 + ['Exhausted']*6,\n",
    "    'Accuracy': [90, 88, 92, 89, 91, 87,    # Fresh\n",
    "                 85, 84, 87, 83, 86, 82,    # Moderate\n",
    "                 80, 79, 82, 78, 81, 76]    # Exhausted\n",
    "}\n",
    "\n",
    "dx = pd.DataFrame(data)"
   ]
  },
  {
   "cell_type": "code",
   "execution_count": 27,
   "id": "d2594db6-1103-4493-8da1-3be0a6022caa",
   "metadata": {},
   "outputs": [
    {
     "data": {
      "text/html": [
       "<div>\n",
       "<style scoped>\n",
       "    .dataframe tbody tr th:only-of-type {\n",
       "        vertical-align: middle;\n",
       "    }\n",
       "\n",
       "    .dataframe tbody tr th {\n",
       "        vertical-align: top;\n",
       "    }\n",
       "\n",
       "    .dataframe thead th {\n",
       "        text-align: right;\n",
       "    }\n",
       "</style>\n",
       "<table border=\"1\" class=\"dataframe\">\n",
       "  <thead>\n",
       "    <tr style=\"text-align: right;\">\n",
       "      <th></th>\n",
       "      <th>Player</th>\n",
       "      <th>Condition</th>\n",
       "      <th>Accuracy</th>\n",
       "    </tr>\n",
       "  </thead>\n",
       "  <tbody>\n",
       "    <tr>\n",
       "      <th>0</th>\n",
       "      <td>1</td>\n",
       "      <td>Fresh</td>\n",
       "      <td>90</td>\n",
       "    </tr>\n",
       "    <tr>\n",
       "      <th>1</th>\n",
       "      <td>2</td>\n",
       "      <td>Fresh</td>\n",
       "      <td>88</td>\n",
       "    </tr>\n",
       "    <tr>\n",
       "      <th>2</th>\n",
       "      <td>3</td>\n",
       "      <td>Fresh</td>\n",
       "      <td>92</td>\n",
       "    </tr>\n",
       "    <tr>\n",
       "      <th>3</th>\n",
       "      <td>4</td>\n",
       "      <td>Fresh</td>\n",
       "      <td>89</td>\n",
       "    </tr>\n",
       "    <tr>\n",
       "      <th>4</th>\n",
       "      <td>5</td>\n",
       "      <td>Fresh</td>\n",
       "      <td>91</td>\n",
       "    </tr>\n",
       "    <tr>\n",
       "      <th>5</th>\n",
       "      <td>6</td>\n",
       "      <td>Fresh</td>\n",
       "      <td>87</td>\n",
       "    </tr>\n",
       "    <tr>\n",
       "      <th>6</th>\n",
       "      <td>1</td>\n",
       "      <td>Moderate</td>\n",
       "      <td>85</td>\n",
       "    </tr>\n",
       "    <tr>\n",
       "      <th>7</th>\n",
       "      <td>2</td>\n",
       "      <td>Moderate</td>\n",
       "      <td>84</td>\n",
       "    </tr>\n",
       "    <tr>\n",
       "      <th>8</th>\n",
       "      <td>3</td>\n",
       "      <td>Moderate</td>\n",
       "      <td>87</td>\n",
       "    </tr>\n",
       "    <tr>\n",
       "      <th>9</th>\n",
       "      <td>4</td>\n",
       "      <td>Moderate</td>\n",
       "      <td>83</td>\n",
       "    </tr>\n",
       "    <tr>\n",
       "      <th>10</th>\n",
       "      <td>5</td>\n",
       "      <td>Moderate</td>\n",
       "      <td>86</td>\n",
       "    </tr>\n",
       "    <tr>\n",
       "      <th>11</th>\n",
       "      <td>6</td>\n",
       "      <td>Moderate</td>\n",
       "      <td>82</td>\n",
       "    </tr>\n",
       "    <tr>\n",
       "      <th>12</th>\n",
       "      <td>1</td>\n",
       "      <td>Exhausted</td>\n",
       "      <td>80</td>\n",
       "    </tr>\n",
       "    <tr>\n",
       "      <th>13</th>\n",
       "      <td>2</td>\n",
       "      <td>Exhausted</td>\n",
       "      <td>79</td>\n",
       "    </tr>\n",
       "    <tr>\n",
       "      <th>14</th>\n",
       "      <td>3</td>\n",
       "      <td>Exhausted</td>\n",
       "      <td>82</td>\n",
       "    </tr>\n",
       "    <tr>\n",
       "      <th>15</th>\n",
       "      <td>4</td>\n",
       "      <td>Exhausted</td>\n",
       "      <td>78</td>\n",
       "    </tr>\n",
       "    <tr>\n",
       "      <th>16</th>\n",
       "      <td>5</td>\n",
       "      <td>Exhausted</td>\n",
       "      <td>81</td>\n",
       "    </tr>\n",
       "    <tr>\n",
       "      <th>17</th>\n",
       "      <td>6</td>\n",
       "      <td>Exhausted</td>\n",
       "      <td>76</td>\n",
       "    </tr>\n",
       "  </tbody>\n",
       "</table>\n",
       "</div>"
      ],
      "text/plain": [
       "    Player  Condition  Accuracy\n",
       "0        1      Fresh        90\n",
       "1        2      Fresh        88\n",
       "2        3      Fresh        92\n",
       "3        4      Fresh        89\n",
       "4        5      Fresh        91\n",
       "5        6      Fresh        87\n",
       "6        1   Moderate        85\n",
       "7        2   Moderate        84\n",
       "8        3   Moderate        87\n",
       "9        4   Moderate        83\n",
       "10       5   Moderate        86\n",
       "11       6   Moderate        82\n",
       "12       1  Exhausted        80\n",
       "13       2  Exhausted        79\n",
       "14       3  Exhausted        82\n",
       "15       4  Exhausted        78\n",
       "16       5  Exhausted        81\n",
       "17       6  Exhausted        76"
      ]
     },
     "execution_count": 27,
     "metadata": {},
     "output_type": "execute_result"
    }
   ],
   "source": [
    "dx"
   ]
  },
  {
   "cell_type": "code",
   "execution_count": 29,
   "id": "20fd84b3-fdb9-4085-af16-235367b55092",
   "metadata": {},
   "outputs": [],
   "source": [
    "anova = AnovaRM(dx, depvar='Accuracy',subject = 'Player', within = ['Condition']).fit()"
   ]
  },
  {
   "cell_type": "code",
   "execution_count": 31,
   "id": "850b008c-7cbc-4609-b5a8-2248062f357a",
   "metadata": {},
   "outputs": [
    {
     "name": "stdout",
     "output_type": "stream",
     "text": [
      "                 Anova\n",
      "========================================\n",
      "          F Value  Num DF  Den DF Pr > F\n",
      "----------------------------------------\n",
      "Condition 820.8824 2.0000 10.0000 0.0000\n",
      "========================================\n",
      "\n"
     ]
    }
   ],
   "source": [
    "print(anova)"
   ]
  },
  {
   "cell_type": "raw",
   "id": "cd1af308-6041-4bc1-b5ba-b00645016c71",
   "metadata": {},
   "source": [
    "A fitness researcher wants to study the effect of diet type and training program on muscle gain.\n",
    "Participants are assigned to one of two diets (High-Protein, Standard) and one of two training programs (Strength, Endurance).\n",
    "After 8 weeks, muscle gain (in kg) is recorded.\n",
    "\n",
    "Here’s the data (muscle gain):"
   ]
  },
  {
   "cell_type": "code",
   "execution_count": 5,
   "id": "19797a9c-f503-4d8a-8472-9e3e647ca805",
   "metadata": {},
   "outputs": [],
   "source": [
    "import numpy as np\n",
    "from scipy import stats\n",
    "import pandas as pd"
   ]
  },
  {
   "cell_type": "code",
   "execution_count": 7,
   "id": "26a8e4de-0cf9-4df2-b515-389030fd22e8",
   "metadata": {},
   "outputs": [],
   "source": [
    "data = {\n",
    "    'Muscle_Gain': [2.1, 2.5, 2.7, 1.9, 2.0, 2.1, 1.8, 2.0, 2.2, 1.3, 1.4, 1.5],\n",
    "    'Diet': ['High-Protein']*6 + ['Standard']*6,\n",
    "    'Training': ['Strength']*3 + ['Endurance']*3 + ['Strength']*3 + ['Endurance']*3\n",
    "}\n",
    "\n",
    "df = pd.DataFrame(data)"
   ]
  },
  {
   "cell_type": "code",
   "execution_count": 9,
   "id": "2497a0d1-8331-4818-9f73-7f64732406db",
   "metadata": {},
   "outputs": [
    {
     "data": {
      "text/html": [
       "<div>\n",
       "<style scoped>\n",
       "    .dataframe tbody tr th:only-of-type {\n",
       "        vertical-align: middle;\n",
       "    }\n",
       "\n",
       "    .dataframe tbody tr th {\n",
       "        vertical-align: top;\n",
       "    }\n",
       "\n",
       "    .dataframe thead th {\n",
       "        text-align: right;\n",
       "    }\n",
       "</style>\n",
       "<table border=\"1\" class=\"dataframe\">\n",
       "  <thead>\n",
       "    <tr style=\"text-align: right;\">\n",
       "      <th></th>\n",
       "      <th>Muscle_Gain</th>\n",
       "      <th>Diet</th>\n",
       "      <th>Training</th>\n",
       "    </tr>\n",
       "  </thead>\n",
       "  <tbody>\n",
       "    <tr>\n",
       "      <th>0</th>\n",
       "      <td>2.1</td>\n",
       "      <td>High-Protein</td>\n",
       "      <td>Strength</td>\n",
       "    </tr>\n",
       "    <tr>\n",
       "      <th>1</th>\n",
       "      <td>2.5</td>\n",
       "      <td>High-Protein</td>\n",
       "      <td>Strength</td>\n",
       "    </tr>\n",
       "    <tr>\n",
       "      <th>2</th>\n",
       "      <td>2.7</td>\n",
       "      <td>High-Protein</td>\n",
       "      <td>Strength</td>\n",
       "    </tr>\n",
       "    <tr>\n",
       "      <th>3</th>\n",
       "      <td>1.9</td>\n",
       "      <td>High-Protein</td>\n",
       "      <td>Endurance</td>\n",
       "    </tr>\n",
       "    <tr>\n",
       "      <th>4</th>\n",
       "      <td>2.0</td>\n",
       "      <td>High-Protein</td>\n",
       "      <td>Endurance</td>\n",
       "    </tr>\n",
       "    <tr>\n",
       "      <th>5</th>\n",
       "      <td>2.1</td>\n",
       "      <td>High-Protein</td>\n",
       "      <td>Endurance</td>\n",
       "    </tr>\n",
       "    <tr>\n",
       "      <th>6</th>\n",
       "      <td>1.8</td>\n",
       "      <td>Standard</td>\n",
       "      <td>Strength</td>\n",
       "    </tr>\n",
       "    <tr>\n",
       "      <th>7</th>\n",
       "      <td>2.0</td>\n",
       "      <td>Standard</td>\n",
       "      <td>Strength</td>\n",
       "    </tr>\n",
       "    <tr>\n",
       "      <th>8</th>\n",
       "      <td>2.2</td>\n",
       "      <td>Standard</td>\n",
       "      <td>Strength</td>\n",
       "    </tr>\n",
       "    <tr>\n",
       "      <th>9</th>\n",
       "      <td>1.3</td>\n",
       "      <td>Standard</td>\n",
       "      <td>Endurance</td>\n",
       "    </tr>\n",
       "    <tr>\n",
       "      <th>10</th>\n",
       "      <td>1.4</td>\n",
       "      <td>Standard</td>\n",
       "      <td>Endurance</td>\n",
       "    </tr>\n",
       "    <tr>\n",
       "      <th>11</th>\n",
       "      <td>1.5</td>\n",
       "      <td>Standard</td>\n",
       "      <td>Endurance</td>\n",
       "    </tr>\n",
       "  </tbody>\n",
       "</table>\n",
       "</div>"
      ],
      "text/plain": [
       "    Muscle_Gain          Diet   Training\n",
       "0           2.1  High-Protein   Strength\n",
       "1           2.5  High-Protein   Strength\n",
       "2           2.7  High-Protein   Strength\n",
       "3           1.9  High-Protein  Endurance\n",
       "4           2.0  High-Protein  Endurance\n",
       "5           2.1  High-Protein  Endurance\n",
       "6           1.8      Standard   Strength\n",
       "7           2.0      Standard   Strength\n",
       "8           2.2      Standard   Strength\n",
       "9           1.3      Standard  Endurance\n",
       "10          1.4      Standard  Endurance\n",
       "11          1.5      Standard  Endurance"
      ]
     },
     "execution_count": 9,
     "metadata": {},
     "output_type": "execute_result"
    }
   ],
   "source": [
    "df"
   ]
  },
  {
   "cell_type": "code",
   "execution_count": 17,
   "id": "d3685f6a-7011-41e2-a820-fa0902fc698b",
   "metadata": {},
   "outputs": [],
   "source": [
    "from statsmodels.formula.api import ols\n",
    "import statsmodels.api as sm"
   ]
  },
  {
   "cell_type": "code",
   "execution_count": 13,
   "id": "57943477-0639-4ec0-87ad-b1500caf056d",
   "metadata": {},
   "outputs": [],
   "source": [
    "anova = ols('Muscle_Gain ~ C(Diet) + C(Training) + C(Diet):C(Training)', data=df).fit()"
   ]
  },
  {
   "cell_type": "code",
   "execution_count": 15,
   "id": "1cca97c4-7eda-4935-bd84-23aaf278453d",
   "metadata": {},
   "outputs": [
    {
     "data": {
      "text/plain": [
       "<statsmodels.regression.linear_model.RegressionResultsWrapper at 0x2b2e401ca40>"
      ]
     },
     "execution_count": 15,
     "metadata": {},
     "output_type": "execute_result"
    }
   ],
   "source": []
  },
  {
   "cell_type": "code",
   "execution_count": 19,
   "id": "b75214b7-b886-45ab-81db-20d98256ad75",
   "metadata": {},
   "outputs": [],
   "source": [
    "anova_table = sm.stats.anova_lm(anova, typ=2)"
   ]
  },
  {
   "cell_type": "code",
   "execution_count": 21,
   "id": "2ac0ef2e-5e03-4fa9-892b-48ef9667fe1a",
   "metadata": {},
   "outputs": [
    {
     "name": "stdout",
     "output_type": "stream",
     "text": [
      "                       sum_sq   df          F    PR(>F)\n",
      "C(Diet)              0.800833  1.0  20.891304  0.001824\n",
      "C(Training)          0.800833  1.0  20.891304  0.001824\n",
      "C(Diet):C(Training)  0.020833  1.0   0.543478  0.482054\n",
      "Residual             0.306667  8.0        NaN       NaN\n"
     ]
    }
   ],
   "source": [
    "print(anova_table)"
   ]
  },
  {
   "cell_type": "code",
   "execution_count": 23,
   "id": "04499299-4a59-46f7-9505-947ad5163b04",
   "metadata": {},
   "outputs": [],
   "source": [
    "anova = ols('Muscle_Gain ~ C(Diet) + C(Training) + C(Diet):C(Training)', data = df).fit()"
   ]
  },
  {
   "cell_type": "code",
   "execution_count": 25,
   "id": "2dc82766-7f58-4e6d-a548-37d3c8f7fcda",
   "metadata": {},
   "outputs": [],
   "source": [
    "anova_table = sm.stats.anova_lm(anova, typ=2)"
   ]
  },
  {
   "cell_type": "code",
   "execution_count": 27,
   "id": "9ab48527-65a9-45a3-ae22-0c2ebab1cb53",
   "metadata": {},
   "outputs": [
    {
     "data": {
      "text/html": [
       "<div>\n",
       "<style scoped>\n",
       "    .dataframe tbody tr th:only-of-type {\n",
       "        vertical-align: middle;\n",
       "    }\n",
       "\n",
       "    .dataframe tbody tr th {\n",
       "        vertical-align: top;\n",
       "    }\n",
       "\n",
       "    .dataframe thead th {\n",
       "        text-align: right;\n",
       "    }\n",
       "</style>\n",
       "<table border=\"1\" class=\"dataframe\">\n",
       "  <thead>\n",
       "    <tr style=\"text-align: right;\">\n",
       "      <th></th>\n",
       "      <th>sum_sq</th>\n",
       "      <th>df</th>\n",
       "      <th>F</th>\n",
       "      <th>PR(&gt;F)</th>\n",
       "    </tr>\n",
       "  </thead>\n",
       "  <tbody>\n",
       "    <tr>\n",
       "      <th>C(Diet)</th>\n",
       "      <td>0.800833</td>\n",
       "      <td>1.0</td>\n",
       "      <td>20.891304</td>\n",
       "      <td>0.001824</td>\n",
       "    </tr>\n",
       "    <tr>\n",
       "      <th>C(Training)</th>\n",
       "      <td>0.800833</td>\n",
       "      <td>1.0</td>\n",
       "      <td>20.891304</td>\n",
       "      <td>0.001824</td>\n",
       "    </tr>\n",
       "    <tr>\n",
       "      <th>C(Diet):C(Training)</th>\n",
       "      <td>0.020833</td>\n",
       "      <td>1.0</td>\n",
       "      <td>0.543478</td>\n",
       "      <td>0.482054</td>\n",
       "    </tr>\n",
       "    <tr>\n",
       "      <th>Residual</th>\n",
       "      <td>0.306667</td>\n",
       "      <td>8.0</td>\n",
       "      <td>NaN</td>\n",
       "      <td>NaN</td>\n",
       "    </tr>\n",
       "  </tbody>\n",
       "</table>\n",
       "</div>"
      ],
      "text/plain": [
       "                       sum_sq   df          F    PR(>F)\n",
       "C(Diet)              0.800833  1.0  20.891304  0.001824\n",
       "C(Training)          0.800833  1.0  20.891304  0.001824\n",
       "C(Diet):C(Training)  0.020833  1.0   0.543478  0.482054\n",
       "Residual             0.306667  8.0        NaN       NaN"
      ]
     },
     "execution_count": 27,
     "metadata": {},
     "output_type": "execute_result"
    }
   ],
   "source": [
    "anova_table"
   ]
  },
  {
   "cell_type": "raw",
   "id": "f70ceba5-1b9a-4d56-8114-a50872afc589",
   "metadata": {},
   "source": [
    "A sports scientist wants to study the effect of training type and diet type on endurance score of athletes.\n",
    "\n",
    "There are 2 training types: HIIT and Strength\n",
    "\n",
    "There are 2 diet types: High-Carb and High-Protein\n",
    "\n",
    "5 athletes were tested for each combination, and their endurance scores (out of 100) were recorded."
   ]
  },
  {
   "cell_type": "code",
   "execution_count": 29,
   "id": "d9872c9b-f31c-428a-968b-5b52c784cead",
   "metadata": {},
   "outputs": [],
   "source": [
    "data = {\n",
    "    'Training':['HIIT']*10 + ['Strength']*10,\n",
    "    'Diet':['High-Carb']*5 + ['High-Protein']*5 + ['High-Carb']*5 + ['High-Protein']*5,\n",
    "    'Endurance':[85,88,87,86,89,91,92,90,93,94,80,81,79,82,83,85,87,86,88,89]}\n",
    "    "
   ]
  },
  {
   "cell_type": "code",
   "execution_count": 31,
   "id": "db55e030-0727-43b8-884e-40bea2cba8d9",
   "metadata": {},
   "outputs": [],
   "source": [
    "df = pd.DataFrame(data)"
   ]
  },
  {
   "cell_type": "code",
   "execution_count": 33,
   "id": "121c0d95-a094-4390-8d87-4936ec2cceee",
   "metadata": {},
   "outputs": [
    {
     "data": {
      "text/html": [
       "<div>\n",
       "<style scoped>\n",
       "    .dataframe tbody tr th:only-of-type {\n",
       "        vertical-align: middle;\n",
       "    }\n",
       "\n",
       "    .dataframe tbody tr th {\n",
       "        vertical-align: top;\n",
       "    }\n",
       "\n",
       "    .dataframe thead th {\n",
       "        text-align: right;\n",
       "    }\n",
       "</style>\n",
       "<table border=\"1\" class=\"dataframe\">\n",
       "  <thead>\n",
       "    <tr style=\"text-align: right;\">\n",
       "      <th></th>\n",
       "      <th>Training</th>\n",
       "      <th>Diet</th>\n",
       "      <th>Endurance</th>\n",
       "    </tr>\n",
       "  </thead>\n",
       "  <tbody>\n",
       "    <tr>\n",
       "      <th>0</th>\n",
       "      <td>HIIT</td>\n",
       "      <td>High-Carb</td>\n",
       "      <td>85</td>\n",
       "    </tr>\n",
       "    <tr>\n",
       "      <th>1</th>\n",
       "      <td>HIIT</td>\n",
       "      <td>High-Carb</td>\n",
       "      <td>88</td>\n",
       "    </tr>\n",
       "    <tr>\n",
       "      <th>2</th>\n",
       "      <td>HIIT</td>\n",
       "      <td>High-Carb</td>\n",
       "      <td>87</td>\n",
       "    </tr>\n",
       "    <tr>\n",
       "      <th>3</th>\n",
       "      <td>HIIT</td>\n",
       "      <td>High-Carb</td>\n",
       "      <td>86</td>\n",
       "    </tr>\n",
       "    <tr>\n",
       "      <th>4</th>\n",
       "      <td>HIIT</td>\n",
       "      <td>High-Carb</td>\n",
       "      <td>89</td>\n",
       "    </tr>\n",
       "    <tr>\n",
       "      <th>5</th>\n",
       "      <td>HIIT</td>\n",
       "      <td>High-Protein</td>\n",
       "      <td>91</td>\n",
       "    </tr>\n",
       "    <tr>\n",
       "      <th>6</th>\n",
       "      <td>HIIT</td>\n",
       "      <td>High-Protein</td>\n",
       "      <td>92</td>\n",
       "    </tr>\n",
       "    <tr>\n",
       "      <th>7</th>\n",
       "      <td>HIIT</td>\n",
       "      <td>High-Protein</td>\n",
       "      <td>90</td>\n",
       "    </tr>\n",
       "    <tr>\n",
       "      <th>8</th>\n",
       "      <td>HIIT</td>\n",
       "      <td>High-Protein</td>\n",
       "      <td>93</td>\n",
       "    </tr>\n",
       "    <tr>\n",
       "      <th>9</th>\n",
       "      <td>HIIT</td>\n",
       "      <td>High-Protein</td>\n",
       "      <td>94</td>\n",
       "    </tr>\n",
       "    <tr>\n",
       "      <th>10</th>\n",
       "      <td>Strength</td>\n",
       "      <td>High-Carb</td>\n",
       "      <td>80</td>\n",
       "    </tr>\n",
       "    <tr>\n",
       "      <th>11</th>\n",
       "      <td>Strength</td>\n",
       "      <td>High-Carb</td>\n",
       "      <td>81</td>\n",
       "    </tr>\n",
       "    <tr>\n",
       "      <th>12</th>\n",
       "      <td>Strength</td>\n",
       "      <td>High-Carb</td>\n",
       "      <td>79</td>\n",
       "    </tr>\n",
       "    <tr>\n",
       "      <th>13</th>\n",
       "      <td>Strength</td>\n",
       "      <td>High-Carb</td>\n",
       "      <td>82</td>\n",
       "    </tr>\n",
       "    <tr>\n",
       "      <th>14</th>\n",
       "      <td>Strength</td>\n",
       "      <td>High-Carb</td>\n",
       "      <td>83</td>\n",
       "    </tr>\n",
       "    <tr>\n",
       "      <th>15</th>\n",
       "      <td>Strength</td>\n",
       "      <td>High-Protein</td>\n",
       "      <td>85</td>\n",
       "    </tr>\n",
       "    <tr>\n",
       "      <th>16</th>\n",
       "      <td>Strength</td>\n",
       "      <td>High-Protein</td>\n",
       "      <td>87</td>\n",
       "    </tr>\n",
       "    <tr>\n",
       "      <th>17</th>\n",
       "      <td>Strength</td>\n",
       "      <td>High-Protein</td>\n",
       "      <td>86</td>\n",
       "    </tr>\n",
       "    <tr>\n",
       "      <th>18</th>\n",
       "      <td>Strength</td>\n",
       "      <td>High-Protein</td>\n",
       "      <td>88</td>\n",
       "    </tr>\n",
       "    <tr>\n",
       "      <th>19</th>\n",
       "      <td>Strength</td>\n",
       "      <td>High-Protein</td>\n",
       "      <td>89</td>\n",
       "    </tr>\n",
       "  </tbody>\n",
       "</table>\n",
       "</div>"
      ],
      "text/plain": [
       "    Training          Diet  Endurance\n",
       "0       HIIT     High-Carb         85\n",
       "1       HIIT     High-Carb         88\n",
       "2       HIIT     High-Carb         87\n",
       "3       HIIT     High-Carb         86\n",
       "4       HIIT     High-Carb         89\n",
       "5       HIIT  High-Protein         91\n",
       "6       HIIT  High-Protein         92\n",
       "7       HIIT  High-Protein         90\n",
       "8       HIIT  High-Protein         93\n",
       "9       HIIT  High-Protein         94\n",
       "10  Strength     High-Carb         80\n",
       "11  Strength     High-Carb         81\n",
       "12  Strength     High-Carb         79\n",
       "13  Strength     High-Carb         82\n",
       "14  Strength     High-Carb         83\n",
       "15  Strength  High-Protein         85\n",
       "16  Strength  High-Protein         87\n",
       "17  Strength  High-Protein         86\n",
       "18  Strength  High-Protein         88\n",
       "19  Strength  High-Protein         89"
      ]
     },
     "execution_count": 33,
     "metadata": {},
     "output_type": "execute_result"
    }
   ],
   "source": [
    "df"
   ]
  },
  {
   "cell_type": "code",
   "execution_count": 35,
   "id": "46544ae5-3f96-4527-859d-adab9dd8a92d",
   "metadata": {},
   "outputs": [],
   "source": [
    "anova = ols('Endurance ~ C(Training) + C(Diet)', data=df).fit()"
   ]
  },
  {
   "cell_type": "code",
   "execution_count": 44,
   "id": "9b6448c1-c818-4bab-b6a5-e3ed200959b8",
   "metadata": {},
   "outputs": [
    {
     "name": "stdout",
     "output_type": "stream",
     "text": [
      "             sum_sq    df          F        PR(>F)\n",
      "C(Training)  151.25   1.0  62.333333  4.366127e-07\n",
      "C(Diet)      151.25   1.0  62.333333  4.366127e-07\n",
      "Residual      41.25  17.0        NaN           NaN\n"
     ]
    }
   ],
   "source": [
    "anova_table = sm.stats.anova_lm(anova, typ=2)\n",
    "print(anova_table)"
   ]
  },
  {
   "cell_type": "code",
   "execution_count": 46,
   "id": "628b1280-be4e-44df-953c-b94f592c6e20",
   "metadata": {},
   "outputs": [],
   "source": [
    "from statsmodels.formula.api import ols\n",
    "import statsmodels.api as sm"
   ]
  },
  {
   "cell_type": "code",
   "execution_count": 1,
   "id": "43f70d27-0016-4aad-b897-5033eda502d3",
   "metadata": {},
   "outputs": [],
   "source": [
    "import numpy as np\n",
    "import pandas as pd\n",
    "from scipy import stats\n",
    "from statsmodels.formula.api import ols\n",
    "import statsmodels.api as sm"
   ]
  },
  {
   "cell_type": "raw",
   "id": "97cdba2b-35b4-4d3c-b1d6-5d052b47d3a8",
   "metadata": {},
   "source": [
    "Great choice! Let's continue with Repeated Measures ANOVA, which is perfect for situations where the same subjects are measured multiple times under different conditions or time points.\n",
    "\n",
    "🏋️ Problem Statement:\n",
    "A sports scientist wants to study how a new diet plan affects athlete performance over time. She records the VO2 max (a measure of aerobic fitness) of 6 athletes at three different time points:\n",
    "\n",
    "Before diet\n",
    "\n",
    "After 1 month\n",
    "\n",
    "After 2 months\n",
    "\n",
    "Here is the data:"
   ]
  },
  {
   "cell_type": "code",
   "execution_count": 6,
   "id": "e8e9ca8c-a490-4aeb-9e0a-28f714f05269",
   "metadata": {},
   "outputs": [
    {
     "name": "stdout",
     "output_type": "stream",
     "text": [
      "               Anova\n",
      "===================================\n",
      "     F Value  Num DF  Den DF Pr > F\n",
      "-----------------------------------\n",
      "Time 162.6471 2.0000 10.0000 0.0000\n",
      "===================================\n",
      "\n"
     ]
    }
   ],
   "source": [
    "import pandas as pd\n",
    "import statsmodels.api as sm\n",
    "from statsmodels.stats.anova import AnovaRM\n",
    "\n",
    "# Prepare the data\n",
    "data = {\n",
    "    'Athlete': ['A', 'B', 'C', 'D', 'E', 'F'],\n",
    "    'Before': [45, 44, 46, 43, 44, 45],\n",
    "    '1_Month': [47, 46, 47, 45, 46, 47],\n",
    "    '2_Months': [50, 49, 51, 47, 48, 49]\n",
    "}\n",
    "\n",
    "df = pd.DataFrame(data)\n",
    "\n",
    "# Convert to long format\n",
    "df_long = pd.melt(df, id_vars='Athlete', value_vars=['Before', '1_Month', '2_Months'],\n",
    "                  var_name='Time', value_name='VO2_Max')\n",
    "\n",
    "# Repeated Measures ANOVA\n",
    "anova = AnovaRM(data=df_long, depvar='VO2_Max', subject='Athlete', within=['Time'])\n",
    "result = anova.fit()\n",
    "print(result)"
   ]
  },
  {
   "cell_type": "code",
   "execution_count": 8,
   "id": "54ea40e3-11d2-48be-88b5-05e03a2c0fe2",
   "metadata": {},
   "outputs": [
    {
     "data": {
      "text/html": [
       "<div>\n",
       "<style scoped>\n",
       "    .dataframe tbody tr th:only-of-type {\n",
       "        vertical-align: middle;\n",
       "    }\n",
       "\n",
       "    .dataframe tbody tr th {\n",
       "        vertical-align: top;\n",
       "    }\n",
       "\n",
       "    .dataframe thead th {\n",
       "        text-align: right;\n",
       "    }\n",
       "</style>\n",
       "<table border=\"1\" class=\"dataframe\">\n",
       "  <thead>\n",
       "    <tr style=\"text-align: right;\">\n",
       "      <th></th>\n",
       "      <th>Athlete</th>\n",
       "      <th>Before</th>\n",
       "      <th>1_Month</th>\n",
       "      <th>2_Months</th>\n",
       "    </tr>\n",
       "  </thead>\n",
       "  <tbody>\n",
       "    <tr>\n",
       "      <th>0</th>\n",
       "      <td>A</td>\n",
       "      <td>45</td>\n",
       "      <td>47</td>\n",
       "      <td>50</td>\n",
       "    </tr>\n",
       "    <tr>\n",
       "      <th>1</th>\n",
       "      <td>B</td>\n",
       "      <td>44</td>\n",
       "      <td>46</td>\n",
       "      <td>49</td>\n",
       "    </tr>\n",
       "    <tr>\n",
       "      <th>2</th>\n",
       "      <td>C</td>\n",
       "      <td>46</td>\n",
       "      <td>47</td>\n",
       "      <td>51</td>\n",
       "    </tr>\n",
       "    <tr>\n",
       "      <th>3</th>\n",
       "      <td>D</td>\n",
       "      <td>43</td>\n",
       "      <td>45</td>\n",
       "      <td>47</td>\n",
       "    </tr>\n",
       "    <tr>\n",
       "      <th>4</th>\n",
       "      <td>E</td>\n",
       "      <td>44</td>\n",
       "      <td>46</td>\n",
       "      <td>48</td>\n",
       "    </tr>\n",
       "    <tr>\n",
       "      <th>5</th>\n",
       "      <td>F</td>\n",
       "      <td>45</td>\n",
       "      <td>47</td>\n",
       "      <td>49</td>\n",
       "    </tr>\n",
       "  </tbody>\n",
       "</table>\n",
       "</div>"
      ],
      "text/plain": [
       "  Athlete  Before  1_Month  2_Months\n",
       "0       A      45       47        50\n",
       "1       B      44       46        49\n",
       "2       C      46       47        51\n",
       "3       D      43       45        47\n",
       "4       E      44       46        48\n",
       "5       F      45       47        49"
      ]
     },
     "execution_count": 8,
     "metadata": {},
     "output_type": "execute_result"
    }
   ],
   "source": [
    "df"
   ]
  },
  {
   "cell_type": "code",
   "execution_count": 10,
   "id": "904f0802-9cef-4eec-ba9d-1613305103de",
   "metadata": {},
   "outputs": [],
   "source": [
    "df_long = pd.melt(df,id_vars = 'Athlete', value_vars=['Before', '1_Month','2_Months'],\n",
    "                  var_name = 'Time', value_name='VO2_Max')\n",
    "            "
   ]
  },
  {
   "cell_type": "code",
   "execution_count": 16,
   "id": "87845419-2465-4d92-a3fd-21d5b3cb364d",
   "metadata": {},
   "outputs": [],
   "source": [
    "anova = AnovaRM(df_long, depvar='VO2_Max', subject='Athlete', within=['Time'])"
   ]
  },
  {
   "cell_type": "code",
   "execution_count": 20,
   "id": "b5bbc129-81f4-42fc-ae68-dedfc5151f01",
   "metadata": {},
   "outputs": [],
   "source": [
    "result = anova.fit()"
   ]
  },
  {
   "cell_type": "code",
   "execution_count": 22,
   "id": "24377e36-22f8-467a-b113-d69ccaee490d",
   "metadata": {},
   "outputs": [
    {
     "name": "stdout",
     "output_type": "stream",
     "text": [
      "               Anova\n",
      "===================================\n",
      "     F Value  Num DF  Den DF Pr > F\n",
      "-----------------------------------\n",
      "Time 162.6471 2.0000 10.0000 0.0000\n",
      "===================================\n",
      "\n"
     ]
    }
   ],
   "source": [
    "print(result)"
   ]
  },
  {
   "cell_type": "raw",
   "id": "509d2394-c659-43e5-8c3b-bd0bd1404401",
   "metadata": {},
   "source": [
    "A sports psychologist wants to test whether a mental toughness training program improves athletes' focus levels over time.\n",
    "\n",
    "She assesses focus scores (on a 10-point scale) of 8 athletes at three time points:\n",
    "\n",
    "Before training\n",
    "\n",
    "After 2 weeks\n",
    "\n",
    "After 4 weeks\n",
    "\n",
    "The scores are as follows:"
   ]
  },
  {
   "cell_type": "raw",
   "id": "d7b0265c-8c7b-4a50-8a2b-6176b65d7bcc",
   "metadata": {},
   "source": [
    "| Athlete | Before | Week 2 | Week 4 |\n",
    "| ------- | ------ | ------ | ------ |\n",
    "| A       | 6.5    | 7.0    | 8.0    |\n",
    "| B       | 6.0    | 6.5    | 7.5    |\n",
    "| C       | 5.5    | 6.0    | 6.5    |\n",
    "| D       | 6.0    | 6.5    | 7.0    |\n",
    "| E       | 5.0    | 6.0    | 7.0    |\n",
    "| F       | 6.0    | 6.8    | 7.5    |\n",
    "| G       | 5.5    | 6.2    | 7.0    |\n",
    "| H       | 6.2    | 6.5    | 7.2    |\n"
   ]
  },
  {
   "cell_type": "code",
   "execution_count": 24,
   "id": "d9207906-5293-40cd-a3ce-a2eadd9411a7",
   "metadata": {},
   "outputs": [],
   "source": [
    "data = {'Athlete':['A','B','C','D','E','F','G','H'],\n",
    "        'Before':[6.5,6.0,5.5,6.0,5.0,6.0,5.5,6.2],\n",
    "        'Week 2':[7.0,6.5,6.0,6.5,6.0,6.8,6.2,6.5],\n",
    "        'Week 4':[8.0,7.5,6.5,7.0,7.0,7.5,7.0,7.2]}"
   ]
  },
  {
   "cell_type": "code",
   "execution_count": 28,
   "id": "b43c125c-a624-4ed0-90a7-425533fcfd44",
   "metadata": {},
   "outputs": [],
   "source": [
    "df = pd.DataFrame(data)"
   ]
  },
  {
   "cell_type": "code",
   "execution_count": 33,
   "id": "eb89ddee-d6ea-46b9-9e29-79714ceb5c3b",
   "metadata": {},
   "outputs": [],
   "source": [
    "df_long = pd.melt(df, id_vars='Athlete', value_vars=['Before', 'Week 2', 'Week 4'],\n",
    "                  var_name='Month', value_name='Score')"
   ]
  },
  {
   "cell_type": "code",
   "execution_count": 35,
   "id": "91adf3a3-3d34-4108-8e31-c29d5bf07da2",
   "metadata": {},
   "outputs": [],
   "source": [
    "anova = AnovaRM(df_long, depvar = 'Score', subject='Athlete',within=['Month'])"
   ]
  },
  {
   "cell_type": "code",
   "execution_count": 37,
   "id": "9f543786-8aa2-4eab-845a-b804b2323323",
   "metadata": {},
   "outputs": [],
   "source": [
    "result = anova.fit()"
   ]
  },
  {
   "cell_type": "code",
   "execution_count": 39,
   "id": "087e9b91-66ab-49bb-9791-6c20c7ef2ece",
   "metadata": {},
   "outputs": [
    {
     "name": "stdout",
     "output_type": "stream",
     "text": [
      "               Anova\n",
      "====================================\n",
      "      F Value  Num DF  Den DF Pr > F\n",
      "------------------------------------\n",
      "Month 104.3595 2.0000 14.0000 0.0000\n",
      "====================================\n",
      "\n"
     ]
    }
   ],
   "source": [
    "print(result)"
   ]
  },
  {
   "cell_type": "raw",
   "id": "340e1422-6a0e-4c67-9667-b457a299f5bb",
   "metadata": {},
   "source": [
    "A sports analytics company wants to understand how training type and diet plan affect the endurance level (measured in minutes of continuous running) of athletes.\n",
    "They conduct an experiment with athletes assigned to one of two training types (HIIT, Endurance) and one of two diet plans (High Carb, High Protein). Here is the data:"
   ]
  },
  {
   "cell_type": "raw",
   "id": "7d4ea634-0f2c-4fc3-af3b-86f83978e3fe",
   "metadata": {},
   "source": [
    "| Athlete | Training\\_Type | Diet\\_Plan   | Endurance |\n",
    "| ------- | -------------- | ------------ | --------- |\n",
    "| A1      | HIIT           | High Carb    | 42        |\n",
    "| A2      | HIIT           | High Carb    | 45        |\n",
    "| A3      | HIIT           | High Protein | 38        |\n",
    "| A4      | HIIT           | High Protein | 40        |\n",
    "| A5      | Endurance      | High Carb    | 48        |\n",
    "| A6      | Endurance      | High Carb    | 50        |\n",
    "| A7      | Endurance      | High Protein | 43        |\n",
    "| A8      | Endurance      | High Protein | 46        |\n"
   ]
  },
  {
   "cell_type": "code",
   "execution_count": 62,
   "id": "f7e456e0-60fd-47e8-ac05-f12c4c04f5b1",
   "metadata": {},
   "outputs": [],
   "source": [
    "from statsmodels.formula.api import ols\n",
    "import statsmodels.api as sm"
   ]
  },
  {
   "cell_type": "code",
   "execution_count": 64,
   "id": "e9006084-e174-4416-abf2-8b73ec0cbf7e",
   "metadata": {},
   "outputs": [],
   "source": [
    "data = {'Athlete':['A1','A2','A3','A4','A5','A6','A7','A8'],\n",
    "        'Training_type':['HIIT']*4 + ['Endurance']*4,\n",
    "        'Diet_plan':['High Carb']*2 + ['High Protein']*2+ ['High Carb']*2 + ['High Protein']*2,\n",
    "        'Endurance':[42,45,38,40,48,50,43,46]}"
   ]
  },
  {
   "cell_type": "code",
   "execution_count": 66,
   "id": "5b9c0986-b9b8-4af4-ba73-a4b6f1eb2a97",
   "metadata": {},
   "outputs": [],
   "source": [
    "df = pd.DataFrame(data)"
   ]
  },
  {
   "cell_type": "code",
   "execution_count": 68,
   "id": "c3ff7499-680e-475a-8c67-f771a0e0ba2c",
   "metadata": {},
   "outputs": [
    {
     "data": {
      "text/html": [
       "<div>\n",
       "<style scoped>\n",
       "    .dataframe tbody tr th:only-of-type {\n",
       "        vertical-align: middle;\n",
       "    }\n",
       "\n",
       "    .dataframe tbody tr th {\n",
       "        vertical-align: top;\n",
       "    }\n",
       "\n",
       "    .dataframe thead th {\n",
       "        text-align: right;\n",
       "    }\n",
       "</style>\n",
       "<table border=\"1\" class=\"dataframe\">\n",
       "  <thead>\n",
       "    <tr style=\"text-align: right;\">\n",
       "      <th></th>\n",
       "      <th>Athlete</th>\n",
       "      <th>Training_type</th>\n",
       "      <th>Diet_plan</th>\n",
       "      <th>Endurance</th>\n",
       "    </tr>\n",
       "  </thead>\n",
       "  <tbody>\n",
       "    <tr>\n",
       "      <th>0</th>\n",
       "      <td>A1</td>\n",
       "      <td>HIIT</td>\n",
       "      <td>High Carb</td>\n",
       "      <td>42</td>\n",
       "    </tr>\n",
       "    <tr>\n",
       "      <th>1</th>\n",
       "      <td>A2</td>\n",
       "      <td>HIIT</td>\n",
       "      <td>High Carb</td>\n",
       "      <td>45</td>\n",
       "    </tr>\n",
       "    <tr>\n",
       "      <th>2</th>\n",
       "      <td>A3</td>\n",
       "      <td>HIIT</td>\n",
       "      <td>High Protein</td>\n",
       "      <td>38</td>\n",
       "    </tr>\n",
       "    <tr>\n",
       "      <th>3</th>\n",
       "      <td>A4</td>\n",
       "      <td>HIIT</td>\n",
       "      <td>High Protein</td>\n",
       "      <td>40</td>\n",
       "    </tr>\n",
       "    <tr>\n",
       "      <th>4</th>\n",
       "      <td>A5</td>\n",
       "      <td>Endurance</td>\n",
       "      <td>High Carb</td>\n",
       "      <td>48</td>\n",
       "    </tr>\n",
       "    <tr>\n",
       "      <th>5</th>\n",
       "      <td>A6</td>\n",
       "      <td>Endurance</td>\n",
       "      <td>High Carb</td>\n",
       "      <td>50</td>\n",
       "    </tr>\n",
       "    <tr>\n",
       "      <th>6</th>\n",
       "      <td>A7</td>\n",
       "      <td>Endurance</td>\n",
       "      <td>High Protein</td>\n",
       "      <td>43</td>\n",
       "    </tr>\n",
       "    <tr>\n",
       "      <th>7</th>\n",
       "      <td>A8</td>\n",
       "      <td>Endurance</td>\n",
       "      <td>High Protein</td>\n",
       "      <td>46</td>\n",
       "    </tr>\n",
       "  </tbody>\n",
       "</table>\n",
       "</div>"
      ],
      "text/plain": [
       "  Athlete Training_type     Diet_plan  Endurance\n",
       "0      A1          HIIT     High Carb         42\n",
       "1      A2          HIIT     High Carb         45\n",
       "2      A3          HIIT  High Protein         38\n",
       "3      A4          HIIT  High Protein         40\n",
       "4      A5     Endurance     High Carb         48\n",
       "5      A6     Endurance     High Carb         50\n",
       "6      A7     Endurance  High Protein         43\n",
       "7      A8     Endurance  High Protein         46"
      ]
     },
     "execution_count": 68,
     "metadata": {},
     "output_type": "execute_result"
    }
   ],
   "source": [
    "df"
   ]
  },
  {
   "cell_type": "code",
   "execution_count": 70,
   "id": "03f54335-bdd1-41c7-8305-404786738c73",
   "metadata": {},
   "outputs": [],
   "source": [
    "anova = ols('Endurance ~ C(Training_type) + C(Diet_plan)',data = df).fit()"
   ]
  },
  {
   "cell_type": "code",
   "execution_count": 74,
   "id": "c83a6b63-69b1-406a-b456-fea17be3fb59",
   "metadata": {},
   "outputs": [
    {
     "name": "stdout",
     "output_type": "stream",
     "text": [
      "<statsmodels.regression.linear_model.RegressionResultsWrapper object at 0x000001908C2F9F70>\n"
     ]
    }
   ],
   "source": [
    "print(anova)"
   ]
  },
  {
   "cell_type": "code",
   "execution_count": 76,
   "id": "86e5770a-9655-4f80-bc79-3d1f5d7566c8",
   "metadata": {},
   "outputs": [
    {
     "name": "stdout",
     "output_type": "stream",
     "text": [
      "                  sum_sq   df          F    PR(>F)\n",
      "C(Training_type)    60.5  1.0  23.269231  0.004782\n",
      "C(Diet_plan)        40.5  1.0  15.576923  0.010886\n",
      "Residual            13.0  5.0        NaN       NaN\n"
     ]
    }
   ],
   "source": [
    "anova_table = sm.stats.anova_lm(anova, typ=2)\n",
    "print(anova_table)"
   ]
  },
  {
   "cell_type": "raw",
   "id": "7f626d22-3a28-45ee-903f-93988f52d827",
   "metadata": {},
   "source": [
    "A basketball coach wants to study the effects of training intensity and sleep duration on player reaction time (measured in milliseconds).\n",
    "\n",
    "He collects data from players assigned to:\n",
    "\n",
    "Training Intensity: Low, High\n",
    "\n",
    "Sleep Duration: 6 hours, 8 hours\n",
    "\n",
    "Each combination has multiple player results."
   ]
  },
  {
   "cell_type": "raw",
   "id": "c9504a3b-8e25-42da-9a81-9482e28d9ed6",
   "metadata": {},
   "source": [
    "| Training\\_Intensity | Sleep\\_Hours | Reaction\\_Time |\n",
    "| ------------------- | ------------ | -------------- |\n",
    "| Low                 | 6            | 290            |\n",
    "| Low                 | 6            | 310            |\n",
    "| Low                 | 8            | 270            |\n",
    "| Low                 | 8            | 260            |\n",
    "| High                | 6            | 250            |\n",
    "| High                | 6            | 240            |\n",
    "| High                | 8            | 230            |\n",
    "| High                | 8            | 220            |\n"
   ]
  },
  {
   "cell_type": "code",
   "execution_count": 78,
   "id": "60bab24e-1604-464e-b691-19139566e5a7",
   "metadata": {},
   "outputs": [],
   "source": [
    "data = {'Training_intensity':['Low']*4 + ['High']*4,\n",
    "        'Sleep_hours':[6,6,8,8,6,6,8,8],\n",
    "        'Reaction_time':[290,310,270,260,250,240,230,220]}"
   ]
  },
  {
   "cell_type": "code",
   "execution_count": 80,
   "id": "00b90e44-0236-45bb-b227-29ea2a84dd50",
   "metadata": {},
   "outputs": [],
   "source": [
    "df = pd.DataFrame(data)"
   ]
  },
  {
   "cell_type": "code",
   "execution_count": 82,
   "id": "7f383c01-6524-4df3-801f-19d2b30bbad9",
   "metadata": {},
   "outputs": [
    {
     "data": {
      "text/html": [
       "<div>\n",
       "<style scoped>\n",
       "    .dataframe tbody tr th:only-of-type {\n",
       "        vertical-align: middle;\n",
       "    }\n",
       "\n",
       "    .dataframe tbody tr th {\n",
       "        vertical-align: top;\n",
       "    }\n",
       "\n",
       "    .dataframe thead th {\n",
       "        text-align: right;\n",
       "    }\n",
       "</style>\n",
       "<table border=\"1\" class=\"dataframe\">\n",
       "  <thead>\n",
       "    <tr style=\"text-align: right;\">\n",
       "      <th></th>\n",
       "      <th>Training_intensity</th>\n",
       "      <th>Sleep_hours</th>\n",
       "      <th>Reaction_time</th>\n",
       "    </tr>\n",
       "  </thead>\n",
       "  <tbody>\n",
       "    <tr>\n",
       "      <th>0</th>\n",
       "      <td>Low</td>\n",
       "      <td>6</td>\n",
       "      <td>290</td>\n",
       "    </tr>\n",
       "    <tr>\n",
       "      <th>1</th>\n",
       "      <td>Low</td>\n",
       "      <td>6</td>\n",
       "      <td>310</td>\n",
       "    </tr>\n",
       "    <tr>\n",
       "      <th>2</th>\n",
       "      <td>Low</td>\n",
       "      <td>8</td>\n",
       "      <td>270</td>\n",
       "    </tr>\n",
       "    <tr>\n",
       "      <th>3</th>\n",
       "      <td>Low</td>\n",
       "      <td>8</td>\n",
       "      <td>260</td>\n",
       "    </tr>\n",
       "    <tr>\n",
       "      <th>4</th>\n",
       "      <td>High</td>\n",
       "      <td>6</td>\n",
       "      <td>250</td>\n",
       "    </tr>\n",
       "    <tr>\n",
       "      <th>5</th>\n",
       "      <td>High</td>\n",
       "      <td>6</td>\n",
       "      <td>240</td>\n",
       "    </tr>\n",
       "    <tr>\n",
       "      <th>6</th>\n",
       "      <td>High</td>\n",
       "      <td>8</td>\n",
       "      <td>230</td>\n",
       "    </tr>\n",
       "    <tr>\n",
       "      <th>7</th>\n",
       "      <td>High</td>\n",
       "      <td>8</td>\n",
       "      <td>220</td>\n",
       "    </tr>\n",
       "  </tbody>\n",
       "</table>\n",
       "</div>"
      ],
      "text/plain": [
       "  Training_intensity  Sleep_hours  Reaction_time\n",
       "0                Low            6            290\n",
       "1                Low            6            310\n",
       "2                Low            8            270\n",
       "3                Low            8            260\n",
       "4               High            6            250\n",
       "5               High            6            240\n",
       "6               High            8            230\n",
       "7               High            8            220"
      ]
     },
     "execution_count": 82,
     "metadata": {},
     "output_type": "execute_result"
    }
   ],
   "source": [
    "df"
   ]
  },
  {
   "cell_type": "code",
   "execution_count": 84,
   "id": "f5220b32-d0fb-403d-898c-8914c392d590",
   "metadata": {},
   "outputs": [],
   "source": [
    "anova = ols('Reaction_time ~ C(Training_intensity) * C(Sleep_hours)',data = df).fit()"
   ]
  },
  {
   "cell_type": "code",
   "execution_count": 86,
   "id": "407162fc-e6fc-4723-a6fd-2958784b8cde",
   "metadata": {},
   "outputs": [],
   "source": [
    "anova_table = sm.stats.anova_lm(anova, typ=2)"
   ]
  },
  {
   "cell_type": "code",
   "execution_count": 88,
   "id": "c2f505c9-04f8-4145-8bc5-5248d59b606a",
   "metadata": {
    "scrolled": true
   },
   "outputs": [
    {
     "data": {
      "text/html": [
       "<div>\n",
       "<style scoped>\n",
       "    .dataframe tbody tr th:only-of-type {\n",
       "        vertical-align: middle;\n",
       "    }\n",
       "\n",
       "    .dataframe tbody tr th {\n",
       "        vertical-align: top;\n",
       "    }\n",
       "\n",
       "    .dataframe thead th {\n",
       "        text-align: right;\n",
       "    }\n",
       "</style>\n",
       "<table border=\"1\" class=\"dataframe\">\n",
       "  <thead>\n",
       "    <tr style=\"text-align: right;\">\n",
       "      <th></th>\n",
       "      <th>sum_sq</th>\n",
       "      <th>df</th>\n",
       "      <th>F</th>\n",
       "      <th>PR(&gt;F)</th>\n",
       "    </tr>\n",
       "  </thead>\n",
       "  <tbody>\n",
       "    <tr>\n",
       "      <th>C(Training_intensity)</th>\n",
       "      <td>4512.5</td>\n",
       "      <td>1.0</td>\n",
       "      <td>51.571429</td>\n",
       "      <td>0.001991</td>\n",
       "    </tr>\n",
       "    <tr>\n",
       "      <th>C(Sleep_hours)</th>\n",
       "      <td>1512.5</td>\n",
       "      <td>1.0</td>\n",
       "      <td>17.285714</td>\n",
       "      <td>0.014173</td>\n",
       "    </tr>\n",
       "    <tr>\n",
       "      <th>C(Training_intensity):C(Sleep_hours)</th>\n",
       "      <td>112.5</td>\n",
       "      <td>1.0</td>\n",
       "      <td>1.285714</td>\n",
       "      <td>0.320188</td>\n",
       "    </tr>\n",
       "    <tr>\n",
       "      <th>Residual</th>\n",
       "      <td>350.0</td>\n",
       "      <td>4.0</td>\n",
       "      <td>NaN</td>\n",
       "      <td>NaN</td>\n",
       "    </tr>\n",
       "  </tbody>\n",
       "</table>\n",
       "</div>"
      ],
      "text/plain": [
       "                                      sum_sq   df          F    PR(>F)\n",
       "C(Training_intensity)                 4512.5  1.0  51.571429  0.001991\n",
       "C(Sleep_hours)                        1512.5  1.0  17.285714  0.014173\n",
       "C(Training_intensity):C(Sleep_hours)   112.5  1.0   1.285714  0.320188\n",
       "Residual                               350.0  4.0        NaN       NaN"
      ]
     },
     "execution_count": 88,
     "metadata": {},
     "output_type": "execute_result"
    }
   ],
   "source": [
    "anova_table"
   ]
  },
  {
   "cell_type": "raw",
   "id": "0d7a9a13-6a3a-4578-8a74-e9eecfcffeb5",
   "metadata": {},
   "source": [
    "A sports psychologist is studying how training type and diet plan affect muscular endurance (measured in seconds until fatigue).\n",
    "\n",
    "There are two factors:\n",
    "\n",
    "Training Type: Weightlifting, CrossFit, Bodyweight\n",
    "\n",
    "Diet Plan: High Protein, Balanced, Low Carb\n",
    "\n",
    "She collects endurance data from 27 athletes, 3 per group combination:"
   ]
  },
  {
   "cell_type": "raw",
   "id": "9503690d-a0f1-415e-8760-449715d542db",
   "metadata": {},
   "source": [
    "| Training Type | Diet Plan    | Endurance (seconds) |\n",
    "| ------------- | ------------ | ------------------- |\n",
    "| Weightlifting | High Protein | 115, 120, 118       |\n",
    "| Weightlifting | Balanced     | 110, 112, 109       |\n",
    "| Weightlifting | Low Carb     | 100, 98, 102        |\n",
    "| CrossFit      | High Protein | 125, 130, 127       |\n",
    "| CrossFit      | Balanced     | 119, 122, 121       |\n",
    "| CrossFit      | Low Carb     | 108, 105, 107       |\n",
    "| Bodyweight    | High Protein | 118, 115, 116       |\n",
    "| Bodyweight    | Balanced     | 112, 114, 113       |\n",
    "| Bodyweight    | Low Carb     | 104, 103, 101       |\n"
   ]
  },
  {
   "cell_type": "code",
   "execution_count": 100,
   "id": "7eebe2b4-c020-4afb-b6a1-820742f3c76b",
   "metadata": {},
   "outputs": [],
   "source": [
    "data = {'Training_Type':['Weightlifting']*9 + ['CrossFit']*9 + ['Bodyweight']*9,\n",
    "        'Diet_Plan':['High Protein']*3 + ['Balanced']*3 + ['Low Carb']*3 + ['High Protein']*3 + ['Balanced']*3 + ['Low Carb']*3\n",
    "        + ['High Protein']*3 + ['Balanced']*3 + ['Low Carb']*3,\n",
    "        'Endurance':[115, 120, 118, 110, 112, 109, 100, 98, 102, 125, 130, 127, 119, 122, 121, 108, 105, 107, 118, 115, 116,  112, 114, 113,  104, 103, 101]}"
   ]
  },
  {
   "cell_type": "code",
   "execution_count": 102,
   "id": "f987921e-3f84-43b5-b0b4-2eca8a078bd6",
   "metadata": {},
   "outputs": [],
   "source": [
    "df = pd.DataFrame(data)"
   ]
  },
  {
   "cell_type": "code",
   "execution_count": 104,
   "id": "d0364fd8-b740-4f9b-8007-a75cfd691f80",
   "metadata": {},
   "outputs": [
    {
     "data": {
      "text/html": [
       "<div>\n",
       "<style scoped>\n",
       "    .dataframe tbody tr th:only-of-type {\n",
       "        vertical-align: middle;\n",
       "    }\n",
       "\n",
       "    .dataframe tbody tr th {\n",
       "        vertical-align: top;\n",
       "    }\n",
       "\n",
       "    .dataframe thead th {\n",
       "        text-align: right;\n",
       "    }\n",
       "</style>\n",
       "<table border=\"1\" class=\"dataframe\">\n",
       "  <thead>\n",
       "    <tr style=\"text-align: right;\">\n",
       "      <th></th>\n",
       "      <th>Training_Type</th>\n",
       "      <th>Diet_Plan</th>\n",
       "      <th>Endurance</th>\n",
       "    </tr>\n",
       "  </thead>\n",
       "  <tbody>\n",
       "    <tr>\n",
       "      <th>0</th>\n",
       "      <td>Weightlifting</td>\n",
       "      <td>High Protein</td>\n",
       "      <td>115</td>\n",
       "    </tr>\n",
       "    <tr>\n",
       "      <th>1</th>\n",
       "      <td>Weightlifting</td>\n",
       "      <td>High Protein</td>\n",
       "      <td>120</td>\n",
       "    </tr>\n",
       "    <tr>\n",
       "      <th>2</th>\n",
       "      <td>Weightlifting</td>\n",
       "      <td>High Protein</td>\n",
       "      <td>118</td>\n",
       "    </tr>\n",
       "    <tr>\n",
       "      <th>3</th>\n",
       "      <td>Weightlifting</td>\n",
       "      <td>Balanced</td>\n",
       "      <td>110</td>\n",
       "    </tr>\n",
       "    <tr>\n",
       "      <th>4</th>\n",
       "      <td>Weightlifting</td>\n",
       "      <td>Balanced</td>\n",
       "      <td>112</td>\n",
       "    </tr>\n",
       "    <tr>\n",
       "      <th>5</th>\n",
       "      <td>Weightlifting</td>\n",
       "      <td>Balanced</td>\n",
       "      <td>109</td>\n",
       "    </tr>\n",
       "    <tr>\n",
       "      <th>6</th>\n",
       "      <td>Weightlifting</td>\n",
       "      <td>Low Carb</td>\n",
       "      <td>100</td>\n",
       "    </tr>\n",
       "    <tr>\n",
       "      <th>7</th>\n",
       "      <td>Weightlifting</td>\n",
       "      <td>Low Carb</td>\n",
       "      <td>98</td>\n",
       "    </tr>\n",
       "    <tr>\n",
       "      <th>8</th>\n",
       "      <td>Weightlifting</td>\n",
       "      <td>Low Carb</td>\n",
       "      <td>102</td>\n",
       "    </tr>\n",
       "    <tr>\n",
       "      <th>9</th>\n",
       "      <td>CrossFit</td>\n",
       "      <td>High Protein</td>\n",
       "      <td>125</td>\n",
       "    </tr>\n",
       "    <tr>\n",
       "      <th>10</th>\n",
       "      <td>CrossFit</td>\n",
       "      <td>High Protein</td>\n",
       "      <td>130</td>\n",
       "    </tr>\n",
       "    <tr>\n",
       "      <th>11</th>\n",
       "      <td>CrossFit</td>\n",
       "      <td>High Protein</td>\n",
       "      <td>127</td>\n",
       "    </tr>\n",
       "    <tr>\n",
       "      <th>12</th>\n",
       "      <td>CrossFit</td>\n",
       "      <td>Balanced</td>\n",
       "      <td>119</td>\n",
       "    </tr>\n",
       "    <tr>\n",
       "      <th>13</th>\n",
       "      <td>CrossFit</td>\n",
       "      <td>Balanced</td>\n",
       "      <td>122</td>\n",
       "    </tr>\n",
       "    <tr>\n",
       "      <th>14</th>\n",
       "      <td>CrossFit</td>\n",
       "      <td>Balanced</td>\n",
       "      <td>121</td>\n",
       "    </tr>\n",
       "    <tr>\n",
       "      <th>15</th>\n",
       "      <td>CrossFit</td>\n",
       "      <td>Low Carb</td>\n",
       "      <td>108</td>\n",
       "    </tr>\n",
       "    <tr>\n",
       "      <th>16</th>\n",
       "      <td>CrossFit</td>\n",
       "      <td>Low Carb</td>\n",
       "      <td>105</td>\n",
       "    </tr>\n",
       "    <tr>\n",
       "      <th>17</th>\n",
       "      <td>CrossFit</td>\n",
       "      <td>Low Carb</td>\n",
       "      <td>107</td>\n",
       "    </tr>\n",
       "    <tr>\n",
       "      <th>18</th>\n",
       "      <td>Bodyweight</td>\n",
       "      <td>High Protein</td>\n",
       "      <td>118</td>\n",
       "    </tr>\n",
       "    <tr>\n",
       "      <th>19</th>\n",
       "      <td>Bodyweight</td>\n",
       "      <td>High Protein</td>\n",
       "      <td>115</td>\n",
       "    </tr>\n",
       "    <tr>\n",
       "      <th>20</th>\n",
       "      <td>Bodyweight</td>\n",
       "      <td>High Protein</td>\n",
       "      <td>116</td>\n",
       "    </tr>\n",
       "    <tr>\n",
       "      <th>21</th>\n",
       "      <td>Bodyweight</td>\n",
       "      <td>Balanced</td>\n",
       "      <td>112</td>\n",
       "    </tr>\n",
       "    <tr>\n",
       "      <th>22</th>\n",
       "      <td>Bodyweight</td>\n",
       "      <td>Balanced</td>\n",
       "      <td>114</td>\n",
       "    </tr>\n",
       "    <tr>\n",
       "      <th>23</th>\n",
       "      <td>Bodyweight</td>\n",
       "      <td>Balanced</td>\n",
       "      <td>113</td>\n",
       "    </tr>\n",
       "    <tr>\n",
       "      <th>24</th>\n",
       "      <td>Bodyweight</td>\n",
       "      <td>Low Carb</td>\n",
       "      <td>104</td>\n",
       "    </tr>\n",
       "    <tr>\n",
       "      <th>25</th>\n",
       "      <td>Bodyweight</td>\n",
       "      <td>Low Carb</td>\n",
       "      <td>103</td>\n",
       "    </tr>\n",
       "    <tr>\n",
       "      <th>26</th>\n",
       "      <td>Bodyweight</td>\n",
       "      <td>Low Carb</td>\n",
       "      <td>101</td>\n",
       "    </tr>\n",
       "  </tbody>\n",
       "</table>\n",
       "</div>"
      ],
      "text/plain": [
       "    Training_Type     Diet_Plan  Endurance\n",
       "0   Weightlifting  High Protein        115\n",
       "1   Weightlifting  High Protein        120\n",
       "2   Weightlifting  High Protein        118\n",
       "3   Weightlifting      Balanced        110\n",
       "4   Weightlifting      Balanced        112\n",
       "5   Weightlifting      Balanced        109\n",
       "6   Weightlifting      Low Carb        100\n",
       "7   Weightlifting      Low Carb         98\n",
       "8   Weightlifting      Low Carb        102\n",
       "9        CrossFit  High Protein        125\n",
       "10       CrossFit  High Protein        130\n",
       "11       CrossFit  High Protein        127\n",
       "12       CrossFit      Balanced        119\n",
       "13       CrossFit      Balanced        122\n",
       "14       CrossFit      Balanced        121\n",
       "15       CrossFit      Low Carb        108\n",
       "16       CrossFit      Low Carb        105\n",
       "17       CrossFit      Low Carb        107\n",
       "18     Bodyweight  High Protein        118\n",
       "19     Bodyweight  High Protein        115\n",
       "20     Bodyweight  High Protein        116\n",
       "21     Bodyweight      Balanced        112\n",
       "22     Bodyweight      Balanced        114\n",
       "23     Bodyweight      Balanced        113\n",
       "24     Bodyweight      Low Carb        104\n",
       "25     Bodyweight      Low Carb        103\n",
       "26     Bodyweight      Low Carb        101"
      ]
     },
     "execution_count": 104,
     "metadata": {},
     "output_type": "execute_result"
    }
   ],
   "source": [
    "df"
   ]
  },
  {
   "cell_type": "code",
   "execution_count": 108,
   "id": "02abec78-17b5-4f9f-83cf-0a014c88d885",
   "metadata": {},
   "outputs": [],
   "source": [
    "anova = ols('Endurance ~ C(Training_Type) + C(Diet_Plan) + C(Training_Type):C(Diet_Plan)',data = df).fit()"
   ]
  },
  {
   "cell_type": "code",
   "execution_count": 110,
   "id": "38495b07-774a-4628-afa3-46bbbfa1523b",
   "metadata": {},
   "outputs": [],
   "source": [
    "anova_table = sm.stats.anova_lm(anova, typ =2)"
   ]
  },
  {
   "cell_type": "code",
   "execution_count": 112,
   "id": "e390ce13-aecc-4694-9d9d-f2062e07abf8",
   "metadata": {},
   "outputs": [
    {
     "data": {
      "text/html": [
       "<div>\n",
       "<style scoped>\n",
       "    .dataframe tbody tr th:only-of-type {\n",
       "        vertical-align: middle;\n",
       "    }\n",
       "\n",
       "    .dataframe tbody tr th {\n",
       "        vertical-align: top;\n",
       "    }\n",
       "\n",
       "    .dataframe thead th {\n",
       "        text-align: right;\n",
       "    }\n",
       "</style>\n",
       "<table border=\"1\" class=\"dataframe\">\n",
       "  <thead>\n",
       "    <tr style=\"text-align: right;\">\n",
       "      <th></th>\n",
       "      <th>sum_sq</th>\n",
       "      <th>df</th>\n",
       "      <th>F</th>\n",
       "      <th>PR(&gt;F)</th>\n",
       "    </tr>\n",
       "  </thead>\n",
       "  <tbody>\n",
       "    <tr>\n",
       "      <th>C(Training_Type)</th>\n",
       "      <td>413.629630</td>\n",
       "      <td>2.0</td>\n",
       "      <td>63.454545</td>\n",
       "      <td>7.040311e-09</td>\n",
       "    </tr>\n",
       "    <tr>\n",
       "      <th>C(Diet_Plan)</th>\n",
       "      <td>1402.074074</td>\n",
       "      <td>2.0</td>\n",
       "      <td>215.090909</td>\n",
       "      <td>2.718720e-13</td>\n",
       "    </tr>\n",
       "    <tr>\n",
       "      <th>C(Training_Type):C(Diet_Plan)</th>\n",
       "      <td>42.814815</td>\n",
       "      <td>4.0</td>\n",
       "      <td>3.284091</td>\n",
       "      <td>3.459541e-02</td>\n",
       "    </tr>\n",
       "    <tr>\n",
       "      <th>Residual</th>\n",
       "      <td>58.666667</td>\n",
       "      <td>18.0</td>\n",
       "      <td>NaN</td>\n",
       "      <td>NaN</td>\n",
       "    </tr>\n",
       "  </tbody>\n",
       "</table>\n",
       "</div>"
      ],
      "text/plain": [
       "                                    sum_sq    df           F        PR(>F)\n",
       "C(Training_Type)                413.629630   2.0   63.454545  7.040311e-09\n",
       "C(Diet_Plan)                   1402.074074   2.0  215.090909  2.718720e-13\n",
       "C(Training_Type):C(Diet_Plan)    42.814815   4.0    3.284091  3.459541e-02\n",
       "Residual                         58.666667  18.0         NaN           NaN"
      ]
     },
     "execution_count": 112,
     "metadata": {},
     "output_type": "execute_result"
    }
   ],
   "source": [
    "anova_table"
   ]
  },
  {
   "cell_type": "code",
   "execution_count": null,
   "id": "a114d046-88f9-4621-8826-ca6ace6abe3e",
   "metadata": {},
   "outputs": [],
   "source": []
  }
 ],
 "metadata": {
  "kernelspec": {
   "display_name": "Python [conda env:base] *",
   "language": "python",
   "name": "conda-base-py"
  },
  "language_info": {
   "codemirror_mode": {
    "name": "ipython",
    "version": 3
   },
   "file_extension": ".py",
   "mimetype": "text/x-python",
   "name": "python",
   "nbconvert_exporter": "python",
   "pygments_lexer": "ipython3",
   "version": "3.12.7"
  }
 },
 "nbformat": 4,
 "nbformat_minor": 5
}
